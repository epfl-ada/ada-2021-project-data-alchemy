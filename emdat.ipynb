{
 "cells": [
  {
   "cell_type": "markdown",
   "metadata": {},
   "source": [
    "# Imports"
   ]
  },
  {
   "cell_type": "code",
   "execution_count": 485,
   "metadata": {},
   "outputs": [],
   "source": [
    "import pandas as pd\n",
    "import bz2\n",
    "import json\n",
    "import matplotlib.pyplot as plt\n",
    "from matplotlib.pyplot import figure\n",
    "import matplotlib.gridspec as gridspec\n",
    "\n",
    "from extraction_helpers import *"
   ]
  },
  {
   "cell_type": "markdown",
   "metadata": {},
   "source": [
    "# Import Data"
   ]
  },
  {
   "cell_type": "code",
   "execution_count": 486,
   "metadata": {},
   "outputs": [],
   "source": [
    "# If cleaning already done:\n",
    "# Open processed EM-DAT dataset\n",
    "# df_emdat_processed = pd.read_csv(\"data/emdat_processed.csv\", index_col = \"Dis No\")"
   ]
  },
  {
   "cell_type": "code",
   "execution_count": 487,
   "metadata": {},
   "outputs": [],
   "source": [
    "# If cleaning not done:\n",
    "\n",
    "data = 'data/emdat.csv'\n",
    "\n",
    "col_list = \\\n",
    "[\"Dis No\", \"Disaster Group\", \"Disaster Subgroup\", \n",
    " \"Disaster Type\", \"Disaster Subtype\", \"Disaster Subsubtype\",\n",
    " \"Event Name\", \"Country\", \"ISO\", \"Region\", \"Continent\", \"Origin\", \n",
    " \"Start Year\", \"Start Month\", \"Start Day\", \"End Year\", \"End Month\", \n",
    " \"End Day\", \"Total Deaths\", \"No Injured\", \"No Affected\", \"No Homeless\", \n",
    " \"Total Affected\", \"Total Damages ('000 US$)\"]\n",
    "\n",
    "df_emdat = pd.read_csv(data, usecols=col_list, index_col=\"Dis No\")"
   ]
  },
  {
   "cell_type": "code",
   "execution_count": 488,
   "metadata": {},
   "outputs": [],
   "source": [
    "# Rename columns\n",
    "df_emdat = df_emdat.rename(\n",
    "    {'Disaster Group': 'Group', 'Disaster Subgroup': 'Subgroup',\n",
    "     'Disaster Type': 'Type', 'Disaster Subtype': 'Subtype',\n",
    "     'Disaster Subsubtype': 'Subsubtype', 'Event Name': 'Name',\n",
    "     'Total Deaths': 'Deaths', 'No Injured': 'Injured', \n",
    "     'No Affected': 'Affected', 'No Homeless': 'Homeless',\n",
    "     'Total Affected': 'TotalAffected', \"Total Damages ('000 US$)\": 'Damages'}, \n",
    "    axis=1) "
   ]
  },
  {
   "cell_type": "markdown",
   "metadata": {},
   "source": [
    "# Clean Data"
   ]
  },
  {
   "cell_type": "code",
   "execution_count": 489,
   "metadata": {},
   "outputs": [],
   "source": [
    "# Certain major disasters (e.g., Australia fire) don't have end days\n",
    "# because they last very long. We fill these with 1 in order to include them\n",
    "df_emdat['End Day'] = df_emdat['End Day'].fillna(1)\n",
    "\n",
    "# Map NaN values to 0\n",
    "df_emdat['Deaths'] = df_emdat['Deaths'].fillna(0)\n",
    "df_emdat['Injured'] = df_emdat['Injured'].fillna(0)\n",
    "df_emdat['Affected'] = df_emdat['Affected'].fillna(0)\n",
    "df_emdat['Homeless'] = df_emdat['Homeless'].fillna(0)\n",
    "df_emdat['TotalAffected'] = df_emdat['TotalAffected'].fillna(0)\n",
    "df_emdat['Damages'] = df_emdat['Damages'].fillna(0)"
   ]
  },
  {
   "cell_type": "code",
   "execution_count": 490,
   "metadata": {},
   "outputs": [],
   "source": [
    "# Drop any rows with NaN in any of the date components\n",
    "date_cols = [\"Start Year\", \"Start Month\", \"Start Day\",\n",
    "             \"End Year\", \"End Month\", \"End Day\"]\n",
    "df_emdat = df_emdat.dropna(subset=date_cols)"
   ]
  },
  {
   "cell_type": "code",
   "execution_count": 491,
   "metadata": {},
   "outputs": [],
   "source": [
    "# Sort by date (Year, Month, Day)\n",
    "df_emdat = df_emdat.sort_values(by=date_cols)"
   ]
  },
  {
   "cell_type": "code",
   "execution_count": 492,
   "metadata": {},
   "outputs": [],
   "source": [
    "# Remove two entries which have start date == 2021\n",
    "df_emdat = df_emdat[df_emdat['Start Year'] <= 2020]"
   ]
  },
  {
   "cell_type": "code",
   "execution_count": 493,
   "metadata": {},
   "outputs": [
    {
     "data": {
      "text/plain": [
       "Group                  Natural\n",
       "Subgroup          Hydrological\n",
       "Type                     Flood\n",
       "Subtype                    NaN\n",
       "Subsubtype                 NaN\n",
       "Name                       NaN\n",
       "Country                  India\n",
       "ISO                        IND\n",
       "Region           Southern Asia\n",
       "Continent                 Asia\n",
       "Origin           Monsoon rains\n",
       "Start Year                2017\n",
       "Start Month                  6\n",
       "Start Day                    1\n",
       "End Year                  2017\n",
       "End Month                    6\n",
       "End Day                     31\n",
       "Deaths                      31\n",
       "Injured                      0\n",
       "Affected                     0\n",
       "Homeless                     0\n",
       "TotalAffected                0\n",
       "Damages                      0\n",
       "Name: 2017-0257-IND, dtype: object"
      ]
     },
     "execution_count": 493,
     "metadata": {},
     "output_type": "execute_result"
    }
   ],
   "source": [
    "# One row which has end date 31.06.2017 which is not possible\n",
    "# The correct month is July (7) instead of June (6)\n",
    "df_emdat.loc[\"2017-0257-IND\"]"
   ]
  },
  {
   "cell_type": "code",
   "execution_count": 494,
   "metadata": {},
   "outputs": [],
   "source": [
    "# Modify the df to fix the End Month\n",
    "df_emdat.at[\"2017-0257-IND\", \"End Month\"] = 7"
   ]
  },
  {
   "cell_type": "code",
   "execution_count": 495,
   "metadata": {},
   "outputs": [],
   "source": [
    "# Combine start date components into one StartDate column \n",
    "df_emdat_start = df_emdat[[\"Start Year\", \"Start Month\", \"Start Day\"]].copy()\n",
    "df_emdat_start.columns = [\"year\", \"month\", \"day\"]\n",
    "df_emdat[\"StartDate\"] = pd.to_datetime(df_emdat_start)"
   ]
  },
  {
   "cell_type": "code",
   "execution_count": 496,
   "metadata": {},
   "outputs": [],
   "source": [
    "# Combine end date components into one EndDate column \n",
    "df_emdat_end = df_emdat[[\"End Year\", \"End Month\", \"End Day\"]].copy()\n",
    "df_emdat_end.columns = [\"year\", \"month\", \"day\"]\n",
    "df_emdat[\"EndDate\"] = pd.to_datetime(df_emdat_end)"
   ]
  },
  {
   "cell_type": "code",
   "execution_count": 497,
   "metadata": {},
   "outputs": [],
   "source": [
    "# Remove the 6 redundant date component columns\n",
    "df_emdat.drop(date_cols, axis=1, inplace=True)"
   ]
  },
  {
   "cell_type": "code",
   "execution_count": 498,
   "metadata": {
    "scrolled": true
   },
   "outputs": [
    {
     "data": {
      "text/html": [
       "<div>\n",
       "<style scoped>\n",
       "    .dataframe tbody tr th:only-of-type {\n",
       "        vertical-align: middle;\n",
       "    }\n",
       "\n",
       "    .dataframe tbody tr th {\n",
       "        vertical-align: top;\n",
       "    }\n",
       "\n",
       "    .dataframe thead th {\n",
       "        text-align: right;\n",
       "    }\n",
       "</style>\n",
       "<table border=\"1\" class=\"dataframe\">\n",
       "  <thead>\n",
       "    <tr style=\"text-align: right;\">\n",
       "      <th></th>\n",
       "      <th>Group</th>\n",
       "      <th>Subgroup</th>\n",
       "      <th>Type</th>\n",
       "      <th>Subtype</th>\n",
       "      <th>Subsubtype</th>\n",
       "      <th>Name</th>\n",
       "      <th>Country</th>\n",
       "      <th>ISO</th>\n",
       "      <th>Region</th>\n",
       "      <th>Continent</th>\n",
       "      <th>Origin</th>\n",
       "      <th>Deaths</th>\n",
       "      <th>Injured</th>\n",
       "      <th>Affected</th>\n",
       "      <th>Homeless</th>\n",
       "      <th>TotalAffected</th>\n",
       "      <th>Damages</th>\n",
       "      <th>StartDate</th>\n",
       "      <th>EndDate</th>\n",
       "    </tr>\n",
       "    <tr>\n",
       "      <th>Dis No</th>\n",
       "      <th></th>\n",
       "      <th></th>\n",
       "      <th></th>\n",
       "      <th></th>\n",
       "      <th></th>\n",
       "      <th></th>\n",
       "      <th></th>\n",
       "      <th></th>\n",
       "      <th></th>\n",
       "      <th></th>\n",
       "      <th></th>\n",
       "      <th></th>\n",
       "      <th></th>\n",
       "      <th></th>\n",
       "      <th></th>\n",
       "      <th></th>\n",
       "      <th></th>\n",
       "      <th></th>\n",
       "      <th></th>\n",
       "    </tr>\n",
       "  </thead>\n",
       "  <tbody>\n",
       "    <tr>\n",
       "      <th>2015-0011-MWI</th>\n",
       "      <td>Natural</td>\n",
       "      <td>Hydrological</td>\n",
       "      <td>Flood</td>\n",
       "      <td>Riverine flood</td>\n",
       "      <td>NaN</td>\n",
       "      <td>NaN</td>\n",
       "      <td>Malawi</td>\n",
       "      <td>MWI</td>\n",
       "      <td>Eastern Africa</td>\n",
       "      <td>Africa</td>\n",
       "      <td>Torrential rains</td>\n",
       "      <td>278.0</td>\n",
       "      <td>645.0</td>\n",
       "      <td>638000.0</td>\n",
       "      <td>0.0</td>\n",
       "      <td>638645.0</td>\n",
       "      <td>390000.0</td>\n",
       "      <td>2015-01-01</td>\n",
       "      <td>2015-01-21</td>\n",
       "    </tr>\n",
       "    <tr>\n",
       "      <th>2015-0011-MOZ</th>\n",
       "      <td>Natural</td>\n",
       "      <td>Hydrological</td>\n",
       "      <td>Flood</td>\n",
       "      <td>Riverine flood</td>\n",
       "      <td>NaN</td>\n",
       "      <td>NaN</td>\n",
       "      <td>Mozambique</td>\n",
       "      <td>MOZ</td>\n",
       "      <td>Eastern Africa</td>\n",
       "      <td>Africa</td>\n",
       "      <td>Torrential rains</td>\n",
       "      <td>160.0</td>\n",
       "      <td>0.0</td>\n",
       "      <td>177645.0</td>\n",
       "      <td>0.0</td>\n",
       "      <td>177645.0</td>\n",
       "      <td>0.0</td>\n",
       "      <td>2015-01-01</td>\n",
       "      <td>2015-02-09</td>\n",
       "    </tr>\n",
       "    <tr>\n",
       "      <th>2015-0030-MWI</th>\n",
       "      <td>Natural</td>\n",
       "      <td>Meteorological</td>\n",
       "      <td>Storm</td>\n",
       "      <td>Convective storm</td>\n",
       "      <td>Lightning/Thunderstorms</td>\n",
       "      <td>NaN</td>\n",
       "      <td>Malawi</td>\n",
       "      <td>MWI</td>\n",
       "      <td>Eastern Africa</td>\n",
       "      <td>Africa</td>\n",
       "      <td>NaN</td>\n",
       "      <td>5.0</td>\n",
       "      <td>0.0</td>\n",
       "      <td>0.0</td>\n",
       "      <td>350.0</td>\n",
       "      <td>350.0</td>\n",
       "      <td>0.0</td>\n",
       "      <td>2015-01-02</td>\n",
       "      <td>2015-01-04</td>\n",
       "    </tr>\n",
       "  </tbody>\n",
       "</table>\n",
       "</div>"
      ],
      "text/plain": [
       "                 Group        Subgroup   Type           Subtype  \\\n",
       "Dis No                                                            \n",
       "2015-0011-MWI  Natural    Hydrological  Flood    Riverine flood   \n",
       "2015-0011-MOZ  Natural    Hydrological  Flood    Riverine flood   \n",
       "2015-0030-MWI  Natural  Meteorological  Storm  Convective storm   \n",
       "\n",
       "                            Subsubtype Name     Country  ISO          Region  \\\n",
       "Dis No                                                                         \n",
       "2015-0011-MWI                      NaN  NaN      Malawi  MWI  Eastern Africa   \n",
       "2015-0011-MOZ                      NaN  NaN  Mozambique  MOZ  Eastern Africa   \n",
       "2015-0030-MWI  Lightning/Thunderstorms  NaN      Malawi  MWI  Eastern Africa   \n",
       "\n",
       "              Continent            Origin  Deaths  Injured  Affected  \\\n",
       "Dis No                                                                 \n",
       "2015-0011-MWI    Africa  Torrential rains   278.0    645.0  638000.0   \n",
       "2015-0011-MOZ    Africa  Torrential rains   160.0      0.0  177645.0   \n",
       "2015-0030-MWI    Africa               NaN     5.0      0.0       0.0   \n",
       "\n",
       "               Homeless  TotalAffected   Damages  StartDate    EndDate  \n",
       "Dis No                                                                  \n",
       "2015-0011-MWI       0.0       638645.0  390000.0 2015-01-01 2015-01-21  \n",
       "2015-0011-MOZ       0.0       177645.0       0.0 2015-01-01 2015-02-09  \n",
       "2015-0030-MWI     350.0          350.0       0.0 2015-01-02 2015-01-04  "
      ]
     },
     "execution_count": 498,
     "metadata": {},
     "output_type": "execute_result"
    }
   ],
   "source": [
    "# View sample\n",
    "df_emdat.head(3)"
   ]
  },
  {
   "cell_type": "markdown",
   "metadata": {},
   "source": [
    "# Process Data"
   ]
  },
  {
   "cell_type": "markdown",
   "metadata": {},
   "source": [
    "## Durations"
   ]
  },
  {
   "cell_type": "code",
   "execution_count": 499,
   "metadata": {},
   "outputs": [],
   "source": [
    "# Create a column storing the duration of each disaster\n",
    "df_emdat['Duration'] = (df_emdat['EndDate'] - df_emdat['StartDate']).dt.days"
   ]
  },
  {
   "cell_type": "code",
   "execution_count": 500,
   "metadata": {},
   "outputs": [
    {
     "data": {
      "text/plain": [
       "array([[<AxesSubplot:title={'center':'Duration'}>]], dtype=object)"
      ]
     },
     "execution_count": 500,
     "metadata": {},
     "output_type": "execute_result"
    },
    {
     "data": {
      "image/png": "[encoded data removed]",
      "text/plain": [
       "<Figure size 432x288 with 1 Axes>"
      ]
     },
     "metadata": {
      "needs_background": "light"
     },
     "output_type": "display_data"
    }
   ],
   "source": [
    "# Plot distribution of durations\n",
    "df_emdat.hist(\"Duration\", bins=100, log=True)"
   ]
  },
  {
   "cell_type": "markdown",
   "metadata": {},
   "source": [
    "## Chronoligical evolution"
   ]
  },
  {
   "cell_type": "code",
   "execution_count": 501,
   "metadata": {},
   "outputs": [],
   "source": [
    "# Create dataframe of only disasters between January 2020 and April 2020\n",
    "mask = ((df_emdat['StartDate'] >= '2020-1-1') & (df_emdat['StartDate'] < '2020-5-1'))\n",
    "df_2020 = df_emdat.loc[mask]"
   ]
  },
  {
   "cell_type": "code",
   "execution_count": 502,
   "metadata": {},
   "outputs": [],
   "source": [
    "df_2020.set_index(['StartDate'],inplace=True)"
   ]
  },
  {
   "cell_type": "code",
   "execution_count": 503,
   "metadata": {},
   "outputs": [],
   "source": [
    "# Some disasters have same StartDate so we group them together and sum the desired column \n",
    "grouped_2020 = df_2020.groupby(['StartDate'])"
   ]
  },
  {
   "cell_type": "code",
   "execution_count": 504,
   "metadata": {},
   "outputs": [],
   "source": [
    "grouped_affected = grouped_2020['TotalAffected'].sum()\n",
    "grouped_damages = grouped_2020['Damages'].sum()"
   ]
  },
  {
   "cell_type": "code",
   "execution_count": 505,
   "metadata": {},
   "outputs": [
    {
     "data": {
      "image/png": "[encoded data removed]",
      "text/plain": [
       "<Figure size 864x720 with 2 Axes>"
      ]
     },
     "metadata": {
      "needs_background": "light"
     },
     "output_type": "display_data"
    }
   ],
   "source": [
    "gs = gridspec.GridSpec(2,1)\n",
    "fig = plt.figure(figsize=(12,10))\n",
    "\n",
    "#first plot\n",
    "ax = fig.add_subplot(gs[0])\n",
    "ax.plot(grouped_affected.index, grouped_affected.values)\n",
    "ax.set_ylabel(r'Total Affected', size =16)\n",
    "ax.get_yaxis().set_label_coords(-0.1,0.5)\n",
    "plt.tick_params(\n",
    "    axis='x',          # changes apply to the x-axis\n",
    "    labelbottom='off') # labels along the bottom edge are off\n",
    "\n",
    "#second plot\n",
    "ax = fig.add_subplot(gs[1], sharex=ax)\n",
    "ax.plot(grouped_damages.index, grouped_damages.values, color='orange')\n",
    "ax.set_ylabel(r'Damages in thousands of USD', size =16)\n",
    "ax.get_yaxis().set_label_coords(-0.1,0.5)\n",
    "\n",
    "plt.show()"
   ]
  },
  {
   "cell_type": "code",
   "execution_count": 465,
   "metadata": {},
   "outputs": [],
   "source": []
  },
  {
   "cell_type": "code",
   "execution_count": 468,
   "metadata": {},
   "outputs": [],
   "source": [
    "# Save processed EM-DAT dataset\n",
    "compression_opts = dict(method='zip', archive_name='emdat_processed.csv')  \n",
    "df_emdat.to_csv('data/emdat_processed.zip', index=True, compression=compression_opts)  "
   ]
  },
  {
   "cell_type": "code",
   "execution_count": null,
   "metadata": {},
   "outputs": [],
   "source": [
    "# Open processed EM-DAT dataset\n",
    "# df_emdat_processed = pd.read_csv(\"data/emdat_processed.csv\", index_col = \"Dis No\")"
   ]
  }
 ],
 "metadata": {
  "interpreter": {
   "hash": "9bbc67402def311b96fab883d2c883a39527be9a4d3d9f29179a0d00da6a6745"
  },
  "kernelspec": {
   "display_name": "Python 3",
   "language": "python",
   "name": "python3"
  },
  "language_info": {
   "codemirror_mode": {
    "name": "ipython",
    "version": 3
   },
   "file_extension": ".py",
   "mimetype": "text/x-python",
   "name": "python",
   "nbconvert_exporter": "python",
   "pygments_lexer": "ipython3",
   "version": "3.8.5"
  }
 },
 "nbformat": 4,
 "nbformat_minor": 2
}
