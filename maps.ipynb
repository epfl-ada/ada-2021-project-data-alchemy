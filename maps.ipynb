{
 "cells": [
  {
   "cell_type": "code",
   "execution_count": 1,
   "id": "3f4a0834",
   "metadata": {},
   "outputs": [],
   "source": [
    "import pygal"
   ]
  },
  {
   "cell_type": "code",
   "execution_count": null,
   "id": "cd333ec1",
   "metadata": {},
   "outputs": [],
   "source": [
    "supra = pygal.maps.world.SupranationalWorld()\n",
    "supra.add('Asia', [('asia', 1)])\n",
    "supra.add('Europe', [('europe', 1)])\n",
    "supra.add('Africa', [('africa', 1)])\n",
    "supra.add('North america', [('north_america', 1)])\n",
    "supra.add('South america', [('south_america', 1)])\n",
    "supra.add('Oceania', [('oceania', 1)])\n",
    "supra.add('Antartica', [('antartica', 1)])\n",
    "supra.render()"
   ]
  }
 ],
 "metadata": {
  "kernelspec": {
   "display_name": "Python [conda env:numerical] *",
   "language": "python",
   "name": "conda-env-numerical-py"
  },
  "language_info": {
   "codemirror_mode": {
    "name": "ipython",
    "version": 3
   },
   "file_extension": ".py",
   "mimetype": "text/x-python",
   "name": "python",
   "nbconvert_exporter": "python",
   "pygments_lexer": "ipython3",
   "version": "3.8.12"
  }
 },
 "nbformat": 4,
 "nbformat_minor": 5
}
