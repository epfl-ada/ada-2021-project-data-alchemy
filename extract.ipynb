{
 "cells": [
  {
   "cell_type": "markdown",
   "metadata": {},
   "source": [
    "# Imports"
   ]
  },
  {
   "cell_type": "code",
   "execution_count": null,
   "metadata": {},
   "outputs": [],
   "source": [
    "import pandas as pd\n",
    "import bz2\n",
    "import json\n",
    "\n",
    "from extraction_helpers import *"
   ]
  },
  {
   "cell_type": "markdown",
   "metadata": {},
   "source": [
    "# Define parameters"
   ]
  },
  {
   "cell_type": "code",
   "execution_count": null,
   "metadata": {},
   "outputs": [],
   "source": [
    "data = 'data/quotes-2020.json.bz2'\n",
    "speaker = ''"
   ]
  },
  {
   "cell_type": "markdown",
   "metadata": {},
   "source": [
    "# Extract the quotes"
   ]
  },
  {
   "cell_type": "code",
   "execution_count": null,
   "metadata": {},
   "outputs": [],
   "source": [
    "df_hurricane = extract_quotes(data, keyword = 'hurricane', speaker=speaker)\n",
    "df_climate_change = extract_quotes(data, keyword = 'climate change', speaker=speaker)"
   ]
  },
  {
   "cell_type": "code",
   "execution_count": null,
   "metadata": {},
   "outputs": [],
   "source": [
    "df_hurricane_og = df_hurricane.copy()\n",
    "df_climate_change_og = df_climate_change.copy()"
   ]
  },
  {
   "cell_type": "markdown",
   "metadata": {},
   "source": [
    "# Treat data"
   ]
  },
  {
   "cell_type": "code",
   "execution_count": null,
   "metadata": {},
   "outputs": [],
   "source": [
    "# In each date, remove the info about hours, minutes and seconds\n",
    "# This facilitates aggregating data for each day\n",
    "\n",
    "for index, row in df_hurricane.iterrows():\n",
    "    df_hurricane['date'][index] = pd.to_datetime(str(row['date'])[:10])\n",
    "for index, row in df_climate_change.iterrows():\n",
    "    df_climate_change['date'][index] = pd.to_datetime(str(row['date'])[:10])"
   ]
  },
  {
   "cell_type": "code",
   "execution_count": null,
   "metadata": {},
   "outputs": [],
   "source": [
    "# Sort the values in ascending chronological order\n",
    "\n",
    "df_hurricane = df_hurricane.sort_values('date', ascending=True)\n",
    "df_climate_change = df_climate_change.sort_values('date', ascending=True)"
   ]
  },
  {
   "cell_type": "markdown",
   "metadata": {},
   "source": [
    "# Plots"
   ]
  },
  {
   "cell_type": "code",
   "execution_count": null,
   "metadata": {},
   "outputs": [],
   "source": [
    "# Plot\n",
    "\n",
    "ax1 = df_hurricane['date'].value_counts(sort=False).plot(logy = True)\n",
    "ax2 = df_climate_change['date'].value_counts(sort=False).plot(logy = True)\n",
    "ax1.set_xlabel(\"Date\")\n",
    "ax1.set_ylabel(\"Number of occurences of ___\")\n",
    "ax1.legend([\"Hurricane\", \"Climate Change\"])\n"
   ]
  },
  {
   "cell_type": "code",
   "execution_count": null,
   "metadata": {},
   "outputs": [],
   "source": [
    "ax1_roll = df_hurricane['date'].value_counts(sort=False).rolling(14).sum().plot(logy = True)\n",
    "ax2_roll = df_climate_change['date'].value_counts(sort=False).rolling(14).sum().plot(logy = True)\n",
    "ax1_roll.set_xlabel(\"Date\")\n",
    "ax1_roll.set_ylabel(\"Number of occurences of ___ (log scale)\")\n",
    "ax1_roll.legend([\"Hurricane\", \"Climate Change\"])"
   ]
  },
  {
   "cell_type": "code",
   "execution_count": null,
   "metadata": {},
   "outputs": [],
   "source": [
    "ax1_roll = (df_hurricane['date'].value_counts(sort=False).rolling(14).sum() - df_hurricane['date'].value_counts(sort=False).rolling(14).sum().mean()).plot()\n",
    "ax2_roll = (df_climate_change['date'].value_counts(sort=False).rolling(14).sum() - df_climate_change['date'].value_counts(sort=False).rolling(14).sum().mean()).plot()\n",
    "ax1_roll.set_xlabel(\"Date\")\n",
    "ax1_roll.set_ylabel(\"Number of occurences of ___\")\n",
    "ax1_roll.legend([\"Hurricane\", \"Climate Change\"])"
   ]
  },
  {
   "cell_type": "code",
   "execution_count": null,
   "metadata": {},
   "outputs": [],
   "source": [
    "# ax = df_treat['date'].value_counts(sort=False).plot.bar()\n",
    "# for i, t in enumerate(ax.get_xticklabels()):\n",
    "#     if (i % 10) != 0:\n",
    "#         t.set_visible(False)\n",
    "#     t = str(t)[:10]"
   ]
  }
 ],
 "metadata": {
  "interpreter": {
   "hash": "9bbc67402def311b96fab883d2c883a39527be9a4d3d9f29179a0d00da6a6745"
  },
  "kernelspec": {
   "display_name": "Python 3.9.6 64-bit",
   "name": "python3"
  },
  "language_info": {
   "codemirror_mode": {
    "name": "ipython",
    "version": 3
   },
   "file_extension": ".py",
   "mimetype": "text/x-python",
   "name": "python",
   "nbconvert_exporter": "python",
   "pygments_lexer": "ipython3",
   "version": "3.9.6"
  },
  "orig_nbformat": 4
 },
 "nbformat": 4,
 "nbformat_minor": 2
}
