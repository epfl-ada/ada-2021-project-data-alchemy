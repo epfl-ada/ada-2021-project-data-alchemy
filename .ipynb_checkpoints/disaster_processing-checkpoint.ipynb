{
 "cells": [
  {
   "cell_type": "code",
   "execution_count": 145,
   "id": "d3ee2b79",
   "metadata": {},
   "outputs": [],
   "source": [
    "import pandas as pd\n",
    "import re\n",
    "import datetime\n",
    "\n",
    "from disaster_extr_constants import *\n",
    "from disaster_extr_helpers import *"
   ]
  },
  {
   "cell_type": "code",
   "execution_count": 253,
   "id": "aed9c78a",
   "metadata": {},
   "outputs": [],
   "source": [
    "YEAR = 2015\n",
    "disaster_type = 'storm'\n",
    "disaster_YEAR_neg = storm_tags_2015_pos\n",
    "disaster_YEAR_pos = storm_tags_2015_neg\n",
    "file_path = 'data/'+str(YEAR)+'_'+disaster_type+'_climate_processed_csv.bz2'"
   ]
  },
  {
   "cell_type": "code",
   "execution_count": 254,
   "id": "96df6d0f",
   "metadata": {},
   "outputs": [],
   "source": [
    "data = 'data/emdat_processed.csv'\n",
    "parse_dates = ['StartDate', 'EndDate']\n",
    "df_emdat = pd.read_csv(data, index_col=\"Dis No\", parse_dates = parse_dates)"
   ]
  },
  {
   "cell_type": "code",
   "execution_count": 255,
   "id": "e57b1f36",
   "metadata": {},
   "outputs": [],
   "source": [
    "disaster_df_quotes = pd.read_csv(file_path, parse_dates = ['date'], compression='bz2')"
   ]
  },
  {
   "cell_type": "code",
   "execution_count": 256,
   "id": "ff612022",
   "metadata": {},
   "outputs": [],
   "source": [
    "if disaster_type == 'heat_wave':\n",
    "    \n",
    "    if YEAR == 2020:\n",
    "        df_heat_wave = get_df_disaster(df_emdat, HEAT_WAVES_2020, HEAT_WAVES_2020_val)\n",
    "        df_heat_wave_bounds = retrieve_bounding_dates(df_heat_wave)\n",
    "    else:\n",
    "        df_heat_wave = get_df_disaster(df_emdat, HEAT_WAVES, HEAT_WAVES_val)\n",
    "        df_heat_wave_bounds = retrieve_bounding_dates(df_heat_wave)\n",
    "        \n",
    "    disaster_df = df_heat_wave\n",
    "    disaster_df_bounds = df_heat_wave_bounds\n",
    "        \n",
    "elif disaster_type == 'storm':\n",
    "    \n",
    "    if YEAR == 2020:\n",
    "        df_storm = get_df_disaster(df_emdat, STORMS_2020, STORMS_2020_val)\n",
    "        df_storm_bounds = retrieve_bounding_dates(df_storm)\n",
    "    else:\n",
    "        df_storm = get_df_disaster(df_emdat, STORMS, STORMS_val)\n",
    "        df_storm_bounds = retrieve_bounding_dates(df_storm)\n",
    "\n",
    "    disaster_df = df_storm\n",
    "    disaster_df_bounds = df_storm_bounds\n",
    "    \n",
    "if YEAR == 2020:\n",
    "    lookupYEAR = YEAR-1\n",
    "else:\n",
    "    lookupYEAR = YEAR\n",
    "    \n",
    "\n",
    "start_YEAR, end_YEAR = disaster_df_bounds.loc[lookupYEAR].MinStartDate, disaster_df_bounds.loc[lookupYEAR].MaxEndDate"
   ]
  },
  {
   "cell_type": "code",
   "execution_count": 257,
   "id": "2e9c5997",
   "metadata": {},
   "outputs": [
    {
     "data": {
      "text/html": [
       "<div>\n",
       "<style scoped>\n",
       "    .dataframe tbody tr th:only-of-type {\n",
       "        vertical-align: middle;\n",
       "    }\n",
       "\n",
       "    .dataframe tbody tr th {\n",
       "        vertical-align: top;\n",
       "    }\n",
       "\n",
       "    .dataframe thead th {\n",
       "        text-align: right;\n",
       "    }\n",
       "</style>\n",
       "<table border=\"1\" class=\"dataframe\">\n",
       "  <thead>\n",
       "    <tr style=\"text-align: right;\">\n",
       "      <th></th>\n",
       "      <th>Type</th>\n",
       "      <th>Subtype</th>\n",
       "      <th>Name</th>\n",
       "      <th>Country</th>\n",
       "      <th>StartDate</th>\n",
       "      <th>EndDate</th>\n",
       "    </tr>\n",
       "    <tr>\n",
       "      <th>Dis No</th>\n",
       "      <th></th>\n",
       "      <th></th>\n",
       "      <th></th>\n",
       "      <th></th>\n",
       "      <th></th>\n",
       "      <th></th>\n",
       "    </tr>\n",
       "  </thead>\n",
       "  <tbody>\n",
       "    <tr>\n",
       "      <th>2015-0470-MEX</th>\n",
       "      <td>Storm</td>\n",
       "      <td>Tropical cyclone</td>\n",
       "      <td>Hurricane Patricia</td>\n",
       "      <td>Mexico</td>\n",
       "      <td>2015-10-22</td>\n",
       "      <td>2015-10-28</td>\n",
       "    </tr>\n",
       "    <tr>\n",
       "      <th>2016-0041-FJI</th>\n",
       "      <td>Storm</td>\n",
       "      <td>Tropical cyclone</td>\n",
       "      <td>Cyclone Winston</td>\n",
       "      <td>Fiji</td>\n",
       "      <td>2016-02-20</td>\n",
       "      <td>2016-02-21</td>\n",
       "    </tr>\n",
       "    <tr>\n",
       "      <th>2017-0362-USA</th>\n",
       "      <td>Storm</td>\n",
       "      <td>Tropical cyclone</td>\n",
       "      <td>Hurricane Harvey</td>\n",
       "      <td>United States of America (the)</td>\n",
       "      <td>2017-08-25</td>\n",
       "      <td>2017-08-29</td>\n",
       "    </tr>\n",
       "    <tr>\n",
       "      <th>2018-0341-CHN</th>\n",
       "      <td>Storm</td>\n",
       "      <td>Tropical cyclone</td>\n",
       "      <td>Typhoon Mangkut (Ompong)</td>\n",
       "      <td>China</td>\n",
       "      <td>2018-09-10</td>\n",
       "      <td>2018-09-18</td>\n",
       "    </tr>\n",
       "    <tr>\n",
       "      <th>2018-0342-USA</th>\n",
       "      <td>Storm</td>\n",
       "      <td>Tropical cyclone</td>\n",
       "      <td>Hurricane Florence</td>\n",
       "      <td>United States of America (the)</td>\n",
       "      <td>2018-09-12</td>\n",
       "      <td>2018-09-18</td>\n",
       "    </tr>\n",
       "    <tr>\n",
       "      <th>2018-0341-PHL</th>\n",
       "      <td>Storm</td>\n",
       "      <td>Tropical cyclone</td>\n",
       "      <td>Typhoon Mangkut (Ompong)</td>\n",
       "      <td>Philippines (the)</td>\n",
       "      <td>2018-09-16</td>\n",
       "      <td>2018-09-16</td>\n",
       "    </tr>\n",
       "    <tr>\n",
       "      <th>2018-0341-HKG</th>\n",
       "      <td>Storm</td>\n",
       "      <td>Tropical cyclone</td>\n",
       "      <td>Typhoon Mangkut (Ompong)</td>\n",
       "      <td>Hong Kong</td>\n",
       "      <td>2018-09-17</td>\n",
       "      <td>2018-09-17</td>\n",
       "    </tr>\n",
       "    <tr>\n",
       "      <th>2019-0492-JPN</th>\n",
       "      <td>Storm</td>\n",
       "      <td>Tropical cyclone</td>\n",
       "      <td>Tropical cylone 'Hagibis'</td>\n",
       "      <td>Japan</td>\n",
       "      <td>2019-10-12</td>\n",
       "      <td>2019-10-17</td>\n",
       "    </tr>\n",
       "  </tbody>\n",
       "</table>\n",
       "</div>"
      ],
      "text/plain": [
       "                Type           Subtype                       Name  \\\n",
       "Dis No                                                              \n",
       "2015-0470-MEX  Storm  Tropical cyclone         Hurricane Patricia   \n",
       "2016-0041-FJI  Storm  Tropical cyclone            Cyclone Winston   \n",
       "2017-0362-USA  Storm  Tropical cyclone           Hurricane Harvey   \n",
       "2018-0341-CHN  Storm  Tropical cyclone   Typhoon Mangkut (Ompong)   \n",
       "2018-0342-USA  Storm  Tropical cyclone         Hurricane Florence   \n",
       "2018-0341-PHL  Storm  Tropical cyclone   Typhoon Mangkut (Ompong)   \n",
       "2018-0341-HKG  Storm  Tropical cyclone   Typhoon Mangkut (Ompong)   \n",
       "2019-0492-JPN  Storm  Tropical cyclone  Tropical cylone 'Hagibis'   \n",
       "\n",
       "                                      Country  StartDate    EndDate  \n",
       "Dis No                                                               \n",
       "2015-0470-MEX                          Mexico 2015-10-22 2015-10-28  \n",
       "2016-0041-FJI                            Fiji 2016-02-20 2016-02-21  \n",
       "2017-0362-USA  United States of America (the) 2017-08-25 2017-08-29  \n",
       "2018-0341-CHN                           China 2018-09-10 2018-09-18  \n",
       "2018-0342-USA  United States of America (the) 2018-09-12 2018-09-18  \n",
       "2018-0341-PHL               Philippines (the) 2018-09-16 2018-09-16  \n",
       "2018-0341-HKG                       Hong Kong 2018-09-17 2018-09-17  \n",
       "2019-0492-JPN                           Japan 2019-10-12 2019-10-17  "
      ]
     },
     "execution_count": 257,
     "metadata": {},
     "output_type": "execute_result"
    }
   ],
   "source": [
    "disaster_df[['Type', 'Subtype','Name', 'Country','StartDate','EndDate']]"
   ]
  },
  {
   "cell_type": "code",
   "execution_count": 258,
   "id": "41c61f6a",
   "metadata": {
    "scrolled": true
   },
   "outputs": [
    {
     "data": {
      "text/html": [
       "<div>\n",
       "<style scoped>\n",
       "    .dataframe tbody tr th:only-of-type {\n",
       "        vertical-align: middle;\n",
       "    }\n",
       "\n",
       "    .dataframe tbody tr th {\n",
       "        vertical-align: top;\n",
       "    }\n",
       "\n",
       "    .dataframe thead th {\n",
       "        text-align: right;\n",
       "    }\n",
       "</style>\n",
       "<table border=\"1\" class=\"dataframe\">\n",
       "  <thead>\n",
       "    <tr style=\"text-align: right;\">\n",
       "      <th></th>\n",
       "      <th>MinStartDate</th>\n",
       "      <th>MaxEndDate</th>\n",
       "    </tr>\n",
       "    <tr>\n",
       "      <th>Year</th>\n",
       "      <th></th>\n",
       "      <th></th>\n",
       "    </tr>\n",
       "  </thead>\n",
       "  <tbody>\n",
       "    <tr>\n",
       "      <th>2015</th>\n",
       "      <td>2015-10-22</td>\n",
       "      <td>2015-10-28</td>\n",
       "    </tr>\n",
       "    <tr>\n",
       "      <th>2016</th>\n",
       "      <td>2016-02-20</td>\n",
       "      <td>2016-02-21</td>\n",
       "    </tr>\n",
       "    <tr>\n",
       "      <th>2017</th>\n",
       "      <td>2017-08-25</td>\n",
       "      <td>2017-08-29</td>\n",
       "    </tr>\n",
       "    <tr>\n",
       "      <th>2018</th>\n",
       "      <td>2018-09-10</td>\n",
       "      <td>2018-09-18</td>\n",
       "    </tr>\n",
       "    <tr>\n",
       "      <th>2019</th>\n",
       "      <td>2019-10-12</td>\n",
       "      <td>2019-10-17</td>\n",
       "    </tr>\n",
       "  </tbody>\n",
       "</table>\n",
       "</div>"
      ],
      "text/plain": [
       "     MinStartDate MaxEndDate\n",
       "Year                        \n",
       "2015   2015-10-22 2015-10-28\n",
       "2016   2016-02-20 2016-02-21\n",
       "2017   2017-08-25 2017-08-29\n",
       "2018   2018-09-10 2018-09-18\n",
       "2019   2019-10-12 2019-10-17"
      ]
     },
     "execution_count": 258,
     "metadata": {},
     "output_type": "execute_result"
    }
   ],
   "source": [
    "disaster_df_bounds"
   ]
  },
  {
   "cell_type": "code",
   "execution_count": 259,
   "id": "19528b8f",
   "metadata": {},
   "outputs": [
    {
     "name": "stdout",
     "output_type": "stream",
     "text": [
      "Disaster [storm] Dates: 2015-10-22 --- 2015-10-28\n"
     ]
    }
   ],
   "source": [
    "print(\"Disaster [{}] Dates: {} --- {}\".format(\n",
    "        disaster_type,\n",
    "        start_YEAR.strftime(\"%Y-%m-%d\"), \n",
    "        end_YEAR.strftime(\"%Y-%m-%d\")))"
   ]
  },
  {
   "cell_type": "code",
   "execution_count": 260,
   "id": "5dfcb4e9",
   "metadata": {},
   "outputs": [],
   "source": [
    "one_month = datetime.timedelta(days=31)\n",
    "\n",
    "if end_YEAR - start_YEAR < one_month:\n",
    "    # Add 10 days to end date\n",
    "    ten_days = datetime.timedelta(days=10)\n",
    "    end_YEAR += ten_days"
   ]
  },
  {
   "cell_type": "code",
   "execution_count": 261,
   "id": "713462bf",
   "metadata": {},
   "outputs": [
    {
     "name": "stdout",
     "output_type": "stream",
     "text": [
      "Used extraction dates: 2015-10-22 --- 2015-11-07\n"
     ]
    }
   ],
   "source": [
    "print(\"Used extraction dates: {} --- {}\".format(\n",
    "        start_YEAR.strftime(\"%Y-%m-%d\"), \n",
    "        end_YEAR.strftime(\"%Y-%m-%d\")))"
   ]
  },
  {
   "cell_type": "code",
   "execution_count": 262,
   "id": "b1ab2d14",
   "metadata": {},
   "outputs": [],
   "source": [
    "start_YEAR, end_YEAR = start_YEAR.strftime(\"%Y-%m-%d\"), end_YEAR.strftime(\"%Y-%m-%d\")"
   ]
  },
  {
   "cell_type": "code",
   "execution_count": 263,
   "id": "d7eff581",
   "metadata": {},
   "outputs": [],
   "source": [
    "df_disaster_start_end = df_time_interval(disaster_df_quotes, start_YEAR, end_YEAR,date_attr='date')"
   ]
  },
  {
   "cell_type": "code",
   "execution_count": 316,
   "id": "d0e26aa4",
   "metadata": {},
   "outputs": [
    {
     "data": {
      "text/html": [
       "<div>\n",
       "<style scoped>\n",
       "    .dataframe tbody tr th:only-of-type {\n",
       "        vertical-align: middle;\n",
       "    }\n",
       "\n",
       "    .dataframe tbody tr th {\n",
       "        vertical-align: top;\n",
       "    }\n",
       "\n",
       "    .dataframe thead th {\n",
       "        text-align: right;\n",
       "    }\n",
       "</style>\n",
       "<table border=\"1\" class=\"dataframe\">\n",
       "  <thead>\n",
       "    <tr style=\"text-align: right;\">\n",
       "      <th></th>\n",
       "      <th>quoteID</th>\n",
       "      <th>quotation</th>\n",
       "      <th>speaker</th>\n",
       "      <th>qids</th>\n",
       "      <th>date</th>\n",
       "      <th>numOccurrences</th>\n",
       "      <th>probas</th>\n",
       "      <th>urls</th>\n",
       "      <th>phase</th>\n",
       "    </tr>\n",
       "  </thead>\n",
       "  <tbody>\n",
       "    <tr>\n",
       "      <th>0</th>\n",
       "      <td>2015-10-30-057627</td>\n",
       "      <td>It kept me up all night, the wind. The windows...</td>\n",
       "      <td>Jorge Rodriguez</td>\n",
       "      <td>['Q27574431', 'Q3295308', 'Q6278572', 'Q627857...</td>\n",
       "      <td>2015-10-30 06:09:05</td>\n",
       "      <td>1</td>\n",
       "      <td>[['Jorge Rodriguez', '0.5058'], ['None', '0.49...</td>\n",
       "      <td>['http://www.kesq.com/news/strong-winds-blast-...</td>\n",
       "      <td>E</td>\n",
       "    </tr>\n",
       "    <tr>\n",
       "      <th>1</th>\n",
       "      <td>2015-10-29-104475</td>\n",
       "      <td>The Baker Polito Administration is fully devot...</td>\n",
       "      <td>Peter Lorenz</td>\n",
       "      <td>['Q1336282']</td>\n",
       "      <td>2015-10-29 10:49:41</td>\n",
       "      <td>3</td>\n",
       "      <td>[['Peter Lorenz', '0.6971'], ['None', '0.2916'...</td>\n",
       "      <td>['http://insideclimatenews.org/news/29102015/m...</td>\n",
       "      <td>E</td>\n",
       "    </tr>\n",
       "    <tr>\n",
       "      <th>2</th>\n",
       "      <td>2015-11-06-095945</td>\n",
       "      <td>The chance of rain really ramps up around 9 a.m.,</td>\n",
       "      <td>Ryan Chamberlain</td>\n",
       "      <td>['Q17153294', 'Q47434958']</td>\n",
       "      <td>2015-11-06 09:58:19</td>\n",
       "      <td>1</td>\n",
       "      <td>[['Ryan Chamberlain', '0.5887'], ['None', '0.4...</td>\n",
       "      <td>['http://pnj.com/story/news/military/2015/11/0...</td>\n",
       "      <td>E</td>\n",
       "    </tr>\n",
       "    <tr>\n",
       "      <th>6</th>\n",
       "      <td>2015-11-06-019594</td>\n",
       "      <td>During the summit, we will review the progress...</td>\n",
       "      <td>Narendra Modi</td>\n",
       "      <td>['Q1058']</td>\n",
       "      <td>2015-11-06 16:00:22</td>\n",
       "      <td>16</td>\n",
       "      <td>[['Narendra Modi', '0.8165'], ['None', '0.1482...</td>\n",
       "      <td>['http://www.newindianexpress.com/nation/PM-to...</td>\n",
       "      <td>E</td>\n",
       "    </tr>\n",
       "  </tbody>\n",
       "</table>\n",
       "</div>"
      ],
      "text/plain": [
       "             quoteID                                          quotation  \\\n",
       "0  2015-10-30-057627  It kept me up all night, the wind. The windows...   \n",
       "1  2015-10-29-104475  The Baker Polito Administration is fully devot...   \n",
       "2  2015-11-06-095945  The chance of rain really ramps up around 9 a.m.,   \n",
       "6  2015-11-06-019594  During the summit, we will review the progress...   \n",
       "\n",
       "            speaker                                               qids  \\\n",
       "0   Jorge Rodriguez  ['Q27574431', 'Q3295308', 'Q6278572', 'Q627857...   \n",
       "1      Peter Lorenz                                       ['Q1336282']   \n",
       "2  Ryan Chamberlain                         ['Q17153294', 'Q47434958']   \n",
       "6     Narendra Modi                                          ['Q1058']   \n",
       "\n",
       "                 date  numOccurrences  \\\n",
       "0 2015-10-30 06:09:05               1   \n",
       "1 2015-10-29 10:49:41               3   \n",
       "2 2015-11-06 09:58:19               1   \n",
       "6 2015-11-06 16:00:22              16   \n",
       "\n",
       "                                              probas  \\\n",
       "0  [['Jorge Rodriguez', '0.5058'], ['None', '0.49...   \n",
       "1  [['Peter Lorenz', '0.6971'], ['None', '0.2916'...   \n",
       "2  [['Ryan Chamberlain', '0.5887'], ['None', '0.4...   \n",
       "6  [['Narendra Modi', '0.8165'], ['None', '0.1482...   \n",
       "\n",
       "                                                urls phase  \n",
       "0  ['http://www.kesq.com/news/strong-winds-blast-...     E  \n",
       "1  ['http://insideclimatenews.org/news/29102015/m...     E  \n",
       "2  ['http://pnj.com/story/news/military/2015/11/0...     E  \n",
       "6  ['http://www.newindianexpress.com/nation/PM-to...     E  "
      ]
     },
     "execution_count": 316,
     "metadata": {},
     "output_type": "execute_result"
    }
   ],
   "source": [
    "df_disaster_start_end.head(4)"
   ]
  },
  {
   "cell_type": "code",
   "execution_count": 280,
   "id": "86daccb0",
   "metadata": {},
   "outputs": [],
   "source": [
    "tags_pos_list = disaster_YEAR_pos.tags.values.tolist()"
   ]
  },
  {
   "cell_type": "code",
   "execution_count": 281,
   "id": "ffe4b44c",
   "metadata": {},
   "outputs": [
    {
     "data": {
      "text/plain": [
       "['(?=.*\\\\b([mM]exic(o|ans?)|[tT]ehuantepec|[cC]oasts?|[jJ]alisco)\\\\b)(?=.*\\\\b([hH]urricanes?|[sS]torms?)\\\\b)',\n",
       " '(?=.*\\\\b([mM]exic(o|ans?)|[tT]ehuantepec|[cC]oasts?|[jJ]alisco)\\\\b)(?=.*\\\\b([fF]lood(waters?|s|ed|ing)?|[rR]ain(ed|s|fall)?|[lL]andslides?)\\\\b)',\n",
       " '\\\\b(Patricia)\\\\b',\n",
       " '\\\\b([cC]ategory 5)\\\\b',\n",
       " '\\\\b(NOAA)\\\\b',\n",
       " '\\\\b(National Hurricane Center|NHC)\\\\b',\n",
       " '\\\\b(Mexican (Red Cross|Army|Navy|Federal Police))\\\\b']"
      ]
     },
     "execution_count": 281,
     "metadata": {},
     "output_type": "execute_result"
    }
   ],
   "source": [
    "tags_pos_list"
   ]
  },
  {
   "cell_type": "code",
   "execution_count": 282,
   "id": "9974df26",
   "metadata": {},
   "outputs": [],
   "source": [
    "# Return regex pattern\n",
    "regex_pattern_pos = r'|'.join(tags_pos_list)"
   ]
  },
  {
   "cell_type": "code",
   "execution_count": 283,
   "id": "26a4c951",
   "metadata": {},
   "outputs": [],
   "source": [
    "filtered_for_pos = extract_quotes(df_disaster_start_end, regex_pattern_pos).sort_values(by='date')"
   ]
  },
  {
   "cell_type": "code",
   "execution_count": 284,
   "id": "62fe2727",
   "metadata": {},
   "outputs": [
    {
     "data": {
      "text/plain": [
       "223"
      ]
     },
     "execution_count": 284,
     "metadata": {},
     "output_type": "execute_result"
    }
   ],
   "source": [
    "len(filtered_for_pos)"
   ]
  },
  {
   "cell_type": "code",
   "execution_count": 309,
   "id": "df2b5c2f",
   "metadata": {},
   "outputs": [
    {
     "data": {
      "text/html": [
       "<div>\n",
       "<style scoped>\n",
       "    .dataframe tbody tr th:only-of-type {\n",
       "        vertical-align: middle;\n",
       "    }\n",
       "\n",
       "    .dataframe tbody tr th {\n",
       "        vertical-align: top;\n",
       "    }\n",
       "\n",
       "    .dataframe thead th {\n",
       "        text-align: right;\n",
       "    }\n",
       "</style>\n",
       "<table border=\"1\" class=\"dataframe\">\n",
       "  <thead>\n",
       "    <tr style=\"text-align: right;\">\n",
       "      <th></th>\n",
       "      <th>quoteID</th>\n",
       "      <th>quotation</th>\n",
       "      <th>speaker</th>\n",
       "      <th>qids</th>\n",
       "      <th>date</th>\n",
       "      <th>numOccurrences</th>\n",
       "      <th>probas</th>\n",
       "      <th>urls</th>\n",
       "      <th>phase</th>\n",
       "    </tr>\n",
       "  </thead>\n",
       "  <tbody>\n",
       "    <tr>\n",
       "      <th>18400</th>\n",
       "      <td>2015-10-22-106707</td>\n",
       "      <td>The mother of Sean Smith, one of the four Amer...</td>\n",
       "      <td>None</td>\n",
       "      <td>[]</td>\n",
       "      <td>2015-10-22 08:06:00</td>\n",
       "      <td>1</td>\n",
       "      <td>[['None', '0.6205'], ['Ben Carson', '0.2369'],...</td>\n",
       "      <td>['http://feeds.washingtonpost.com/c/34656/f/63...</td>\n",
       "      <td>E</td>\n",
       "    </tr>\n",
       "    <tr>\n",
       "      <th>8169</th>\n",
       "      <td>2015-10-22-108390</td>\n",
       "      <td>The problem for us is that species that don't ...</td>\n",
       "      <td>None</td>\n",
       "      <td>[]</td>\n",
       "      <td>2015-10-22 10:08:08</td>\n",
       "      <td>1</td>\n",
       "      <td>[['None', '0.7835'], ['Paul Pape', '0.2165']]</td>\n",
       "      <td>['http://www.texasobserver.org/wildfires-likel...</td>\n",
       "      <td>E</td>\n",
       "    </tr>\n",
       "    <tr>\n",
       "      <th>3829</th>\n",
       "      <td>2015-10-22-009987</td>\n",
       "      <td>As we celebrate 41 magical years at the Texas ...</td>\n",
       "      <td>Albert Hall</td>\n",
       "      <td>['Q1387383', 'Q4710404']</td>\n",
       "      <td>2015-10-22 11:56:13</td>\n",
       "      <td>1</td>\n",
       "      <td>[['Albert Hall', '0.5299'], ['None', '0.4415']...</td>\n",
       "      <td>['http://www.kbtx.com/home/headlines/Texas-Ren...</td>\n",
       "      <td>E</td>\n",
       "    </tr>\n",
       "    <tr>\n",
       "      <th>11232</th>\n",
       "      <td>2015-10-22-123312</td>\n",
       "      <td>This year's faculty art exhibit will feature a...</td>\n",
       "      <td>Brian Robinson</td>\n",
       "      <td>['Q16533484', 'Q17027609', 'Q18157438', 'Q2696...</td>\n",
       "      <td>2015-10-22 14:24:58</td>\n",
       "      <td>1</td>\n",
       "      <td>[['Brian Robinson', '0.7679'], ['None', '0.230...</td>\n",
       "      <td>['http://www.t-g.com/story/2243104.html']</td>\n",
       "      <td>E</td>\n",
       "    </tr>\n",
       "  </tbody>\n",
       "</table>\n",
       "</div>"
      ],
      "text/plain": [
       "                 quoteID                                          quotation  \\\n",
       "18400  2015-10-22-106707  The mother of Sean Smith, one of the four Amer...   \n",
       "8169   2015-10-22-108390  The problem for us is that species that don't ...   \n",
       "3829   2015-10-22-009987  As we celebrate 41 magical years at the Texas ...   \n",
       "11232  2015-10-22-123312  This year's faculty art exhibit will feature a...   \n",
       "\n",
       "              speaker                                               qids  \\\n",
       "18400            None                                                 []   \n",
       "8169             None                                                 []   \n",
       "3829      Albert Hall                           ['Q1387383', 'Q4710404']   \n",
       "11232  Brian Robinson  ['Q16533484', 'Q17027609', 'Q18157438', 'Q2696...   \n",
       "\n",
       "                     date  numOccurrences  \\\n",
       "18400 2015-10-22 08:06:00               1   \n",
       "8169  2015-10-22 10:08:08               1   \n",
       "3829  2015-10-22 11:56:13               1   \n",
       "11232 2015-10-22 14:24:58               1   \n",
       "\n",
       "                                                  probas  \\\n",
       "18400  [['None', '0.6205'], ['Ben Carson', '0.2369'],...   \n",
       "8169       [['None', '0.7835'], ['Paul Pape', '0.2165']]   \n",
       "3829   [['Albert Hall', '0.5299'], ['None', '0.4415']...   \n",
       "11232  [['Brian Robinson', '0.7679'], ['None', '0.230...   \n",
       "\n",
       "                                                    urls phase  \n",
       "18400  ['http://feeds.washingtonpost.com/c/34656/f/63...     E  \n",
       "8169   ['http://www.texasobserver.org/wildfires-likel...     E  \n",
       "3829   ['http://www.kbtx.com/home/headlines/Texas-Ren...     E  \n",
       "11232          ['http://www.t-g.com/story/2243104.html']     E  "
      ]
     },
     "execution_count": 309,
     "metadata": {},
     "output_type": "execute_result"
    }
   ],
   "source": [
    "filtered_for_pos.head(4)"
   ]
  },
  {
   "cell_type": "code",
   "execution_count": 311,
   "id": "d317fbdd",
   "metadata": {},
   "outputs": [
    {
     "data": {
      "text/plain": [
       "array([], dtype=object)"
      ]
     },
     "execution_count": 311,
     "metadata": {},
     "output_type": "execute_result"
    }
   ],
   "source": [
    "extract_quotes(filtered_for_pos, r'\\b(some_pattern)\\b', complement=False).quotation.values"
   ]
  },
  {
   "cell_type": "code",
   "execution_count": 312,
   "id": "f62dbe0d",
   "metadata": {},
   "outputs": [
    {
     "data": {
      "text/plain": [
       "array([], dtype=object)"
      ]
     },
     "execution_count": 312,
     "metadata": {},
     "output_type": "execute_result"
    }
   ],
   "source": [
    "extract_quotes(filtered_for_pos, r'some_pattern', field='urls', complement=False).quotation.values"
   ]
  },
  {
   "cell_type": "code",
   "execution_count": 204,
   "id": "7442459c",
   "metadata": {},
   "outputs": [],
   "source": [
    "tag_neg_list = disaster_YEAR_neg.tags.values.tolist()\n",
    "\n",
    "\n",
    "regex_pattern_neg = r'|'.join(tag_neg_list)"
   ]
  },
  {
   "cell_type": "code",
   "execution_count": 205,
   "id": "804ccbc8",
   "metadata": {},
   "outputs": [],
   "source": [
    "filtered_for_pos_then_neg = extract_quotes(filtered_for_pos, regex_pattern_neg, complement=True)"
   ]
  },
  {
   "cell_type": "code",
   "execution_count": 206,
   "id": "748a3247",
   "metadata": {},
   "outputs": [
    {
     "data": {
      "text/plain": [
       "5022"
      ]
     },
     "execution_count": 206,
     "metadata": {},
     "output_type": "execute_result"
    }
   ],
   "source": [
    "len(filtered_for_pos_then_neg)"
   ]
  },
  {
   "cell_type": "code",
   "execution_count": 313,
   "id": "d15306d5",
   "metadata": {},
   "outputs": [
    {
     "data": {
      "text/html": [
       "<div>\n",
       "<style scoped>\n",
       "    .dataframe tbody tr th:only-of-type {\n",
       "        vertical-align: middle;\n",
       "    }\n",
       "\n",
       "    .dataframe tbody tr th {\n",
       "        vertical-align: top;\n",
       "    }\n",
       "\n",
       "    .dataframe thead th {\n",
       "        text-align: right;\n",
       "    }\n",
       "</style>\n",
       "<table border=\"1\" class=\"dataframe\">\n",
       "  <thead>\n",
       "    <tr style=\"text-align: right;\">\n",
       "      <th></th>\n",
       "      <th>quoteID</th>\n",
       "      <th>quotation</th>\n",
       "      <th>speaker</th>\n",
       "      <th>qids</th>\n",
       "      <th>date</th>\n",
       "      <th>numOccurrences</th>\n",
       "      <th>probas</th>\n",
       "      <th>urls</th>\n",
       "      <th>phase</th>\n",
       "    </tr>\n",
       "  </thead>\n",
       "  <tbody>\n",
       "    <tr>\n",
       "      <th>1506</th>\n",
       "      <td>2017-08-25-025209</td>\n",
       "      <td>facing first serious crises with Hurricane Har...</td>\n",
       "      <td>Matt Drudge</td>\n",
       "      <td>['Q1567226']</td>\n",
       "      <td>2017-08-25</td>\n",
       "      <td>5</td>\n",
       "      <td>[['Matt Drudge', '0.5346'], ['President Donald...</td>\n",
       "      <td>['http://euronews.com/2017/08/25/hurricane-har...</td>\n",
       "      <td>E</td>\n",
       "    </tr>\n",
       "    <tr>\n",
       "      <th>30922</th>\n",
       "      <td>2017-08-25-055076</td>\n",
       "      <td>If granted by the president, this request will...</td>\n",
       "      <td>None</td>\n",
       "      <td>[]</td>\n",
       "      <td>2017-08-25</td>\n",
       "      <td>6</td>\n",
       "      <td>[['None', '0.7802'], ['Greg Abbott', '0.2198']]</td>\n",
       "      <td>['http://keranews.org/post/harvey-makes-landfa...</td>\n",
       "      <td>E</td>\n",
       "    </tr>\n",
       "    <tr>\n",
       "      <th>10464</th>\n",
       "      <td>2017-08-25-104517</td>\n",
       "      <td>Texas is about to get hit by a major hurricane,</td>\n",
       "      <td>Brock Long</td>\n",
       "      <td>['Q29964476']</td>\n",
       "      <td>2017-08-25</td>\n",
       "      <td>277</td>\n",
       "      <td>[['Brock Long', '0.7948'], ['None', '0.1923'],...</td>\n",
       "      <td>['http://abcnews.go.com/US/hurricane-harvey-br...</td>\n",
       "      <td>E</td>\n",
       "    </tr>\n",
       "    <tr>\n",
       "      <th>9031</th>\n",
       "      <td>2017-08-25-077677</td>\n",
       "      <td>Keep on top of Hurricane Harvey. Don't make sa...</td>\n",
       "      <td>Chuck Grassley</td>\n",
       "      <td>['Q529294']</td>\n",
       "      <td>2017-08-25</td>\n",
       "      <td>105</td>\n",
       "      <td>[['Chuck Grassley', '0.7189'], ['None', '0.200...</td>\n",
       "      <td>['https://www.vanguardngr.com/2017/08/disaster...</td>\n",
       "      <td>E</td>\n",
       "    </tr>\n",
       "  </tbody>\n",
       "</table>\n",
       "</div>"
      ],
      "text/plain": [
       "                 quoteID                                          quotation  \\\n",
       "1506   2017-08-25-025209  facing first serious crises with Hurricane Har...   \n",
       "30922  2017-08-25-055076  If granted by the president, this request will...   \n",
       "10464  2017-08-25-104517    Texas is about to get hit by a major hurricane,   \n",
       "9031   2017-08-25-077677  Keep on top of Hurricane Harvey. Don't make sa...   \n",
       "\n",
       "              speaker           qids       date  numOccurrences  \\\n",
       "1506      Matt Drudge   ['Q1567226'] 2017-08-25               5   \n",
       "30922            None             [] 2017-08-25               6   \n",
       "10464      Brock Long  ['Q29964476'] 2017-08-25             277   \n",
       "9031   Chuck Grassley    ['Q529294'] 2017-08-25             105   \n",
       "\n",
       "                                                  probas  \\\n",
       "1506   [['Matt Drudge', '0.5346'], ['President Donald...   \n",
       "30922    [['None', '0.7802'], ['Greg Abbott', '0.2198']]   \n",
       "10464  [['Brock Long', '0.7948'], ['None', '0.1923'],...   \n",
       "9031   [['Chuck Grassley', '0.7189'], ['None', '0.200...   \n",
       "\n",
       "                                                    urls phase  \n",
       "1506   ['http://euronews.com/2017/08/25/hurricane-har...     E  \n",
       "30922  ['http://keranews.org/post/harvey-makes-landfa...     E  \n",
       "10464  ['http://abcnews.go.com/US/hurricane-harvey-br...     E  \n",
       "9031   ['https://www.vanguardngr.com/2017/08/disaster...     E  "
      ]
     },
     "execution_count": 313,
     "metadata": {},
     "output_type": "execute_result"
    }
   ],
   "source": [
    "filtered_for_pos_then_neg.head(4)"
   ]
  },
  {
   "cell_type": "code",
   "execution_count": null,
   "id": "5ee10fab",
   "metadata": {},
   "outputs": [],
   "source": [
    "apply_extra = filtered_for_pos_then_neg # or filtered_for_pos"
   ]
  },
  {
   "cell_type": "code",
   "execution_count": 299,
   "id": "868fd091",
   "metadata": {},
   "outputs": [],
   "source": [
    "filtered_extra = storm_tags_2015_extra()"
   ]
  },
  {
   "cell_type": "code",
   "execution_count": 300,
   "id": "b177539b",
   "metadata": {},
   "outputs": [
    {
     "data": {
      "text/plain": [
       "119"
      ]
     },
     "execution_count": 300,
     "metadata": {},
     "output_type": "execute_result"
    }
   ],
   "source": [
    "len(filtered_extra)"
   ]
  },
  {
   "cell_type": "code",
   "execution_count": 314,
   "id": "27c95914",
   "metadata": {},
   "outputs": [
    {
     "data": {
      "text/html": [
       "<div>\n",
       "<style scoped>\n",
       "    .dataframe tbody tr th:only-of-type {\n",
       "        vertical-align: middle;\n",
       "    }\n",
       "\n",
       "    .dataframe tbody tr th {\n",
       "        vertical-align: top;\n",
       "    }\n",
       "\n",
       "    .dataframe thead th {\n",
       "        text-align: right;\n",
       "    }\n",
       "</style>\n",
       "<table border=\"1\" class=\"dataframe\">\n",
       "  <thead>\n",
       "    <tr style=\"text-align: right;\">\n",
       "      <th></th>\n",
       "      <th>quoteID</th>\n",
       "      <th>quotation</th>\n",
       "      <th>speaker</th>\n",
       "      <th>qids</th>\n",
       "      <th>date</th>\n",
       "      <th>numOccurrences</th>\n",
       "      <th>probas</th>\n",
       "      <th>urls</th>\n",
       "      <th>phase</th>\n",
       "    </tr>\n",
       "  </thead>\n",
       "  <tbody>\n",
       "    <tr>\n",
       "      <th>8169</th>\n",
       "      <td>2015-10-22-108390</td>\n",
       "      <td>The problem for us is that species that don't ...</td>\n",
       "      <td>None</td>\n",
       "      <td>[]</td>\n",
       "      <td>2015-10-22 10:08:08</td>\n",
       "      <td>1</td>\n",
       "      <td>[['None', '0.7835'], ['Paul Pape', '0.2165']]</td>\n",
       "      <td>['http://www.texasobserver.org/wildfires-likel...</td>\n",
       "      <td>E</td>\n",
       "    </tr>\n",
       "    <tr>\n",
       "      <th>3829</th>\n",
       "      <td>2015-10-22-009987</td>\n",
       "      <td>As we celebrate 41 magical years at the Texas ...</td>\n",
       "      <td>Albert Hall</td>\n",
       "      <td>['Q1387383', 'Q4710404']</td>\n",
       "      <td>2015-10-22 11:56:13</td>\n",
       "      <td>1</td>\n",
       "      <td>[['Albert Hall', '0.5299'], ['None', '0.4415']...</td>\n",
       "      <td>['http://www.kbtx.com/home/headlines/Texas-Ren...</td>\n",
       "      <td>E</td>\n",
       "    </tr>\n",
       "    <tr>\n",
       "      <th>18575</th>\n",
       "      <td>2015-10-22-100402</td>\n",
       "      <td>The ANUENUE Network is a testimony to the supe...</td>\n",
       "      <td>Governor David Ige</td>\n",
       "      <td>['Q16189318']</td>\n",
       "      <td>2015-10-22 14:57:08</td>\n",
       "      <td>1</td>\n",
       "      <td>[['Governor David Ige', '0.6821'], ['James Jen...</td>\n",
       "      <td>['http://www.bigislandvideonews.com/2015/10/22...</td>\n",
       "      <td>E</td>\n",
       "    </tr>\n",
       "    <tr>\n",
       "      <th>17500</th>\n",
       "      <td>2015-10-22-034269</td>\n",
       "      <td>Hurricane Sandy changed forever how we think a...</td>\n",
       "      <td>None</td>\n",
       "      <td>[]</td>\n",
       "      <td>2015-10-22 16:39:55</td>\n",
       "      <td>2</td>\n",
       "      <td>[['None', '0.5751'], ['Curt Johnson', '0.4249']]</td>\n",
       "      <td>['http://yosemite.epa.gov/opa/admpress.nsf/0/F...</td>\n",
       "      <td>E</td>\n",
       "    </tr>\n",
       "  </tbody>\n",
       "</table>\n",
       "</div>"
      ],
      "text/plain": [
       "                 quoteID                                          quotation  \\\n",
       "8169   2015-10-22-108390  The problem for us is that species that don't ...   \n",
       "3829   2015-10-22-009987  As we celebrate 41 magical years at the Texas ...   \n",
       "18575  2015-10-22-100402  The ANUENUE Network is a testimony to the supe...   \n",
       "17500  2015-10-22-034269  Hurricane Sandy changed forever how we think a...   \n",
       "\n",
       "                  speaker                      qids                date  \\\n",
       "8169                 None                        [] 2015-10-22 10:08:08   \n",
       "3829          Albert Hall  ['Q1387383', 'Q4710404'] 2015-10-22 11:56:13   \n",
       "18575  Governor David Ige             ['Q16189318'] 2015-10-22 14:57:08   \n",
       "17500                None                        [] 2015-10-22 16:39:55   \n",
       "\n",
       "       numOccurrences                                             probas  \\\n",
       "8169                1      [['None', '0.7835'], ['Paul Pape', '0.2165']]   \n",
       "3829                1  [['Albert Hall', '0.5299'], ['None', '0.4415']...   \n",
       "18575               1  [['Governor David Ige', '0.6821'], ['James Jen...   \n",
       "17500               2   [['None', '0.5751'], ['Curt Johnson', '0.4249']]   \n",
       "\n",
       "                                                    urls phase  \n",
       "8169   ['http://www.texasobserver.org/wildfires-likel...     E  \n",
       "3829   ['http://www.kbtx.com/home/headlines/Texas-Ren...     E  \n",
       "18575  ['http://www.bigislandvideonews.com/2015/10/22...     E  \n",
       "17500  ['http://yosemite.epa.gov/opa/admpress.nsf/0/F...     E  "
      ]
     },
     "execution_count": 314,
     "metadata": {},
     "output_type": "execute_result"
    }
   ],
   "source": [
    "filtered_extra.head(4)"
   ]
  },
  {
   "cell_type": "code",
   "execution_count": 305,
   "id": "50119022",
   "metadata": {},
   "outputs": [
    {
     "data": {
      "text/plain": [
       "(2015, 'storm')"
      ]
     },
     "execution_count": 305,
     "metadata": {},
     "output_type": "execute_result"
    }
   ],
   "source": [
    "YEAR, disaster_type"
   ]
  },
  {
   "cell_type": "code",
   "execution_count": 306,
   "id": "ae120864",
   "metadata": {},
   "outputs": [],
   "source": [
    "output_df = filtered_extra # Or filtered_for_pos_then_neg or filtered_for_pos"
   ]
  },
  {
   "cell_type": "code",
   "execution_count": 315,
   "id": "8736876e",
   "metadata": {},
   "outputs": [
    {
     "data": {
      "text/html": [
       "<div>\n",
       "<style scoped>\n",
       "    .dataframe tbody tr th:only-of-type {\n",
       "        vertical-align: middle;\n",
       "    }\n",
       "\n",
       "    .dataframe tbody tr th {\n",
       "        vertical-align: top;\n",
       "    }\n",
       "\n",
       "    .dataframe thead th {\n",
       "        text-align: right;\n",
       "    }\n",
       "</style>\n",
       "<table border=\"1\" class=\"dataframe\">\n",
       "  <thead>\n",
       "    <tr style=\"text-align: right;\">\n",
       "      <th></th>\n",
       "      <th>quoteID</th>\n",
       "      <th>quotation</th>\n",
       "      <th>speaker</th>\n",
       "      <th>qids</th>\n",
       "      <th>date</th>\n",
       "      <th>numOccurrences</th>\n",
       "      <th>probas</th>\n",
       "      <th>urls</th>\n",
       "      <th>phase</th>\n",
       "    </tr>\n",
       "  </thead>\n",
       "  <tbody>\n",
       "    <tr>\n",
       "      <th>8169</th>\n",
       "      <td>2015-10-22-108390</td>\n",
       "      <td>The problem for us is that species that don't ...</td>\n",
       "      <td>None</td>\n",
       "      <td>[]</td>\n",
       "      <td>2015-10-22 10:08:08</td>\n",
       "      <td>1</td>\n",
       "      <td>[['None', '0.7835'], ['Paul Pape', '0.2165']]</td>\n",
       "      <td>['http://www.texasobserver.org/wildfires-likel...</td>\n",
       "      <td>E</td>\n",
       "    </tr>\n",
       "    <tr>\n",
       "      <th>3829</th>\n",
       "      <td>2015-10-22-009987</td>\n",
       "      <td>As we celebrate 41 magical years at the Texas ...</td>\n",
       "      <td>Albert Hall</td>\n",
       "      <td>['Q1387383', 'Q4710404']</td>\n",
       "      <td>2015-10-22 11:56:13</td>\n",
       "      <td>1</td>\n",
       "      <td>[['Albert Hall', '0.5299'], ['None', '0.4415']...</td>\n",
       "      <td>['http://www.kbtx.com/home/headlines/Texas-Ren...</td>\n",
       "      <td>E</td>\n",
       "    </tr>\n",
       "    <tr>\n",
       "      <th>18575</th>\n",
       "      <td>2015-10-22-100402</td>\n",
       "      <td>The ANUENUE Network is a testimony to the supe...</td>\n",
       "      <td>Governor David Ige</td>\n",
       "      <td>['Q16189318']</td>\n",
       "      <td>2015-10-22 14:57:08</td>\n",
       "      <td>1</td>\n",
       "      <td>[['Governor David Ige', '0.6821'], ['James Jen...</td>\n",
       "      <td>['http://www.bigislandvideonews.com/2015/10/22...</td>\n",
       "      <td>E</td>\n",
       "    </tr>\n",
       "    <tr>\n",
       "      <th>17500</th>\n",
       "      <td>2015-10-22-034269</td>\n",
       "      <td>Hurricane Sandy changed forever how we think a...</td>\n",
       "      <td>None</td>\n",
       "      <td>[]</td>\n",
       "      <td>2015-10-22 16:39:55</td>\n",
       "      <td>2</td>\n",
       "      <td>[['None', '0.5751'], ['Curt Johnson', '0.4249']]</td>\n",
       "      <td>['http://yosemite.epa.gov/opa/admpress.nsf/0/F...</td>\n",
       "      <td>E</td>\n",
       "    </tr>\n",
       "  </tbody>\n",
       "</table>\n",
       "</div>"
      ],
      "text/plain": [
       "                 quoteID                                          quotation  \\\n",
       "8169   2015-10-22-108390  The problem for us is that species that don't ...   \n",
       "3829   2015-10-22-009987  As we celebrate 41 magical years at the Texas ...   \n",
       "18575  2015-10-22-100402  The ANUENUE Network is a testimony to the supe...   \n",
       "17500  2015-10-22-034269  Hurricane Sandy changed forever how we think a...   \n",
       "\n",
       "                  speaker                      qids                date  \\\n",
       "8169                 None                        [] 2015-10-22 10:08:08   \n",
       "3829          Albert Hall  ['Q1387383', 'Q4710404'] 2015-10-22 11:56:13   \n",
       "18575  Governor David Ige             ['Q16189318'] 2015-10-22 14:57:08   \n",
       "17500                None                        [] 2015-10-22 16:39:55   \n",
       "\n",
       "       numOccurrences                                             probas  \\\n",
       "8169                1      [['None', '0.7835'], ['Paul Pape', '0.2165']]   \n",
       "3829                1  [['Albert Hall', '0.5299'], ['None', '0.4415']...   \n",
       "18575               1  [['Governor David Ige', '0.6821'], ['James Jen...   \n",
       "17500               2   [['None', '0.5751'], ['Curt Johnson', '0.4249']]   \n",
       "\n",
       "                                                    urls phase  \n",
       "8169   ['http://www.texasobserver.org/wildfires-likel...     E  \n",
       "3829   ['http://www.kbtx.com/home/headlines/Texas-Ren...     E  \n",
       "18575  ['http://www.bigislandvideonews.com/2015/10/22...     E  \n",
       "17500  ['http://yosemite.epa.gov/opa/admpress.nsf/0/F...     E  "
      ]
     },
     "execution_count": 315,
     "metadata": {},
     "output_type": "execute_result"
    }
   ],
   "source": [
    "output_df.head(4)"
   ]
  },
  {
   "cell_type": "code",
   "execution_count": 308,
   "id": "64d904a1",
   "metadata": {},
   "outputs": [],
   "source": [
    "write_df_to_disk(output_df, disaster_type, YEAR, additional_text='filtered')"
   ]
  }
 ],
 "metadata": {
  "kernelspec": {
   "display_name": "Python [conda env:numerical] *",
   "language": "python",
   "name": "conda-env-numerical-py"
  },
  "language_info": {
   "codemirror_mode": {
    "name": "ipython",
    "version": 3
   },
   "file_extension": ".py",
   "mimetype": "text/x-python",
   "name": "python",
   "nbconvert_exporter": "python",
   "pygments_lexer": "ipython3",
   "version": "3.8.12"
  }
 },
 "nbformat": 4,
 "nbformat_minor": 5
}
