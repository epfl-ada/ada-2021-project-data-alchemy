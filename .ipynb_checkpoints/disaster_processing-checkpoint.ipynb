{
 "cells": [
  {
   "cell_type": "code",
   "execution_count": 2883,
   "id": "a1cbb027",
   "metadata": {},
   "outputs": [],
   "source": [
    "import pandas as pd\n",
    "import re\n",
    "import datetime\n",
    "\n",
    "from disaster_extr_constants import *\n",
    "from disaster_extr_helpers import *"
   ]
  },
  {
   "cell_type": "code",
   "execution_count": 2884,
   "id": "493691db",
   "metadata": {},
   "outputs": [],
   "source": [
    "YEAR = 2020\n",
    "disaster_type = 'heat_wave'\n",
    "file_path = 'data/'+str(YEAR)+'_'+disaster_type+'_climate_processed_csv.bz2'"
   ]
  },
  {
   "cell_type": "code",
   "execution_count": 2885,
   "id": "f0fb975c",
   "metadata": {},
   "outputs": [],
   "source": [
    "data = 'data/emdat_processed.csv'\n",
    "parse_dates = ['StartDate', 'EndDate']\n",
    "df_emdat = pd.read_csv(data, index_col=\"Dis No\", parse_dates = parse_dates)"
   ]
  },
  {
   "cell_type": "code",
   "execution_count": 2886,
   "id": "2eb89bdd",
   "metadata": {},
   "outputs": [],
   "source": [
    "disaster_df = pd.read_csv(file_path, parse_dates = ['date'], compression='bz2')"
   ]
  },
  {
   "cell_type": "code",
   "execution_count": 2887,
   "id": "6622da95",
   "metadata": {},
   "outputs": [],
   "source": [
    "df_heat_wave = get_df_disaster(df_emdat, HEAT_WAVES, HEAT_WAVES_val)\n",
    "df_heat_wave_bounds = retrieve_bounding_dates(df_heat_wave)\n",
    "\n",
    "df_heat_wave = get_df_disaster(df_emdat, HEAT_WAVES_2020, HEAT_WAVES_2020_val)\n",
    "df_heat_wave_bounds = retrieve_bounding_dates(df_heat_wave)\n",
    "\n",
    "disaster_df_bounds = df_heat_wave_bounds\n",
    "\n",
    "start_YEAR, end_YEAR = disaster_df_bounds.loc[YEAR-1].MinStartDate, disaster_df_bounds.loc[YEAR-1].MaxEndDate"
   ]
  },
  {
   "cell_type": "code",
   "execution_count": 2888,
   "id": "fde36028",
   "metadata": {
    "scrolled": true
   },
   "outputs": [
    {
     "data": {
      "text/html": [
       "<div>\n",
       "<style scoped>\n",
       "    .dataframe tbody tr th:only-of-type {\n",
       "        vertical-align: middle;\n",
       "    }\n",
       "\n",
       "    .dataframe tbody tr th {\n",
       "        vertical-align: top;\n",
       "    }\n",
       "\n",
       "    .dataframe thead th {\n",
       "        text-align: right;\n",
       "    }\n",
       "</style>\n",
       "<table border=\"1\" class=\"dataframe\">\n",
       "  <thead>\n",
       "    <tr style=\"text-align: right;\">\n",
       "      <th></th>\n",
       "      <th>MinStartDate</th>\n",
       "      <th>MaxEndDate</th>\n",
       "    </tr>\n",
       "    <tr>\n",
       "      <th>Year</th>\n",
       "      <th></th>\n",
       "      <th></th>\n",
       "    </tr>\n",
       "  </thead>\n",
       "  <tbody>\n",
       "    <tr>\n",
       "      <th>2019</th>\n",
       "      <td>2019-09-01</td>\n",
       "      <td>2020-02-01</td>\n",
       "    </tr>\n",
       "  </tbody>\n",
       "</table>\n",
       "</div>"
      ],
      "text/plain": [
       "     MinStartDate MaxEndDate\n",
       "Year                        \n",
       "2019   2019-09-01 2020-02-01"
      ]
     },
     "execution_count": 2888,
     "metadata": {},
     "output_type": "execute_result"
    }
   ],
   "source": [
    "df_heat_wave_bounds"
   ]
  },
  {
   "cell_type": "code",
   "execution_count": 2889,
   "id": "bed612b4",
   "metadata": {},
   "outputs": [
    {
     "data": {
      "text/plain": [
       "(Timestamp('2019-09-01 00:00:00'), Timestamp('2020-02-01 00:00:00'))"
      ]
     },
     "execution_count": 2889,
     "metadata": {},
     "output_type": "execute_result"
    }
   ],
   "source": [
    "start_YEAR, end_YEAR"
   ]
  },
  {
   "cell_type": "code",
   "execution_count": 2890,
   "id": "30229153",
   "metadata": {},
   "outputs": [],
   "source": [
    "one_month = datetime.timedelta(days=31)\n",
    "\n",
    "if end_YEAR - start_YEAR < one_month:\n",
    "    # Add 10 days to end date\n",
    "    ten_days = datetime.timedelta(days=10)\n",
    "    end_YEAR += ten_days"
   ]
  },
  {
   "cell_type": "code",
   "execution_count": 2891,
   "id": "20fab6aa",
   "metadata": {},
   "outputs": [
    {
     "data": {
      "text/plain": [
       "(Timestamp('2019-09-01 00:00:00'), Timestamp('2020-02-01 00:00:00'))"
      ]
     },
     "execution_count": 2891,
     "metadata": {},
     "output_type": "execute_result"
    }
   ],
   "source": [
    "start_YEAR, end_YEAR"
   ]
  },
  {
   "cell_type": "code",
   "execution_count": 2892,
   "id": "78043ea8",
   "metadata": {},
   "outputs": [],
   "source": [
    "start_YEAR, end_YEAR = start_YEAR.strftime(\"%Y-%m-%d\"), end_YEAR.strftime(\"%Y-%m-%d\")"
   ]
  },
  {
   "cell_type": "code",
   "execution_count": 2893,
   "id": "0898f361",
   "metadata": {},
   "outputs": [
    {
     "data": {
      "text/plain": [
       "('2019-09-01', '2020-02-01')"
      ]
     },
     "execution_count": 2893,
     "metadata": {},
     "output_type": "execute_result"
    }
   ],
   "source": [
    "start_YEAR, end_YEAR"
   ]
  },
  {
   "cell_type": "code",
   "execution_count": 2894,
   "id": "a28540df",
   "metadata": {},
   "outputs": [],
   "source": [
    "df_disaster_start_end = df_time_interval(disaster_df, start_YEAR, end_YEAR,date_attr='date')"
   ]
  },
  {
   "cell_type": "code",
   "execution_count": 2895,
   "id": "1504c298",
   "metadata": {},
   "outputs": [
    {
     "data": {
      "text/html": [
       "<div>\n",
       "<style scoped>\n",
       "    .dataframe tbody tr th:only-of-type {\n",
       "        vertical-align: middle;\n",
       "    }\n",
       "\n",
       "    .dataframe tbody tr th {\n",
       "        vertical-align: top;\n",
       "    }\n",
       "\n",
       "    .dataframe thead th {\n",
       "        text-align: right;\n",
       "    }\n",
       "</style>\n",
       "<table border=\"1\" class=\"dataframe\">\n",
       "  <thead>\n",
       "    <tr style=\"text-align: right;\">\n",
       "      <th></th>\n",
       "      <th>quoteID</th>\n",
       "      <th>quotation</th>\n",
       "      <th>speaker</th>\n",
       "      <th>qids</th>\n",
       "      <th>date</th>\n",
       "      <th>numOccurrences</th>\n",
       "      <th>probas</th>\n",
       "      <th>urls</th>\n",
       "      <th>phase</th>\n",
       "    </tr>\n",
       "  </thead>\n",
       "  <tbody>\n",
       "    <tr>\n",
       "      <th>0</th>\n",
       "      <td>2019-10-30-054451</td>\n",
       "      <td>It is more likely these catalysts will be impl...</td>\n",
       "      <td>Rose Amal</td>\n",
       "      <td>['Q25513876']</td>\n",
       "      <td>2019-10-30 09:58:11</td>\n",
       "      <td>1</td>\n",
       "      <td>[['Rose Amal', '0.9587'], ['None', '0.0413']]</td>\n",
       "      <td>['https://www.miragenews.com/chemical-engineer...</td>\n",
       "      <td>E</td>\n",
       "    </tr>\n",
       "    <tr>\n",
       "      <th>1</th>\n",
       "      <td>2019-09-13-002852</td>\n",
       "      <td>acutely aware we are in the midst of a climate...</td>\n",
       "      <td>Michael Thomson</td>\n",
       "      <td>['Q16239395', 'Q23418728', 'Q6834872', 'Q68348...</td>\n",
       "      <td>2019-09-13 00:00:00</td>\n",
       "      <td>1</td>\n",
       "      <td>[['Michael Thomson', '0.6821'], ['None', '0.25...</td>\n",
       "      <td>['http://theherald.com.au/story/6383605/univer...</td>\n",
       "      <td>E</td>\n",
       "    </tr>\n",
       "    <tr>\n",
       "      <th>2</th>\n",
       "      <td>2019-09-25-005329</td>\n",
       "      <td>and bear varying degrees of culpability.</td>\n",
       "      <td>None</td>\n",
       "      <td>[]</td>\n",
       "      <td>2019-09-25 22:44:24</td>\n",
       "      <td>3</td>\n",
       "      <td>[['None', '0.6772'], ['Ron DeSantis', '0.2969'...</td>\n",
       "      <td>['http://sunshinestatenews.com/story/special-m...</td>\n",
       "      <td>E</td>\n",
       "    </tr>\n",
       "    <tr>\n",
       "      <th>3</th>\n",
       "      <td>2019-09-26-057277</td>\n",
       "      <td>It's managing those zillions of microbial cell...</td>\n",
       "      <td>Thomas Crowther</td>\n",
       "      <td>['Q22958878']</td>\n",
       "      <td>2019-09-26 11:00:45</td>\n",
       "      <td>1</td>\n",
       "      <td>[['Thomas Crowther', '0.9631'], ['None', '0.03...</td>\n",
       "      <td>['https://www.yaleclimateconnections.org/2019/...</td>\n",
       "      <td>E</td>\n",
       "    </tr>\n",
       "    <tr>\n",
       "      <th>4</th>\n",
       "      <td>2019-10-12-030285</td>\n",
       "      <td>I've spoken to people and they didn't realise ...</td>\n",
       "      <td>None</td>\n",
       "      <td>[]</td>\n",
       "      <td>2019-10-12 06:03:50</td>\n",
       "      <td>1</td>\n",
       "      <td>[['None', '0.557'], ['John Yates', '0.443']]</td>\n",
       "      <td>['https://www.horseandhound.co.uk/news/blister...</td>\n",
       "      <td>E</td>\n",
       "    </tr>\n",
       "    <tr>\n",
       "      <th>...</th>\n",
       "      <td>...</td>\n",
       "      <td>...</td>\n",
       "      <td>...</td>\n",
       "      <td>...</td>\n",
       "      <td>...</td>\n",
       "      <td>...</td>\n",
       "      <td>...</td>\n",
       "      <td>...</td>\n",
       "      <td>...</td>\n",
       "    </tr>\n",
       "    <tr>\n",
       "      <th>121381</th>\n",
       "      <td>2020-01-21-033625</td>\n",
       "      <td>I think we are all sad to see the consequences...</td>\n",
       "      <td>Toni Nadal</td>\n",
       "      <td>['Q2118577']</td>\n",
       "      <td>2020-01-21 05:05:58</td>\n",
       "      <td>1</td>\n",
       "      <td>[['Toni Nadal', '0.844'], ['None', '0.156']]</td>\n",
       "      <td>['https://www.foxsportsasia.com/tennis/austral...</td>\n",
       "      <td>E</td>\n",
       "    </tr>\n",
       "    <tr>\n",
       "      <th>121382</th>\n",
       "      <td>2020-01-20-037617</td>\n",
       "      <td>It's also an event where disqualifications can...</td>\n",
       "      <td>None</td>\n",
       "      <td>[]</td>\n",
       "      <td>2020-01-20 00:14:03</td>\n",
       "      <td>2</td>\n",
       "      <td>[['None', '0.5625'], ['Quentin Rew', '0.4375']]</td>\n",
       "      <td>['http://home.nzcity.co.nz/nl.aspx?4427659', '...</td>\n",
       "      <td>E</td>\n",
       "    </tr>\n",
       "    <tr>\n",
       "      <th>121383</th>\n",
       "      <td>2020-01-05-026011</td>\n",
       "      <td>On the one hand, you've got ta see it, but, on...</td>\n",
       "      <td>Roger Deakins</td>\n",
       "      <td>['Q460277']</td>\n",
       "      <td>2020-01-05 17:00:49</td>\n",
       "      <td>1</td>\n",
       "      <td>[['Roger Deakins', '0.7504'], ['None', '0.2496']]</td>\n",
       "      <td>['https://www.indiewire.com/2020/01/1917-cinem...</td>\n",
       "      <td>E</td>\n",
       "    </tr>\n",
       "    <tr>\n",
       "      <th>121384</th>\n",
       "      <td>2020-01-24-095416</td>\n",
       "      <td>Unbelievable 1440 degrees jump by Kelly Sildar...</td>\n",
       "      <td>Taavi Rõivas</td>\n",
       "      <td>['Q3785077']</td>\n",
       "      <td>2020-01-24 00:00:00</td>\n",
       "      <td>2</td>\n",
       "      <td>[['Taavi Rõivas', '0.8461'], ['Kelly Sildaru',...</td>\n",
       "      <td>['https://www.forbes.com/sites/michellebruton/...</td>\n",
       "      <td>E</td>\n",
       "    </tr>\n",
       "    <tr>\n",
       "      <th>121385</th>\n",
       "      <td>2020-01-07-090031</td>\n",
       "      <td>What has clearly captured the attention of man...</td>\n",
       "      <td>John Brennan</td>\n",
       "      <td>['Q16229793', 'Q27044621', 'Q58198198', 'Q6223...</td>\n",
       "      <td>2020-01-07 16:09:05</td>\n",
       "      <td>1</td>\n",
       "      <td>[['John Brennan', '0.5365'], ['None', '0.4635']]</td>\n",
       "      <td>['http://cnsnews.com/article/national/susan-jo...</td>\n",
       "      <td>E</td>\n",
       "    </tr>\n",
       "  </tbody>\n",
       "</table>\n",
       "<p>108365 rows × 9 columns</p>\n",
       "</div>"
      ],
      "text/plain": [
       "                  quoteID                                          quotation  \\\n",
       "0       2019-10-30-054451  It is more likely these catalysts will be impl...   \n",
       "1       2019-09-13-002852  acutely aware we are in the midst of a climate...   \n",
       "2       2019-09-25-005329           and bear varying degrees of culpability.   \n",
       "3       2019-09-26-057277  It's managing those zillions of microbial cell...   \n",
       "4       2019-10-12-030285  I've spoken to people and they didn't realise ...   \n",
       "...                   ...                                                ...   \n",
       "121381  2020-01-21-033625  I think we are all sad to see the consequences...   \n",
       "121382  2020-01-20-037617  It's also an event where disqualifications can...   \n",
       "121383  2020-01-05-026011  On the one hand, you've got ta see it, but, on...   \n",
       "121384  2020-01-24-095416  Unbelievable 1440 degrees jump by Kelly Sildar...   \n",
       "121385  2020-01-07-090031  What has clearly captured the attention of man...   \n",
       "\n",
       "                speaker                                               qids  \\\n",
       "0             Rose Amal                                      ['Q25513876']   \n",
       "1       Michael Thomson  ['Q16239395', 'Q23418728', 'Q6834872', 'Q68348...   \n",
       "2                  None                                                 []   \n",
       "3       Thomas Crowther                                      ['Q22958878']   \n",
       "4                  None                                                 []   \n",
       "...                 ...                                                ...   \n",
       "121381       Toni Nadal                                       ['Q2118577']   \n",
       "121382             None                                                 []   \n",
       "121383    Roger Deakins                                        ['Q460277']   \n",
       "121384     Taavi Rõivas                                       ['Q3785077']   \n",
       "121385     John Brennan  ['Q16229793', 'Q27044621', 'Q58198198', 'Q6223...   \n",
       "\n",
       "                      date  numOccurrences  \\\n",
       "0      2019-10-30 09:58:11               1   \n",
       "1      2019-09-13 00:00:00               1   \n",
       "2      2019-09-25 22:44:24               3   \n",
       "3      2019-09-26 11:00:45               1   \n",
       "4      2019-10-12 06:03:50               1   \n",
       "...                    ...             ...   \n",
       "121381 2020-01-21 05:05:58               1   \n",
       "121382 2020-01-20 00:14:03               2   \n",
       "121383 2020-01-05 17:00:49               1   \n",
       "121384 2020-01-24 00:00:00               2   \n",
       "121385 2020-01-07 16:09:05               1   \n",
       "\n",
       "                                                   probas  \\\n",
       "0           [['Rose Amal', '0.9587'], ['None', '0.0413']]   \n",
       "1       [['Michael Thomson', '0.6821'], ['None', '0.25...   \n",
       "2       [['None', '0.6772'], ['Ron DeSantis', '0.2969'...   \n",
       "3       [['Thomas Crowther', '0.9631'], ['None', '0.03...   \n",
       "4            [['None', '0.557'], ['John Yates', '0.443']]   \n",
       "...                                                   ...   \n",
       "121381       [['Toni Nadal', '0.844'], ['None', '0.156']]   \n",
       "121382    [['None', '0.5625'], ['Quentin Rew', '0.4375']]   \n",
       "121383  [['Roger Deakins', '0.7504'], ['None', '0.2496']]   \n",
       "121384  [['Taavi Rõivas', '0.8461'], ['Kelly Sildaru',...   \n",
       "121385   [['John Brennan', '0.5365'], ['None', '0.4635']]   \n",
       "\n",
       "                                                     urls phase  \n",
       "0       ['https://www.miragenews.com/chemical-engineer...     E  \n",
       "1       ['http://theherald.com.au/story/6383605/univer...     E  \n",
       "2       ['http://sunshinestatenews.com/story/special-m...     E  \n",
       "3       ['https://www.yaleclimateconnections.org/2019/...     E  \n",
       "4       ['https://www.horseandhound.co.uk/news/blister...     E  \n",
       "...                                                   ...   ...  \n",
       "121381  ['https://www.foxsportsasia.com/tennis/austral...     E  \n",
       "121382  ['http://home.nzcity.co.nz/nl.aspx?4427659', '...     E  \n",
       "121383  ['https://www.indiewire.com/2020/01/1917-cinem...     E  \n",
       "121384  ['https://www.forbes.com/sites/michellebruton/...     E  \n",
       "121385  ['http://cnsnews.com/article/national/susan-jo...     E  \n",
       "\n",
       "[108365 rows x 9 columns]"
      ]
     },
     "execution_count": 2895,
     "metadata": {},
     "output_type": "execute_result"
    }
   ],
   "source": [
    "df_disaster_start_end"
   ]
  },
  {
   "cell_type": "code",
   "execution_count": 2979,
   "id": "c41ef23b",
   "metadata": {},
   "outputs": [],
   "source": [
    "heat_tags_2020_pos = pd.DataFrame(\n",
    "    {'tags': [\n",
    "        #r'\\b([hH]eat[ -]?[wW]aves?)\\b',\n",
    "        #r'\\b(([hH]igh|[sS]evere|[eE]xtreme|[rR]ecord[- ][bB]reaking) temperatures?)\\b',\n",
    "        #r'\\b([cC]elsius|[fF]ahrenheit)\\b',\n",
    "        #r'\\b(([eE]xtreme|[vV]olatile) [wW]eather)\\b',\n",
    "        #r'\\b([hH]eat[ -]?strokes?)\\b',\n",
    "        #r'\\b([hH]eat[ -]?storms?)\\b',\n",
    "        #r'\\b([sS]corching)\\b',\n",
    "        #r'\\b([wW]ildfires?)\\b',\n",
    "        #r'\\b([oO]range sk(y|ies))\\b',\n",
    "        #r'\\b([sS]moke clouds?)\\b',\n",
    "        #r'\\b(([bB]ush)?[fF]ires?)\\b',\n",
    "        \n",
    "        \n",
    "        r'\\b([bB]ush [fF]ires?)\\b',\n",
    "        #r'\\b(Australia)\\b'\n",
    "        r'(?=.*\\b(Australia)\\b)(?=.*\\b([tT]emperatures?)\\b)',\n",
    "        r'(?=.*\\b(Australia)\\b)(?=.*(?=.*\\b([fF]ires?)\\b))'\n",
    "        \n",
    "\n",
    "\n",
    "        #r'\\b([mM]egafires?)\\b',\n",
    "        \n",
    "        #r'\\b([bB]urning forests?)\\b',\n",
    "    ]\n",
    "    }\n",
    ")"
   ]
  },
  {
   "cell_type": "code",
   "execution_count": 2980,
   "id": "50df785a",
   "metadata": {},
   "outputs": [],
   "source": [
    "tags_pos_list = heat_tags_2020_pos.tags.values.tolist()"
   ]
  },
  {
   "cell_type": "code",
   "execution_count": 2981,
   "id": "d4c42004",
   "metadata": {},
   "outputs": [
    {
     "data": {
      "text/plain": [
       "['(?=.*\\\\b(Australia)\\\\b)(?=.*\\\\b([tT]emperatures?)\\\\b)(?=.*\\\\b([fF]ires?)\\\\b)']"
      ]
     },
     "execution_count": 2981,
     "metadata": {},
     "output_type": "execute_result"
    }
   ],
   "source": [
    "tags_pos_list"
   ]
  },
  {
   "cell_type": "code",
   "execution_count": 2982,
   "id": "3059f6b3",
   "metadata": {},
   "outputs": [],
   "source": [
    "# Return regex pattern\n",
    "regex_pattern_pos = r'|'.join(tags_pos_list)"
   ]
  },
  {
   "cell_type": "code",
   "execution_count": 2983,
   "id": "f3670dbb",
   "metadata": {},
   "outputs": [
    {
     "name": "stderr",
     "output_type": "stream",
     "text": [
      "/Users/gil/EPFL/4 - Fourth Year/Semester 1/ADA/Project/ada-2021-project-data-alchemy/disaster_extr_helpers.py:17: UserWarning: This pattern has match groups. To actually get the groups, use str.extract.\n",
      "  mask = df[field].str.contains(regex)\n"
     ]
    }
   ],
   "source": [
    "filtered_for_pos = extract_quotes(df_disaster_start_end, regex_pattern_pos).sort_values(by='date')"
   ]
  },
  {
   "cell_type": "code",
   "execution_count": 2985,
   "id": "72131ffd",
   "metadata": {},
   "outputs": [
    {
     "data": {
      "text/plain": [
       "array([\"Climate breakdown and biodiversity loss are two of the most serious issues of our time -- we're witnessing global temperature records, floods, fires, storms and drought. By signing this declaration, UNSW Engineering is expressing its commitment to reducing carbon emissions and accelerating Australia's transition to a low carbon future. I hope we inspire other universities, organisations and individuals to follow suit.\",\n",
       "       \"the fire danger increased as temperatures rose to record levels across Australia on Saturday, surpassing 43 degrees Celsius (109 Fahrenheit) in Canberra, the capital, and reaching a record-high 48.9 C (120 F) in Penrith, in Sydney's western suburbs.\",\n",
       "       'This is horrible. Please #helpaustralia #repost @leonardodicaprio #regram @gretathunberg: Australia is on fire. And the summer there has only just begun. 2019 was a year of record heat and record drought. Today the temperature outside Sydney was 48,9 ° C. 500 million (!!) animals are estimated dead because of the bushfires. Over 20 people have died and thousands of homes have burned to ground. The fires have spewed 2/3 of the nations national annual CO2 emissions, according to the Sydney Morning Herald. The smoke has covered glaciers in distant New Zealand (!) making them warm and melt faster because of the albedo effect. And yet. All of this still has not resulted in any political action. Because we still fail to make the connection between the climate crisis and increased extreme weather events and nature disasters like the #AustraliaFires... That has to change.... And it has to change now. My thoughts are with the people of Australia and those affected by these devastating fires.',\n",
       "       'Australia is on fire. And the summer there has only just begun. 2019 was a year of record heat and record drought. Today the temperature outside Sydney was 48,9 ° C,',\n",
       "       \"Emergency warnings are in place in Victoria and New South Wales, with scorching temperatures and unpredictable winds arriving, fanning hundreds of fires that continue to burn across large parts of Australia's east.\",\n",
       "       \"These haunting images illustrate the state of a country i've called home for as long as I can remember! Today bloodred skies loom over Australia in what is the most apocalyptic catastrophe this nation has faced! With temperatures soaring at 48 degrees C, the bush fires are raging and difficult to contain as they are far too big and are now creating their own weather patterns causing lightening strikes that start new fires,\",\n",
       "       'Australia is on fire. And the summer there has only just begun. 2019 was a year of record heat and record drought. Today the temperature outside Sydney was 48,9 ° C. 500 million (!!) animals are estimated dead because of the bushfires. Over 20 people have died and thousands of homes have burned to ground. The fires have spewed 2/3 of the nations national annual CO2 emissions, according to the The smoke has covered glaciers in distant New Zealand (!) making them warm and melt faster because of the albedo effect,',\n",
       "       \"These haunting images illustrate the state of a country i've called home for as long as I can remember! Today blood red skies loom over Australia in what is the most apocalyptic catastrophe this nation has faced! With temperatures soaring at 48 degrees C, the bush fires are raging and difficult to contain as they are far too big and are now creating their own weather patterns causing lightening strikes that start new fires...\",\n",
       "       'Australia is on fire. And the summer there has only just begun. 2019 was a year of record heat and record drought. Today the temperature outside Sydney was 48,9 ° C. 500 million (!!) animals are estimated dead because of the bushfires. Over 20 people have died and thousands of homes have burned to ground. The fires have spewed 2/3 of the nations national annual CO2 emissions, according to the Sydney Morning Herald. The smoke has covered glaciers in distant New Zealand (!) making them warm and melt faster because of the albedo effect. And yet. All of this still has not resulted in any political action. Because we still fail to make the connection between the climate crisis and increased extreme weather events and nature disasters like the #AustraliaFires. That has to change. And it has to change now. My thoughts are with the people of Australia and those affected by these devastating fires.',\n",
       "       'Climate change is increasing bushfire risk in Australia by lengthening the fire season, decreasing precipitation and increasing temperature.',\n",
       "       \"One of the key drivers of fire intensity, fire spread rates and fire area is temperature. And in Australia we've just experienced record high temperatures,\",\n",
       "       \"One of the key drivers of fire intensity, fire spread rates and fire area is temperature, and in Australia we've just experienced record-high temperatures,\",\n",
       "       \"The global mean temperature has risen by 1 degree centigrade since 1950, and in Australia it's actually risen a little faster than that. Maybe combine that higher temperature with an extended drought for Australia's experience, plus the high winds, that explains the devastating destruction of the fires,\",\n",
       "       'Australia is on fire. And the summer there has only just begun. 2019 was a year of record heat and record drought. Today the temperature outside Sydney was 48,9 ° C. 500 million (!!) animals are estimated dead because of the bushfires.',\n",
       "       'flawed reasoning misunderstands that fires are exacerbated by hot and dry conditions and Australia is currently facing a severe drought amidst increasing temperatures.',\n",
       "       'Australia has measurably warmed by more than a degree... The occurrence of fire is very, very sensitive to temperature,',\n",
       "       \"The fires could rage in Australia for a couple more months. But the greater fears must be longer term. Average temperatures in Australia are rising, with successive summers setting new records. Last year was the hottest and driest in the country's recorded history, with rainfall 40 per cent below average. Australians, who used to look forward to the summer, are beginning to dread it.\",\n",
       "       'As I speak, south east Australia is on fire. Why? Because the temperatures of the Earth are increasing.',\n",
       "       'As I speak, south east Australia is fire. Why? Because the temperatures of the Earth are increasing,',\n",
       "       'As I speak, south-east Australia is on fire. Why? Because the temperatures of the Earth are increasing,',\n",
       "       'We have been putting things off for year after year. As I speak, southeast Australia is on fire. Why? Because the temperatures of the Earth are increasing.'],\n",
       "      dtype=object)"
      ]
     },
     "execution_count": 2985,
     "metadata": {},
     "output_type": "execute_result"
    }
   ],
   "source": [
    "filtered_for_pos.quotation.values"
   ]
  },
  {
   "cell_type": "code",
   "execution_count": 2966,
   "id": "e9acfc96",
   "metadata": {
    "scrolled": true
   },
   "outputs": [
    {
     "data": {
      "text/plain": [
       "\"['https://mynorthwest.com/1695386/dori-climate-emergency/', 'https://mynorthwest.com/1695386/dori-climate-emergency/?show=comments#comments']\""
      ]
     },
     "execution_count": 2966,
     "metadata": {},
     "output_type": "execute_result"
    }
   ],
   "source": [
    "filtered_for_pos.loc[117902].urls"
   ]
  },
  {
   "cell_type": "code",
   "execution_count": null,
   "id": "1cec00c9",
   "metadata": {},
   "outputs": [],
   "source": []
  },
  {
   "cell_type": "code",
   "execution_count": null,
   "id": "7a36ee17",
   "metadata": {},
   "outputs": [],
   "source": []
  },
  {
   "cell_type": "code",
   "execution_count": null,
   "id": "154d624e",
   "metadata": {},
   "outputs": [],
   "source": []
  },
  {
   "cell_type": "code",
   "execution_count": 2916,
   "id": "d13ce159",
   "metadata": {},
   "outputs": [],
   "source": [
    "heat_tags_2020_neg = pd.DataFrame(\n",
    "    {'tags': [\n",
    "        r'\\b([tT]ongues?)\\b',\n",
    "        r'\\b([tT]urkey)\\b',\n",
    "        r'\\b([gG]ames?)\\b',\n",
    "        #r'\\b([bB]usiness(es)?)\\b',\n",
    "        r'\\b([pP]layers?)\\b',\n",
    "        r'\\b([sS]tudios?)\\b',\n",
    "        r'\\b([hH]elmets?)\\b',\n",
    "        #r'\\b([bB]ars?)\\b',\n",
    "        r'\\b(Arkansas)\\b',\n",
    "        #r'\\b(Obama)\\b',\n",
    "        r'\\b([vV]iolences?)\\b',\n",
    "        r'\\b([fF]all)\\b',\n",
    "        r'\\b(Chicago(ans?)?)\\b',\n",
    "        r'\\b([cC]redits?)\\b',\n",
    "        r'\\b([gG]angs?)\\b',\n",
    "        r'\\b([sS]ales?)\\b',\n",
    "        r'\\b([hH]ousing)\\b',\n",
    "        r'\\b([bB]lokes?)\\b',\n",
    "        r'\\b([sS]hadows?)\\b',\n",
    "        r'\\b([hH]oneys?)\\b',\n",
    "        r'\\b([tT]obacco)\\b',\n",
    "        r'\\b([lL]aps?)\\b',\n",
    "        #r'\\b([sS]now)\\b',\n",
    "        r'\\b([pP]aris ([cC]limate ([cC]hange )?)?[aA]greements?)\\b',\n",
    "        r'\\b([pP]aris (([gG]lobal )?[cC]limate )?[aA]ccords?)\\b',\n",
    "        r'\\b(Missouri)\\b',\n",
    "        r'\\b(wartime)\\b',\n",
    "        r'\\b([dD]inners?)\\b',\n",
    "        r'\\b([iI]ndustr(y|ies))\\b',\n",
    "        r'\\b(Boston)\\b',\n",
    "        r'\\b(EU)\\b',\n",
    "        r'\\b(Canada)\\b',\n",
    "        r'\\b(United States|U.?S.?)\\b',\n",
    "        r'\\b([bB]ananas?)\\b'\n",
    "        r'\\b([sS]treets?)\\b',\n",
    "        r'\\b([tT]ackles?)\\b',\n",
    "        r'\\b([qQ]uickly)\\b',\n",
    "        r'\\b([pP]reventable)\\b',\n",
    "        r'\\b([cC]andidates?)\\b',\n",
    "        r'\\b([mM]usic)\\b',\n",
    "        r'\\b([rR]omances?)\\b',\n",
    "        r'\\b([mM]arines?)\\b',\n",
    "        r'\\b([tT]urns? up)\\b',\n",
    "        r'\\b([pP]lay(ers?)?)\\b',\n",
    "        r'\\b(Pirelli)\\b',\n",
    "        r'\\b(Mercedes-Benz)\\b',\n",
    "        r'\\b([cC]lassrooms?)\\b',\n",
    "        r'\\b(New York(ers?)?)\\b',\n",
    "        r'\\b(([tT]wo|[oO]ne) degrees?)\\b',\n",
    "        r'\\b([mM]inus|[nN]egative)\\b',\n",
    "        r'\\b([sS]hops?)\\b',\n",
    "        r'\\b(MTA)\\b',\n",
    "        r'\\b(Europe)\\b',\n",
    "        r'\\b(London)\\b',\n",
    "        r'\\b(Paris)\\b',\n",
    "        r'\\b(Belgium)\\b',\n",
    "        r'\\b(France)\\b',\n",
    "        r'\\b(Germany)\\b',\n",
    "        r'\\b(Luxembourg)\\b',\n",
    "        r'\\b(Netherlands)\\b',\n",
    "        r'\\b(England)\\b',\n",
    "        r'\\b([mM][ée]t[ée]o [fF]rance)\\b',\n",
    "        r'\\b([gG]allargues-le-[mM]ontueux)\\b',\n",
    "        r'\\b([bB]erlin[- ][tT]empelhof)\\b',\n",
    "        r'\\b([bB]randenburg)\\b',\n",
    "\n",
    "        \n",
    "\n",
    "        r'\\b([rR]eactors?)\\b',\n",
    "        r'\\b([cC]lients?)\\b',\n",
    "        r'\\b([rR]ock)\\b',\n",
    "        r'\\b([bB]eers?)\\b',\n",
    "        r'\\b([lL]ovely)\\b',\n",
    "        r'\\b([aA]dministrations?)\\b',\n",
    "        r'\\b([pP]ets?)\\b',\n",
    "        r'\\b([jJ]ew(s|ish))\\b',\n",
    "        r'\\b([mM]edical(ly)?)\\b',\n",
    "        r'\\b([wW]arm[- ]?ups?)\\b',\n",
    "        r'\\b([hH]omeless(ness)?)\\b',\n",
    "        r'\\b(New[- ]?England)\\b',\n",
    "        r'\\b([dD]oors?)\\b',\n",
    "        r'\\b([bB]at(sm[ea]n)?)\\b',\n",
    "        r'\\b([hH]and warmers?)\\b',\n",
    "        r'\\b([fF]reezing)\\b',\n",
    "        r'\\b(Japan)\\b',\n",
    "        r'\\b((1|1\\.5|2|2\\.5) degrees?)\\b',\n",
    "        r'\\b(20(20|30|40))\\b',\n",
    "        r'\\b(Mars)\\b',\n",
    "        r'\\b([cC]oldest)\\b',\n",
    "        r'\\b([fF]rozen?)\\b',\n",
    "        r'\\b([hH]umid(ity)?)\\b',\n",
    "        r'\\b([vV]olcano(es?)?)\\b',\n",
    "        r'\\b(corridor)\\b',\n",
    "        r'\\b([cC]ores?)\\b',\n",
    "        r'\\b([lL]ow temperatures?)\\b',\n",
    "        r'\\b([iI]nternal)\\b',\n",
    "        r'\\b([iI]nsane)\\b',\n",
    "        r'\\b([aA]thletes?)\\b',\n",
    "\n",
    "        \n",
    "\n",
    "\n",
    "        r'\\b([rR]osters?)\\b',\n",
    "        r'\\b([sS]tud(y|ies))\\b',\n",
    "        r'\\b(America(ns?)?)\\b',\n",
    "        r'\\b([rR]ules?)\\b',\n",
    "        r'\\b([sS]ediments?)\\b',\n",
    "        r'\\b([sS]eriously)\\b',\n",
    "        r'\\b([tT]heor(y|etical))\\b',\n",
    "        r'\\b([eE]xperiment(s|al|ally)?)\\b',\n",
    "        r'\\b([hH]eat cramps?)\\b',\n",
    "        r'\\b([pP]izzas?)\\b',\n",
    "        r'\\b([rR]ails?)\\b',\n",
    "        r'\\b(NYPD)\\b',\n",
    "        r'\\b([dD]roughts?)\\b',\n",
    "\n",
    "    ]\n",
    "    }\n",
    ")"
   ]
  },
  {
   "cell_type": "code",
   "execution_count": 2917,
   "id": "89cc33cc",
   "metadata": {},
   "outputs": [],
   "source": [
    "tag_neg_list = heat_tags_2020_neg.tags.values.tolist()\n",
    "\n",
    "# Return regex pattern\n",
    "regex_pattern_neg = r'|'.join(tag_neg_list)"
   ]
  },
  {
   "cell_type": "code",
   "execution_count": 2918,
   "id": "73555a73",
   "metadata": {},
   "outputs": [
    {
     "name": "stderr",
     "output_type": "stream",
     "text": [
      "/Users/gil/EPFL/4 - Fourth Year/Semester 1/ADA/Project/ada-2021-project-data-alchemy/disaster_extr_helpers.py:17: UserWarning: This pattern has match groups. To actually get the groups, use str.extract.\n",
      "  mask = df[field].str.contains(regex)\n"
     ]
    }
   ],
   "source": [
    "filtered_for_pos_then_neg = extract_quotes(filtered_for_pos, regex_pattern_neg, complement=True)"
   ]
  },
  {
   "cell_type": "code",
   "execution_count": 2919,
   "id": "baa6283a",
   "metadata": {},
   "outputs": [
    {
     "data": {
      "text/plain": [
       "36612"
      ]
     },
     "execution_count": 2919,
     "metadata": {},
     "output_type": "execute_result"
    }
   ],
   "source": [
    "len(filtered_for_pos_then_neg)"
   ]
  },
  {
   "cell_type": "code",
   "execution_count": 2920,
   "id": "9c77cccd",
   "metadata": {},
   "outputs": [],
   "source": [
    "filtered_for_pos_then_neg = extract_quotes(\n",
    "    filtered_for_pos_then_neg, \n",
    "    r'-us-|-america-|united-states|kupwara|bihar|[iI]owa|us-news|moon|delhi|friend|houston|atlanta|arkansas|cars|america|football|mitch-petrus|new-jersey|artwork|clauson|chandrayaan|outback|manila|food|burger|boston|connecticut|cali|cleveland|woodstock|kspr|county|/us/|nyc|blackout|phil|syracuse', \n",
    "    field='urls', \n",
    "    complement=True)"
   ]
  },
  {
   "cell_type": "code",
   "execution_count": 2921,
   "id": "df2e51c3",
   "metadata": {},
   "outputs": [
    {
     "data": {
      "text/plain": [
       "31405"
      ]
     },
     "execution_count": 2921,
     "metadata": {},
     "output_type": "execute_result"
    }
   ],
   "source": [
    "len(filtered_for_pos_then_neg)"
   ]
  },
  {
   "cell_type": "code",
   "execution_count": 2851,
   "id": "e4079901",
   "metadata": {},
   "outputs": [
    {
     "data": {
      "text/html": [
       "<div>\n",
       "<style scoped>\n",
       "    .dataframe tbody tr th:only-of-type {\n",
       "        vertical-align: middle;\n",
       "    }\n",
       "\n",
       "    .dataframe tbody tr th {\n",
       "        vertical-align: top;\n",
       "    }\n",
       "\n",
       "    .dataframe thead th {\n",
       "        text-align: right;\n",
       "    }\n",
       "</style>\n",
       "<table border=\"1\" class=\"dataframe\">\n",
       "  <thead>\n",
       "    <tr style=\"text-align: right;\">\n",
       "      <th></th>\n",
       "      <th>quoteID</th>\n",
       "      <th>quotation</th>\n",
       "      <th>speaker</th>\n",
       "      <th>qids</th>\n",
       "      <th>date</th>\n",
       "      <th>numOccurrences</th>\n",
       "      <th>probas</th>\n",
       "      <th>urls</th>\n",
       "      <th>phase</th>\n",
       "    </tr>\n",
       "  </thead>\n",
       "  <tbody>\n",
       "    <tr>\n",
       "      <th>9332</th>\n",
       "      <td>2019-07-19-078320</td>\n",
       "      <td>widespread and dangerous heat wave</td>\n",
       "      <td>Neil Webb</td>\n",
       "      <td>['Q463295']</td>\n",
       "      <td>2019-07-19 00:00:00</td>\n",
       "      <td>1</td>\n",
       "      <td>[['Neil Webb', '0.5166'], ['None', '0.4834']]</td>\n",
       "      <td>['http://www.everydayhealth.com/heart-health/t...</td>\n",
       "      <td>E</td>\n",
       "    </tr>\n",
       "    <tr>\n",
       "      <th>3068</th>\n",
       "      <td>2019-07-19-023847</td>\n",
       "      <td>I sometimes think it's more important than the...</td>\n",
       "      <td>David Phillips</td>\n",
       "      <td>['Q11048992', 'Q16217546', 'Q194645', 'Q228291...</td>\n",
       "      <td>2019-07-19 00:15:30</td>\n",
       "      <td>1</td>\n",
       "      <td>[['David Phillips', '0.6148'], ['None', '0.385...</td>\n",
       "      <td>['https://windsorstar.com/news/local-news/heat...</td>\n",
       "      <td>E</td>\n",
       "    </tr>\n",
       "    <tr>\n",
       "      <th>673</th>\n",
       "      <td>2019-07-19-001526</td>\n",
       "      <td>A three-day heat wave in the most northerly pl...</td>\n",
       "      <td>Dave Phillips</td>\n",
       "      <td>['Q25190442', 'Q508561', 'Q5229572', 'Q5229573']</td>\n",
       "      <td>2019-07-19 08:00:58</td>\n",
       "      <td>2</td>\n",
       "      <td>[['Dave Phillips', '0.8347'], ['None', '0.1653']]</td>\n",
       "      <td>['http://cbc.ca/news/technology/how-a-heat-dom...</td>\n",
       "      <td>E</td>\n",
       "    </tr>\n",
       "    <tr>\n",
       "      <th>18019</th>\n",
       "      <td>2019-07-19-005316</td>\n",
       "      <td>As we head into next week we are expecting som...</td>\n",
       "      <td>Dan Harris</td>\n",
       "      <td>['Q16225310', 'Q18977889', 'Q2556156', 'Q52136...</td>\n",
       "      <td>2019-07-19 11:32:03</td>\n",
       "      <td>1</td>\n",
       "      <td>[['Dan Harris', '0.9684'], ['None', '0.0316']]</td>\n",
       "      <td>['http://www.entertainmentdaily.co.uk/news/wea...</td>\n",
       "      <td>E</td>\n",
       "    </tr>\n",
       "  </tbody>\n",
       "</table>\n",
       "</div>"
      ],
      "text/plain": [
       "                 quoteID                                          quotation  \\\n",
       "9332   2019-07-19-078320                 widespread and dangerous heat wave   \n",
       "3068   2019-07-19-023847  I sometimes think it's more important than the...   \n",
       "673    2019-07-19-001526  A three-day heat wave in the most northerly pl...   \n",
       "18019  2019-07-19-005316  As we head into next week we are expecting som...   \n",
       "\n",
       "              speaker                                               qids  \\\n",
       "9332        Neil Webb                                        ['Q463295']   \n",
       "3068   David Phillips  ['Q11048992', 'Q16217546', 'Q194645', 'Q228291...   \n",
       "673     Dave Phillips   ['Q25190442', 'Q508561', 'Q5229572', 'Q5229573']   \n",
       "18019      Dan Harris  ['Q16225310', 'Q18977889', 'Q2556156', 'Q52136...   \n",
       "\n",
       "                     date  numOccurrences  \\\n",
       "9332  2019-07-19 00:00:00               1   \n",
       "3068  2019-07-19 00:15:30               1   \n",
       "673   2019-07-19 08:00:58               2   \n",
       "18019 2019-07-19 11:32:03               1   \n",
       "\n",
       "                                                  probas  \\\n",
       "9332       [['Neil Webb', '0.5166'], ['None', '0.4834']]   \n",
       "3068   [['David Phillips', '0.6148'], ['None', '0.385...   \n",
       "673    [['Dave Phillips', '0.8347'], ['None', '0.1653']]   \n",
       "18019     [['Dan Harris', '0.9684'], ['None', '0.0316']]   \n",
       "\n",
       "                                                    urls phase  \n",
       "9332   ['http://www.everydayhealth.com/heart-health/t...     E  \n",
       "3068   ['https://windsorstar.com/news/local-news/heat...     E  \n",
       "673    ['http://cbc.ca/news/technology/how-a-heat-dom...     E  \n",
       "18019  ['http://www.entertainmentdaily.co.uk/news/wea...     E  "
      ]
     },
     "execution_count": 2851,
     "metadata": {},
     "output_type": "execute_result"
    }
   ],
   "source": [
    "filtered_for_pos_then_neg.head(4)"
   ]
  },
  {
   "cell_type": "code",
   "execution_count": 2847,
   "id": "62d68ab7",
   "metadata": {},
   "outputs": [
    {
     "name": "stderr",
     "output_type": "stream",
     "text": [
      "/Users/gil/EPFL/4 - Fourth Year/Semester 1/ADA/Project/ada-2021-project-data-alchemy/disaster_extr_helpers.py:17: UserWarning: This pattern has match groups. To actually get the groups, use str.extract.\n",
      "  mask = df[field].str.contains(regex)\n"
     ]
    },
    {
     "data": {
      "text/plain": [
       "array([\"['http://www.everydayhealth.com/heart-health/tips-on-staying-hydrated-heart-health/']\",\n",
       "       \"['https://windsorstar.com/news/local-news/heat-wave-poised-to-break-record-windsor-adds-night-swimming']\",\n",
       "       \"['http://cbc.ca/news/technology/how-a-heat-dome-happens-1.5216908', 'https://www.cbc.ca/news/technology/how-a-heat-dome-happens-1.5216908?cmp=rss']\",\n",
       "       \"['http://www.entertainmentdaily.co.uk/news/weather-storms-and-heavy-downpours-due-before-heatwave-sweeps-in/']\",\n",
       "       \"['http://news.sky.com/story/uk-weather-school-holiday-heatwave-34c-forecast-for-next-week-11766384', 'https://www.thesun.co.uk/news/9544246/uk-weather-storm-britain-rain-heatwave/', 'http://www.independent.co.uk/weather/uk-weather-forecast-met-office-heatwave-temperatures-sun-a9013391.html', 'http://www.dailystar.co.uk/news/latest-news/793057/britain-weather-weekend-rain-warning-met-office-heatwave', 'http://www.thisiswiltshire.co.uk/news/17784855.temperatures-will-hit-30c-next-week-swindon-swelters-europe-wide-heatwave/', 'https://www.standard.co.uk/news/uk/sweltering-34c-heatwave-set-to-hit-britain-as-school-holidays-begin-a4195006.html', 'http://www.gainsboroughstandard.co.uk/news/weather/heatwave-predicted-as-temperatures-set-to-reach-34c-but-how-long-will-it-last-1-9890159', 'https://www.buxtonadvertiser.co.uk/news/weather/heatwave-predicted-as-temperatures-set-to-reach-34c-but-how-long-will-it-last-1-9890159', 'https://www.chad.co.uk/news/weather/heatwave-predicted-as-temperatures-set-to-reach-34c-but-how-long-will-it-last-1-9890159', 'https://www.derbyshiretimes.co.uk/news/weather/heatwave-predicted-as-temperatures-set-to-reach-34c-but-how-long-will-it-last-1-9890159', 'https://www.hucknalldispatch.co.uk/news/weather/heatwave-predicted-as-temperatures-set-to-reach-34c-but-how-long-will-it-last-1-9890159', 'https://www.ilkestonadvertiser.co.uk/news/weather/heatwave-predicted-as-temperatures-set-to-reach-34c-but-how-long-will-it-last-1-9890159', 'https://www.retfordtoday.co.uk/news/weather/heatwave-predicted-as-temperatures-set-to-reach-34c-but-how-long-will-it-last-1-9890159', 'https://www.ripleyandheanornews.co.uk/news/weather/heatwave-predicted-as-temperatures-set-to-reach-34c-but-how-long-will-it-last-1-9890159', 'https://www.worksopguardian.co.uk/news/weather/heatwave-predicted-as-temperatures-set-to-reach-34c-but-how-long-will-it-last-1-9890159', 'https://www.haverhillecho.co.uk/news/haverhill-set-to-experience-a-heatwave-this-week-9077229/', 'https://www.suffolkfreepress.co.uk/news/heatwave-hits-sudbury-as-temperatures-expected-to-peak-at-33c-9077337/']\",\n",
       "       \"['http://www.msn.com/en-us/weather/topstories/world-just-experienced-hottest-june-in-140-years-of-recordkeeping/ar-AAEznqq?srcref=rss', 'https://www.upi.com/Top_News/World-News/2019/07/19/Last-month-was-hottest-June-on-record-scientists-say/1551563559009/?ts_=7']\",\n",
       "       \"['http://www.channel3000.com/news/gov-evers-declares-state-of-emergency-authorizes-national-guard-help-following-downtown-fires/1097278675', 'https://www.wcbi.com/wisconsin-governor-declares-state-of-emergency-after-electrical-fires/', 'https://www.cbsnews.com/media/massive-heat-wave-hot-weather-warnings-forecast-extreme-heat-advisory-live-updates-2019-07-19/']\",\n",
       "       \"['https://www.masslive.com/worcester/2019/07/worcesters-brew-on-the-grid-is-giving-away-100-cold-brew-coffees-for-every-day-temperatures-hit-100-degrees-in-the-city.html']\",\n",
       "       \"['https://www.centralmaine.com/2019/07/19/central-maine-looks-for-ways-to-stay-cool-amid-high-tempaeratures/']\",\n",
       "       \"['https://footwearnews.com/2019/business/retail/extreme-heat-wave-shopping-trends-1202805736/']\",\n",
       "       \"['https://www.mirror.co.uk/news/uk-news/motorway-hell-90-minute-jams-18367517']\",\n",
       "       \"['https://lfpress.com/news/local-news/expect-temperature-in-flux-as-rainstorms-mix-with-heat-wave']\",\n",
       "       \"['http://www.msn.com/en-us/weather/topstories/understanding-accuweather-realfeel-r-temperature-will-make-a-significant-difference-for-vulnerable-populations-pets-this-weekend/ar-AAEAo96?srcref=rss']\",\n",
       "       \"['http://www.dorsetecho.co.uk/news/17783120.heatwave-set-hit-dorset-next-week-rain-wind-store-first/']\",\n",
       "       \"['https://www.belfasttelegraph.co.uk/news/uk/britain-could-be-set-for-heatwave-as-school-holidays-begin-38329815.html', 'https://www.pressandjournal.co.uk/news/uk/1800843/britain-could-be-set-for-heatwave-as-school-holidays-begin/', 'http://bicesteradvertiser.net/news/national/17783800.britain-set-heatwave-school-holidays-begin/', 'http://heraldseries.co.uk/news/national/17783800.britain-set-heatwave-school-holidays-begin/', 'http://prestwichandwhitefieldguide.co.uk/news/national/17783800.britain-set-heatwave-school-holidays-begin/', 'http://southwalesguardian.co.uk/news/national/17783800.britain-set-heatwave-school-holidays-begin/', 'http://wiltshirebusinessonline.co.uk/news/national/17783800.britain-set-heatwave-school-holidays-begin/', 'http://www.barryanddistrictnews.co.uk/news/national/17783800.britain-set-heatwave-school-holidays-begin/', 'http://www.bournemouthecho.co.uk/news/national/17783800.britain-set-heatwave-school-holidays-begin/', 'http://www.campaignseries.co.uk/news/national/17783800.britain-set-heatwave-school-holidays-begin/', 'http://www.chardandilminsternews.co.uk/news/national/17783800.britain-set-heatwave-school-holidays-begin/', 'http://www.dorsetecho.co.uk/news/national/17783800.britain-set-heatwave-school-holidays-begin/', 'http://www.eveningtimes.co.uk/news/17783800.britain-set-heatwave-school-holidays-begin/', 'http://www.freepressseries.co.uk/news/national/17783800.britain-set-heatwave-school-holidays-begin/', 'http://www.gazette-news.co.uk/news/national/17783800.britain-set-heatwave-school-holidays-begin/', 'http://www.gazetteandherald.co.uk/news/national/17783800.britain-set-heatwave-school-holidays-begin/', 'http://www.halsteadgazette.co.uk/news/national/17783800.britain-set-heatwave-school-holidays-begin/', 'http://www.ledburyreporter.co.uk/news/national/17783800.britain-set-heatwave-school-holidays-begin/#comments-anchor', 'http://www.leighjournal.co.uk/news/national/17783800.britain-set-heatwave-school-holidays-begin/', 'http://www.milfordmercury.co.uk/news/national/17783800.britain-set-heatwave-school-holidays-begin/', 'http://www.oxfordtimes.co.uk/news/national/17783800.britain-set-heatwave-school-holidays-begin/', 'http://www.rhyljournal.co.uk/news/national/17783800.britain-set-heatwave-school-holidays-begin/', 'http://www.richmondandtwickenhamtimes.co.uk/news/national/17783800.britain-set-heatwave-school-holidays-begin/', 'http://www.surreycomet.co.uk/news/national/17783800.britain-set-heatwave-school-holidays-begin/', 'http://www.swindonadvertiser.co.uk/news/national/17783800.britain-set-heatwave-school-holidays-begin/', 'http://www.thetelegraphandargus.co.uk/news/national/17783800.britain-set-heatwave-school-holidays-begin/', 'http://www.westerntelegraph.co.uk/news/national/17783800.britain-set-heatwave-school-holidays-begin/', 'http://www.winsfordguardian.co.uk/news/national/17783800.britain-set-heatwave-school-holidays-begin/', 'http://www.witneygazette.co.uk/news/national/17783800.britain-set-heatwave-school-holidays-begin/', 'https://www.chroniclelive.co.uk/news/north-east-news/heatwave-hottest-day-year-forecast-16619297', 'http://www.rochdaleonline.co.uk/news-features/2/news-headlines/129248/hot-spell-to-follow-rain', 'https://www.getsurrey.co.uk/news/surrey-news/heatwave-likely-hit-surrey-temperatures-16621474', 'https://www.buryfreepress.co.uk/news/heatwave-heres-how-high-temperatures-will-reach-in-bury-st-edmunds-this-week-9077218/', 'http://basildonrecorder.co.uk/news/17785852.essex-set-four-days-hot-weather-starting-today/', 'http://brentwoodweeklynews.co.uk/news/17785852.essex-set-four-days-hot-weather-starting-today/', 'http://www.chelmsfordweeklynews.co.uk/news/17785852.essex-set-four-days-hot-weather-starting-today/', 'http://www.clactonandfrintongazette.co.uk/news/17785852.essex-set-four-days-hot-weather-starting-today/', 'http://www.southendstandard.co.uk/news/17785852.essex-set-four-days-hot-weather-starting-today/']\",\n",
       "       \"['http://feeds.manchestereveningnews.co.uk/~r/menews/~3/2shN08p0wxQ/manchester-weather-forecast-first-tornado-16618652', 'https://www.manchestereveningnews.co.uk/news/greater-manchester-news/manchester-weather-forecast-first-tornado-16618652']\",\n",
       "       \"['https://wbsm.com/eversource-offers-energy-saving-tips-to-stay-cool-cost-effective/']\",\n",
       "       \"['https://www.upi.com/Top_News/US/2019/07/20/Severe-storms-cut-power-to-365000-amid-sweltering-heat/8771563635741/?lh=7']\",\n",
       "       \"['https://krtv.com/cnn-regional/2019/07/20/most-extreme-heat-wave-of-the-year-has-begun/']\",\n",
       "       \"['http://www.asianage.com/life/more-features/210719/mission-on-wheels.html']\",\n",
       "       \"['http://wral.com/rain-cooler-weather-on-the-way-for-tuesday/18523036/', 'https://www.wral.com/80-degrees-ahhhh-relief-from-heat-coming-this-week/18523036/', 'https://www.wral.com/raleigh-marks-hottest-day-of-the-year-as-sweltering-heat-bakes-central-nc/18523036/']\",\n",
       "       \"['https://www.inquisitr.com/5542629/padma-lakshmi-goes-braless-under-a-tight-top/']\",\n",
       "       \"['https://www.theguardian.com/world/2019/jul/22/monday-briefing-iran-tanker-crisis-deepens']\",\n",
       "       \"['https://www.chroniclelive.co.uk/news/north-east-news/heatwave-thunderstorm-weather-summer-holidays-16624058', 'https://www.chroniclelive.co.uk/news/north-east-news/north-east-news-live-updates-16623018']\",\n",
       "       \"['https://www.carbonbrief.org/daily-brief/europe-heatwave-paris-forecast-to-set-all-time-high-temperature-record']\",\n",
       "       \"['https://www.pressandjournal.co.uk/news/uk/1803110/call-to-name-heatwaves-like-storms-to-convey-danger-of-high-temperatures/', 'http://bridportnews.co.uk/news/national/17789124.call-name-heatwaves-like-storms-convey-danger-high-temperatures/', 'http://heraldseries.co.uk/news/national/17789124.call-name-heatwaves-like-storms-convey-danger-high-temperatures/', 'http://hillingdontimes.co.uk/news/national/17789124.call-name-heatwaves-like-storms-convey-danger-high-temperatures/', 'http://iwcp.co.uk/news/national/17789124.call-name-heatwaves-like-storms-convey-danger-high-temperatures/', 'http://www.carrickherald.com/news/17789124.call-name-heatwaves-like-storms-convey-danger-high-temperatures/', 'http://www.chelmsfordweeklynews.co.uk/news/national/17789124.call-name-heatwaves-like-storms-convey-danger-high-temperatures/', 'http://www.clactonandfrintongazette.co.uk/news/national/17789124.call-name-heatwaves-like-storms-convey-danger-high-temperatures/', 'http://www.eveshamjournal.co.uk/news/national/17789124.call-name-heatwaves-like-storms-convey-danger-high-temperatures/', 'http://www.freepressseries.co.uk/news/national/17789124.call-name-heatwaves-like-storms-convey-danger-high-temperatures/', 'http://www.gazette-news.co.uk/news/national/17789124.call-name-heatwaves-like-storms-convey-danger-high-temperatures/', 'http://www.guardian-series.co.uk/news/national/17789124.call-name-heatwaves-like-storms-convey-danger-high-temperatures/', 'http://www.halesowennews.co.uk/news/national/17789124.call-name-heatwaves-like-storms-convey-danger-high-temperatures/', 'http://www.knutsfordguardian.co.uk/news/national/17789124.call-name-heatwaves-like-storms-convey-danger-high-temperatures/', 'http://www.malverngazette.co.uk/news/national/17789124.call-name-heatwaves-like-storms-convey-danger-high-temperatures/', 'http://www.southendstandard.co.uk/news/national/17789124.call-name-heatwaves-like-storms-convey-danger-high-temperatures/', 'http://www.thewestmorlandgazette.co.uk/news/national/17789124.call-name-heatwaves-like-storms-convey-danger-high-temperatures/', 'http://www.watfordobserver.co.uk/news/national/17789124.call-name-heatwaves-like-storms-convey-danger-high-temperatures/', 'https://www.thesun.co.uk/news/9600378/uk-heatwaves-death-toll-hundreds-record/']\",\n",
       "       \"['https://www.thejournal.ie/climate-change-birds-impact-4736352-Jul2019/', 'https://www.imt.ie/news/five-year-plan-climate-change-health-sector-24-07-2019/']\",\n",
       "       \"['https://www.standard.co.uk/lifestyle/uk-heatwave-weather-too-hot-to-work-a4196636.html']\",\n",
       "       \"['https://www.nbcnews.com/mach/science/july-track-become-earth-s-hottest-month-record-climate-scientists-ncna1032846?cid=public-rss_20190723', 'https://www.nbcnews.com/mach/science/july-track-become-earth-s-hottest-month-record-climate-scientists-ncna1032846?cid=public-rss_20190729', 'https://www.nbcnews.com/mach/science/july-track-become-earth-s-hottest-month-record-climate-scientists-ncna1032846?cid=public-rss_20190730', 'https://www.nbcnews.com/mach/science/july-track-become-earth-s-hottest-month-record-climate-scientists-ncna1032846?cid=public-rss_20190802', 'https://www.nbcnews.com/mach/science/july-track-become-earth-s-hottest-month-record-climate-scientists-ncna1032846?cid=public-rss_20190804', 'https://www.nbcnews.com/mach/science/july-track-become-earth-s-hottest-month-record-climate-scientists-ncna1032846?cid=public-rss_20190806', 'https://www.nbcnews.com/mach/science/july-track-become-earth-s-hottest-month-record-climate-scientists-ncna1032846?cid=public-rss_20190807', 'http://law.wisc.edu/newsletter/article.php?iArticleID=7507', 'https://news.wisc.edu/notable-and-quotable-media-mentions-of-2019/']\",\n",
       "       \"['https://www.carbonbrief.org/daily-brief/europe-heatwave-french-city-of-bordeaux-hits-record-temperature']\",\n",
       "       \"['https://www.carbonbrief.org/daily-brief/europe-heatwave-french-city-of-bordeaux-hits-record-temperature']\",\n",
       "       \"['https://www.carbonbrief.org/daily-brief/europe-heatwave-french-city-of-bordeaux-hits-record-temperature']\",\n",
       "       \"['https://inews.co.uk/news/environment/uk-weather-heatwaves-names-storms-temperatures-danger-deaths-take-seriously/']\",\n",
       "       \"['https://inews.co.uk/news/environment/uk-weather-heatwaves-names-storms-temperatures-danger-deaths-take-seriously/', 'https://www.theregister.co.uk/2019/07/24/its_hot/']\",\n",
       "       \"['https://www.joe.ie/fitness-health/heatwave-warning-issued-for-people-with-asthma-676220']\",\n",
       "       \"['https://www.somersetlive.co.uk/news/somerset-news/railway-lines-buckling-heatwave-weather-3129317']\",\n",
       "       \"['http://www.spokesman.com/stories/2019/jul/24/new-heat-wave-in-europe-starts-to-breaks-records/', 'http://www.tribtown.com/2019/07/24/eu-europe-heat-wave/', 'http://newsok.com/article/feed/9937144/europe-braces-for-record-breaking-heat-wave', 'http://wboc.com/story/40830284/europe-braces-for-another-record-breaking-heat-wave', 'https://www.riverbender.com/rotatorclick.cfm?link=topnews/details.cfm?id=273158', 'https://www.cp24.com/world/europe-braces-for-another-record-breaking-heat-wave-1.4521513', 'https://phys.org/news/2019-07-europe.html', 'http://greenwichtime.com/news/article/Europe-braces-for-record-breaking-heat-wave-14119125.php', 'http://newsok.com/europe-heat-wave-breaks-belgian-record-mercury-to-rise-more/article/feed/9937144?custom_click=rss', 'http://wboc.com/story/40830284/europe-heat-wave-breaks-belgian-record-mercury-to-rise-more', 'http://www.ivpressonline.com/news/world/europe-heat-wave-breaks-records-mercury-set-to-go-higher/article_827a2756-5817-5fbb-8309-03ef874c01b6.html', 'https://newsinfo.inquirer.net/1146072/europe-heat-wave-breaks-records-mercury-set-to-go-higher', 'http://daily-chronicle.com/2019/07/24/europe-heat-wave-breaks-records/atg167l/', 'http://www.theherald-news.com/2019/07/24/europe-heat-wave-breaks-records/atg167l/', 'http://travelagentcentral.com/destinations/europe-heat-wave-breaks-belgian-record-mercury-to-rise-more', 'http://wboc.com/story/40830284/europe-heat-wave-breaks-records-mercury-set-to-go-higher']\",\n",
       "       \"['http://rss.cnn.com/~r/rss/cnn_topstories/~3/DdnqsO_RonU/index.html', 'https://kbzk.com/cnn-europe-mideast-africa/2019/07/24/europe-sweats-as-another-record-breaking-heat-wave-rolls-in/', 'https://kpax.com/cnn-europe-mideast-africa/2019/07/24/europe-sweats-as-another-record-breaking-heat-wave-rolls-in/', 'https://kxlf.com/cnn-europe-mideast-africa/2019/07/24/europe-sweats-as-another-record-breaking-heat-wave-rolls-in/', 'http://krdo.com/weather/europe-sweats-as-another-recordbreaking-heat-wave-rolls-in/1099285897', 'http://koamtv.com/weather/europe-sweats-as-another-recordbreaking-heat-wave-rolls-in/1099289297', 'http://www.channel3000.com/weather/europe-sweats-as-another-recordbreaking-heat-wave-rolls-in/1099289351', 'http://koamtv.com/web/koam/weather/europe-sweats-as-another-recordbreaking-heat-wave-rolls-in/1099289297', 'http://rss.cnn.com/~r/rss/cnn_topstories/~3/wRf4X9iQRe8/index.html', 'http://rss.cnn.com/~r/rss/cnn_topstories/~3/W_Y7knmWjYg/h_c289bf0a04133034cfd04894af992005', 'http://ctpost.com/news/article/Europe-sweats-as-another-record-breaking-heat-14131219.php', 'http://newstimes.com/news/article/Europe-sweats-as-another-record-breaking-heat-14131219.php', 'http://www.thehour.com/news/article/Europe-sweats-as-another-record-breaking-heat-14131219.php']\",\n",
       "       \"['http://rss.cnn.com/~r/rss/cnn_topstories/~3/DdnqsO_RonU/index.html', 'https://kbzk.com/cnn-europe-mideast-africa/2019/07/24/europe-sweats-as-another-record-breaking-heat-wave-rolls-in/', 'https://kpax.com/cnn-europe-mideast-africa/2019/07/24/europe-sweats-as-another-record-breaking-heat-wave-rolls-in/', 'https://kxlf.com/cnn-europe-mideast-africa/2019/07/24/europe-sweats-as-another-record-breaking-heat-wave-rolls-in/', 'http://krdo.com/weather/europe-sweats-as-another-recordbreaking-heat-wave-rolls-in/1099285897', 'http://koamtv.com/weather/europe-sweats-as-another-recordbreaking-heat-wave-rolls-in/1099289297', 'http://www.channel3000.com/weather/europe-sweats-as-another-recordbreaking-heat-wave-rolls-in/1099289351', 'http://koamtv.com/web/koam/weather/europe-sweats-as-another-recordbreaking-heat-wave-rolls-in/1099289297', 'http://rss.cnn.com/~r/rss/cnn_topstories/~3/wRf4X9iQRe8/index.html', 'http://ctpost.com/news/article/Europe-sweats-as-another-record-breaking-heat-14131219.php', 'http://newstimes.com/news/article/Europe-sweats-as-another-record-breaking-heat-14131219.php', 'http://www.thehour.com/news/article/Europe-sweats-as-another-record-breaking-heat-14131219.php']\",\n",
       "       \"['http://rss.cnn.com/~r/rss/cnn_topstories/~3/DdnqsO_RonU/index.html', 'https://kbzk.com/cnn-europe-mideast-africa/2019/07/24/europe-sweats-as-another-record-breaking-heat-wave-rolls-in/', 'https://kpax.com/cnn-europe-mideast-africa/2019/07/24/europe-sweats-as-another-record-breaking-heat-wave-rolls-in/', 'https://kxlf.com/cnn-europe-mideast-africa/2019/07/24/europe-sweats-as-another-record-breaking-heat-wave-rolls-in/', 'http://krdo.com/weather/europe-sweats-as-another-recordbreaking-heat-wave-rolls-in/1099285897', 'http://koamtv.com/weather/europe-sweats-as-another-recordbreaking-heat-wave-rolls-in/1099289297', 'http://www.channel3000.com/weather/europe-sweats-as-another-recordbreaking-heat-wave-rolls-in/1099289351', 'http://koamtv.com/web/koam/weather/europe-sweats-as-another-recordbreaking-heat-wave-rolls-in/1099289297', 'http://rss.cnn.com/~r/rss/cnn_topstories/~3/wRf4X9iQRe8/index.html', 'http://ctpost.com/news/article/Europe-sweats-as-another-record-breaking-heat-14131219.php', 'http://newstimes.com/news/article/Europe-sweats-as-another-record-breaking-heat-14131219.php', 'http://www.thehour.com/news/article/Europe-sweats-as-another-record-breaking-heat-14131219.php']\",\n",
       "       \"['https://www.wakefieldexpress.co.uk/news/highways-england-issues-driver-advice-for-heatwave-as-temperatures-set-to-hit-35-c-in-wakefield-1-9896258', 'http://www.rochdaleonline.co.uk/news-features/2/news-headlines/129333/highways-england-issues-driver-advice-for-expected-heatwave']\",\n",
       "       \"['http://www.mediamatters.org/blog/2019/07/24/CBS-did-a-good-job-of-connecting-climate-change-to-the-recent-heat-wave-Other-TV-outlets-a/224316']\",\n",
       "       \"['https://www.irishtimes.com/news/environment/ireland-must-prepare-to-deal-with-extreme-heatwaves-warns-climate-council-1.3966042', 'https://www.irishtimes.com/news/environment/ireland-must-prepare-to-deal-with-extreme-heatwaves-warns-climate-council-1.3966042?localLinksEnabled=false']\",\n",
       "       \"['http://www.irishnews.com/magazine/science/2019/07/24/news/recent-global-warming-unprecedented-in-past-2-000-years-study-1670262/', 'http://www.breakingnews.ie/world/recent-global-warming-unprecedented-in-past-2000-years-study-939204.html', 'https://www.irishexaminer.com/breakingnews/world/recent-global-warming-unprecedented-in-past-2000-years-study-939204.html', 'http://bicesteradvertiser.net/news/national/17792536.recent-global-warming-unprecedented-past-2-000-years-study/', 'http://heraldseries.co.uk/news/national/17792536.recent-global-warming-unprecedented-past-2-000-years-study/', 'http://www.barryanddistrictnews.co.uk/news/national/17792536.recent-global-warming-unprecedented-past-2-000-years-study/', 'http://www.bournemouthecho.co.uk/news/national/17792536.recent-global-warming-unprecedented-past-2-000-years-study/', 'http://www.campaignseries.co.uk/news/national/17792536.recent-global-warming-unprecedented-past-2-000-years-study/', 'http://www.chardandilminsternews.co.uk/news/national/17792536.recent-global-warming-unprecedented-past-2-000-years-study/', 'http://www.dorsetecho.co.uk/news/national/17792536.recent-global-warming-unprecedented-past-2-000-years-study/', 'http://www.droitwichadvertiser.co.uk/news/national/17792536.recent-global-warming-unprecedented-past-2-000-years-study/', 'http://www.eveshamjournal.co.uk/news/national/17792536.recent-global-warming-unprecedented-past-2-000-years-study/', 'http://www.gazette-news.co.uk/news/national/17792536.recent-global-warming-unprecedented-past-2-000-years-study/', 'http://www.guardian-series.co.uk/news/national/17792536.recent-global-warming-unprecedented-past-2-000-years-study/', 'http://www.leighjournal.co.uk/news/national/17792536.recent-global-warming-unprecedented-past-2-000-years-study/', 'http://www.malverngazette.co.uk/news/national/17792536.recent-global-warming-unprecedented-past-2-000-years-study/', 'http://www.middevonstar.co.uk/news/national/17792536.recent-global-warming-unprecedented-past-2-000-years-study/', 'http://www.newsnorthwales.co.uk/news/national/17792536.recent-global-warming-unprecedented-past-2-000-years-study/', 'http://www.northwaleschronicle.co.uk/news/national/17792536.recent-global-warming-unprecedented-past-2-000-years-study/', 'http://www.penarthtimes.co.uk/news/national/17792536.recent-global-warming-unprecedented-past-2-000-years-study/', 'http://www.richmondandtwickenhamtimes.co.uk/news/national/17792536.recent-global-warming-unprecedented-past-2-000-years-study/', 'http://www.southendstandard.co.uk/news/national/17792536.recent-global-warming-unprecedented-past-2-000-years-study/', 'http://www.southwalesargus.co.uk/news/national/17792536.recent-global-warming-unprecedented-past-2-000-years-study/', 'http://www.sthelensstar.co.uk/news/national/17792536.recent-global-warming-unprecedented-past-2-000-years-study/', 'http://www.stroudnewsandjournal.co.uk/news/national/17792536.recent-global-warming-unprecedented-past-2-000-years-study/', 'http://www.surreycomet.co.uk/news/national/17792536.recent-global-warming-unprecedented-past-2-000-years-study/', 'http://www.thewestmorlandgazette.co.uk/news/national/17792536.recent-global-warming-unprecedented-past-2-000-years-study/', 'http://www.thisislocallondon.co.uk/news/national/17792536.recent-global-warming-unprecedented-past-2-000-years-study/', 'http://www.westerntelegraph.co.uk/news/national/17792536.recent-global-warming-unprecedented-past-2-000-years-study/', 'http://www.windsorobserver.co.uk/news/17792536.recent-global-warming-unprecedented-past-2-000-years-study/', 'http://www.yeovilexpress.co.uk/news/national/17792536.recent-global-warming-unprecedented-past-2-000-years-study/', 'http://www.yourlocalguardian.co.uk/news/national/17792536.recent-global-warming-unprecedented-past-2-000-years-study/']\",\n",
       "       \"['https://www.pressandjournal.co.uk/news/uk/1804254/uk-temperatures-could-soar-to-new-highs-as-climate-change-fuels-heatwaves/', 'http://romseyadvertiser.co.uk/news/national/17792553.uk-temperatures-soar-new-highs-climate-change-fuels-heatwaves/', 'http://www.barryanddistrictnews.co.uk/news/national/17792553.uk-temperatures-soar-new-highs-climate-change-fuels-heatwaves/', 'http://www.campaignseries.co.uk/news/national/17792553.uk-temperatures-soar-new-highs-climate-change-fuels-heatwaves/', 'http://www.eveshamjournal.co.uk/news/national/17792553.uk-temperatures-soar-new-highs-climate-change-fuels-heatwaves/', 'http://www.gazette-news.co.uk/news/national/17792553.uk-temperatures-soar-new-highs-climate-change-fuels-heatwaves/', 'http://www.penarthtimes.co.uk/news/national/17792553.uk-temperatures-soar-new-highs-climate-change-fuels-heatwaves/', 'http://www.sthelensstar.co.uk/news/national/17792553.uk-temperatures-soar-new-highs-climate-change-fuels-heatwaves/', 'http://www.thewestmorlandgazette.co.uk/news/national/17792553.uk-temperatures-soar-new-highs-climate-change-fuels-heatwaves/', 'http://kidderminstershuttle.co.uk/news/national/17792553.uk-temperatures-soar-new-highs-climate-change-fuels-heatwaves/', 'http://www.bromsgroveadvertiser.co.uk/news/national/17792553.uk-temperatures-soar-new-highs-climate-change-fuels-heatwaves/', 'http://www.freepressseries.co.uk/news/national/17792553.uk-temperatures-soar-new-highs-climate-change-fuels-heatwaves/', 'http://www.lancashiretelegraph.co.uk/news/national/17792553.uk-temperatures-soar-new-highs-climate-change-fuels-heatwaves/', 'http://www.maldonandburnhamstandard.co.uk/news/national/17792553.uk-temperatures-soar-new-highs-climate-change-fuels-heatwaves/', 'http://www.milfordmercury.co.uk/news/national/17792553.uk-temperatures-soar-new-highs-climate-change-fuels-heatwaves/', 'http://www.southwalesargus.co.uk/news/national/17792553.uk-temperatures-soar-new-highs-climate-change-fuels-heatwaves/', 'http://www.wandsworthguardian.co.uk/news/national/17792553.uk-temperatures-soar-new-highs-climate-change-fuels-heatwaves/', 'http://www.westerntelegraph.co.uk/news/national/17792553.uk-temperatures-soar-new-highs-climate-change-fuels-heatwaves/', 'http://www.wimbledonguardian.co.uk/news/national/17792553.uk-temperatures-soar-new-highs-climate-change-fuels-heatwaves/', 'http://www.wirralglobe.co.uk/news/national/17792553.uk-temperatures-soar-new-highs-climate-change-fuels-heatwaves/', 'http://www.worcesternews.co.uk/news/national/17792553.uk-temperatures-soar-new-highs-climate-change-fuels-heatwaves/', 'https://www.scotsman.com/news/transport/public-urged-not-to-travel-on-thursday-owing-to-record-breaking-forecast-temperatures-1-4970828', 'https://www.standard.co.uk/news/uk/uk-heatwave-brits-set-for-record-40c-heat-as-second-swimmers-body-found-in-thames-a4197706.html', 'https://www.9news.com.au/world/weather-news-uk-recorded-its-highest-ever-temperature-38-point-7-degrees-celsius/3c489e50-4ce7-4581-b469-eae8f8b65689', 'http://ardrossanherald.com/news/17802421.new-temperature-record-set-uk-heatwave-met-office-confirms/', 'http://bracknellnews.co.uk/news/national/17802421.new-temperature-record-set-uk-heatwave-met-office-confirms/', 'http://www.newsshopper.co.uk/news/national/17802421.new-temperature-record-set-uk-heatwave-met-office-confirms/', 'http://www.thenorthernecho.co.uk/news/national/17802421.new-temperature-record-set-uk-heatwave-met-office-confirms/', 'http://www.thetelegraphandargus.co.uk/news/national/17802421.new-temperature-record-set-uk-heatwave-met-office-confirms/', 'http://www.windsorobserver.co.uk/news/17802421.new-temperature-record-set-uk-heatwave-met-office-confirms/', 'http://harrowtimes.co.uk/news/national/17802421.new-temperature-record-set-uk-heatwave-met-office-confirms/', 'http://www.asianimage.co.uk/news/17802421.new-temperature-record-set-uk-heatwave-met-office-confirms/', 'http://www.bromsgroveadvertiser.co.uk/news/national/17802421.new-temperature-record-set-uk-heatwave-met-office-confirms/', 'http://www.clactonandfrintongazette.co.uk/news/national/17802421.new-temperature-record-set-uk-heatwave-met-office-confirms/', 'http://www.dailyecho.co.uk/news/national/17802421.new-temperature-record-set-uk-heatwave-met-office-confirms/', 'http://www.enfieldindependent.co.uk/news/national/17802421.new-temperature-record-set-uk-heatwave-met-office-confirms/', 'http://www.hampshirechronicle.co.uk/news/national/17802421.new-temperature-record-set-uk-heatwave-met-office-confirms/', 'http://www.knutsfordguardian.co.uk/news/national/17802421.new-temperature-record-set-uk-heatwave-met-office-confirms/', 'http://www.ledburyreporter.co.uk/news/national/17802421.new-temperature-record-set-uk-heatwave-met-office-confirms/', 'http://www.maldonandburnhamstandard.co.uk/news/national/17802421.new-temperature-record-set-uk-heatwave-met-office-confirms/', 'http://www.milfordmercury.co.uk/news/national/17802421.new-temperature-record-set-uk-heatwave-met-office-confirms/', 'http://www.penarthtimes.co.uk/news/national/17802421.new-temperature-record-set-uk-heatwave-met-office-confirms/', 'http://www.rhyljournal.co.uk/news/national/17802421.new-temperature-record-set-uk-heatwave-met-office-confirms/', 'http://www.richmondandtwickenhamtimes.co.uk/news/national/17802421.new-temperature-record-set-uk-heatwave-met-office-confirms/', 'http://www.sloughobserver.co.uk/news/17802421.new-temperature-record-set-uk-heatwave-met-office-confirms/', 'http://www.southwalesargus.co.uk/news/national/17802421.new-temperature-record-set-uk-heatwave-met-office-confirms/', 'http://www.sthelensstar.co.uk/news/national/17802421.new-temperature-record-set-uk-heatwave-met-office-confirms/', 'http://www.thisislocallondon.co.uk/news/national/17802421.new-temperature-record-set-uk-heatwave-met-office-confirms/', 'http://www.wiltsglosstandard.co.uk/news/national/17802421.new-temperature-record-set-uk-heatwave-met-office-confirms/', 'http://www.wiltshiretimes.co.uk/news/national/17802421.new-temperature-record-set-uk-heatwave-met-office-confirms/', 'http://www.wimbledonguardian.co.uk/news/national/17802421.new-temperature-record-set-uk-heatwave-met-office-confirms/', 'http://www.yourlocalguardian.co.uk/news/national/17802421.new-temperature-record-set-uk-heatwave-met-office-confirms/', 'http://www.shropshirestar.com/news/uk-news/2019/07/29/new-temperature-record-set-for-uk-in-heatwave-met-office-confirms/', 'http://basildonrecorder.co.uk/news/national/17802421.new-temperature-record-set-uk-heatwave-met-office-confirms/', 'http://www.lbc.co.uk/news/uk/uk-weather-warning-britain-braces-for-more-th/']\",\n",
       "       \"['https://www.pressandjournal.co.uk/news/uk/1804254/uk-temperatures-could-soar-to-new-highs-as-climate-change-fuels-heatwaves/', 'http://romseyadvertiser.co.uk/news/national/17792553.uk-temperatures-soar-new-highs-climate-change-fuels-heatwaves/', 'http://www.barryanddistrictnews.co.uk/news/national/17792553.uk-temperatures-soar-new-highs-climate-change-fuels-heatwaves/', 'http://www.campaignseries.co.uk/news/national/17792553.uk-temperatures-soar-new-highs-climate-change-fuels-heatwaves/', 'http://www.eveshamjournal.co.uk/news/national/17792553.uk-temperatures-soar-new-highs-climate-change-fuels-heatwaves/', 'http://www.gazette-news.co.uk/news/national/17792553.uk-temperatures-soar-new-highs-climate-change-fuels-heatwaves/', 'http://www.penarthtimes.co.uk/news/national/17792553.uk-temperatures-soar-new-highs-climate-change-fuels-heatwaves/', 'http://www.sthelensstar.co.uk/news/national/17792553.uk-temperatures-soar-new-highs-climate-change-fuels-heatwaves/', 'http://www.thewestmorlandgazette.co.uk/news/national/17792553.uk-temperatures-soar-new-highs-climate-change-fuels-heatwaves/', 'http://kidderminstershuttle.co.uk/news/national/17792553.uk-temperatures-soar-new-highs-climate-change-fuels-heatwaves/', 'http://www.bromsgroveadvertiser.co.uk/news/national/17792553.uk-temperatures-soar-new-highs-climate-change-fuels-heatwaves/', 'http://www.freepressseries.co.uk/news/national/17792553.uk-temperatures-soar-new-highs-climate-change-fuels-heatwaves/', 'http://www.lancashiretelegraph.co.uk/news/national/17792553.uk-temperatures-soar-new-highs-climate-change-fuels-heatwaves/', 'http://www.maldonandburnhamstandard.co.uk/news/national/17792553.uk-temperatures-soar-new-highs-climate-change-fuels-heatwaves/', 'http://www.milfordmercury.co.uk/news/national/17792553.uk-temperatures-soar-new-highs-climate-change-fuels-heatwaves/', 'http://www.southwalesargus.co.uk/news/national/17792553.uk-temperatures-soar-new-highs-climate-change-fuels-heatwaves/', 'http://www.wandsworthguardian.co.uk/news/national/17792553.uk-temperatures-soar-new-highs-climate-change-fuels-heatwaves/', 'http://www.westerntelegraph.co.uk/news/national/17792553.uk-temperatures-soar-new-highs-climate-change-fuels-heatwaves/', 'http://www.wimbledonguardian.co.uk/news/national/17792553.uk-temperatures-soar-new-highs-climate-change-fuels-heatwaves/', 'http://www.wirralglobe.co.uk/news/national/17792553.uk-temperatures-soar-new-highs-climate-change-fuels-heatwaves/', 'http://www.worcesternews.co.uk/news/national/17792553.uk-temperatures-soar-new-highs-climate-change-fuels-heatwaves/', 'https://www.businessinsider.com/uk-records-hottest-temperature-in-history-europe-heatwave-2019-7', 'https://www.businessinsider.my/uk-records-hottest-temperature-in-history-europe-heatwave-2019-7/']\",\n",
       "       \"['http://feeds.mashable.com/~r/Mashable/~3/eUsylWdJZpo/']\",\n",
       "       \"['https://www.scotsman.com/news/transport/public-urged-not-to-travel-on-thursday-owing-to-record-breaking-forecast-temperatures-1-4970828']\",\n",
       "       \"['http://rss.cnn.com/~r/rss/cnn_travel/~3/kxwTC0fZI1I/index.html', 'http://www.msn.com/en-us/weather/topstories/notre-dames-architect-says-the-heat-wave-could-cause-the-cathedrals-ceiling-to-collapse/ar-AAEO15v?srcref=rss', 'https://kbzk.com/cnn-europe-mideast-africa/2019/07/24/notre-dames-architect-says-the-heat-wave-could-cause-the-cathedrals-ceiling-to-collapse/', 'http://channel4000.com/world/notre-dame-architect-heat-wave-could-cause-cathedral-ceiling-collapse/1099458228', 'http://krdo.com/news/national-world/notre-dame-architect-heat-wave-could-cause-cathedral-ceiling-collapse/1099459800', 'http://www.abc17news.com/news/national-world/notre-dame-architect-heat-wave-could-cause-cathedral-ceiling-collapse/1099459870', 'http://kyma.com/news/national-world/notre-dame-architect-heat-wave-could-cause-cathedral-ceiling-collapse/1099459905', 'http://kionrightnow.com/news/national-world/notre-dame-architect-heat-wave-could-cause-cathedral-ceiling-collapse/1099460010', 'http://koamtv.com/news/world-news/notre-dame-architect-heat-wave-could-cause-cathedral-ceiling-collapse/1099461224', 'http://www.channel3000.com/news/world-news/notre-dame-architect-heat-wave-could-cause-cathedral-ceiling-collapse/1099461294', 'http://rss.cnn.com/~r/rss/cnn_topstories/~3/wRf4X9iQRe8/index.html', 'https://www.wtva.com/content/news/513187682.html', 'https://www.actionnewsnow.com/content/news/513187582.html', 'https://www.wlfi.com/content/news/513187672.html', 'https://www.kdrv.com/content/news/513187562.html', 'https://www.kezi.com/content/news/513187572.html', 'https://www.kimt.com/content/news/513187592.html', 'https://www.theepochtimes.com/notre-dames-architect-says-the-heat-wave-could-cause-the-cathedrals-ceiling-to-collapse_3017296.html', 'https://www.ecowatch.com/second-major-heat-wave-europe-2639356572.html']\",\n",
       "       \"['http://www.mediamatters.org/blog/2019/07/24/Democracy-Nows-Amy-Goodman-and-climate-scientist-Michael-Mann-discuss-need-for-better-medi/224321']\",\n",
       "       \"['https://www.thesun.co.uk/fabulous/9577792/im-size-8-husband-5xl-perfect-fit/']\",\n",
       "       \"['https://www.mo4ch.com/2019/07/mo4chfrance-heatwave-could-collapse.html', 'http://msn.com/en-au/news/world/heatwave-threatens-to-completely-collapse-notre-dames-fire-ravaged-ceiling/ar-AAEORCu?li=AAgfIYZ', 'http://msn.com/en-au/news/world/heatwave-threatens-to-completely-collapse-notre-dames-fire-ravaged-ceiling/ar-AAEORCu?li=BBU4PL8', 'https://www.abc.net.au/news/2019-07-26/notre-dame-at-further-risk-as-heatwave-grips-europe/11348078']\",\n",
       "       \"['https://www.belfasttelegraph.co.uk/news/uk/mercury-soars-to-new-july-high-as-britain-swelters-38346165.html', 'https://www.thecourier.co.uk/news/uk-world/942969/temperatures-soar-as-britain-faces-possibility-of-record-breaking-heat/', 'https://www.sundaypost.com/news/uk-news/temperatures-soar-as-britain-faces-possibility-of-record-breaking-heat/', 'http://harrowtimes.co.uk/news/national/17794622.temperatures-soar-britain-faces-possibility-record-breaking-heat/', 'http://www.banburycake.co.uk/news/national/17794622.temperatures-soar-britain-faces-possibility-record-breaking-heat/', 'http://www.bucksfreepress.co.uk/news/national/17794622.temperatures-soar-britain-faces-possibility-record-breaking-heat/', 'http://www.burytimes.co.uk/news/national/17794622.temperatures-soar-britain-faces-possibility-record-breaking-heat/', 'http://www.epsomguardian.co.uk/news/national/17794622.temperatures-soar-britain-faces-possibility-record-breaking-heat/', 'http://www.knutsfordguardian.co.uk/news/national/17794622.temperatures-soar-britain-faces-possibility-record-breaking-heat/', 'http://www.middevonstar.co.uk/news/national/17794622.temperatures-soar-britain-faces-possibility-record-breaking-heat/', 'http://www.milfordmercury.co.uk/news/national/17794622.temperatures-soar-britain-faces-possibility-record-breaking-heat/', 'http://www.surreycomet.co.uk/news/national/17794622.temperatures-soar-britain-faces-possibility-record-breaking-heat/', 'http://www.thewestmorlandgazette.co.uk/news/national/17794622.temperatures-soar-britain-faces-possibility-record-breaking-heat/', 'http://www.wimbledonguardian.co.uk/news/national/17794622.temperatures-soar-britain-faces-possibility-record-breaking-heat/', 'http://www.yourlocalguardian.co.uk/news/national/17794622.temperatures-soar-britain-faces-possibility-record-breaking-heat/', 'http://www.chardandilminsternews.co.uk/news/national/17794622.temperatures-soar-britain-faces-possibility-record-breaking-heat/', 'http://www.ledburyreporter.co.uk/news/national/17794622.temperatures-soar-britain-faces-possibility-record-breaking-heat/', 'http://www.windsorobserver.co.uk/news/17794622.temperatures-soar-britain-faces-possibility-record-breaking-heat/', 'https://inews.co.uk/news/uk/heatwave-record-breaking-temperatures-39c-climate-change/', 'https://www.thecourier.co.uk/news/uk-world/943114/mercury-soars-to-new-july-high-as-britain-swelters/', 'http://timesandstar.co.uk/news/national/17795080.mercury-soars-new-july-high-britain-swelters/', 'http://www.bordercountiesadvertizer.co.uk/news/national/17795080.mercury-soars-new-july-high-britain-swelters/', 'http://www.bournemouthecho.co.uk/news/national/17795080.mercury-soars-new-july-high-britain-swelters/', 'http://www.bucksfreepress.co.uk/news/national/17795080.mercury-soars-new-july-high-britain-swelters/', 'http://www.chelmsfordweeklynews.co.uk/news/national/17795080.mercury-soars-new-july-high-britain-swelters/', 'http://www.enfieldindependent.co.uk/news/national/17795080.mercury-soars-new-july-high-britain-swelters/', 'http://www.epsomguardian.co.uk/news/national/17795080.mercury-soars-new-july-high-britain-swelters/', 'http://www.freepressseries.co.uk/news/national/17795080.mercury-soars-new-july-high-britain-swelters/', 'http://www.gazette-news.co.uk/news/national/17795080.mercury-soars-new-july-high-britain-swelters/', 'http://www.leaderlive.co.uk/news/national/17795080.mercury-soars-new-july-high-britain-swelters/', 'http://www.malverngazette.co.uk/news/national/17795080.mercury-soars-new-july-high-britain-swelters/', 'http://www.newsshopper.co.uk/news/national/17795080.mercury-soars-new-july-high-britain-swelters/', 'http://www.sthelensstar.co.uk/news/national/17795080.mercury-soars-new-july-high-britain-swelters/', 'http://www.stroudnewsandjournal.co.uk/news/national/17795080.mercury-soars-new-july-high-britain-swelters/', 'http://www.theargus.co.uk/news/national/17795080.mercury-soars-new-july-high-britain-swelters/', 'http://www.theboltonnews.co.uk/news/national/17795080.mercury-soars-new-july-high-britain-swelters/', 'http://www.thenorthernecho.co.uk/news/national/17795080.mercury-soars-new-july-high-britain-swelters/', 'http://www.wandsworthguardian.co.uk/news/national/17795080.mercury-soars-new-july-high-britain-swelters/', 'http://www.watfordobserver.co.uk/news/national/17795080.mercury-soars-new-july-high-britain-swelters/', 'http://heraldscotland.com/news/17795100.new-record-temperature-july-set-mercury-hits-36-9c-london/', 'https://www.birminghammail.co.uk/news/midlands-news/birmingham-train-chaos-passengers-told-16646212', 'http://andoveradvertiser.co.uk/news/national/17795080.mercury-soars-new-july-high-britain-swelters/', 'http://www.barryanddistrictnews.co.uk/news/national/17795080.mercury-soars-new-july-high-britain-swelters/', 'http://www.chardandilminsternews.co.uk/news/national/17795080.mercury-soars-new-july-high-britain-swelters/', 'http://www.dorsetecho.co.uk/news/national/17795080.mercury-soars-new-july-high-britain-swelters/', 'http://www.gazetteandherald.co.uk/news/national/17795080.mercury-soars-new-july-high-britain-swelters/', 'http://www.knutsfordguardian.co.uk/news/national/17795080.mercury-soars-new-july-high-britain-swelters/', 'http://www.ledburyreporter.co.uk/news/national/17795080.mercury-soars-new-july-high-britain-swelters/', 'http://www.maldonandburnhamstandard.co.uk/news/national/17795080.mercury-soars-new-july-high-britain-swelters/', 'http://www.southwalesargus.co.uk/news/national/17795080.mercury-soars-new-july-high-britain-swelters/', 'http://www.surreycomet.co.uk/news/national/17795080.mercury-soars-new-july-high-britain-swelters/', 'http://www.swindonadvertiser.co.uk/news/national/17795080.mercury-soars-new-july-high-britain-swelters/', 'http://www.thewestmorlandgazette.co.uk/news/national/17795080.mercury-soars-new-july-high-britain-swelters/', 'http://www.thisislocallondon.co.uk/news/national/17795080.mercury-soars-new-july-high-britain-swelters/', 'http://www.worcesternews.co.uk/news/national/17795080.mercury-soars-new-july-high-britain-swelters/', 'http://www.yourlocalguardian.co.uk/news/national/17795080.mercury-soars-new-july-high-britain-swelters/', 'http://www.expressandstar.com/news/uk-news/2019/07/25/mercury-soars-to-new-july-high-as-britain-swelters/', 'http://harrowtimes.co.uk/news/national/17795080.mercury-soars-new-july-high-britain-swelters/', 'http://www.asianimage.co.uk/news/17795080.mercury-soars-new-july-high-britain-swelters/', 'http://www.carrickherald.com/news/17795080.mercury-soars-new-july-high-britain-swelters/', 'http://www.dailyecho.co.uk/news/national/17795080.mercury-soars-new-july-high-britain-swelters/', 'http://www.eveshamjournal.co.uk/news/national/17795080.mercury-soars-new-july-high-britain-swelters/', 'http://www.hampshirechronicle.co.uk/news/national/17795080.mercury-soars-new-july-high-britain-swelters/', 'http://www.middevonstar.co.uk/news/national/17795080.mercury-soars-new-july-high-britain-swelters/', 'http://www.milfordmercury.co.uk/news/national/17795080.mercury-soars-new-july-high-britain-swelters/', 'http://www.newsnorthwales.co.uk/news/national/17795080.mercury-soars-new-july-high-britain-swelters/', 'http://www.wirralglobe.co.uk/news/national/17795080.mercury-soars-new-july-high-britain-swelters/']\",\n",
       "       \"['https://www.dw.com/en/germany-swelters-in-record-breaking-europe-heatwave/a-49734445']\",\n",
       "       \"['https://www.dtnpf.com/agriculture/web/ag/news/article/2019/07/25/tour-second-day-estimates-peg-spring']\",\n",
       "       \"['https://news.artnet.com/art-world/heatwave-notre-dame-risk-collapse-1609315']\",\n",
       "       \"['https://news.artnet.com/art-world/heatwave-notre-dame-risk-collapse-1609315']\",\n",
       "       \"['https://www.belfasttelegraph.co.uk/news/uk/warm-air-from-africa-and-climate-change-driving-heatwave-say-experts-38345580.html', 'https://www.pressandjournal.co.uk/news/uk/1804703/warm-air-from-africa-and-climate-change-driving-heatwave-say-experts/', 'http://bracknellnews.co.uk/news/national/17794381.warm-air-africa-climate-change-driving-heatwave-say-experts/#comments-anchor', 'http://harrowtimes.co.uk/news/national/17794381.warm-air-africa-climate-change-driving-heatwave-say-experts/#comments-anchor', 'http://salisburyjournal.co.uk/news/national/17794381.warm-air-africa-climate-change-driving-heatwave-say-experts/', 'http://www.bucksfreepress.co.uk/news/national/17794381.warm-air-africa-climate-change-driving-heatwave-say-experts/', 'http://www.chelmsfordweeklynews.co.uk/news/national/17794381.warm-air-africa-climate-change-driving-heatwave-say-experts/#comments-anchor', 'http://www.croydonguardian.co.uk/news/national/17794381.warm-air-africa-climate-change-driving-heatwave-say-experts/#comments-anchor', 'http://www.ealingtimes.co.uk/news/national/17794381.warm-air-africa-climate-change-driving-heatwave-say-experts/#comments-anchor', 'http://www.enfieldindependent.co.uk/news/national/17794381.warm-air-africa-climate-change-driving-heatwave-say-experts/#comments-anchor', 'http://www.gazette-news.co.uk/news/national/17794381.warm-air-africa-climate-change-driving-heatwave-say-experts/#comments-anchor', 'http://www.halesowennews.co.uk/news/national/17794381.warm-air-africa-climate-change-driving-heatwave-say-experts/', 'http://www.herefordtimes.com/news/national/17794381.warm-air-africa-climate-change-driving-heatwave-say-experts/#comments-anchor', 'http://www.knutsfordguardian.co.uk/news/national/17794381.warm-air-africa-climate-change-driving-heatwave-say-experts/#comments-anchor', 'http://www.lancashiretelegraph.co.uk/news/national/17794381.warm-air-africa-climate-change-driving-heatwave-say-experts/', 'http://www.maldonandburnhamstandard.co.uk/news/national/17794381.warm-air-africa-climate-change-driving-heatwave-say-experts/#comments-anchor', 'http://www.middevonstar.co.uk/news/national/17794381.warm-air-africa-climate-change-driving-heatwave-say-experts/#comments-anchor', 'http://www.milfordmercury.co.uk/news/national/17794381.warm-air-africa-climate-change-driving-heatwave-say-experts/#comments-anchor', 'http://www.newsshopper.co.uk/news/national/17794381.warm-air-africa-climate-change-driving-heatwave-say-experts/#comments-anchor', 'http://www.sloughobserver.co.uk/news/17794381.warm-air-africa-climate-change-driving-heatwave-say-experts/#comments-anchor', 'http://www.stroudnewsandjournal.co.uk/news/national/17794381.warm-air-africa-climate-change-driving-heatwave-say-experts/', 'http://www.swindonadvertiser.co.uk/news/national/17794381.warm-air-africa-climate-change-driving-heatwave-say-experts/', 'http://www.theboltonnews.co.uk/news/national/17794381.warm-air-africa-climate-change-driving-heatwave-say-experts/#comments-anchor', 'http://www.wandsworthguardian.co.uk/news/national/17794381.warm-air-africa-climate-change-driving-heatwave-say-experts/#comments-anchor', 'http://www.wiltsglosstandard.co.uk/news/national/17794381.warm-air-africa-climate-change-driving-heatwave-say-experts/', 'http://www.wimbledonguardian.co.uk/news/national/17794381.warm-air-africa-climate-change-driving-heatwave-say-experts/#comments-anchor', 'http://www.wirralglobe.co.uk/news/national/17794381.warm-air-africa-climate-change-driving-heatwave-say-experts/', 'https://inews.co.uk/news/environment/uk-temperature-comes-within-a-whisker-of-all-time-high/']\",\n",
       "       \"['http://home.nzcity.co.nz/nl.aspx?4338215', 'http://www.newsweek.com/hottest-day-year-london-passengers-only-ride-air-conditioned-tube-lines-1451121', 'http://radionz.co.nz/news/world/395252/european-heatwave-paris-breaks-record-temperatures', 'https://www.insurancejournal.com/news/international/2019/07/30/534233.htm']\",\n",
       "       \"['https://www.nbcnews.com/news/world/european-heatwave-breaks-record-paris-britain-anticipates-hottest-temps-ever-n1034346?cid=public-rss_20190726']\",\n",
       "       \"['https://www.nbcnews.com/news/world/european-heatwave-breaks-record-paris-britain-anticipates-hottest-temps-ever-n1034346?cid=public-rss_20190726']\",\n",
       "       \"['http://rss.cnn.com/~r/rss/cnn_world/~3/uxRkzhypfqw/index.html', 'https://edition.cnn.com/2019/07/25/europe/europe-heat-wave-records-intl/index.html', 'https://kbzk.com/cnn-europe-mideast-africa/2019/07/25/europes-heat-wave-is-shattering-temperature-records-and-cities-are-struggling-to-cope/', 'https://kpax.com/cnn-europe-mideast-africa/2019/07/25/europes-heat-wave-is-shattering-temperature-records-and-cities-are-struggling-to-cope/', 'https://kxlf.com/cnn-europe-mideast-africa/2019/07/25/europes-heat-wave-is-shattering-temperature-records-and-cities-are-struggling-to-cope/', 'http://www.wfmz.com/news/cnn-world-news/europes-heat-wave-shatters-records/1099817057', 'http://news8000.com/news/world-news/europes-heat-wave-shatters-records/1099819210', 'http://kvia.com/news/us-world/europes-heat-wave-shatters-records/1099819365', 'http://ktvz.com/news/national-world/europes-heat-wave-shatters-records/1099819549', 'http://www.channel3000.com/web/wisc/news/world-news/europes-heat-wave-shatters-records/1099819294', 'https://www.msn.com/en-us/weather/topstories/europes-heat-wave-shatters-temperature-records-and-cities-are-struggling-to-cope/ar-AAER4da?srcref=rss']\",\n",
       "       \"['http://www.stuff.co.nz/world/europe/114519053/europe-heatwave-expected-to-break-records-as-paris-and-london-boils', 'http://nzherald.co.nz/world/news/article.cfm?c_id=2&objectid=12252902', 'https://www.nzherald.co.nz/world/news/article.cfm?c_id=2&objectid=12252902&amp;ref=rss']\",\n",
       "       \"['http://feeds.mashable.com/~r/Mashable/~3/tEROJNX8AW0/']\",\n",
       "       \"['http://feeds.mashable.com/~r/Mashable/~3/tEROJNX8AW0/']\",\n",
       "       \"['https://943thepoint.com/why-nj-transit-shut-train-air-conditioning-during-heat-wave/', 'https://nj1015.com/why-nj-transit-shut-train-air-conditioning-during-heat-wave/', 'https://wobm.com/why-nj-transit-shut-train-air-conditioning-during-heat-wave/']\",\n",
       "       \"['https://www.canindia.com/world-in-race-to-avoid-climate-catastrophe-says-guterres/', 'http://www.prokerala.com/news/articles/a938850.html', 'https://www.dayafterindia.com/2019/08/02/world-in-race-to-avoid-climate-catastrophe-says-guterres/', 'http://daijiworld.com/news/newsDisplay.aspx?newsID=610912', 'https://www.newkerala.com/news/read/185615/world-in-race-to-avoid-climate-catastrophe-says-guterres.html']\",\n",
       "       \"['https://www.counterpunch.org/2019/07/26/roaming-charges-and-then-there-were-three/']\",\n",
       "       \"['http://www.thehansindia.com/life-style/travel/europe-melts-under-sahara-heat-wave-smashes-heat-records-549685']\",\n",
       "       \"['https://lethbridgeherald.com/commentary/letters-to-the-editor/2019/07/26/arctic-heat-wave-nothing-to-get-excited-about/']\",\n",
       "       \"['https://insurancenewsnet.com/oarticle/sens-coons-feinstein-rep-panetta-introduce-climate-action-rebate-act']\",\n",
       "       \"['http://cnn.com/2019/07/26/europe/ac-climate-crisis-heat-waves-intl/index.html', 'https://kbzk.com/cnn-europe-mideast-africa/2019/07/26/as-the-planet-heats-up-ac-will-cool-you-down-but-the-cost-may-be-too-high/']\",\n",
       "       \"['https://www.peterboroughtoday.co.uk/news/people/passengers-stuck-on-boiling-train-outside-peterborough-for-hours-have-to-wait-for-answers-on-why-they-were-not-rescued-sooner-1-9012957']\",\n",
       "       \"['https://www.theguardian.com/world/2019/jul/26/german-greens-propose-homeworking-to-beat-the-heatwave']\",\n",
       "       \"['http://euronews.com/2019/07/26/if-you-re-worried-about-the-climate-in-europe-spare-a-thought-for-the-arctic-circle-this-y']\",\n",
       "       \"['https://www.hellomagazine.com/celebrities/2019072875813/this-morning-holly-willoughby-rare-photo-family-niece/', 'https://www.hellomagazine.com/celebrities/2019110980385/holly-willoughby-shares-rare-pic-of-niece/']\",\n",
       "       \"['https://www.telegraphindia.com/world/heat-dust-and-climate-change/cid/1695380']\",\n",
       "       \"['https://www.mirror.co.uk/news/uk-news/uk-weather-urgent-flood-warnings-18792444']\",\n",
       "       \"['https://www.irishexaminer.com/breakingnews/sport/columnists/from-the-heat-of-battle-to-a-battle-with-heat-939963.html']\",\n",
       "       \"['https://www.commondreams.org/newswire/2019/07/29/sunrise-movement-rejected-attempt-visit-beacon-hill-offices-demand-climate?cd-origin=rss']\",\n",
       "       \"['https://www.cambridge-news.co.uk/news/uk-world-news/lidl-pulls-back-former-iron-16638478', 'https://www.derbytelegraph.co.uk/news/uk-world-news/lidl-draws-back-former-iron-3130529', 'https://www.gloucestershirelive.co.uk/news/uk-world-news/lidl-draws-back-former-iron-3130529', 'https://www.stokesentinel.co.uk/news/uk-world-news/lidl-draws-back-former-iron-3130529', 'https://www.coventrytelegraph.net/news/coventry-news/lidl-introduce-bargain-summer-wine-16663768']\",\n",
       "       \"['http://www.independent.co.uk/environment/europe-heatwave-songbirds-france-wildlife-temperature-record-a9020576.html']\",\n",
       "       \"['https://www.ndtv.com/world-news/at-38-7-celsius-last-week-temperatures-in-britain-hits-highest-on-record-2077216?pfrom=home-world', 'https://timesofindia.indiatimes.com/uk/britain-hit-record-high-of-38-7c-last-week-official/articleshow/70439298.cms', 'https://dailytimes.com.pk/439602/britain-hit-record-high-of-38-7c-last-week-official/']\",\n",
       "       \"['https://www.whtimes.co.uk/sport/brookmans-park-pro-am-golf-tournament-praised-1-6187845']\",\n",
       "       \"['https://www.theguardian.com/uk-news/2019/jul/29/met-office-confirms-new-uk-record-temperature-of-387c']\",\n",
       "       \"['http://huntervalleynews.net.au/story/6299891/bloomfield-group-fights-for-its-future/?cs=3027']\",\n",
       "       \"['https://www.businessinsider.com/uk-records-hottest-temperature-in-history-europe-heatwave-2019-7', 'https://www.businessinsider.my/uk-records-hottest-temperature-in-history-europe-heatwave-2019-7/']\",\n",
       "       \"['http://registercitizen.com/middletown/article/CT-man-tells-story-of-Middletown-relatives-lost-14267771.php']\",\n",
       "       \"['https://www.kentonline.co.uk/kent/news/new-highest-uk-temperature-beats-kent-record-209518/']\",\n",
       "       \"['https://www.energylivenews.com/2019/07/30/met-office-confirms-heatwave-broke-record-for-highest-ever-uk-temperature/']\",\n",
       "       \"['http://www.wtatennis.com/news/i-needed-get-mean-vekic-dispatches-doi-finds-her-way-san-jose']\",\n",
       "       \"['https://www.bbc.co.uk/news/uk-england-leeds-49167146']\",\n",
       "       \"['https://brooklyneagle.com/articles/2019/07/31/amid-high-temps-protesters-call-for-cold-water-cold-showers-and-more-fans-at-brooklyn-jail/']\",\n",
       "       \"['https://tass.com/emergencies/1071312']\",\n",
       "       \"['https://www.independent.co.uk/environment/greenland-weather-temperature-heatwave-ice-melt-sea-level-a9030361.html']\",\n",
       "       \"['https://www.independent.co.uk/environment/greenland-weather-temperature-heatwave-ice-melt-sea-level-a9030361.html']\",\n",
       "       \"['http://feeds.foxnews.com/~r/foxnews/scitech/~3/gRaA9TlqWxs/photos-from-greenland-reveal-worrying-cost-of-european-heatwave']\",\n",
       "       \"['https://www.commondreams.org/news/2019/08/01/we-urgently-need-change-our-way-living-experts-warn-heat-wave-causes-historic-ice?cd-origin=rss']\",\n",
       "       \"['https://www.stamfordmercury.co.uk/news/what-are-the-polices-priorities-9078172/']\",\n",
       "       \"['https://www.irishmirror.ie/showbiz/irish-showbiz/home-away-stars-james-stewart-18811091', 'https://www.her.ie/celeb/home-aways-sarah-roberts-james-stewart-say-irish-wedding-magic-475572']\",\n",
       "       \"['https://www.rte.ie/entertainment/2019/0801/1066496-home-and-away-stars-say-irish-wedding-was-magic/', 'https://www.her.ie/celeb/home-aways-sarah-roberts-james-stewart-say-irish-wedding-magic-475572', 'http://goss.ie/featured/home-and-away-stars-sarah-roberts-and-james-stewart-reveal-why-they-got-married-in-ireland-181139', 'http://goss.ie/showbiz/home-and-away-stars-sarah-roberts-and-james-stewart-reveal-why-they-got-married-in-ireland-181139#respond', 'http://www.entertainmentdaily.co.uk/soaps/home-and-away/home-and-away-james-stewart-sarah-roberts-fairytale-irish-wedding/', 'https://www.rte.ie/entertainment/2019/0816/1069269-home-and-away-stars-share-new-irish-wedding-pictures/']\",\n",
       "       \"['https://www.forbes.com/sites/grrlscientist/2019/08/02/how-did-songbirds-end-up-in-a-sharks-stomach/']\",\n",
       "       \"['https://www.forbes.com/sites/grrlscientist/2019/08/02/how-did-songbirds-end-up-in-a-sharks-stomach/']\",\n",
       "       \"['http://blogs.discovermagazine.com/imageo/2019/08/01/10-billion-tons-of-meltwater-pours-off-greenland-in-a-day-but-are-things-as-bad-as-the-twittersphere-says/']\",\n",
       "       \"['http://blogs.discovermagazine.com/imageo/2019/08/01/10-billion-tons-of-meltwater-pours-off-greenland-in-a-day-but-are-things-as-bad-as-the-twittersphere-says/']\",\n",
       "       \"['http://www.breitbart.com/news/july-heatwave-up-to-3c-hotter-due-to-climate-change/', 'http://jamaicaobserver.com/latestnews/_July_heatwave_up_to_3C_hotter_due_to_climate_change?profile=1228', 'http://www.deccanchronicle.com/lifestyle/environment/030819/europe-witnesses-temperature-increase-by-3-degrees.html', 'https://www.dawn.com/news/1497815/climate-change-makes-july-hotter-by-up-to-3-degrees-c#comments']\",\n",
       "       \"['https://www.centralmaine.com/2019/08/02/forster-mill-demolition-continues-in-wilton/']\",\n",
       "       \"['https://www.carbonbrief.org/climate-change-made-europes-2019-record-heatwave-up-to-hundred-times-more-likely']\",\n",
       "       \"['https://www.carbonbrief.org/climate-change-made-europes-2019-record-heatwave-up-to-hundred-times-more-likely']\",\n",
       "       \"['https://www.telegraph.co.uk/science/2019/08/02/climate-change-may-have-added-nearly-three-degrees-british-heatwave/']\",\n",
       "       \"['http://feeds.towleroad.com/~r/towleroad/feed/~3/FGwijzmaBHY/']\",\n",
       "       \"['http://home.nzcity.co.nz/nl.aspx?4342548', 'https://nation.com.pk/03-Aug-2019/heatwave-intensity-boosted-by-climate-change']\",\n",
       "       \"['http://home.nzcity.co.nz/nl.aspx?4342548']\",\n",
       "       \"['http://home.nzcity.co.nz/nl.aspx?4342548', 'https://nation.com.pk/03-Aug-2019/heatwave-intensity-boosted-by-climate-change']\",\n",
       "       \"['http://home.nzcity.co.nz/nl.aspx?4342548', 'https://nation.com.pk/03-Aug-2019/heatwave-intensity-boosted-by-climate-change']\",\n",
       "       \"['http://www.postguam.com/sports/nation/boxing-deaths-illustrate-risky-business/article_7dd61acc-b50b-11e9-8ca3-9fcdab2b74eb.html']\",\n",
       "       \"['http://sheffieldtelegraph.co.uk/news/opinion/letters-deliver-a-sustainable-future-sooner-488250']\",\n",
       "       \"['https://www.edie.net/news/10/IRENA-partners-with-UN-to-spur-renewable-energy-uptake/']\",\n",
       "       \"['http://news.sciencemag.org/news/2019/08/europes-record-heat-melted-swiss-glaciers', 'http://www.sciencemag.org/news/2019/08/europes-record-heat-melted-swiss-glaciers']\",\n",
       "       \"['http://europe.newsweek.com/electric-fans-dangerous-u-s-states-scientists-warn-1452306']\",\n",
       "       \"['https://www.statnews.com/2019/08/05/fans-safe-during-heat-waves-study-suggests/']\"],\n",
       "      dtype=object)"
      ]
     },
     "execution_count": 2847,
     "metadata": {},
     "output_type": "execute_result"
    }
   ],
   "source": [
    "extract_quotes(filtered_for_pos_then_neg, r'\\b([hH]eat[ -]?[wW]aves?)\\b').urls.values"
   ]
  },
  {
   "cell_type": "code",
   "execution_count": 2843,
   "id": "834ea1d4",
   "metadata": {},
   "outputs": [
    {
     "data": {
      "text/plain": [
       "array(['Over 200 children died due to AES, around the same number of people lost their lives due to heat-wave and girls were raped in a government shelter. Over 40 scams took place in the state in the past 14 years,'],\n",
       "      dtype=object)"
      ]
     },
     "execution_count": 2843,
     "metadata": {},
     "output_type": "execute_result"
    }
   ],
   "source": [
    "extract_quotes(filtered_for_pos_then_neg, r'bihar', field='urls', complement=False).quotation.values"
   ]
  },
  {
   "cell_type": "code",
   "execution_count": 1295,
   "id": "4a34c5b8",
   "metadata": {},
   "outputs": [],
   "source": [
    "def extract_quotes_protected(df, protected_regex, unwanted_regex, field='quotation', with_url=False):\n",
    "    mask_protected = df[field].str.contains(protected_regex)\n",
    "    df_protected_index = set(df[mask_protected].index)\n",
    "\n",
    "    mask_unwanted = df[field].str.contains(unwanted_regex)\n",
    "    df_unwanted_index = set(df[mask_unwanted].index)\n",
    "    \n",
    "    if with_url:\n",
    "        url_regex, url_field = with_url[0], with_url[1]\n",
    "        mask_protected_url = df[url_field].str.contains(url_regex)\n",
    "        df_protected_url_index = set(df[mask_protected_url].index)\n",
    "        df_protected_index.update(df_protected_url_index)\n",
    "        \n",
    "        if len(with_url) > 2:\n",
    "            url_regex, url_field = with_url[2], with_url[3]\n",
    "            mask_unwanted_url = df[url_field].str.contains(url_regex)\n",
    "            df_unwanted_url_index = set(df[mask_unwanted_url].index)\n",
    "            df_unwanted_index.update(df_unwanted_url_index)   \n",
    "        \n",
    "    \n",
    "    resulting_inices = list(df_unwanted_index - df_protected_index)\n",
    "    return df.drop(resulting_inices)"
   ]
  },
  {
   "cell_type": "code",
   "execution_count": 1537,
   "id": "bdb0be0f",
   "metadata": {},
   "outputs": [
    {
     "name": "stderr",
     "output_type": "stream",
     "text": [
      "/var/folders/80/18t8jx716vj1gh_49bk904tc0000gn/T/ipykernel_61644/1572180232.py:2: UserWarning: This pattern has match groups. To actually get the groups, use str.extract.\n",
      "  mask_protected = df[field].str.contains(protected_regex)\n",
      "/var/folders/80/18t8jx716vj1gh_49bk904tc0000gn/T/ipykernel_61644/1572180232.py:5: UserWarning: This pattern has match groups. To actually get the groups, use str.extract.\n",
      "  mask_unwanted = df[field].str.contains(unwanted_regex)\n"
     ]
    }
   ],
   "source": [
    "filtered_extra = extract_quotes_protected(\n",
    "    filtered_for_pos_then_neg, \n",
    "    r'\\b([wW]orld)\\b', \n",
    "    r'\\b([vV]ehicles?)\\b',\n",
    "    with_url=[r'\\.co\\.uk', 'urls', r'http', 'urls']\n",
    ")"
   ]
  },
  {
   "cell_type": "code",
   "execution_count": 1538,
   "id": "b7b76538",
   "metadata": {},
   "outputs": [
    {
     "data": {
      "text/plain": [
       "66"
      ]
     },
     "execution_count": 1538,
     "metadata": {},
     "output_type": "execute_result"
    }
   ],
   "source": [
    "len(filtered_extra)"
   ]
  },
  {
   "cell_type": "code",
   "execution_count": 1539,
   "id": "3fd6fcd1",
   "metadata": {},
   "outputs": [
    {
     "data": {
      "text/html": [
       "<div>\n",
       "<style scoped>\n",
       "    .dataframe tbody tr th:only-of-type {\n",
       "        vertical-align: middle;\n",
       "    }\n",
       "\n",
       "    .dataframe tbody tr th {\n",
       "        vertical-align: top;\n",
       "    }\n",
       "\n",
       "    .dataframe thead th {\n",
       "        text-align: right;\n",
       "    }\n",
       "</style>\n",
       "<table border=\"1\" class=\"dataframe\">\n",
       "  <thead>\n",
       "    <tr style=\"text-align: right;\">\n",
       "      <th></th>\n",
       "      <th>quoteID</th>\n",
       "      <th>quotation</th>\n",
       "      <th>speaker</th>\n",
       "      <th>qids</th>\n",
       "      <th>date</th>\n",
       "      <th>numOccurrences</th>\n",
       "      <th>probas</th>\n",
       "      <th>urls</th>\n",
       "      <th>phase</th>\n",
       "    </tr>\n",
       "  </thead>\n",
       "  <tbody>\n",
       "    <tr>\n",
       "      <th>673</th>\n",
       "      <td>2019-07-19-001526</td>\n",
       "      <td>A three-day heat wave in the most northerly pl...</td>\n",
       "      <td>Dave Phillips</td>\n",
       "      <td>['Q25190442', 'Q508561', 'Q5229572', 'Q5229573']</td>\n",
       "      <td>2019-07-19 08:00:58</td>\n",
       "      <td>2</td>\n",
       "      <td>[['Dave Phillips', '0.8347'], ['None', '0.1653']]</td>\n",
       "      <td>['http://cbc.ca/news/technology/how-a-heat-dom...</td>\n",
       "      <td>E</td>\n",
       "    </tr>\n",
       "    <tr>\n",
       "      <th>18019</th>\n",
       "      <td>2019-07-19-005316</td>\n",
       "      <td>As we head into next week we are expecting som...</td>\n",
       "      <td>Dan Harris</td>\n",
       "      <td>['Q16225310', 'Q18977889', 'Q2556156', 'Q52136...</td>\n",
       "      <td>2019-07-19 11:32:03</td>\n",
       "      <td>1</td>\n",
       "      <td>[['Dan Harris', '0.9684'], ['None', '0.0316']]</td>\n",
       "      <td>['http://www.entertainmentdaily.co.uk/news/wea...</td>\n",
       "      <td>E</td>\n",
       "    </tr>\n",
       "    <tr>\n",
       "      <th>2408</th>\n",
       "      <td>2019-07-19-051686</td>\n",
       "      <td>Temperatures could reach 34C by Wednesday in p...</td>\n",
       "      <td>Andy Page</td>\n",
       "      <td>['Q4761123']</td>\n",
       "      <td>2019-07-19 12:27:00</td>\n",
       "      <td>17</td>\n",
       "      <td>[['Andy Page', '0.9056'], ['None', '0.0944']]</td>\n",
       "      <td>['http://news.sky.com/story/uk-weather-school-...</td>\n",
       "      <td>E</td>\n",
       "    </tr>\n",
       "    <tr>\n",
       "      <th>15227</th>\n",
       "      <td>2019-07-19-063999</td>\n",
       "      <td>This is a heatwave coming up these next days. ...</td>\n",
       "      <td>Bill de Blasio</td>\n",
       "      <td>['Q4911497']</td>\n",
       "      <td>2019-07-19 20:37:42</td>\n",
       "      <td>3</td>\n",
       "      <td>[['Bill de Blasio', '0.646'], ['None', '0.354']]</td>\n",
       "      <td>['http://news.bbc.co.uk/news/world-us-canada-4...</td>\n",
       "      <td>E</td>\n",
       "    </tr>\n",
       "    <tr>\n",
       "      <th>6701</th>\n",
       "      <td>2019-07-19-062288</td>\n",
       "      <td>They could reach 34 ° C by Wednesday in parts ...</td>\n",
       "      <td>Andy Page</td>\n",
       "      <td>['Q4761123']</td>\n",
       "      <td>2019-07-19 21:00:07</td>\n",
       "      <td>1</td>\n",
       "      <td>[['Andy Page', '0.9458'], ['None', '0.0487'], ...</td>\n",
       "      <td>['https://www.mirror.co.uk/news/uk-news/motorw...</td>\n",
       "      <td>E</td>\n",
       "    </tr>\n",
       "    <tr>\n",
       "      <th>...</th>\n",
       "      <td>...</td>\n",
       "      <td>...</td>\n",
       "      <td>...</td>\n",
       "      <td>...</td>\n",
       "      <td>...</td>\n",
       "      <td>...</td>\n",
       "      <td>...</td>\n",
       "      <td>...</td>\n",
       "      <td>...</td>\n",
       "    </tr>\n",
       "    <tr>\n",
       "      <th>5357</th>\n",
       "      <td>2019-08-02-000590</td>\n",
       "      <td>2019 has already seen some unusual sightings a...</td>\n",
       "      <td>Neil Lucas</td>\n",
       "      <td>['Q11790488']</td>\n",
       "      <td>2019-08-02 12:01:23</td>\n",
       "      <td>1</td>\n",
       "      <td>[['Neil Lucas', '0.9187'], ['None', '0.0813']]</td>\n",
       "      <td>['http://www.bournemouthecho.co.uk/news/178122...</td>\n",
       "      <td>E</td>\n",
       "    </tr>\n",
       "    <tr>\n",
       "      <th>16985</th>\n",
       "      <td>2019-08-02-001994</td>\n",
       "      <td>A return period of 30 years like in Cambridge,...</td>\n",
       "      <td>Geert Jan van Oldenborgh</td>\n",
       "      <td>['Q58065756']</td>\n",
       "      <td>2019-08-02 14:46:00</td>\n",
       "      <td>1</td>\n",
       "      <td>[['Geert Jan van Oldenborgh', '0.8109'], ['Non...</td>\n",
       "      <td>['https://www.telegraph.co.uk/science/2019/08/...</td>\n",
       "      <td>E</td>\n",
       "    </tr>\n",
       "    <tr>\n",
       "      <th>12748</th>\n",
       "      <td>2019-08-05-023326</td>\n",
       "      <td>I also want to build a stronger alliance to up...</td>\n",
       "      <td>Dominic Raab</td>\n",
       "      <td>['Q268584']</td>\n",
       "      <td>2019-08-05 00:00:00</td>\n",
       "      <td>10</td>\n",
       "      <td>[['Dominic Raab', '0.4845'], ['None', '0.2496'...</td>\n",
       "      <td>['http://uk.investing.com/news/politics/raab-s...</td>\n",
       "      <td>E</td>\n",
       "    </tr>\n",
       "    <tr>\n",
       "      <th>5410</th>\n",
       "      <td>2019-08-05-047882</td>\n",
       "      <td>like all the best religions, fear of climate c...</td>\n",
       "      <td>Boris Johnson</td>\n",
       "      <td>['Q180589']</td>\n",
       "      <td>2019-08-05 09:13:18</td>\n",
       "      <td>1</td>\n",
       "      <td>[['Boris Johnson', '0.6236'], ['None', '0.3764']]</td>\n",
       "      <td>['http://sheffieldtelegraph.co.uk/news/opinion...</td>\n",
       "      <td>E</td>\n",
       "    </tr>\n",
       "    <tr>\n",
       "      <th>10546</th>\n",
       "      <td>2019-08-05-081792</td>\n",
       "      <td>Time is running out. We are already seeing wor...</td>\n",
       "      <td>Patricia Espinosa</td>\n",
       "      <td>['Q58082']</td>\n",
       "      <td>2019-08-05 10:06:37</td>\n",
       "      <td>1</td>\n",
       "      <td>[['Patricia Espinosa', '0.9659'], ['None', '0....</td>\n",
       "      <td>['https://www.edie.net/news/10/IRENA-partners-...</td>\n",
       "      <td>E</td>\n",
       "    </tr>\n",
       "  </tbody>\n",
       "</table>\n",
       "<p>66 rows × 9 columns</p>\n",
       "</div>"
      ],
      "text/plain": [
       "                 quoteID                                          quotation  \\\n",
       "673    2019-07-19-001526  A three-day heat wave in the most northerly pl...   \n",
       "18019  2019-07-19-005316  As we head into next week we are expecting som...   \n",
       "2408   2019-07-19-051686  Temperatures could reach 34C by Wednesday in p...   \n",
       "15227  2019-07-19-063999  This is a heatwave coming up these next days. ...   \n",
       "6701   2019-07-19-062288  They could reach 34 ° C by Wednesday in parts ...   \n",
       "...                  ...                                                ...   \n",
       "5357   2019-08-02-000590  2019 has already seen some unusual sightings a...   \n",
       "16985  2019-08-02-001994  A return period of 30 years like in Cambridge,...   \n",
       "12748  2019-08-05-023326  I also want to build a stronger alliance to up...   \n",
       "5410   2019-08-05-047882  like all the best religions, fear of climate c...   \n",
       "10546  2019-08-05-081792  Time is running out. We are already seeing wor...   \n",
       "\n",
       "                        speaker  \\\n",
       "673               Dave Phillips   \n",
       "18019                Dan Harris   \n",
       "2408                  Andy Page   \n",
       "15227            Bill de Blasio   \n",
       "6701                  Andy Page   \n",
       "...                         ...   \n",
       "5357                 Neil Lucas   \n",
       "16985  Geert Jan van Oldenborgh   \n",
       "12748              Dominic Raab   \n",
       "5410              Boris Johnson   \n",
       "10546         Patricia Espinosa   \n",
       "\n",
       "                                                    qids                date  \\\n",
       "673     ['Q25190442', 'Q508561', 'Q5229572', 'Q5229573'] 2019-07-19 08:00:58   \n",
       "18019  ['Q16225310', 'Q18977889', 'Q2556156', 'Q52136... 2019-07-19 11:32:03   \n",
       "2408                                        ['Q4761123'] 2019-07-19 12:27:00   \n",
       "15227                                       ['Q4911497'] 2019-07-19 20:37:42   \n",
       "6701                                        ['Q4761123'] 2019-07-19 21:00:07   \n",
       "...                                                  ...                 ...   \n",
       "5357                                       ['Q11790488'] 2019-08-02 12:01:23   \n",
       "16985                                      ['Q58065756'] 2019-08-02 14:46:00   \n",
       "12748                                        ['Q268584'] 2019-08-05 00:00:00   \n",
       "5410                                         ['Q180589'] 2019-08-05 09:13:18   \n",
       "10546                                         ['Q58082'] 2019-08-05 10:06:37   \n",
       "\n",
       "       numOccurrences                                             probas  \\\n",
       "673                 2  [['Dave Phillips', '0.8347'], ['None', '0.1653']]   \n",
       "18019               1     [['Dan Harris', '0.9684'], ['None', '0.0316']]   \n",
       "2408               17      [['Andy Page', '0.9056'], ['None', '0.0944']]   \n",
       "15227               3   [['Bill de Blasio', '0.646'], ['None', '0.354']]   \n",
       "6701                1  [['Andy Page', '0.9458'], ['None', '0.0487'], ...   \n",
       "...               ...                                                ...   \n",
       "5357                1     [['Neil Lucas', '0.9187'], ['None', '0.0813']]   \n",
       "16985               1  [['Geert Jan van Oldenborgh', '0.8109'], ['Non...   \n",
       "12748              10  [['Dominic Raab', '0.4845'], ['None', '0.2496'...   \n",
       "5410                1  [['Boris Johnson', '0.6236'], ['None', '0.3764']]   \n",
       "10546               1  [['Patricia Espinosa', '0.9659'], ['None', '0....   \n",
       "\n",
       "                                                    urls phase  \n",
       "673    ['http://cbc.ca/news/technology/how-a-heat-dom...     E  \n",
       "18019  ['http://www.entertainmentdaily.co.uk/news/wea...     E  \n",
       "2408   ['http://news.sky.com/story/uk-weather-school-...     E  \n",
       "15227  ['http://news.bbc.co.uk/news/world-us-canada-4...     E  \n",
       "6701   ['https://www.mirror.co.uk/news/uk-news/motorw...     E  \n",
       "...                                                  ...   ...  \n",
       "5357   ['http://www.bournemouthecho.co.uk/news/178122...     E  \n",
       "16985  ['https://www.telegraph.co.uk/science/2019/08/...     E  \n",
       "12748  ['http://uk.investing.com/news/politics/raab-s...     E  \n",
       "5410   ['http://sheffieldtelegraph.co.uk/news/opinion...     E  \n",
       "10546  ['https://www.edie.net/news/10/IRENA-partners-...     E  \n",
       "\n",
       "[66 rows x 9 columns]"
      ]
     },
     "execution_count": 1539,
     "metadata": {},
     "output_type": "execute_result"
    }
   ],
   "source": [
    "filtered_extra"
   ]
  },
  {
   "cell_type": "code",
   "execution_count": 1338,
   "id": "f53f9476",
   "metadata": {},
   "outputs": [
    {
     "name": "stderr",
     "output_type": "stream",
     "text": [
      "/Users/gil/EPFL/4 - Fourth Year/Semester 1/ADA/Project/ada-2021-project-data-alchemy/disaster_extr_helpers.py:17: UserWarning: This pattern has match groups. To actually get the groups, use str.extract.\n",
      "  mask = df[field].str.contains(regex)\n"
     ]
    },
    {
     "data": {
      "text/plain": [
       "array([\"Athletes, coaches, sports -- If you don't think heat is going to be a factor for Tokyo 2020 -- think again! Japan is currently in a heatwave natural disaster -- with temperatures over 40 degrees celsius and high humidity. Do you have a heat plan?\"],\n",
       "      dtype=object)"
      ]
     },
     "execution_count": 1338,
     "metadata": {},
     "output_type": "execute_result"
    }
   ],
   "source": [
    "extract_quotes(filtered_extra, r'\\b([tT]okyo)\\b').quotation.values"
   ]
  },
  {
   "cell_type": "code",
   "execution_count": 1339,
   "id": "3486c064",
   "metadata": {},
   "outputs": [
    {
     "data": {
      "text/plain": [
       "array([], dtype=object)"
      ]
     },
     "execution_count": 1339,
     "metadata": {},
     "output_type": "execute_result"
    }
   ],
   "source": [
    "extract_quotes(filtered_extra, r'Tok', field='urls').quotation.values"
   ]
  },
  {
   "cell_type": "code",
   "execution_count": null,
   "id": "09eefba8",
   "metadata": {},
   "outputs": [],
   "source": []
  },
  {
   "cell_type": "code",
   "execution_count": null,
   "id": "5c1e69fa",
   "metadata": {},
   "outputs": [],
   "source": []
  },
  {
   "cell_type": "code",
   "execution_count": 2852,
   "id": "a6ac36c1",
   "metadata": {},
   "outputs": [
    {
     "name": "stdout",
     "output_type": "stream",
     "text": [
      "2019\n"
     ]
    }
   ],
   "source": [
    "print(YEAR)"
   ]
  },
  {
   "cell_type": "code",
   "execution_count": 2855,
   "id": "6a9829de",
   "metadata": {},
   "outputs": [],
   "source": [
    "output_df = filtered_for_pos_then_neg"
   ]
  },
  {
   "cell_type": "code",
   "execution_count": 2856,
   "id": "78f39568",
   "metadata": {},
   "outputs": [
    {
     "data": {
      "text/html": [
       "<div>\n",
       "<style scoped>\n",
       "    .dataframe tbody tr th:only-of-type {\n",
       "        vertical-align: middle;\n",
       "    }\n",
       "\n",
       "    .dataframe tbody tr th {\n",
       "        vertical-align: top;\n",
       "    }\n",
       "\n",
       "    .dataframe thead th {\n",
       "        text-align: right;\n",
       "    }\n",
       "</style>\n",
       "<table border=\"1\" class=\"dataframe\">\n",
       "  <thead>\n",
       "    <tr style=\"text-align: right;\">\n",
       "      <th></th>\n",
       "      <th>quoteID</th>\n",
       "      <th>quotation</th>\n",
       "      <th>speaker</th>\n",
       "      <th>qids</th>\n",
       "      <th>date</th>\n",
       "      <th>numOccurrences</th>\n",
       "      <th>probas</th>\n",
       "      <th>urls</th>\n",
       "      <th>phase</th>\n",
       "    </tr>\n",
       "  </thead>\n",
       "  <tbody>\n",
       "    <tr>\n",
       "      <th>9332</th>\n",
       "      <td>2019-07-19-078320</td>\n",
       "      <td>widespread and dangerous heat wave</td>\n",
       "      <td>Neil Webb</td>\n",
       "      <td>['Q463295']</td>\n",
       "      <td>2019-07-19 00:00:00</td>\n",
       "      <td>1</td>\n",
       "      <td>[['Neil Webb', '0.5166'], ['None', '0.4834']]</td>\n",
       "      <td>['http://www.everydayhealth.com/heart-health/t...</td>\n",
       "      <td>E</td>\n",
       "    </tr>\n",
       "    <tr>\n",
       "      <th>3068</th>\n",
       "      <td>2019-07-19-023847</td>\n",
       "      <td>I sometimes think it's more important than the...</td>\n",
       "      <td>David Phillips</td>\n",
       "      <td>['Q11048992', 'Q16217546', 'Q194645', 'Q228291...</td>\n",
       "      <td>2019-07-19 00:15:30</td>\n",
       "      <td>1</td>\n",
       "      <td>[['David Phillips', '0.6148'], ['None', '0.385...</td>\n",
       "      <td>['https://windsorstar.com/news/local-news/heat...</td>\n",
       "      <td>E</td>\n",
       "    </tr>\n",
       "    <tr>\n",
       "      <th>673</th>\n",
       "      <td>2019-07-19-001526</td>\n",
       "      <td>A three-day heat wave in the most northerly pl...</td>\n",
       "      <td>Dave Phillips</td>\n",
       "      <td>['Q25190442', 'Q508561', 'Q5229572', 'Q5229573']</td>\n",
       "      <td>2019-07-19 08:00:58</td>\n",
       "      <td>2</td>\n",
       "      <td>[['Dave Phillips', '0.8347'], ['None', '0.1653']]</td>\n",
       "      <td>['http://cbc.ca/news/technology/how-a-heat-dom...</td>\n",
       "      <td>E</td>\n",
       "    </tr>\n",
       "    <tr>\n",
       "      <th>18019</th>\n",
       "      <td>2019-07-19-005316</td>\n",
       "      <td>As we head into next week we are expecting som...</td>\n",
       "      <td>Dan Harris</td>\n",
       "      <td>['Q16225310', 'Q18977889', 'Q2556156', 'Q52136...</td>\n",
       "      <td>2019-07-19 11:32:03</td>\n",
       "      <td>1</td>\n",
       "      <td>[['Dan Harris', '0.9684'], ['None', '0.0316']]</td>\n",
       "      <td>['http://www.entertainmentdaily.co.uk/news/wea...</td>\n",
       "      <td>E</td>\n",
       "    </tr>\n",
       "    <tr>\n",
       "      <th>2408</th>\n",
       "      <td>2019-07-19-051686</td>\n",
       "      <td>Temperatures could reach 34C by Wednesday in p...</td>\n",
       "      <td>Andy Page</td>\n",
       "      <td>['Q4761123']</td>\n",
       "      <td>2019-07-19 12:27:00</td>\n",
       "      <td>17</td>\n",
       "      <td>[['Andy Page', '0.9056'], ['None', '0.0944']]</td>\n",
       "      <td>['http://news.sky.com/story/uk-weather-school-...</td>\n",
       "      <td>E</td>\n",
       "    </tr>\n",
       "  </tbody>\n",
       "</table>\n",
       "</div>"
      ],
      "text/plain": [
       "                 quoteID                                          quotation  \\\n",
       "9332   2019-07-19-078320                 widespread and dangerous heat wave   \n",
       "3068   2019-07-19-023847  I sometimes think it's more important than the...   \n",
       "673    2019-07-19-001526  A three-day heat wave in the most northerly pl...   \n",
       "18019  2019-07-19-005316  As we head into next week we are expecting som...   \n",
       "2408   2019-07-19-051686  Temperatures could reach 34C by Wednesday in p...   \n",
       "\n",
       "              speaker                                               qids  \\\n",
       "9332        Neil Webb                                        ['Q463295']   \n",
       "3068   David Phillips  ['Q11048992', 'Q16217546', 'Q194645', 'Q228291...   \n",
       "673     Dave Phillips   ['Q25190442', 'Q508561', 'Q5229572', 'Q5229573']   \n",
       "18019      Dan Harris  ['Q16225310', 'Q18977889', 'Q2556156', 'Q52136...   \n",
       "2408        Andy Page                                       ['Q4761123']   \n",
       "\n",
       "                     date  numOccurrences  \\\n",
       "9332  2019-07-19 00:00:00               1   \n",
       "3068  2019-07-19 00:15:30               1   \n",
       "673   2019-07-19 08:00:58               2   \n",
       "18019 2019-07-19 11:32:03               1   \n",
       "2408  2019-07-19 12:27:00              17   \n",
       "\n",
       "                                                  probas  \\\n",
       "9332       [['Neil Webb', '0.5166'], ['None', '0.4834']]   \n",
       "3068   [['David Phillips', '0.6148'], ['None', '0.385...   \n",
       "673    [['Dave Phillips', '0.8347'], ['None', '0.1653']]   \n",
       "18019     [['Dan Harris', '0.9684'], ['None', '0.0316']]   \n",
       "2408       [['Andy Page', '0.9056'], ['None', '0.0944']]   \n",
       "\n",
       "                                                    urls phase  \n",
       "9332   ['http://www.everydayhealth.com/heart-health/t...     E  \n",
       "3068   ['https://windsorstar.com/news/local-news/heat...     E  \n",
       "673    ['http://cbc.ca/news/technology/how-a-heat-dom...     E  \n",
       "18019  ['http://www.entertainmentdaily.co.uk/news/wea...     E  \n",
       "2408   ['http://news.sky.com/story/uk-weather-school-...     E  "
      ]
     },
     "execution_count": 2856,
     "metadata": {},
     "output_type": "execute_result"
    }
   ],
   "source": [
    "output_df.head()"
   ]
  },
  {
   "cell_type": "code",
   "execution_count": 2857,
   "id": "7cc3d573",
   "metadata": {},
   "outputs": [],
   "source": [
    "write_df_to_disk(filtered_for_pos_then_neg, disaster_type, YEAR, additional_text='filtered')"
   ]
  },
  {
   "cell_type": "code",
   "execution_count": 957,
   "id": "f48fbdce",
   "metadata": {},
   "outputs": [
    {
     "data": {
      "text/plain": [
       "array(['My plea to residents and visitors when outdoors is that they take great care to prevent fires, particularly as this heat wave continues.',\n",
       "       \"Wildfires and extreme weather are more destructive than ever and that's why we must take decisive action to protect the lives and property of the people of California. Tackling this challenge requires all of us to roll up our sleeves and to work together,\",\n",
       "       \"Heat waves are increasing and increasing in intensity. We will have more cooling demand requiring more electricity. But if our nation continues to rely on coal-fired power plants for some of our electricity, each time we turn on the air conditioning we'll be fouling the air, causing more sickness and even deaths.\",\n",
       "       \"Wildfires and extreme weather are more destructive than ever and that's why we must take decisive action to protect the lives and property of the people of California,\",\n",
       "       'Unfortunately we are also attending a number of wildfires in other areas of the county. My plea to residents and visitors when outdoors is that they take great care to prevent fires, particularly as this heat wave continues.',\n",
       "       \"We can't thin our way out of the problem-thinning all the forests is not possible, and even if it were, it won't stop fires in the extreme weather that is happening more frequently and will in the future,\",\n",
       "       \"We can't thin our way out of the problem -- thinning all the forests is not possible, and even if it were, it won't stop fires in the extreme weather that is happening more frequently and will in the future,\",\n",
       "       'It provides a level of situational awareness that is absolutely needed going forward to address the new normal, which are these extreme weather events that drive fires to a different degree,',\n",
       "       'Considering how dry the terrain is, the high temperatures and the scale of fires to date, it is expected that fire-fighting and monitoring will continue until a change in weather conditions,',\n",
       "       \"In New Mexico, we know all too well the damage and loss that can result from floods. As climate change drives more extreme weather, including bigger fires and more intense storms, we will need to do even more to prepare for these types of natural disasters. I'm committed to securing federal funding to improve the resiliency of communities across our state.\",\n",
       "       'Our Earth is once again being hit by extreme weather, including extreme heat and wildfires in California, and devastating floods of rain in Japan. Based on the laws of physics, due to global warming, we must expect more frequent and worsening events,',\n",
       "       'Air conditioning saves lives from heat waves, but if the electricity to run air conditioners requires coal-fired power plants, then we have a problem,',\n",
       "       'Here in California, our summer has gotten off to an ominous start, with an unprecedented heat wave and dangerous wildfires kicking off the start of what could be an especially dangerous fire season. As summer heats up, so too is organizing for the Rise for Climate, Jobs and Justice march, and with good reason. Our climate emergency requires true climate leadership, and California can lead the way by standing up to Big Oil and keeping fossil fuels in the ground. This September, the streets will be filled with concerned community members demanding nothing less.',\n",
       "       'In the most extreme case of high temperatures caused by fire, the gas would be released constantly in a controlled manner thanks to the thermal fuses located in each tank, thus preventing an excessive pressure build-up',\n",
       "       'The conditions were extremely difficult trying to beat back fire in high temperatures, whilst the ground temperature to stand on was over 400 degrees in the deep-seated areas.',\n",
       "       'The fire service performs numerous rescues on this trail every year, most often for heat stroke, a condition that can have lifelong consequences and is potentially fatal.',\n",
       "       \"What we're seeing with this global heatwave is that these areas of fire susceptibility are now broadening, with the moors in north-west England and now these Swedish fires a consequence of that,\",\n",
       "       \"It's a little too early to say how it's going to go. With such high temperatures, these are tough conditions to be fighting a fire.\",\n",
       "       'We saw first-hand last year how extreme weather events driven by climate change are causing unprecedented and unanticipated wildfires. Adding new weather stations in high fire-threat areas across our service area enhances our weather forecasting and modeling to help bolster wildfire prevention and response efforts and keep our customers safe.',\n",
       "       \"What we're seeing with this global heat wave is that these areas of fire susceptibility are now broadening, with the moors [ open land ] in northwest England and now these Swedish fires a consequence of that,\",\n",
       "       \"What better way to celebrate our first summer in The Doyen with a big party where everyone is invited! Everyone loves having a drink outside and with the BBQ fired up and the live music on stage, it's sure to have everyone in great spirits. Let's just hope we get more of these heatwaves! We really look forward to welcoming everyone down to The Doyen.\",\n",
       "       'It is clear that climate change is a real threat and it is proceeding at a relentless pace. Earlier this year, the World Meteorological Organization confirmed that 2015, 2016 and 2017 were the three warmest years on record. The level of carbon dioxide concentration in the atmosphere continues to rise. This build-up means that we are at increasing risk from heat waves, floods, droughts and wildfires - and we are now seeing all of these things happening more frequently,',\n",
       "       'Some authors have recently doubted whether Neanderthals always had use of fire, but burnt materials are common on their sites, and pieces of pitch from Augsburg in Germany show that they had the skill to control fire at high temperatures for several hours. Evidence that they could make fire at will may seem surprising, but it fits this picture very well.',\n",
       "       \"We are seeing them play out in real time in the form of unprecedented heat waves, floods, droughts and wildfires. And we've seen them all this summer.\",\n",
       "       \"Climate change. It's here. It's catastrophic. This month alone: --'50 dead' in Greece wildfires -- Arctic Circle ablaze -- Japan heatwave, flooding and landslides kill hundreds -- Record temperatures in Algeria, Morocco, Oman -- Drought squeezes US lemons.\",\n",
       "       \"We are seeing them play out in real time in the form of unprecedented heatwaves, floods, droughts and wildfires. And we've seen them all this summer,\",\n",
       "       'Many Californians are concerned about the personal impact of global warming in the wake of a prolonged drought and in the face of fears that extreme weather may result in more severe wildfires,',\n",
       "       'high temperatures, low humidity, and erratic winds have further increased the spread of this fire.',\n",
       "       'The northern hemisphere is experiencing a record-breaking summer, with extreme temperatures sparking wildfires.',\n",
       "       'Stress, as far as heat exhaustion and heat stroke, are really serious situations that a firefighter can get into, so the tactics kind of get hindered by temperatures that high.',\n",
       "       'The winds, high temperatures and dry vegetation still have the potential to fuel fire growth,',\n",
       "       'Growing cities, poor planning, recurring heatwaves, more people living closer to forests and more combustible landscapes have together created a more fire-prone world,',\n",
       "       'Winds, high temperatures and dry vegetation still have the potential to fuel fire growth. Fire spread has been active in all directions and has made significant runs,',\n",
       "       'high temperatures and aggressive fire behavior are hindering firefighting efforts.',\n",
       "       'A dangerous heat wave will continue from California to the Pacific Northwest early this week. Triple digit heat combined with dry humidity will only exacerbate the ongoing wildfire situation in California,',\n",
       "       'A dangerous heat wave will continue from California to the Pacific Northwest early this week. Triple-digit heat combined with dry humidity will only exacerbate the ongoing wildfire situation in California,',\n",
       "       'If you have a heatwave, the fuel that drives forest fires dries out so it increases the chance of wildfires,',\n",
       "       \"The landscapes and institutions we cherish are at acute risk from temperature rises. Our farmers, fishermen, NHS workers and firemen are among those expected to feel the full force of a projected increase in heatwaves and floods. It's why the UK has proudly led global efforts to tackle this menace for the past two decades. That leadership is the cornerstone in the UK's relationship with the Commonwealth and developing countries globally. And it's leadership that is expected at home: nearly 70% of Britons want the UK to remain part of the Paris agreement on climate change, which targets mid-century zero emissions... This is an agenda that should unite the country. It draws on support across the political spectrum.\",\n",
       "       'There are fires raging in Greece, where at least 74 people are feared dead. There has been a killer heatwave in Japan that broke high temperature records, has claimed at least 77 lives and sent more than 30,000 people to hospital. This follows the tragically disastrous floods that killed upwards of 200 people. Then there was the horrific tragedy in Laos, where monsoon rains led to 5 billion cubic metres of water flowing from a busted new hydro dam, killing who knows how many people and with hundreds missing and leaving 6,600 people homeless.',\n",
       "       \"Even by July standards, this is an unusually long July heat wave with triple-digit heat in areas for three weeks straight. And the night that the fire went off, temperatures were well above 110 degrees. In cases like this, there's an undeniable link to climate change,\",\n",
       "       'deadly fires gripping California and Greece, extreme hurricanes in the Atlantic, and searing heat waves and droughts around the world',\n",
       "       \"I'm glad to see journalists becoming more willing to connect the fires to climate change. For too long, people have been scared to talk about climate change when extreme weather happens.\",\n",
       "       'many of the most extreme, persistent summer weather events in recent years, including the 2003 European heat wave, 2010 Moscow wildfires, 2011 Texas and Oklahoma drought [ and the ] 2016 Alberta wildfires.',\n",
       "       \"PG&E was proud to provide employees and equipment to support our utility partners in Florida and Puerto Rico after last year's hurricanes. In turn, we are incredibly grateful for the mutual aid being provided by our sister utilities to help us deal with the new normal and the impacts of extreme weather events and wildfires, and to assist us with our repair and restoration efforts,\",\n",
       "       \"I want to appeal to the people of Kent and Medway and our visitors to be extra vigilant to prevent outdoor fires on what is now tinder dry land, caused by the second coming of this summer's heatwave.\"],\n",
       "      dtype=object)"
      ]
     },
     "execution_count": 957,
     "metadata": {},
     "output_type": "execute_result"
    }
   ],
   "source": [
    "df_fire"
   ]
  },
  {
   "cell_type": "code",
   "execution_count": null,
   "id": "8df01cde",
   "metadata": {},
   "outputs": [],
   "source": []
  }
 ],
 "metadata": {
  "kernelspec": {
   "display_name": "Python [conda env:numerical] *",
   "language": "python",
   "name": "conda-env-numerical-py"
  },
  "language_info": {
   "codemirror_mode": {
    "name": "ipython",
    "version": 3
   },
   "file_extension": ".py",
   "mimetype": "text/x-python",
   "name": "python",
   "nbconvert_exporter": "python",
   "pygments_lexer": "ipython3",
   "version": "3.8.12"
  }
 },
 "nbformat": 4,
 "nbformat_minor": 5
}
