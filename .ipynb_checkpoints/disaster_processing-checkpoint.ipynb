{
 "cells": [
  {
   "cell_type": "markdown",
   "id": "2313b45f",
   "metadata": {},
   "source": [
    "# Process (Filter) Data Extracted From Quotebank For Disaster"
   ]
  },
  {
   "cell_type": "markdown",
   "id": "c4475851",
   "metadata": {},
   "source": [
    "**Imports**"
   ]
  },
  {
   "cell_type": "code",
   "execution_count": 318,
   "id": "8d09a29e",
   "metadata": {},
   "outputs": [],
   "source": [
    "import pandas as pd\n",
    "import re # Used for verifying and running small tests on regex patterns\n",
    "import datetime\n",
    "\n",
    "from disaster_extr_constants import *\n",
    "from disaster_extr_helpers import *"
   ]
  },
  {
   "cell_type": "markdown",
   "id": "ac84fe79",
   "metadata": {},
   "source": [
    "**Define parameters for dataset to be filtered**"
   ]
  },
  {
   "cell_type": "code",
   "execution_count": 352,
   "id": "493b0c55",
   "metadata": {},
   "outputs": [],
   "source": [
    "YEAR = 2017\n",
    "disaster_type = 'storm'\n",
    "disaster_YEAR_pos = storm_tags_2017_pos\n",
    "disaster_YEAR_neg = storm_tags_2017_neg\n",
    "file_path = 'data/'+str(YEAR)+'_'+disaster_type+'_climate_processed_csv.bz2'"
   ]
  },
  {
   "cell_type": "markdown",
   "id": "53b1f8aa",
   "metadata": {},
   "source": [
    "**Load EMDAT for date retrieval and extracted quote set (which still needs to be filtered)**"
   ]
  },
  {
   "cell_type": "code",
   "execution_count": 353,
   "id": "59994db7",
   "metadata": {},
   "outputs": [],
   "source": [
    "data = 'data/emdat_processed.csv'\n",
    "parse_dates = ['StartDate', 'EndDate']\n",
    "df_emdat = pd.read_csv(data, index_col=\"Dis No\", parse_dates = parse_dates)"
   ]
  },
  {
   "cell_type": "markdown",
   "id": "0d2a5050",
   "metadata": {},
   "source": [
    "**Extracted quotes are from larger time interval than disaster itself to account for evolution of discussion around climate change. Specifically, quotes are extracted in the interval [start - 21 days, end + 21 days]. Note that if the disaster lasted more than 30 days the interval is [start - 21 days, end].**"
   ]
  },
  {
   "cell_type": "code",
   "execution_count": 354,
   "id": "3850f492",
   "metadata": {},
   "outputs": [],
   "source": [
    "disaster_df_quotes = pd.read_csv(file_path, parse_dates = ['date'], compression='bz2')"
   ]
  },
  {
   "cell_type": "markdown",
   "id": "87169273",
   "metadata": {},
   "source": [
    "**Apply date retrieval (special case for 2020 because StartDate is in 2019)**"
   ]
  },
  {
   "cell_type": "code",
   "execution_count": 400,
   "id": "f5a26bda",
   "metadata": {},
   "outputs": [],
   "source": [
    "if disaster_type == 'heat_wave':\n",
    "    \n",
    "    if YEAR == 2020:\n",
    "        df_heat_wave = get_df_disaster(df_emdat, HEAT_WAVES_2020, HEAT_WAVES_2020_val)\n",
    "        df_heat_wave_bounds = retrieve_bounding_dates(df_heat_wave)\n",
    "    else:\n",
    "        df_heat_wave = get_df_disaster(df_emdat, HEAT_WAVES, HEAT_WAVES_val)\n",
    "        df_heat_wave_bounds = retrieve_bounding_dates(df_heat_wave)\n",
    "        \n",
    "    disaster_df = df_heat_wave\n",
    "    disaster_df_bounds = df_heat_wave_bounds\n",
    "        \n",
    "elif disaster_type == 'storm':\n",
    "    \n",
    "    if YEAR == 2020:\n",
    "        df_storm = get_df_disaster(df_emdat, STORMS_2020, STORMS_2020_val)\n",
    "        df_storm_bounds = retrieve_bounding_dates(df_storm)\n",
    "    else:\n",
    "        df_storm = get_df_disaster(df_emdat, STORMS, STORMS_val)\n",
    "        df_storm_bounds = retrieve_bounding_dates(df_storm)\n",
    "\n",
    "    disaster_df = df_storm\n",
    "    disaster_df_bounds = df_storm_bounds\n",
    "    \n",
    "if YEAR == 2020:\n",
    "    lookupYEAR = YEAR-1\n",
    "else:\n",
    "    lookupYEAR = YEAR\n",
    "    \n",
    "\n",
    "start_YEAR, end_YEAR = disaster_df_bounds.loc[lookupYEAR].MinStartDate, disaster_df_bounds.loc[lookupYEAR].MaxEndDate"
   ]
  },
  {
   "cell_type": "markdown",
   "id": "c128ed23",
   "metadata": {},
   "source": [
    "**Overview over all disasters for a given disaster type (note: separate table for 2020)**"
   ]
  },
  {
   "cell_type": "code",
   "execution_count": 401,
   "id": "0f9ea84c",
   "metadata": {},
   "outputs": [
    {
     "data": {
      "text/html": [
       "<div>\n",
       "<style scoped>\n",
       "    .dataframe tbody tr th:only-of-type {\n",
       "        vertical-align: middle;\n",
       "    }\n",
       "\n",
       "    .dataframe tbody tr th {\n",
       "        vertical-align: top;\n",
       "    }\n",
       "\n",
       "    .dataframe thead th {\n",
       "        text-align: right;\n",
       "    }\n",
       "</style>\n",
       "<table border=\"1\" class=\"dataframe\">\n",
       "  <thead>\n",
       "    <tr style=\"text-align: right;\">\n",
       "      <th></th>\n",
       "      <th>Type</th>\n",
       "      <th>Subtype</th>\n",
       "      <th>Name</th>\n",
       "      <th>Country</th>\n",
       "      <th>StartDate</th>\n",
       "      <th>EndDate</th>\n",
       "    </tr>\n",
       "    <tr>\n",
       "      <th>Dis No</th>\n",
       "      <th></th>\n",
       "      <th></th>\n",
       "      <th></th>\n",
       "      <th></th>\n",
       "      <th></th>\n",
       "      <th></th>\n",
       "    </tr>\n",
       "  </thead>\n",
       "  <tbody>\n",
       "    <tr>\n",
       "      <th>2015-0470-MEX</th>\n",
       "      <td>Storm</td>\n",
       "      <td>Tropical cyclone</td>\n",
       "      <td>Hurricane Patricia</td>\n",
       "      <td>Mexico</td>\n",
       "      <td>2015-10-22</td>\n",
       "      <td>2015-10-28</td>\n",
       "    </tr>\n",
       "    <tr>\n",
       "      <th>2016-0041-FJI</th>\n",
       "      <td>Storm</td>\n",
       "      <td>Tropical cyclone</td>\n",
       "      <td>Cyclone Winston</td>\n",
       "      <td>Fiji</td>\n",
       "      <td>2016-02-20</td>\n",
       "      <td>2016-02-21</td>\n",
       "    </tr>\n",
       "    <tr>\n",
       "      <th>2017-0362-USA</th>\n",
       "      <td>Storm</td>\n",
       "      <td>Tropical cyclone</td>\n",
       "      <td>Hurricane Harvey</td>\n",
       "      <td>United States of America (the)</td>\n",
       "      <td>2017-08-25</td>\n",
       "      <td>2017-08-29</td>\n",
       "    </tr>\n",
       "    <tr>\n",
       "      <th>2018-0341-CHN</th>\n",
       "      <td>Storm</td>\n",
       "      <td>Tropical cyclone</td>\n",
       "      <td>Typhoon Mangkut (Ompong)</td>\n",
       "      <td>China</td>\n",
       "      <td>2018-09-10</td>\n",
       "      <td>2018-09-18</td>\n",
       "    </tr>\n",
       "    <tr>\n",
       "      <th>2018-0342-USA</th>\n",
       "      <td>Storm</td>\n",
       "      <td>Tropical cyclone</td>\n",
       "      <td>Hurricane Florence</td>\n",
       "      <td>United States of America (the)</td>\n",
       "      <td>2018-09-12</td>\n",
       "      <td>2018-09-18</td>\n",
       "    </tr>\n",
       "    <tr>\n",
       "      <th>2018-0341-PHL</th>\n",
       "      <td>Storm</td>\n",
       "      <td>Tropical cyclone</td>\n",
       "      <td>Typhoon Mangkut (Ompong)</td>\n",
       "      <td>Philippines (the)</td>\n",
       "      <td>2018-09-16</td>\n",
       "      <td>2018-09-16</td>\n",
       "    </tr>\n",
       "    <tr>\n",
       "      <th>2018-0341-HKG</th>\n",
       "      <td>Storm</td>\n",
       "      <td>Tropical cyclone</td>\n",
       "      <td>Typhoon Mangkut (Ompong)</td>\n",
       "      <td>Hong Kong</td>\n",
       "      <td>2018-09-17</td>\n",
       "      <td>2018-09-17</td>\n",
       "    </tr>\n",
       "    <tr>\n",
       "      <th>2019-0492-JPN</th>\n",
       "      <td>Storm</td>\n",
       "      <td>Tropical cyclone</td>\n",
       "      <td>Tropical cylone 'Hagibis'</td>\n",
       "      <td>Japan</td>\n",
       "      <td>2019-10-12</td>\n",
       "      <td>2019-10-17</td>\n",
       "    </tr>\n",
       "  </tbody>\n",
       "</table>\n",
       "</div>"
      ],
      "text/plain": [
       "                Type           Subtype                       Name  \\\n",
       "Dis No                                                              \n",
       "2015-0470-MEX  Storm  Tropical cyclone         Hurricane Patricia   \n",
       "2016-0041-FJI  Storm  Tropical cyclone            Cyclone Winston   \n",
       "2017-0362-USA  Storm  Tropical cyclone           Hurricane Harvey   \n",
       "2018-0341-CHN  Storm  Tropical cyclone   Typhoon Mangkut (Ompong)   \n",
       "2018-0342-USA  Storm  Tropical cyclone         Hurricane Florence   \n",
       "2018-0341-PHL  Storm  Tropical cyclone   Typhoon Mangkut (Ompong)   \n",
       "2018-0341-HKG  Storm  Tropical cyclone   Typhoon Mangkut (Ompong)   \n",
       "2019-0492-JPN  Storm  Tropical cyclone  Tropical cylone 'Hagibis'   \n",
       "\n",
       "                                      Country  StartDate    EndDate  \n",
       "Dis No                                                               \n",
       "2015-0470-MEX                          Mexico 2015-10-22 2015-10-28  \n",
       "2016-0041-FJI                            Fiji 2016-02-20 2016-02-21  \n",
       "2017-0362-USA  United States of America (the) 2017-08-25 2017-08-29  \n",
       "2018-0341-CHN                           China 2018-09-10 2018-09-18  \n",
       "2018-0342-USA  United States of America (the) 2018-09-12 2018-09-18  \n",
       "2018-0341-PHL               Philippines (the) 2018-09-16 2018-09-16  \n",
       "2018-0341-HKG                       Hong Kong 2018-09-17 2018-09-17  \n",
       "2019-0492-JPN                           Japan 2019-10-12 2019-10-17  "
      ]
     },
     "execution_count": 401,
     "metadata": {},
     "output_type": "execute_result"
    }
   ],
   "source": [
    "disaster_df[['Type', 'Subtype','Name', 'Country','StartDate','EndDate']]"
   ]
  },
  {
   "cell_type": "markdown",
   "id": "9001305a",
   "metadata": {},
   "source": [
    "**Overview over start and end dates (when a particluar disaster contains several entries pick the earliest StartDate and latest EndDate)**"
   ]
  },
  {
   "cell_type": "code",
   "execution_count": 402,
   "id": "49859621",
   "metadata": {
    "scrolled": true
   },
   "outputs": [
    {
     "data": {
      "text/html": [
       "<div>\n",
       "<style scoped>\n",
       "    .dataframe tbody tr th:only-of-type {\n",
       "        vertical-align: middle;\n",
       "    }\n",
       "\n",
       "    .dataframe tbody tr th {\n",
       "        vertical-align: top;\n",
       "    }\n",
       "\n",
       "    .dataframe thead th {\n",
       "        text-align: right;\n",
       "    }\n",
       "</style>\n",
       "<table border=\"1\" class=\"dataframe\">\n",
       "  <thead>\n",
       "    <tr style=\"text-align: right;\">\n",
       "      <th></th>\n",
       "      <th>MinStartDate</th>\n",
       "      <th>MaxEndDate</th>\n",
       "    </tr>\n",
       "    <tr>\n",
       "      <th>Year</th>\n",
       "      <th></th>\n",
       "      <th></th>\n",
       "    </tr>\n",
       "  </thead>\n",
       "  <tbody>\n",
       "    <tr>\n",
       "      <th>2015</th>\n",
       "      <td>2015-10-22</td>\n",
       "      <td>2015-10-28</td>\n",
       "    </tr>\n",
       "    <tr>\n",
       "      <th>2016</th>\n",
       "      <td>2016-02-20</td>\n",
       "      <td>2016-02-21</td>\n",
       "    </tr>\n",
       "    <tr>\n",
       "      <th>2017</th>\n",
       "      <td>2017-08-25</td>\n",
       "      <td>2017-08-29</td>\n",
       "    </tr>\n",
       "    <tr>\n",
       "      <th>2018</th>\n",
       "      <td>2018-09-10</td>\n",
       "      <td>2018-09-18</td>\n",
       "    </tr>\n",
       "    <tr>\n",
       "      <th>2019</th>\n",
       "      <td>2019-10-12</td>\n",
       "      <td>2019-10-17</td>\n",
       "    </tr>\n",
       "  </tbody>\n",
       "</table>\n",
       "</div>"
      ],
      "text/plain": [
       "     MinStartDate MaxEndDate\n",
       "Year                        \n",
       "2015   2015-10-22 2015-10-28\n",
       "2016   2016-02-20 2016-02-21\n",
       "2017   2017-08-25 2017-08-29\n",
       "2018   2018-09-10 2018-09-18\n",
       "2019   2019-10-12 2019-10-17"
      ]
     },
     "execution_count": 402,
     "metadata": {},
     "output_type": "execute_result"
    }
   ],
   "source": [
    "disaster_df_bounds"
   ]
  },
  {
   "cell_type": "code",
   "execution_count": 403,
   "id": "28e03757",
   "metadata": {},
   "outputs": [
    {
     "name": "stdout",
     "output_type": "stream",
     "text": [
      "Disaster [storm] Dates: 2017-08-25 --- 2017-08-29\n"
     ]
    }
   ],
   "source": [
    "print(\"Disaster [{}] Dates: {} --- {}\".format(\n",
    "        disaster_type,\n",
    "        start_YEAR.strftime(\"%Y-%m-%d\"), \n",
    "        end_YEAR.strftime(\"%Y-%m-%d\")))"
   ]
  },
  {
   "cell_type": "markdown",
   "id": "60e283ae",
   "metadata": {},
   "source": [
    "**If duration of disaster is less than a month, add 10 days to end date**"
   ]
  },
  {
   "cell_type": "code",
   "execution_count": 404,
   "id": "6d858815",
   "metadata": {},
   "outputs": [],
   "source": [
    "# Add 10 days to end date\n",
    "one_month = datetime.timedelta(days=31)\n",
    "if end_YEAR - start_YEAR < one_month:\n",
    "    ten_days = datetime.timedelta(days=10)\n",
    "    end_YEAR += ten_days"
   ]
  },
  {
   "cell_type": "code",
   "execution_count": 405,
   "id": "ef388079",
   "metadata": {},
   "outputs": [
    {
     "name": "stdout",
     "output_type": "stream",
     "text": [
      "Used extraction dates: 2017-08-25 --- 2017-09-08\n"
     ]
    }
   ],
   "source": [
    "print(\"Used extraction dates: {} --- {}\".format(\n",
    "        start_YEAR.strftime(\"%Y-%m-%d\"), \n",
    "        end_YEAR.strftime(\"%Y-%m-%d\")))"
   ]
  },
  {
   "cell_type": "code",
   "execution_count": 406,
   "id": "1595b243",
   "metadata": {},
   "outputs": [],
   "source": [
    "start_YEAR, end_YEAR = start_YEAR.strftime(\"%Y-%m-%d\"), end_YEAR.strftime(\"%Y-%m-%d\")"
   ]
  },
  {
   "cell_type": "markdown",
   "id": "27fdf363",
   "metadata": {},
   "source": [
    "**Extract quotes during disaster's time interval**"
   ]
  },
  {
   "cell_type": "code",
   "execution_count": 362,
   "id": "cf488838",
   "metadata": {},
   "outputs": [],
   "source": [
    "df_disaster_start_end = df_time_interval(disaster_df_quotes, start_YEAR, end_YEAR,date_attr='date')"
   ]
  },
  {
   "cell_type": "code",
   "execution_count": 363,
   "id": "d7c0989f",
   "metadata": {},
   "outputs": [
    {
     "data": {
      "text/html": [
       "<div>\n",
       "<style scoped>\n",
       "    .dataframe tbody tr th:only-of-type {\n",
       "        vertical-align: middle;\n",
       "    }\n",
       "\n",
       "    .dataframe tbody tr th {\n",
       "        vertical-align: top;\n",
       "    }\n",
       "\n",
       "    .dataframe thead th {\n",
       "        text-align: right;\n",
       "    }\n",
       "</style>\n",
       "<table border=\"1\" class=\"dataframe\">\n",
       "  <thead>\n",
       "    <tr style=\"text-align: right;\">\n",
       "      <th></th>\n",
       "      <th>quoteID</th>\n",
       "      <th>quotation</th>\n",
       "      <th>speaker</th>\n",
       "      <th>qids</th>\n",
       "      <th>date</th>\n",
       "      <th>numOccurrences</th>\n",
       "      <th>probas</th>\n",
       "      <th>urls</th>\n",
       "      <th>phase</th>\n",
       "    </tr>\n",
       "  </thead>\n",
       "  <tbody>\n",
       "    <tr>\n",
       "      <th>0</th>\n",
       "      <td>2017-09-06-003914</td>\n",
       "      <td>advance this climate change agenda.</td>\n",
       "      <td>Rush Limbaugh</td>\n",
       "      <td>['Q319072']</td>\n",
       "      <td>2017-09-06 23:12:48</td>\n",
       "      <td>73</td>\n",
       "      <td>[['Rush Limbaugh', '0.6842'], ['None', '0.2011...</td>\n",
       "      <td>['http://feeds.nydailynews.com/~r/nydnrss/spor...</td>\n",
       "      <td>E</td>\n",
       "    </tr>\n",
       "    <tr>\n",
       "      <th>1</th>\n",
       "      <td>2017-08-29-005991</td>\n",
       "      <td>And actually, in the middle of the hurricane, ...</td>\n",
       "      <td>President Donald Trump</td>\n",
       "      <td>['Q22686']</td>\n",
       "      <td>2017-08-29 17:33:10</td>\n",
       "      <td>1</td>\n",
       "      <td>[['President Donald Trump', '0.6877'], ['None'...</td>\n",
       "      <td>['http://southfloridagaynews.com/National/trum...</td>\n",
       "      <td>E</td>\n",
       "    </tr>\n",
       "    <tr>\n",
       "      <th>2</th>\n",
       "      <td>2017-09-01-010370</td>\n",
       "      <td>At the end of the day the congress will supply...</td>\n",
       "      <td>Bill Nelson</td>\n",
       "      <td>['Q22639331', 'Q3272899', 'Q358437', 'Q4910326']</td>\n",
       "      <td>2017-09-01 12:46:19</td>\n",
       "      <td>1</td>\n",
       "      <td>[['Bill Nelson', '0.7926'], ['None', '0.2074']]</td>\n",
       "      <td>['http://firstcoastnews.com/news/local/countie...</td>\n",
       "      <td>E</td>\n",
       "    </tr>\n",
       "    <tr>\n",
       "      <th>3</th>\n",
       "      <td>2017-08-29-016325</td>\n",
       "      <td>Catastrophic and epic flooding continued this ...</td>\n",
       "      <td>None</td>\n",
       "      <td>[]</td>\n",
       "      <td>2017-08-29 07:32:24</td>\n",
       "      <td>2</td>\n",
       "      <td>[['None', '0.8952'], ['Will Phillips', '0.1048']]</td>\n",
       "      <td>['http://www.arkansasonline.com/news/2017/aug/...</td>\n",
       "      <td>E</td>\n",
       "    </tr>\n",
       "  </tbody>\n",
       "</table>\n",
       "</div>"
      ],
      "text/plain": [
       "             quoteID                                          quotation  \\\n",
       "0  2017-09-06-003914                advance this climate change agenda.   \n",
       "1  2017-08-29-005991  And actually, in the middle of the hurricane, ...   \n",
       "2  2017-09-01-010370  At the end of the day the congress will supply...   \n",
       "3  2017-08-29-016325  Catastrophic and epic flooding continued this ...   \n",
       "\n",
       "                  speaker                                              qids  \\\n",
       "0           Rush Limbaugh                                       ['Q319072']   \n",
       "1  President Donald Trump                                        ['Q22686']   \n",
       "2             Bill Nelson  ['Q22639331', 'Q3272899', 'Q358437', 'Q4910326']   \n",
       "3                    None                                                []   \n",
       "\n",
       "                 date  numOccurrences  \\\n",
       "0 2017-09-06 23:12:48              73   \n",
       "1 2017-08-29 17:33:10               1   \n",
       "2 2017-09-01 12:46:19               1   \n",
       "3 2017-08-29 07:32:24               2   \n",
       "\n",
       "                                              probas  \\\n",
       "0  [['Rush Limbaugh', '0.6842'], ['None', '0.2011...   \n",
       "1  [['President Donald Trump', '0.6877'], ['None'...   \n",
       "2    [['Bill Nelson', '0.7926'], ['None', '0.2074']]   \n",
       "3  [['None', '0.8952'], ['Will Phillips', '0.1048']]   \n",
       "\n",
       "                                                urls phase  \n",
       "0  ['http://feeds.nydailynews.com/~r/nydnrss/spor...     E  \n",
       "1  ['http://southfloridagaynews.com/National/trum...     E  \n",
       "2  ['http://firstcoastnews.com/news/local/countie...     E  \n",
       "3  ['http://www.arkansasonline.com/news/2017/aug/...     E  "
      ]
     },
     "execution_count": 363,
     "metadata": {},
     "output_type": "execute_result"
    }
   ],
   "source": [
    "df_disaster_start_end.head(4)"
   ]
  },
  {
   "cell_type": "markdown",
   "id": "c46d8a79",
   "metadata": {},
   "source": [
    "**Retrieve corresponding positive tag list and verify regex before filtering**"
   ]
  },
  {
   "cell_type": "code",
   "execution_count": 389,
   "id": "8a2a0e1d",
   "metadata": {},
   "outputs": [],
   "source": [
    "tags_pos_list = disaster_YEAR_pos.tags.values.tolist()"
   ]
  },
  {
   "cell_type": "code",
   "execution_count": 390,
   "id": "f4c8558c",
   "metadata": {},
   "outputs": [
    {
     "data": {
      "text/plain": [
       "['(?=.*\\\\b([tT]exas|[lL]ouisiana|[cC]oasts?|U.?S.?A?|[bB]each(es)?)\\\\b)(?=.*\\\\b([rR]ain(ed|s|fall)?|[lL]andslides?)\\\\b)',\n",
       " '(?=.*\\\\b([tT]exas|[lL]ouisiana|[cC]oasts?|U.?S.?A?|[bB]each(es)?)\\\\b)(?=.*\\\\b([hH]urricanes?|[sS]torms?)\\\\b)',\n",
       " '(?=.*\\\\b([tT]exas|[lL]ouisiana|[cC]oasts?|U.?S.?A?)\\\\b)(?=.*\\\\b([fF]lood(waters?|s|ed|ing)?|[rR]ain(ed|s|fall)?)\\\\b)',\n",
       " '\\\\b(Harvey)\\\\b',\n",
       " '\\\\b([cC]ategory 4)\\\\b',\n",
       " '\\\\b([sS]an [jJ]os[ée] [iI]sland)\\\\b',\n",
       " '\\\\b(H.R. ?601)\\\\b',\n",
       " '\\\\b(NOAA)\\\\b',\n",
       " '\\\\b(Federal Emergency Management Agency|FEMA)\\\\b',\n",
       " '\\\\b(National Hurricane Center|NHC)\\\\b']"
      ]
     },
     "execution_count": 390,
     "metadata": {},
     "output_type": "execute_result"
    }
   ],
   "source": [
    "tags_pos_list"
   ]
  },
  {
   "cell_type": "code",
   "execution_count": 391,
   "id": "2a451c4a",
   "metadata": {},
   "outputs": [],
   "source": [
    "regex_pattern_pos = r'|'.join(tags_pos_list)"
   ]
  },
  {
   "cell_type": "code",
   "execution_count": 396,
   "id": "95a91605",
   "metadata": {},
   "outputs": [
    {
     "data": {
      "text/plain": [
       "'A boring sentence about FOUND PATTERN being performed FOUND PATTERN in an FOUND PATTERN setting.'"
      ]
     },
     "execution_count": 396,
     "metadata": {},
     "output_type": "execute_result"
    }
   ],
   "source": [
    "# Verify a regex by performing sample tests\n",
    "sample_text = 'A boring sentence about experiments being performed Experimentally in an experimental setting.'\n",
    "re.sub(r'\\b([eE]xperiment(s|al|ally|)?)\\b', 'FOUND PATTERN',sample_text)"
   ]
  },
  {
   "cell_type": "markdown",
   "id": "02b55e3e",
   "metadata": {},
   "source": [
    "**Apply positive tags filtering (selecting quotes with desired patterns)**"
   ]
  },
  {
   "cell_type": "code",
   "execution_count": 367,
   "id": "53daef77",
   "metadata": {},
   "outputs": [
    {
     "name": "stderr",
     "output_type": "stream",
     "text": [
      "/Users/gil/EPFL/4 - Fourth Year/Semester 1/ADA/Project/ada-2021-project-data-alchemy/disaster_extr_helpers.py:17: UserWarning: This pattern has match groups. To actually get the groups, use str.extract.\n",
      "  mask = df[field].str.contains(regex)\n"
     ]
    }
   ],
   "source": [
    "filtered_for_pos = extract_quotes(df_disaster_start_end, regex_pattern_pos).sort_values(by='date')"
   ]
  },
  {
   "cell_type": "code",
   "execution_count": 368,
   "id": "b4761acd",
   "metadata": {},
   "outputs": [
    {
     "data": {
      "text/plain": [
       "5023"
      ]
     },
     "execution_count": 368,
     "metadata": {},
     "output_type": "execute_result"
    }
   ],
   "source": [
    "len(filtered_for_pos)"
   ]
  },
  {
   "cell_type": "code",
   "execution_count": 369,
   "id": "c0188efb",
   "metadata": {},
   "outputs": [
    {
     "data": {
      "text/html": [
       "<div>\n",
       "<style scoped>\n",
       "    .dataframe tbody tr th:only-of-type {\n",
       "        vertical-align: middle;\n",
       "    }\n",
       "\n",
       "    .dataframe tbody tr th {\n",
       "        vertical-align: top;\n",
       "    }\n",
       "\n",
       "    .dataframe thead th {\n",
       "        text-align: right;\n",
       "    }\n",
       "</style>\n",
       "<table border=\"1\" class=\"dataframe\">\n",
       "  <thead>\n",
       "    <tr style=\"text-align: right;\">\n",
       "      <th></th>\n",
       "      <th>quoteID</th>\n",
       "      <th>quotation</th>\n",
       "      <th>speaker</th>\n",
       "      <th>qids</th>\n",
       "      <th>date</th>\n",
       "      <th>numOccurrences</th>\n",
       "      <th>probas</th>\n",
       "      <th>urls</th>\n",
       "      <th>phase</th>\n",
       "    </tr>\n",
       "  </thead>\n",
       "  <tbody>\n",
       "    <tr>\n",
       "      <th>1506</th>\n",
       "      <td>2017-08-25-025209</td>\n",
       "      <td>facing first serious crises with Hurricane Har...</td>\n",
       "      <td>Matt Drudge</td>\n",
       "      <td>['Q1567226']</td>\n",
       "      <td>2017-08-25</td>\n",
       "      <td>5</td>\n",
       "      <td>[['Matt Drudge', '0.5346'], ['President Donald...</td>\n",
       "      <td>['http://euronews.com/2017/08/25/hurricane-har...</td>\n",
       "      <td>E</td>\n",
       "    </tr>\n",
       "    <tr>\n",
       "      <th>30922</th>\n",
       "      <td>2017-08-25-055076</td>\n",
       "      <td>If granted by the president, this request will...</td>\n",
       "      <td>None</td>\n",
       "      <td>[]</td>\n",
       "      <td>2017-08-25</td>\n",
       "      <td>6</td>\n",
       "      <td>[['None', '0.7802'], ['Greg Abbott', '0.2198']]</td>\n",
       "      <td>['http://keranews.org/post/harvey-makes-landfa...</td>\n",
       "      <td>E</td>\n",
       "    </tr>\n",
       "    <tr>\n",
       "      <th>10464</th>\n",
       "      <td>2017-08-25-104517</td>\n",
       "      <td>Texas is about to get hit by a major hurricane,</td>\n",
       "      <td>Brock Long</td>\n",
       "      <td>['Q29964476']</td>\n",
       "      <td>2017-08-25</td>\n",
       "      <td>277</td>\n",
       "      <td>[['Brock Long', '0.7948'], ['None', '0.1923'],...</td>\n",
       "      <td>['http://abcnews.go.com/US/hurricane-harvey-br...</td>\n",
       "      <td>E</td>\n",
       "    </tr>\n",
       "    <tr>\n",
       "      <th>9031</th>\n",
       "      <td>2017-08-25-077677</td>\n",
       "      <td>Keep on top of Hurricane Harvey. Don't make sa...</td>\n",
       "      <td>Chuck Grassley</td>\n",
       "      <td>['Q529294']</td>\n",
       "      <td>2017-08-25</td>\n",
       "      <td>105</td>\n",
       "      <td>[['Chuck Grassley', '0.7189'], ['None', '0.200...</td>\n",
       "      <td>['https://www.vanguardngr.com/2017/08/disaster...</td>\n",
       "      <td>E</td>\n",
       "    </tr>\n",
       "  </tbody>\n",
       "</table>\n",
       "</div>"
      ],
      "text/plain": [
       "                 quoteID                                          quotation  \\\n",
       "1506   2017-08-25-025209  facing first serious crises with Hurricane Har...   \n",
       "30922  2017-08-25-055076  If granted by the president, this request will...   \n",
       "10464  2017-08-25-104517    Texas is about to get hit by a major hurricane,   \n",
       "9031   2017-08-25-077677  Keep on top of Hurricane Harvey. Don't make sa...   \n",
       "\n",
       "              speaker           qids       date  numOccurrences  \\\n",
       "1506      Matt Drudge   ['Q1567226'] 2017-08-25               5   \n",
       "30922            None             [] 2017-08-25               6   \n",
       "10464      Brock Long  ['Q29964476'] 2017-08-25             277   \n",
       "9031   Chuck Grassley    ['Q529294'] 2017-08-25             105   \n",
       "\n",
       "                                                  probas  \\\n",
       "1506   [['Matt Drudge', '0.5346'], ['President Donald...   \n",
       "30922    [['None', '0.7802'], ['Greg Abbott', '0.2198']]   \n",
       "10464  [['Brock Long', '0.7948'], ['None', '0.1923'],...   \n",
       "9031   [['Chuck Grassley', '0.7189'], ['None', '0.200...   \n",
       "\n",
       "                                                    urls phase  \n",
       "1506   ['http://euronews.com/2017/08/25/hurricane-har...     E  \n",
       "30922  ['http://keranews.org/post/harvey-makes-landfa...     E  \n",
       "10464  ['http://abcnews.go.com/US/hurricane-harvey-br...     E  \n",
       "9031   ['https://www.vanguardngr.com/2017/08/disaster...     E  "
      ]
     },
     "execution_count": 369,
     "metadata": {},
     "output_type": "execute_result"
    }
   ],
   "source": [
    "filtered_for_pos.head(4)"
   ]
  },
  {
   "cell_type": "markdown",
   "id": "8e0ae1a9",
   "metadata": {},
   "source": [
    "**For checking and verifying relevant and irrelevant quotes, then positive and negative tag lists can be adjusted accordingly**"
   ]
  },
  {
   "cell_type": "code",
   "execution_count": 372,
   "id": "2a9bfcee",
   "metadata": {},
   "outputs": [
    {
     "data": {
      "text/plain": [
       "array([], dtype=object)"
      ]
     },
     "execution_count": 372,
     "metadata": {},
     "output_type": "execute_result"
    }
   ],
   "source": [
    "# Filter based on quotation field\n",
    "extract_quotes(filtered_for_pos, r'\\b(some_pattern)\\b', complement=False).quotation.values"
   ]
  },
  {
   "cell_type": "code",
   "execution_count": 374,
   "id": "e0d63967",
   "metadata": {},
   "outputs": [
    {
     "data": {
      "text/plain": [
       "array([], dtype=object)"
      ]
     },
     "execution_count": 374,
     "metadata": {},
     "output_type": "execute_result"
    }
   ],
   "source": [
    "# Filter based on urls field\n",
    "extract_quotes(filtered_for_pos, r'some_pattern', field='urls', complement=False).quotation.values"
   ]
  },
  {
   "cell_type": "markdown",
   "id": "65d6b11e",
   "metadata": {},
   "source": [
    "**Apply negative tags filtering (removing quotes with undesired patterns from set of positive quotes)**"
   ]
  },
  {
   "cell_type": "code",
   "execution_count": 375,
   "id": "ee3e2c2d",
   "metadata": {},
   "outputs": [],
   "source": [
    "tag_neg_list = disaster_YEAR_neg.tags.values.tolist()\n",
    "\n",
    "regex_pattern_neg = r'|'.join(tag_neg_list)"
   ]
  },
  {
   "cell_type": "code",
   "execution_count": 378,
   "id": "d61d4a36",
   "metadata": {},
   "outputs": [],
   "source": [
    "filtered_for_pos_then_neg = extract_quotes(filtered_for_pos, regex_pattern_neg, complement=True)"
   ]
  },
  {
   "cell_type": "code",
   "execution_count": 379,
   "id": "bc74fc46",
   "metadata": {},
   "outputs": [
    {
     "data": {
      "text/plain": [
       "5022"
      ]
     },
     "execution_count": 379,
     "metadata": {},
     "output_type": "execute_result"
    }
   ],
   "source": [
    "len(filtered_for_pos_then_neg)"
   ]
  },
  {
   "cell_type": "code",
   "execution_count": 380,
   "id": "1f4ac61d",
   "metadata": {},
   "outputs": [
    {
     "data": {
      "text/html": [
       "<div>\n",
       "<style scoped>\n",
       "    .dataframe tbody tr th:only-of-type {\n",
       "        vertical-align: middle;\n",
       "    }\n",
       "\n",
       "    .dataframe tbody tr th {\n",
       "        vertical-align: top;\n",
       "    }\n",
       "\n",
       "    .dataframe thead th {\n",
       "        text-align: right;\n",
       "    }\n",
       "</style>\n",
       "<table border=\"1\" class=\"dataframe\">\n",
       "  <thead>\n",
       "    <tr style=\"text-align: right;\">\n",
       "      <th></th>\n",
       "      <th>quoteID</th>\n",
       "      <th>quotation</th>\n",
       "      <th>speaker</th>\n",
       "      <th>qids</th>\n",
       "      <th>date</th>\n",
       "      <th>numOccurrences</th>\n",
       "      <th>probas</th>\n",
       "      <th>urls</th>\n",
       "      <th>phase</th>\n",
       "    </tr>\n",
       "  </thead>\n",
       "  <tbody>\n",
       "    <tr>\n",
       "      <th>1506</th>\n",
       "      <td>2017-08-25-025209</td>\n",
       "      <td>facing first serious crises with Hurricane Har...</td>\n",
       "      <td>Matt Drudge</td>\n",
       "      <td>['Q1567226']</td>\n",
       "      <td>2017-08-25</td>\n",
       "      <td>5</td>\n",
       "      <td>[['Matt Drudge', '0.5346'], ['President Donald...</td>\n",
       "      <td>['http://euronews.com/2017/08/25/hurricane-har...</td>\n",
       "      <td>E</td>\n",
       "    </tr>\n",
       "    <tr>\n",
       "      <th>30922</th>\n",
       "      <td>2017-08-25-055076</td>\n",
       "      <td>If granted by the president, this request will...</td>\n",
       "      <td>None</td>\n",
       "      <td>[]</td>\n",
       "      <td>2017-08-25</td>\n",
       "      <td>6</td>\n",
       "      <td>[['None', '0.7802'], ['Greg Abbott', '0.2198']]</td>\n",
       "      <td>['http://keranews.org/post/harvey-makes-landfa...</td>\n",
       "      <td>E</td>\n",
       "    </tr>\n",
       "    <tr>\n",
       "      <th>10464</th>\n",
       "      <td>2017-08-25-104517</td>\n",
       "      <td>Texas is about to get hit by a major hurricane,</td>\n",
       "      <td>Brock Long</td>\n",
       "      <td>['Q29964476']</td>\n",
       "      <td>2017-08-25</td>\n",
       "      <td>277</td>\n",
       "      <td>[['Brock Long', '0.7948'], ['None', '0.1923'],...</td>\n",
       "      <td>['http://abcnews.go.com/US/hurricane-harvey-br...</td>\n",
       "      <td>E</td>\n",
       "    </tr>\n",
       "    <tr>\n",
       "      <th>9031</th>\n",
       "      <td>2017-08-25-077677</td>\n",
       "      <td>Keep on top of Hurricane Harvey. Don't make sa...</td>\n",
       "      <td>Chuck Grassley</td>\n",
       "      <td>['Q529294']</td>\n",
       "      <td>2017-08-25</td>\n",
       "      <td>105</td>\n",
       "      <td>[['Chuck Grassley', '0.7189'], ['None', '0.200...</td>\n",
       "      <td>['https://www.vanguardngr.com/2017/08/disaster...</td>\n",
       "      <td>E</td>\n",
       "    </tr>\n",
       "  </tbody>\n",
       "</table>\n",
       "</div>"
      ],
      "text/plain": [
       "                 quoteID                                          quotation  \\\n",
       "1506   2017-08-25-025209  facing first serious crises with Hurricane Har...   \n",
       "30922  2017-08-25-055076  If granted by the president, this request will...   \n",
       "10464  2017-08-25-104517    Texas is about to get hit by a major hurricane,   \n",
       "9031   2017-08-25-077677  Keep on top of Hurricane Harvey. Don't make sa...   \n",
       "\n",
       "              speaker           qids       date  numOccurrences  \\\n",
       "1506      Matt Drudge   ['Q1567226'] 2017-08-25               5   \n",
       "30922            None             [] 2017-08-25               6   \n",
       "10464      Brock Long  ['Q29964476'] 2017-08-25             277   \n",
       "9031   Chuck Grassley    ['Q529294'] 2017-08-25             105   \n",
       "\n",
       "                                                  probas  \\\n",
       "1506   [['Matt Drudge', '0.5346'], ['President Donald...   \n",
       "30922    [['None', '0.7802'], ['Greg Abbott', '0.2198']]   \n",
       "10464  [['Brock Long', '0.7948'], ['None', '0.1923'],...   \n",
       "9031   [['Chuck Grassley', '0.7189'], ['None', '0.200...   \n",
       "\n",
       "                                                    urls phase  \n",
       "1506   ['http://euronews.com/2017/08/25/hurricane-har...     E  \n",
       "30922  ['http://keranews.org/post/harvey-makes-landfa...     E  \n",
       "10464  ['http://abcnews.go.com/US/hurricane-harvey-br...     E  \n",
       "9031   ['https://www.vanguardngr.com/2017/08/disaster...     E  "
      ]
     },
     "execution_count": 380,
     "metadata": {},
     "output_type": "execute_result"
    }
   ],
   "source": [
    "filtered_for_pos_then_neg.head(4)"
   ]
  },
  {
   "cell_type": "markdown",
   "id": "684f423f",
   "metadata": {},
   "source": [
    "**In a few cases extra processing (based on URLs) was used**"
   ]
  },
  {
   "cell_type": "code",
   "execution_count": 381,
   "id": "6f29e1da",
   "metadata": {},
   "outputs": [],
   "source": [
    "apply_extra = False\n",
    "apply_extra_to = filtered_for_pos_then_neg # or filtered_for_pos"
   ]
  },
  {
   "cell_type": "code",
   "execution_count": 382,
   "id": "cd081c0a",
   "metadata": {},
   "outputs": [],
   "source": [
    "if apply_extra:\n",
    "    filtered_extra = storm_tags_2017_extra(apply_extra_to)\n",
    "    print(len(filtered_extra))"
   ]
  },
  {
   "cell_type": "markdown",
   "id": "47fd14e0",
   "metadata": {},
   "source": [
    "**Double check parameters before writing to disk**"
   ]
  },
  {
   "cell_type": "code",
   "execution_count": 386,
   "id": "be88ba81",
   "metadata": {},
   "outputs": [
    {
     "data": {
      "text/plain": [
       "(2017, 'storm')"
      ]
     },
     "execution_count": 386,
     "metadata": {},
     "output_type": "execute_result"
    }
   ],
   "source": [
    "YEAR, disaster_type"
   ]
  },
  {
   "cell_type": "code",
   "execution_count": 387,
   "id": "43144924",
   "metadata": {},
   "outputs": [],
   "source": [
    "output_df = filtered_for_pos_then_neg # Or filtered_extra or filtered_for_pos"
   ]
  },
  {
   "cell_type": "code",
   "execution_count": 388,
   "id": "be50930c",
   "metadata": {},
   "outputs": [
    {
     "data": {
      "text/html": [
       "<div>\n",
       "<style scoped>\n",
       "    .dataframe tbody tr th:only-of-type {\n",
       "        vertical-align: middle;\n",
       "    }\n",
       "\n",
       "    .dataframe tbody tr th {\n",
       "        vertical-align: top;\n",
       "    }\n",
       "\n",
       "    .dataframe thead th {\n",
       "        text-align: right;\n",
       "    }\n",
       "</style>\n",
       "<table border=\"1\" class=\"dataframe\">\n",
       "  <thead>\n",
       "    <tr style=\"text-align: right;\">\n",
       "      <th></th>\n",
       "      <th>quoteID</th>\n",
       "      <th>quotation</th>\n",
       "      <th>speaker</th>\n",
       "      <th>qids</th>\n",
       "      <th>date</th>\n",
       "      <th>numOccurrences</th>\n",
       "      <th>probas</th>\n",
       "      <th>urls</th>\n",
       "      <th>phase</th>\n",
       "    </tr>\n",
       "  </thead>\n",
       "  <tbody>\n",
       "    <tr>\n",
       "      <th>1506</th>\n",
       "      <td>2017-08-25-025209</td>\n",
       "      <td>facing first serious crises with Hurricane Har...</td>\n",
       "      <td>Matt Drudge</td>\n",
       "      <td>['Q1567226']</td>\n",
       "      <td>2017-08-25</td>\n",
       "      <td>5</td>\n",
       "      <td>[['Matt Drudge', '0.5346'], ['President Donald...</td>\n",
       "      <td>['http://euronews.com/2017/08/25/hurricane-har...</td>\n",
       "      <td>E</td>\n",
       "    </tr>\n",
       "    <tr>\n",
       "      <th>30922</th>\n",
       "      <td>2017-08-25-055076</td>\n",
       "      <td>If granted by the president, this request will...</td>\n",
       "      <td>None</td>\n",
       "      <td>[]</td>\n",
       "      <td>2017-08-25</td>\n",
       "      <td>6</td>\n",
       "      <td>[['None', '0.7802'], ['Greg Abbott', '0.2198']]</td>\n",
       "      <td>['http://keranews.org/post/harvey-makes-landfa...</td>\n",
       "      <td>E</td>\n",
       "    </tr>\n",
       "    <tr>\n",
       "      <th>10464</th>\n",
       "      <td>2017-08-25-104517</td>\n",
       "      <td>Texas is about to get hit by a major hurricane,</td>\n",
       "      <td>Brock Long</td>\n",
       "      <td>['Q29964476']</td>\n",
       "      <td>2017-08-25</td>\n",
       "      <td>277</td>\n",
       "      <td>[['Brock Long', '0.7948'], ['None', '0.1923'],...</td>\n",
       "      <td>['http://abcnews.go.com/US/hurricane-harvey-br...</td>\n",
       "      <td>E</td>\n",
       "    </tr>\n",
       "    <tr>\n",
       "      <th>9031</th>\n",
       "      <td>2017-08-25-077677</td>\n",
       "      <td>Keep on top of Hurricane Harvey. Don't make sa...</td>\n",
       "      <td>Chuck Grassley</td>\n",
       "      <td>['Q529294']</td>\n",
       "      <td>2017-08-25</td>\n",
       "      <td>105</td>\n",
       "      <td>[['Chuck Grassley', '0.7189'], ['None', '0.200...</td>\n",
       "      <td>['https://www.vanguardngr.com/2017/08/disaster...</td>\n",
       "      <td>E</td>\n",
       "    </tr>\n",
       "  </tbody>\n",
       "</table>\n",
       "</div>"
      ],
      "text/plain": [
       "                 quoteID                                          quotation  \\\n",
       "1506   2017-08-25-025209  facing first serious crises with Hurricane Har...   \n",
       "30922  2017-08-25-055076  If granted by the president, this request will...   \n",
       "10464  2017-08-25-104517    Texas is about to get hit by a major hurricane,   \n",
       "9031   2017-08-25-077677  Keep on top of Hurricane Harvey. Don't make sa...   \n",
       "\n",
       "              speaker           qids       date  numOccurrences  \\\n",
       "1506      Matt Drudge   ['Q1567226'] 2017-08-25               5   \n",
       "30922            None             [] 2017-08-25               6   \n",
       "10464      Brock Long  ['Q29964476'] 2017-08-25             277   \n",
       "9031   Chuck Grassley    ['Q529294'] 2017-08-25             105   \n",
       "\n",
       "                                                  probas  \\\n",
       "1506   [['Matt Drudge', '0.5346'], ['President Donald...   \n",
       "30922    [['None', '0.7802'], ['Greg Abbott', '0.2198']]   \n",
       "10464  [['Brock Long', '0.7948'], ['None', '0.1923'],...   \n",
       "9031   [['Chuck Grassley', '0.7189'], ['None', '0.200...   \n",
       "\n",
       "                                                    urls phase  \n",
       "1506   ['http://euronews.com/2017/08/25/hurricane-har...     E  \n",
       "30922  ['http://keranews.org/post/harvey-makes-landfa...     E  \n",
       "10464  ['http://abcnews.go.com/US/hurricane-harvey-br...     E  \n",
       "9031   ['https://www.vanguardngr.com/2017/08/disaster...     E  "
      ]
     },
     "execution_count": 388,
     "metadata": {},
     "output_type": "execute_result"
    }
   ],
   "source": [
    "output_df.head(4)"
   ]
  },
  {
   "cell_type": "code",
   "execution_count": 308,
   "id": "a0363bd4",
   "metadata": {},
   "outputs": [],
   "source": [
    "write_df_to_disk(output_df, disaster_type, YEAR, additional_text='filtered')"
   ]
  }
 ],
 "metadata": {
  "kernelspec": {
   "display_name": "Python [conda env:numerical] *",
   "language": "python",
   "name": "conda-env-numerical-py"
  },
  "language_info": {
   "codemirror_mode": {
    "name": "ipython",
    "version": 3
   },
   "file_extension": ".py",
   "mimetype": "text/x-python",
   "name": "python",
   "nbconvert_exporter": "python",
   "pygments_lexer": "ipython3",
   "version": "3.8.12"
  }
 },
 "nbformat": 4,
 "nbformat_minor": 5
}
