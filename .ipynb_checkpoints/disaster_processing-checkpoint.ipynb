{
 "cells": [
  {
   "cell_type": "markdown",
   "id": "bb7f4f43",
   "metadata": {},
   "source": [
    "# Process (Filter) Data Extracted From Quotebank For Disaster"
   ]
  },
  {
   "cell_type": "markdown",
   "id": "b3df77d7",
   "metadata": {},
   "source": [
    "**Imports**"
   ]
  },
  {
   "cell_type": "code",
   "execution_count": 1,
   "id": "bb23fdcd",
   "metadata": {},
   "outputs": [],
   "source": [
    "import pandas as pd\n",
    "import re # Used for verifying and running small tests on regex patterns\n",
    "import datetime\n",
    "\n",
    "from disaster_extr_constants import *\n",
    "from disaster_extr_helpers import *"
   ]
  },
  {
   "cell_type": "markdown",
   "id": "e3a82b0b",
   "metadata": {},
   "source": [
    "**Define parameters for dataset to be filtered**"
   ]
  },
  {
   "cell_type": "code",
   "execution_count": 331,
   "id": "41944e5a",
   "metadata": {},
   "outputs": [],
   "source": [
    "YEAR = 2015\n",
    "disaster_type = 'storm'\n",
    "disaster_YEAR_pos = storm_tags_2015_pos\n",
    "#disaster_YEAR_neg = storm_tags_2017_neg\n",
    "file_path = 'data/'+str(YEAR)+'_'+disaster_type+'_climate_processed_csv.bz2'"
   ]
  },
  {
   "cell_type": "markdown",
   "id": "a241747a",
   "metadata": {},
   "source": [
    "**Load EMDAT for date retrieval and extracted quote set (which still needs to be filtered)**"
   ]
  },
  {
   "cell_type": "code",
   "execution_count": 332,
   "id": "9bd9f134",
   "metadata": {},
   "outputs": [],
   "source": [
    "data = 'data/emdat_processed.csv'\n",
    "parse_dates = ['StartDate', 'EndDate']\n",
    "df_emdat = pd.read_csv(data, index_col=\"Dis No\", parse_dates = parse_dates)"
   ]
  },
  {
   "cell_type": "markdown",
   "id": "fa682218",
   "metadata": {},
   "source": [
    "**Extracted quotes are from larger time interval than disaster itself to account for evolution of discussion around climate change. Specifically, quotes are extracted in the interval [start - 21 days, end + 21 days]. Note that if the disaster lasted more than 30 days the interval is [start - 21 days, end].**"
   ]
  },
  {
   "cell_type": "code",
   "execution_count": 333,
   "id": "e84fb75b",
   "metadata": {},
   "outputs": [],
   "source": [
    "disaster_df_quotes = pd.read_csv(file_path, parse_dates = ['date'], compression='bz2')"
   ]
  },
  {
   "cell_type": "markdown",
   "id": "2b1d827b",
   "metadata": {},
   "source": [
    "**Apply date retrieval (special case for 2020 because StartDate is in 2019)**"
   ]
  },
  {
   "cell_type": "code",
   "execution_count": 334,
   "id": "f8c90fb4",
   "metadata": {},
   "outputs": [],
   "source": [
    "if disaster_type == 'heat_wave':\n",
    "    \n",
    "    if YEAR == 2020:\n",
    "        df_heat_wave = get_df_disaster(df_emdat, HEAT_WAVES_2020, HEAT_WAVES_2020_val)\n",
    "        df_heat_wave_bounds = retrieve_bounding_dates(df_heat_wave)\n",
    "    else:\n",
    "        df_heat_wave = get_df_disaster(df_emdat, HEAT_WAVES, HEAT_WAVES_val)\n",
    "        df_heat_wave_bounds = retrieve_bounding_dates(df_heat_wave)\n",
    "        \n",
    "    disaster_df = df_heat_wave\n",
    "    disaster_df_bounds = df_heat_wave_bounds\n",
    "        \n",
    "elif disaster_type == 'storm':\n",
    "    \n",
    "    if YEAR == 2020:\n",
    "        df_storm = get_df_disaster(df_emdat, STORMS_2020, STORMS_2020_val)\n",
    "        df_storm_bounds = retrieve_bounding_dates(df_storm)\n",
    "    else:\n",
    "        df_storm = get_df_disaster(df_emdat, STORMS, STORMS_val)\n",
    "        df_storm_bounds = retrieve_bounding_dates(df_storm)\n",
    "\n",
    "    disaster_df = df_storm\n",
    "    disaster_df_bounds = df_storm_bounds\n",
    "    \n",
    "if YEAR == 2020:\n",
    "    lookupYEAR = YEAR-1\n",
    "else:\n",
    "    lookupYEAR = YEAR\n",
    "    \n",
    "\n",
    "start_YEAR, end_YEAR = disaster_df_bounds.loc[lookupYEAR].MinStartDate, disaster_df_bounds.loc[lookupYEAR].MaxEndDate"
   ]
  },
  {
   "cell_type": "markdown",
   "id": "661546ef",
   "metadata": {},
   "source": [
    "**Overview over all disasters for a given disaster type (note: separate table for 2020)**"
   ]
  },
  {
   "cell_type": "code",
   "execution_count": 335,
   "id": "6012abd8",
   "metadata": {},
   "outputs": [
    {
     "data": {
      "text/html": [
       "<div>\n",
       "<style scoped>\n",
       "    .dataframe tbody tr th:only-of-type {\n",
       "        vertical-align: middle;\n",
       "    }\n",
       "\n",
       "    .dataframe tbody tr th {\n",
       "        vertical-align: top;\n",
       "    }\n",
       "\n",
       "    .dataframe thead th {\n",
       "        text-align: right;\n",
       "    }\n",
       "</style>\n",
       "<table border=\"1\" class=\"dataframe\">\n",
       "  <thead>\n",
       "    <tr style=\"text-align: right;\">\n",
       "      <th></th>\n",
       "      <th>Type</th>\n",
       "      <th>Subtype</th>\n",
       "      <th>Name</th>\n",
       "      <th>Country</th>\n",
       "      <th>StartDate</th>\n",
       "      <th>EndDate</th>\n",
       "    </tr>\n",
       "    <tr>\n",
       "      <th>Dis No</th>\n",
       "      <th></th>\n",
       "      <th></th>\n",
       "      <th></th>\n",
       "      <th></th>\n",
       "      <th></th>\n",
       "      <th></th>\n",
       "    </tr>\n",
       "  </thead>\n",
       "  <tbody>\n",
       "    <tr>\n",
       "      <th>2015-0470-MEX</th>\n",
       "      <td>Storm</td>\n",
       "      <td>Tropical cyclone</td>\n",
       "      <td>Hurricane Patricia</td>\n",
       "      <td>Mexico</td>\n",
       "      <td>2015-10-22</td>\n",
       "      <td>2015-10-28</td>\n",
       "    </tr>\n",
       "    <tr>\n",
       "      <th>2016-0041-FJI</th>\n",
       "      <td>Storm</td>\n",
       "      <td>Tropical cyclone</td>\n",
       "      <td>Cyclone Winston</td>\n",
       "      <td>Fiji</td>\n",
       "      <td>2016-02-20</td>\n",
       "      <td>2016-02-21</td>\n",
       "    </tr>\n",
       "    <tr>\n",
       "      <th>2017-0362-USA</th>\n",
       "      <td>Storm</td>\n",
       "      <td>Tropical cyclone</td>\n",
       "      <td>Hurricane Harvey</td>\n",
       "      <td>United States of America (the)</td>\n",
       "      <td>2017-08-25</td>\n",
       "      <td>2017-08-29</td>\n",
       "    </tr>\n",
       "    <tr>\n",
       "      <th>2018-0341-CHN</th>\n",
       "      <td>Storm</td>\n",
       "      <td>Tropical cyclone</td>\n",
       "      <td>Typhoon Mangkut (Ompong)</td>\n",
       "      <td>China</td>\n",
       "      <td>2018-09-10</td>\n",
       "      <td>2018-09-18</td>\n",
       "    </tr>\n",
       "    <tr>\n",
       "      <th>2018-0342-USA</th>\n",
       "      <td>Storm</td>\n",
       "      <td>Tropical cyclone</td>\n",
       "      <td>Hurricane Florence</td>\n",
       "      <td>United States of America (the)</td>\n",
       "      <td>2018-09-12</td>\n",
       "      <td>2018-09-18</td>\n",
       "    </tr>\n",
       "    <tr>\n",
       "      <th>2018-0341-PHL</th>\n",
       "      <td>Storm</td>\n",
       "      <td>Tropical cyclone</td>\n",
       "      <td>Typhoon Mangkut (Ompong)</td>\n",
       "      <td>Philippines (the)</td>\n",
       "      <td>2018-09-16</td>\n",
       "      <td>2018-09-16</td>\n",
       "    </tr>\n",
       "    <tr>\n",
       "      <th>2018-0341-HKG</th>\n",
       "      <td>Storm</td>\n",
       "      <td>Tropical cyclone</td>\n",
       "      <td>Typhoon Mangkut (Ompong)</td>\n",
       "      <td>Hong Kong</td>\n",
       "      <td>2018-09-17</td>\n",
       "      <td>2018-09-17</td>\n",
       "    </tr>\n",
       "    <tr>\n",
       "      <th>2019-0492-JPN</th>\n",
       "      <td>Storm</td>\n",
       "      <td>Tropical cyclone</td>\n",
       "      <td>Tropical cylone 'Hagibis'</td>\n",
       "      <td>Japan</td>\n",
       "      <td>2019-10-12</td>\n",
       "      <td>2019-10-17</td>\n",
       "    </tr>\n",
       "  </tbody>\n",
       "</table>\n",
       "</div>"
      ],
      "text/plain": [
       "                Type           Subtype                       Name  \\\n",
       "Dis No                                                              \n",
       "2015-0470-MEX  Storm  Tropical cyclone         Hurricane Patricia   \n",
       "2016-0041-FJI  Storm  Tropical cyclone            Cyclone Winston   \n",
       "2017-0362-USA  Storm  Tropical cyclone           Hurricane Harvey   \n",
       "2018-0341-CHN  Storm  Tropical cyclone   Typhoon Mangkut (Ompong)   \n",
       "2018-0342-USA  Storm  Tropical cyclone         Hurricane Florence   \n",
       "2018-0341-PHL  Storm  Tropical cyclone   Typhoon Mangkut (Ompong)   \n",
       "2018-0341-HKG  Storm  Tropical cyclone   Typhoon Mangkut (Ompong)   \n",
       "2019-0492-JPN  Storm  Tropical cyclone  Tropical cylone 'Hagibis'   \n",
       "\n",
       "                                      Country  StartDate    EndDate  \n",
       "Dis No                                                               \n",
       "2015-0470-MEX                          Mexico 2015-10-22 2015-10-28  \n",
       "2016-0041-FJI                            Fiji 2016-02-20 2016-02-21  \n",
       "2017-0362-USA  United States of America (the) 2017-08-25 2017-08-29  \n",
       "2018-0341-CHN                           China 2018-09-10 2018-09-18  \n",
       "2018-0342-USA  United States of America (the) 2018-09-12 2018-09-18  \n",
       "2018-0341-PHL               Philippines (the) 2018-09-16 2018-09-16  \n",
       "2018-0341-HKG                       Hong Kong 2018-09-17 2018-09-17  \n",
       "2019-0492-JPN                           Japan 2019-10-12 2019-10-17  "
      ]
     },
     "execution_count": 335,
     "metadata": {},
     "output_type": "execute_result"
    }
   ],
   "source": [
    "disaster_df[['Type', 'Subtype','Name', 'Country','StartDate','EndDate']]"
   ]
  },
  {
   "cell_type": "markdown",
   "id": "f910c178",
   "metadata": {},
   "source": [
    "**Overview over start and end dates (when a particluar disaster contains several entries pick the earliest StartDate and latest EndDate)**"
   ]
  },
  {
   "cell_type": "code",
   "execution_count": 336,
   "id": "2bdd628d",
   "metadata": {
    "scrolled": true
   },
   "outputs": [
    {
     "data": {
      "text/html": [
       "<div>\n",
       "<style scoped>\n",
       "    .dataframe tbody tr th:only-of-type {\n",
       "        vertical-align: middle;\n",
       "    }\n",
       "\n",
       "    .dataframe tbody tr th {\n",
       "        vertical-align: top;\n",
       "    }\n",
       "\n",
       "    .dataframe thead th {\n",
       "        text-align: right;\n",
       "    }\n",
       "</style>\n",
       "<table border=\"1\" class=\"dataframe\">\n",
       "  <thead>\n",
       "    <tr style=\"text-align: right;\">\n",
       "      <th></th>\n",
       "      <th>MinStartDate</th>\n",
       "      <th>MaxEndDate</th>\n",
       "    </tr>\n",
       "    <tr>\n",
       "      <th>Year</th>\n",
       "      <th></th>\n",
       "      <th></th>\n",
       "    </tr>\n",
       "  </thead>\n",
       "  <tbody>\n",
       "    <tr>\n",
       "      <th>2015</th>\n",
       "      <td>2015-10-22</td>\n",
       "      <td>2015-10-28</td>\n",
       "    </tr>\n",
       "    <tr>\n",
       "      <th>2016</th>\n",
       "      <td>2016-02-20</td>\n",
       "      <td>2016-02-21</td>\n",
       "    </tr>\n",
       "    <tr>\n",
       "      <th>2017</th>\n",
       "      <td>2017-08-25</td>\n",
       "      <td>2017-08-29</td>\n",
       "    </tr>\n",
       "    <tr>\n",
       "      <th>2018</th>\n",
       "      <td>2018-09-10</td>\n",
       "      <td>2018-09-18</td>\n",
       "    </tr>\n",
       "    <tr>\n",
       "      <th>2019</th>\n",
       "      <td>2019-10-12</td>\n",
       "      <td>2019-10-17</td>\n",
       "    </tr>\n",
       "  </tbody>\n",
       "</table>\n",
       "</div>"
      ],
      "text/plain": [
       "     MinStartDate MaxEndDate\n",
       "Year                        \n",
       "2015   2015-10-22 2015-10-28\n",
       "2016   2016-02-20 2016-02-21\n",
       "2017   2017-08-25 2017-08-29\n",
       "2018   2018-09-10 2018-09-18\n",
       "2019   2019-10-12 2019-10-17"
      ]
     },
     "execution_count": 336,
     "metadata": {},
     "output_type": "execute_result"
    }
   ],
   "source": [
    "disaster_df_bounds"
   ]
  },
  {
   "cell_type": "code",
   "execution_count": 337,
   "id": "a330fe64",
   "metadata": {},
   "outputs": [
    {
     "name": "stdout",
     "output_type": "stream",
     "text": [
      "Disaster [storm] Dates: 2015-10-22 --- 2015-10-28\n"
     ]
    }
   ],
   "source": [
    "print(\"Disaster [{}] Dates: {} --- {}\".format(\n",
    "        disaster_type,\n",
    "        start_YEAR.strftime(\"%Y-%m-%d\"), \n",
    "        end_YEAR.strftime(\"%Y-%m-%d\")))"
   ]
  },
  {
   "cell_type": "markdown",
   "id": "acf3c4e7",
   "metadata": {},
   "source": [
    "**If duration of disaster is less than a month, add 10 days to end date**"
   ]
  },
  {
   "cell_type": "code",
   "execution_count": 338,
   "id": "3dd17a9b",
   "metadata": {},
   "outputs": [],
   "source": [
    "# Add 10 days to end date\n",
    "one_month = datetime.timedelta(days=31)\n",
    "ten_days = datetime.timedelta(days=10)\n",
    "two_days = datetime.timedelta(days=2)\n",
    "if end_YEAR - start_YEAR < one_month:\n",
    "    end_YEAR += ten_days\n",
    "    \n",
    "#start_YEAR -= two_days"
   ]
  },
  {
   "cell_type": "code",
   "execution_count": 339,
   "id": "1cacf18c",
   "metadata": {},
   "outputs": [
    {
     "name": "stdout",
     "output_type": "stream",
     "text": [
      "Used extraction dates: 2015-10-20 --- 2015-11-07\n"
     ]
    }
   ],
   "source": [
    "print(\"Used extraction dates: {} --- {}\".format(\n",
    "        start_YEAR.strftime(\"%Y-%m-%d\"), \n",
    "        end_YEAR.strftime(\"%Y-%m-%d\")))"
   ]
  },
  {
   "cell_type": "code",
   "execution_count": 340,
   "id": "168fe54e",
   "metadata": {},
   "outputs": [],
   "source": [
    "start_YEAR, end_YEAR = start_YEAR.strftime(\"%Y-%m-%d\"), end_YEAR.strftime(\"%Y-%m-%d\")"
   ]
  },
  {
   "cell_type": "markdown",
   "id": "278351ec",
   "metadata": {},
   "source": [
    "**Extract quotes during disaster's time interval**"
   ]
  },
  {
   "cell_type": "code",
   "execution_count": 341,
   "id": "c462c0db",
   "metadata": {},
   "outputs": [],
   "source": [
    "df_disaster_start_end = df_time_interval(disaster_df_quotes, start_YEAR, end_YEAR,date_attr='date')"
   ]
  },
  {
   "cell_type": "code",
   "execution_count": 378,
   "id": "d6938d41",
   "metadata": {},
   "outputs": [
    {
     "data": {
      "text/html": [
       "<div>\n",
       "<style scoped>\n",
       "    .dataframe tbody tr th:only-of-type {\n",
       "        vertical-align: middle;\n",
       "    }\n",
       "\n",
       "    .dataframe tbody tr th {\n",
       "        vertical-align: top;\n",
       "    }\n",
       "\n",
       "    .dataframe thead th {\n",
       "        text-align: right;\n",
       "    }\n",
       "</style>\n",
       "<table border=\"1\" class=\"dataframe\">\n",
       "  <thead>\n",
       "    <tr style=\"text-align: right;\">\n",
       "      <th></th>\n",
       "      <th>quoteID</th>\n",
       "      <th>quotation</th>\n",
       "      <th>speaker</th>\n",
       "      <th>qids</th>\n",
       "      <th>date</th>\n",
       "      <th>numOccurrences</th>\n",
       "      <th>probas</th>\n",
       "      <th>urls</th>\n",
       "      <th>phase</th>\n",
       "    </tr>\n",
       "  </thead>\n",
       "  <tbody>\n",
       "    <tr>\n",
       "      <th>0</th>\n",
       "      <td>2015-10-30-057627</td>\n",
       "      <td>It kept me up all night, the wind. The windows...</td>\n",
       "      <td>Jorge Rodriguez</td>\n",
       "      <td>['Q27574431', 'Q3295308', 'Q6278572', 'Q627857...</td>\n",
       "      <td>2015-10-30 06:09:05</td>\n",
       "      <td>1</td>\n",
       "      <td>[['Jorge Rodriguez', '0.5058'], ['None', '0.49...</td>\n",
       "      <td>['http://www.kesq.com/news/strong-winds-blast-...</td>\n",
       "      <td>E</td>\n",
       "    </tr>\n",
       "    <tr>\n",
       "      <th>1</th>\n",
       "      <td>2015-10-29-104475</td>\n",
       "      <td>The Baker Polito Administration is fully devot...</td>\n",
       "      <td>Peter Lorenz</td>\n",
       "      <td>['Q1336282']</td>\n",
       "      <td>2015-10-29 10:49:41</td>\n",
       "      <td>3</td>\n",
       "      <td>[['Peter Lorenz', '0.6971'], ['None', '0.2916'...</td>\n",
       "      <td>['http://insideclimatenews.org/news/29102015/m...</td>\n",
       "      <td>E</td>\n",
       "    </tr>\n",
       "  </tbody>\n",
       "</table>\n",
       "</div>"
      ],
      "text/plain": [
       "             quoteID                                          quotation  \\\n",
       "0  2015-10-30-057627  It kept me up all night, the wind. The windows...   \n",
       "1  2015-10-29-104475  The Baker Polito Administration is fully devot...   \n",
       "\n",
       "           speaker                                               qids  \\\n",
       "0  Jorge Rodriguez  ['Q27574431', 'Q3295308', 'Q6278572', 'Q627857...   \n",
       "1     Peter Lorenz                                       ['Q1336282']   \n",
       "\n",
       "                 date  numOccurrences  \\\n",
       "0 2015-10-30 06:09:05               1   \n",
       "1 2015-10-29 10:49:41               3   \n",
       "\n",
       "                                              probas  \\\n",
       "0  [['Jorge Rodriguez', '0.5058'], ['None', '0.49...   \n",
       "1  [['Peter Lorenz', '0.6971'], ['None', '0.2916'...   \n",
       "\n",
       "                                                urls phase  \n",
       "0  ['http://www.kesq.com/news/strong-winds-blast-...     E  \n",
       "1  ['http://insideclimatenews.org/news/29102015/m...     E  "
      ]
     },
     "execution_count": 378,
     "metadata": {},
     "output_type": "execute_result"
    }
   ],
   "source": [
    "df_disaster_start_end.head(2)"
   ]
  },
  {
   "cell_type": "markdown",
   "id": "61eabeb7",
   "metadata": {},
   "source": [
    "**Retrieve corresponding positive tag list and verify regex before filtering**"
   ]
  },
  {
   "cell_type": "code",
   "execution_count": 343,
   "id": "d8dd31aa",
   "metadata": {},
   "outputs": [],
   "source": [
    "tags_pos_list = disaster_YEAR_pos.tags.values.tolist()"
   ]
  },
  {
   "cell_type": "code",
   "execution_count": 344,
   "id": "84795a04",
   "metadata": {},
   "outputs": [
    {
     "data": {
      "text/plain": [
       "['(?=.*\\\\b([mM]exic(o|ans?)|[tT]ehuantepec|[cC]oasts?|[jJ]alisco)\\\\b)(?=.*\\\\b([hH]urricanes?|[sS]torms?)\\\\b)',\n",
       " '(?=.*\\\\b([mM]exic(o|ans?)|[tT]ehuantepec|[cC]oasts?|[jJ]alisco)\\\\b)(?=.*\\\\b([fF]lood(waters?|s|ed|ing)?|[rR]ain(ed|s|fall)?|[lL]andslides?)\\\\b)',\n",
       " '\\\\b(Patricia)\\\\b',\n",
       " '\\\\b([cC]ategory 5)\\\\b',\n",
       " '\\\\b(NOAA)\\\\b',\n",
       " '\\\\b(National Hurricane Center|NHC)\\\\b',\n",
       " '\\\\b(Mexican (Red Cross|Army|Navy|Federal Police))\\\\b']"
      ]
     },
     "execution_count": 344,
     "metadata": {},
     "output_type": "execute_result"
    }
   ],
   "source": [
    "tags_pos_list"
   ]
  },
  {
   "cell_type": "code",
   "execution_count": 345,
   "id": "af000bbb",
   "metadata": {},
   "outputs": [],
   "source": [
    "regex_pattern_pos = r'|'.join(tags_pos_list)"
   ]
  },
  {
   "cell_type": "code",
   "execution_count": 346,
   "id": "1f4c98d0",
   "metadata": {},
   "outputs": [
    {
     "data": {
      "text/plain": [
       "'A boring sentence about FOUND PATTERN being performed FOUND PATTERN in an FOUND PATTERN setting.'"
      ]
     },
     "execution_count": 346,
     "metadata": {},
     "output_type": "execute_result"
    }
   ],
   "source": [
    "# Verify a regex by performing sample tests\n",
    "sample_text = 'A boring sentence about experiments being performed Experimentally in an experimental setting.'\n",
    "re.sub(r'\\b([eE]xperiment(s|al|ally|)?)\\b', 'FOUND PATTERN',sample_text)"
   ]
  },
  {
   "cell_type": "markdown",
   "id": "c8ff5c0d",
   "metadata": {},
   "source": [
    "**Apply positive tags filtering (selecting quotes with desired patterns)**"
   ]
  },
  {
   "cell_type": "code",
   "execution_count": 347,
   "id": "2d6153ac",
   "metadata": {},
   "outputs": [
    {
     "name": "stderr",
     "output_type": "stream",
     "text": [
      "/Users/gil/EPFL/4 - Fourth Year/Semester 1/ADA/Project/ada-2021-project-data-alchemy/disaster_extr_helpers.py:17: UserWarning: This pattern has match groups. To actually get the groups, use str.extract.\n",
      "  mask = df[field].str.contains(regex)\n"
     ]
    }
   ],
   "source": [
    "filtered_for_pos = extract_quotes(df_disaster_start_end, regex_pattern_pos).sort_values(by='date')"
   ]
  },
  {
   "cell_type": "code",
   "execution_count": 348,
   "id": "ba81ae4d",
   "metadata": {},
   "outputs": [
    {
     "data": {
      "text/plain": [
       "236"
      ]
     },
     "execution_count": 348,
     "metadata": {},
     "output_type": "execute_result"
    }
   ],
   "source": [
    "len(filtered_for_pos)"
   ]
  },
  {
   "cell_type": "code",
   "execution_count": 368,
   "id": "17d73a6f",
   "metadata": {
    "scrolled": true
   },
   "outputs": [
    {
     "data": {
      "text/html": [
       "<div>\n",
       "<style scoped>\n",
       "    .dataframe tbody tr th:only-of-type {\n",
       "        vertical-align: middle;\n",
       "    }\n",
       "\n",
       "    .dataframe tbody tr th {\n",
       "        vertical-align: top;\n",
       "    }\n",
       "\n",
       "    .dataframe thead th {\n",
       "        text-align: right;\n",
       "    }\n",
       "</style>\n",
       "<table border=\"1\" class=\"dataframe\">\n",
       "  <thead>\n",
       "    <tr style=\"text-align: right;\">\n",
       "      <th></th>\n",
       "      <th>quoteID</th>\n",
       "      <th>quotation</th>\n",
       "      <th>speaker</th>\n",
       "      <th>qids</th>\n",
       "      <th>date</th>\n",
       "      <th>numOccurrences</th>\n",
       "      <th>probas</th>\n",
       "      <th>urls</th>\n",
       "      <th>phase</th>\n",
       "    </tr>\n",
       "  </thead>\n",
       "  <tbody>\n",
       "    <tr>\n",
       "      <th>3100</th>\n",
       "      <td>2015-10-20-119076</td>\n",
       "      <td>There was an area of low pressure that crossed...</td>\n",
       "      <td>Ronald Gordon</td>\n",
       "      <td>['Q7364903']</td>\n",
       "      <td>2015-10-20 03:16:14</td>\n",
       "      <td>1</td>\n",
       "      <td>[['Ronald Gordon', '0.8755'], ['None', '0.1245']]</td>\n",
       "      <td>['http://edition.channel5belize.com/archives/1...</td>\n",
       "      <td>E</td>\n",
       "    </tr>\n",
       "    <tr>\n",
       "      <th>2227</th>\n",
       "      <td>2015-10-20-066454</td>\n",
       "      <td>It took, since the hurricane was still in the ...</td>\n",
       "      <td>Bill Nelson</td>\n",
       "      <td>['Q22639331', 'Q3272899', 'Q358437', 'Q4910326']</td>\n",
       "      <td>2015-10-20 06:54:11</td>\n",
       "      <td>1</td>\n",
       "      <td>[['Bill Nelson', '0.9047'], ['None', '0.0953']]</td>\n",
       "      <td>['http://news4jax.com/news/ntsb-to-release-el-...</td>\n",
       "      <td>E</td>\n",
       "    </tr>\n",
       "  </tbody>\n",
       "</table>\n",
       "</div>"
      ],
      "text/plain": [
       "                quoteID                                          quotation  \\\n",
       "3100  2015-10-20-119076  There was an area of low pressure that crossed...   \n",
       "2227  2015-10-20-066454  It took, since the hurricane was still in the ...   \n",
       "\n",
       "            speaker                                              qids  \\\n",
       "3100  Ronald Gordon                                      ['Q7364903']   \n",
       "2227    Bill Nelson  ['Q22639331', 'Q3272899', 'Q358437', 'Q4910326']   \n",
       "\n",
       "                    date  numOccurrences  \\\n",
       "3100 2015-10-20 03:16:14               1   \n",
       "2227 2015-10-20 06:54:11               1   \n",
       "\n",
       "                                                 probas  \\\n",
       "3100  [['Ronald Gordon', '0.8755'], ['None', '0.1245']]   \n",
       "2227    [['Bill Nelson', '0.9047'], ['None', '0.0953']]   \n",
       "\n",
       "                                                   urls phase  \n",
       "3100  ['http://edition.channel5belize.com/archives/1...     E  \n",
       "2227  ['http://news4jax.com/news/ntsb-to-release-el-...     E  "
      ]
     },
     "execution_count": 368,
     "metadata": {},
     "output_type": "execute_result"
    }
   ],
   "source": [
    "filtered_for_pos.head(2)"
   ]
  },
  {
   "cell_type": "markdown",
   "id": "921d4bdf",
   "metadata": {},
   "source": [
    "**For checking and verifying relevant and irrelevant quotes, then positive and negative tag lists can be adjusted accordingly**"
   ]
  },
  {
   "cell_type": "code",
   "execution_count": 369,
   "id": "33e2229d",
   "metadata": {},
   "outputs": [
    {
     "name": "stderr",
     "output_type": "stream",
     "text": [
      "/Users/gil/EPFL/4 - Fourth Year/Semester 1/ADA/Project/ada-2021-project-data-alchemy/disaster_extr_helpers.py:17: UserWarning: This pattern has match groups. To actually get the groups, use str.extract.\n",
      "  mask = df[field].str.contains(regex)\n"
     ]
    },
    {
     "data": {
      "text/plain": [
       "array([], dtype=object)"
      ]
     },
     "execution_count": 369,
     "metadata": {},
     "output_type": "execute_result"
    }
   ],
   "source": [
    "# Filter based on quotation field\n",
    "extract_quotes(filtered_for_pos, r'\\b(some pattern)\\b', complement=False).quotation.values"
   ]
  },
  {
   "cell_type": "code",
   "execution_count": 370,
   "id": "1ee6d5cf",
   "metadata": {},
   "outputs": [
    {
     "data": {
      "text/plain": [
       "array([], dtype=object)"
      ]
     },
     "execution_count": 370,
     "metadata": {},
     "output_type": "execute_result"
    }
   ],
   "source": [
    "# Filter based on urls field\n",
    "extract_quotes(filtered_for_pos, r'some_pattern', field='urls', complement=False).quotation.values"
   ]
  },
  {
   "cell_type": "markdown",
   "id": "2deedfb0",
   "metadata": {},
   "source": [
    "**Apply negative tags filtering (removing quotes with undesired patterns from set of positive quotes)**"
   ]
  },
  {
   "cell_type": "code",
   "execution_count": 371,
   "id": "8805526b",
   "metadata": {},
   "outputs": [],
   "source": [
    "tag_neg_list = disaster_YEAR_neg.tags.values.tolist()\n",
    "\n",
    "regex_pattern_neg = r'|'.join(tag_neg_list)"
   ]
  },
  {
   "cell_type": "code",
   "execution_count": 372,
   "id": "f455ea7a",
   "metadata": {},
   "outputs": [],
   "source": [
    "filtered_for_pos_then_neg = extract_quotes(filtered_for_pos, regex_pattern_neg, complement=True)"
   ]
  },
  {
   "cell_type": "code",
   "execution_count": 373,
   "id": "460fa6bb",
   "metadata": {},
   "outputs": [
    {
     "data": {
      "text/plain": [
       "236"
      ]
     },
     "execution_count": 373,
     "metadata": {},
     "output_type": "execute_result"
    }
   ],
   "source": [
    "len(filtered_for_pos_then_neg)"
   ]
  },
  {
   "cell_type": "markdown",
   "id": "320ed7cb",
   "metadata": {},
   "source": [
    "**In a few cases extra processing (based on URLs) was used**"
   ]
  },
  {
   "cell_type": "code",
   "execution_count": 374,
   "id": "f8dd4dbd",
   "metadata": {},
   "outputs": [],
   "source": [
    "apply_extra = False\n",
    "apply_extra_to = filtered_for_pos # or filtered_for_pos"
   ]
  },
  {
   "cell_type": "code",
   "execution_count": 375,
   "id": "95235219",
   "metadata": {},
   "outputs": [],
   "source": [
    "if apply_extra:\n",
    "    filtered_extra = storm_tags_2015_extra(apply_extra_to)\n",
    "    print(len(filtered_extra))"
   ]
  },
  {
   "cell_type": "markdown",
   "id": "1d693104",
   "metadata": {},
   "source": [
    "**Double check parameters before writing to disk**"
   ]
  },
  {
   "cell_type": "code",
   "execution_count": 299,
   "id": "7d230345",
   "metadata": {},
   "outputs": [
    {
     "data": {
      "text/plain": [
       "(2019, 'storm')"
      ]
     },
     "execution_count": 299,
     "metadata": {},
     "output_type": "execute_result"
    }
   ],
   "source": [
    "YEAR, disaster_type"
   ]
  },
  {
   "cell_type": "code",
   "execution_count": 300,
   "id": "514ce0e3",
   "metadata": {},
   "outputs": [],
   "source": [
    "output_df = filtered_for_pos_then_neg # Or filtered_extra or filtered_for_pos"
   ]
  },
  {
   "cell_type": "code",
   "execution_count": 376,
   "id": "d47393f5",
   "metadata": {},
   "outputs": [
    {
     "data": {
      "text/plain": [
       "152"
      ]
     },
     "execution_count": 376,
     "metadata": {},
     "output_type": "execute_result"
    }
   ],
   "source": [
    "len(output_df)"
   ]
  },
  {
   "cell_type": "code",
   "execution_count": 377,
   "id": "db6a6e91",
   "metadata": {},
   "outputs": [
    {
     "data": {
      "text/html": [
       "<div>\n",
       "<style scoped>\n",
       "    .dataframe tbody tr th:only-of-type {\n",
       "        vertical-align: middle;\n",
       "    }\n",
       "\n",
       "    .dataframe tbody tr th {\n",
       "        vertical-align: top;\n",
       "    }\n",
       "\n",
       "    .dataframe thead th {\n",
       "        text-align: right;\n",
       "    }\n",
       "</style>\n",
       "<table border=\"1\" class=\"dataframe\">\n",
       "  <thead>\n",
       "    <tr style=\"text-align: right;\">\n",
       "      <th></th>\n",
       "      <th>quoteID</th>\n",
       "      <th>quotation</th>\n",
       "      <th>speaker</th>\n",
       "      <th>qids</th>\n",
       "      <th>date</th>\n",
       "      <th>numOccurrences</th>\n",
       "      <th>probas</th>\n",
       "      <th>urls</th>\n",
       "      <th>phase</th>\n",
       "    </tr>\n",
       "  </thead>\n",
       "  <tbody>\n",
       "    <tr>\n",
       "      <th>3450</th>\n",
       "      <td>2019-10-07-012436</td>\n",
       "      <td>Children have also limitations in terms of the...</td>\n",
       "      <td>Jim Clark</td>\n",
       "      <td>['Q16114343', 'Q23091533', 'Q360002', 'Q556150...</td>\n",
       "      <td>2019-10-07 00:00:00</td>\n",
       "      <td>1</td>\n",
       "      <td>[['Jim Clark', '0.8462'], ['None', '0.1538']]</td>\n",
       "      <td>['http://news.wfsu.org/post/mental-health-stru...</td>\n",
       "      <td>E</td>\n",
       "    </tr>\n",
       "    <tr>\n",
       "      <th>10665</th>\n",
       "      <td>2019-10-07-091917</td>\n",
       "      <td>We are currently monitoring the development of...</td>\n",
       "      <td>None</td>\n",
       "      <td>[]</td>\n",
       "      <td>2019-10-07 03:47:48</td>\n",
       "      <td>230</td>\n",
       "      <td>[['None', '0.9076'], ['Warren Gatland', '0.086...</td>\n",
       "      <td>['https://www.the42.ie/ireland-world-cup-typho...</td>\n",
       "      <td>E</td>\n",
       "    </tr>\n",
       "  </tbody>\n",
       "</table>\n",
       "</div>"
      ],
      "text/plain": [
       "                 quoteID                                          quotation  \\\n",
       "3450   2019-10-07-012436  Children have also limitations in terms of the...   \n",
       "10665  2019-10-07-091917  We are currently monitoring the development of...   \n",
       "\n",
       "         speaker                                               qids  \\\n",
       "3450   Jim Clark  ['Q16114343', 'Q23091533', 'Q360002', 'Q556150...   \n",
       "10665       None                                                 []   \n",
       "\n",
       "                     date  numOccurrences  \\\n",
       "3450  2019-10-07 00:00:00               1   \n",
       "10665 2019-10-07 03:47:48             230   \n",
       "\n",
       "                                                  probas  \\\n",
       "3450       [['Jim Clark', '0.8462'], ['None', '0.1538']]   \n",
       "10665  [['None', '0.9076'], ['Warren Gatland', '0.086...   \n",
       "\n",
       "                                                    urls phase  \n",
       "3450   ['http://news.wfsu.org/post/mental-health-stru...     E  \n",
       "10665  ['https://www.the42.ie/ireland-world-cup-typho...     E  "
      ]
     },
     "execution_count": 377,
     "metadata": {},
     "output_type": "execute_result"
    }
   ],
   "source": [
    "output_df.head(2)"
   ]
  },
  {
   "cell_type": "code",
   "execution_count": 305,
   "id": "7649fe0f",
   "metadata": {},
   "outputs": [],
   "source": [
    "write_df_to_disk(output_df, disaster_type, YEAR, additional_text='filtered')"
   ]
  }
 ],
 "metadata": {
  "kernelspec": {
   "display_name": "Python [conda env:numerical] *",
   "language": "python",
   "name": "conda-env-numerical-py"
  },
  "language_info": {
   "codemirror_mode": {
    "name": "ipython",
    "version": 3
   },
   "file_extension": ".py",
   "mimetype": "text/x-python",
   "name": "python",
   "nbconvert_exporter": "python",
   "pygments_lexer": "ipython3",
   "version": "3.8.12"
  }
 },
 "nbformat": 4,
 "nbformat_minor": 5
}
