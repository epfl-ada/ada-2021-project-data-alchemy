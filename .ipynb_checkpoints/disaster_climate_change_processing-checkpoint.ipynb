{
 "cells": [
  {
   "cell_type": "code",
   "execution_count": 205,
   "id": "43da2de6",
   "metadata": {},
   "outputs": [],
   "source": [
    "import pandas as pd\n",
    "import re\n",
    "import datetime\n",
    "\n",
    "from disaster_extr_constants import *\n",
    "from disaster_extr_helpers import *"
   ]
  },
  {
   "cell_type": "code",
   "execution_count": 307,
   "id": "46612f14",
   "metadata": {},
   "outputs": [],
   "source": [
    "YEAR = 2016\n",
    "disaster_type = 'heat_wave'\n",
    "file_path = 'data/'+str(YEAR)+'_'+disaster_type+'_climate_processed_csv.bz2'"
   ]
  },
  {
   "cell_type": "code",
   "execution_count": 308,
   "id": "7868e1cc",
   "metadata": {},
   "outputs": [],
   "source": [
    "data = 'data/emdat_processed.csv'\n",
    "parse_dates = ['StartDate', 'EndDate']\n",
    "df_emdat = pd.read_csv(data, index_col=\"Dis No\", parse_dates = parse_dates)"
   ]
  },
  {
   "cell_type": "code",
   "execution_count": 309,
   "id": "4eed147d",
   "metadata": {},
   "outputs": [],
   "source": [
    "disaster_df = pd.read_csv(file_path, parse_dates = ['date'], compression='bz2')"
   ]
  },
  {
   "cell_type": "code",
   "execution_count": 415,
   "id": "70879cb7",
   "metadata": {},
   "outputs": [
    {
     "data": {
      "text/html": [
       "<div>\n",
       "<style scoped>\n",
       "    .dataframe tbody tr th:only-of-type {\n",
       "        vertical-align: middle;\n",
       "    }\n",
       "\n",
       "    .dataframe tbody tr th {\n",
       "        vertical-align: top;\n",
       "    }\n",
       "\n",
       "    .dataframe thead th {\n",
       "        text-align: right;\n",
       "    }\n",
       "</style>\n",
       "<table border=\"1\" class=\"dataframe\">\n",
       "  <thead>\n",
       "    <tr style=\"text-align: right;\">\n",
       "      <th></th>\n",
       "      <th>quoteID</th>\n",
       "      <th>quotation</th>\n",
       "      <th>speaker</th>\n",
       "      <th>qids</th>\n",
       "      <th>date</th>\n",
       "      <th>numOccurrences</th>\n",
       "      <th>probas</th>\n",
       "      <th>urls</th>\n",
       "      <th>phase</th>\n",
       "    </tr>\n",
       "  </thead>\n",
       "  <tbody>\n",
       "    <tr>\n",
       "      <th>0</th>\n",
       "      <td>2016-04-17-002590</td>\n",
       "      <td>It never got to be a high temperature and we t...</td>\n",
       "      <td>Jerry Hollendorfer</td>\n",
       "      <td>['Q6183758']</td>\n",
       "      <td>2016-04-17 18:01:00</td>\n",
       "      <td>1</td>\n",
       "      <td>[['Jerry Hollendorfer', '0.7263'], ['None', '0...</td>\n",
       "      <td>['http://www.bloodhorse.com/horse-racing/artic...</td>\n",
       "      <td>E</td>\n",
       "    </tr>\n",
       "    <tr>\n",
       "      <th>1</th>\n",
       "      <td>2016-04-18-050849</td>\n",
       "      <td>Think about what happens during a heat wave,</td>\n",
       "      <td>Wayne Riley</td>\n",
       "      <td>['Q2579229']</td>\n",
       "      <td>2016-04-18 00:00:00</td>\n",
       "      <td>8</td>\n",
       "      <td>[['Wayne Riley', '0.5678'], ['None', '0.4322']]</td>\n",
       "      <td>['http://consumer.healthday.com/UserControls/e...</td>\n",
       "      <td>E</td>\n",
       "    </tr>\n",
       "    <tr>\n",
       "      <th>2</th>\n",
       "      <td>2016-04-18-034163</td>\n",
       "      <td>No large change in maximum temperatures over T...</td>\n",
       "      <td>Mahmood Ali</td>\n",
       "      <td>['Q6734269']</td>\n",
       "      <td>2016-04-18 15:52:39</td>\n",
       "      <td>1</td>\n",
       "      <td>[['Mahmood Ali', '0.6361'], ['None', '0.3639']]</td>\n",
       "      <td>['http://zeenews.india.com/news/telangana/tela...</td>\n",
       "      <td>E</td>\n",
       "    </tr>\n",
       "    <tr>\n",
       "      <th>3</th>\n",
       "      <td>2016-04-18-043743</td>\n",
       "      <td>The data will be analysed to arrive at conclus...</td>\n",
       "      <td>Mahmood Ali</td>\n",
       "      <td>['Q6734269']</td>\n",
       "      <td>2016-04-18 15:52:39</td>\n",
       "      <td>1</td>\n",
       "      <td>[['Mahmood Ali', '0.9612'], ['None', '0.0388']]</td>\n",
       "      <td>['http://zeenews.india.com/news/telangana/tela...</td>\n",
       "      <td>E</td>\n",
       "    </tr>\n",
       "  </tbody>\n",
       "</table>\n",
       "</div>"
      ],
      "text/plain": [
       "             quoteID                                          quotation  \\\n",
       "0  2016-04-17-002590  It never got to be a high temperature and we t...   \n",
       "1  2016-04-18-050849       Think about what happens during a heat wave,   \n",
       "2  2016-04-18-034163  No large change in maximum temperatures over T...   \n",
       "3  2016-04-18-043743  The data will be analysed to arrive at conclus...   \n",
       "\n",
       "              speaker          qids                date  numOccurrences  \\\n",
       "0  Jerry Hollendorfer  ['Q6183758'] 2016-04-17 18:01:00               1   \n",
       "1         Wayne Riley  ['Q2579229'] 2016-04-18 00:00:00               8   \n",
       "2         Mahmood Ali  ['Q6734269'] 2016-04-18 15:52:39               1   \n",
       "3         Mahmood Ali  ['Q6734269'] 2016-04-18 15:52:39               1   \n",
       "\n",
       "                                              probas  \\\n",
       "0  [['Jerry Hollendorfer', '0.7263'], ['None', '0...   \n",
       "1    [['Wayne Riley', '0.5678'], ['None', '0.4322']]   \n",
       "2    [['Mahmood Ali', '0.6361'], ['None', '0.3639']]   \n",
       "3    [['Mahmood Ali', '0.9612'], ['None', '0.0388']]   \n",
       "\n",
       "                                                urls phase  \n",
       "0  ['http://www.bloodhorse.com/horse-racing/artic...     E  \n",
       "1  ['http://consumer.healthday.com/UserControls/e...     E  \n",
       "2  ['http://zeenews.india.com/news/telangana/tela...     E  \n",
       "3  ['http://zeenews.india.com/news/telangana/tela...     E  "
      ]
     },
     "execution_count": 415,
     "metadata": {},
     "output_type": "execute_result"
    }
   ],
   "source": [
    "disaster_df.head(4)"
   ]
  },
  {
   "cell_type": "code",
   "execution_count": 311,
   "id": "0f1b53d7",
   "metadata": {},
   "outputs": [],
   "source": [
    "climate_tags_pos = pd.DataFrame(\n",
    "    {'tags': [\n",
    "        r'\\b([cC]limate ([iI]mpact|[cC]hange|[cC]risis|[mM]odel|[eE]mergency))\\b',\n",
    "        r'\\b([gG]lobal [wW]arming)\\b',\n",
    "        r'\\b([gG]reenhouse ([gG]as(es)?)|[eE]ffects?|[eE]missions?)\\b']\n",
    "    }\n",
    ") "
   ]
  },
  {
   "cell_type": "code",
   "execution_count": 312,
   "id": "c109326b",
   "metadata": {},
   "outputs": [],
   "source": [
    "tags_pos_list = climate_tags_pos.tags.values.tolist()"
   ]
  },
  {
   "cell_type": "code",
   "execution_count": 313,
   "id": "166e41d9",
   "metadata": {},
   "outputs": [
    {
     "data": {
      "text/plain": [
       "['\\\\b([cC]limate ([iI]mpact|[cC]hange|[cC]risis|[mM]odel|[eE]mergency))\\\\b',\n",
       " '\\\\b([gG]lobal [wW]arming)\\\\b',\n",
       " '\\\\b([gG]reenhouse ([gG]as(es)?)|[eE]ffects?|[eE]missions?)\\\\b']"
      ]
     },
     "execution_count": 313,
     "metadata": {},
     "output_type": "execute_result"
    }
   ],
   "source": [
    "tags_pos_list"
   ]
  },
  {
   "cell_type": "code",
   "execution_count": 314,
   "id": "082e33f3",
   "metadata": {},
   "outputs": [],
   "source": [
    "regex_pattern_pos = r'|'.join(tags_pos_list)"
   ]
  },
  {
   "cell_type": "code",
   "execution_count": 315,
   "id": "af254dd4",
   "metadata": {},
   "outputs": [
    {
     "name": "stderr",
     "output_type": "stream",
     "text": [
      "/Users/gil/EPFL/4 - Fourth Year/Semester 1/ADA/Project/ada-2021-project-data-alchemy/disaster_extr_helpers.py:17: UserWarning: This pattern has match groups. To actually get the groups, use str.extract.\n",
      "  mask = df[field].str.contains(regex)\n"
     ]
    }
   ],
   "source": [
    "filtered_for_climate = extract_quotes(disaster_df, regex_pattern_pos).sort_values(by='date')"
   ]
  },
  {
   "cell_type": "code",
   "execution_count": 320,
   "id": "88f3cf14",
   "metadata": {},
   "outputs": [
    {
     "data": {
      "text/plain": [
       "3507"
      ]
     },
     "execution_count": 320,
     "metadata": {},
     "output_type": "execute_result"
    }
   ],
   "source": [
    "len(filtered_for_climate)"
   ]
  },
  {
   "cell_type": "code",
   "execution_count": 321,
   "id": "1f674b02",
   "metadata": {},
   "outputs": [
    {
     "data": {
      "text/html": [
       "<div>\n",
       "<style scoped>\n",
       "    .dataframe tbody tr th:only-of-type {\n",
       "        vertical-align: middle;\n",
       "    }\n",
       "\n",
       "    .dataframe tbody tr th {\n",
       "        vertical-align: top;\n",
       "    }\n",
       "\n",
       "    .dataframe thead th {\n",
       "        text-align: right;\n",
       "    }\n",
       "</style>\n",
       "<table border=\"1\" class=\"dataframe\">\n",
       "  <thead>\n",
       "    <tr style=\"text-align: right;\">\n",
       "      <th></th>\n",
       "      <th>quoteID</th>\n",
       "      <th>quotation</th>\n",
       "      <th>speaker</th>\n",
       "      <th>qids</th>\n",
       "      <th>date</th>\n",
       "      <th>numOccurrences</th>\n",
       "      <th>probas</th>\n",
       "      <th>urls</th>\n",
       "      <th>phase</th>\n",
       "    </tr>\n",
       "  </thead>\n",
       "  <tbody>\n",
       "    <tr>\n",
       "      <th>4398</th>\n",
       "      <td>2016-03-11-000645</td>\n",
       "      <td>It is the height of irresponsibility and negle...</td>\n",
       "      <td>Hillary Clinton</td>\n",
       "      <td>['Q6294']</td>\n",
       "      <td>2016-03-11 02:25:37</td>\n",
       "      <td>1</td>\n",
       "      <td>[['Hillary Clinton', '0.7691'], ['None', '0.21...</td>\n",
       "      <td>['http://politics.heraldtribune.com/2016/03/10...</td>\n",
       "      <td>E</td>\n",
       "    </tr>\n",
       "    <tr>\n",
       "      <th>5294</th>\n",
       "      <td>2016-03-11-000228</td>\n",
       "      <td>DiCaprio is right that global average temperat...</td>\n",
       "      <td>None</td>\n",
       "      <td>[]</td>\n",
       "      <td>2016-03-11 06:39:00</td>\n",
       "      <td>1</td>\n",
       "      <td>[['None', '0.7701'], ['Stacey Dash', '0.1765']...</td>\n",
       "      <td>['http://www.thewrap.com/stacey-dash-attacks-l...</td>\n",
       "      <td>E</td>\n",
       "    </tr>\n",
       "    <tr>\n",
       "      <th>8350</th>\n",
       "      <td>2016-03-11-000944</td>\n",
       "      <td>Republicans Call Climate Change a Hoax and Ref...</td>\n",
       "      <td>None</td>\n",
       "      <td>[]</td>\n",
       "      <td>2016-03-11 19:19:00</td>\n",
       "      <td>4</td>\n",
       "      <td>[['None', '0.8682'], ['George Wallace', '0.131...</td>\n",
       "      <td>['http://www.alternet.org/election-2016/blowin...</td>\n",
       "      <td>E</td>\n",
       "    </tr>\n",
       "    <tr>\n",
       "      <th>6473</th>\n",
       "      <td>2016-03-14-000177</td>\n",
       "      <td>Climate change is threatening hundreds of mill...</td>\n",
       "      <td>None</td>\n",
       "      <td>[]</td>\n",
       "      <td>2016-03-14 15:38:44</td>\n",
       "      <td>1</td>\n",
       "      <td>[['None', '0.8887'], ['President Obama', '0.11...</td>\n",
       "      <td>['https://summitcountyvoice.com/2016/03/14/nob...</td>\n",
       "      <td>E</td>\n",
       "    </tr>\n",
       "  </tbody>\n",
       "</table>\n",
       "</div>"
      ],
      "text/plain": [
       "                quoteID                                          quotation  \\\n",
       "4398  2016-03-11-000645  It is the height of irresponsibility and negle...   \n",
       "5294  2016-03-11-000228  DiCaprio is right that global average temperat...   \n",
       "8350  2016-03-11-000944  Republicans Call Climate Change a Hoax and Ref...   \n",
       "6473  2016-03-14-000177  Climate change is threatening hundreds of mill...   \n",
       "\n",
       "              speaker       qids                date  numOccurrences  \\\n",
       "4398  Hillary Clinton  ['Q6294'] 2016-03-11 02:25:37               1   \n",
       "5294             None         [] 2016-03-11 06:39:00               1   \n",
       "8350             None         [] 2016-03-11 19:19:00               4   \n",
       "6473             None         [] 2016-03-14 15:38:44               1   \n",
       "\n",
       "                                                 probas  \\\n",
       "4398  [['Hillary Clinton', '0.7691'], ['None', '0.21...   \n",
       "5294  [['None', '0.7701'], ['Stacey Dash', '0.1765']...   \n",
       "8350  [['None', '0.8682'], ['George Wallace', '0.131...   \n",
       "6473  [['None', '0.8887'], ['President Obama', '0.11...   \n",
       "\n",
       "                                                   urls phase  \n",
       "4398  ['http://politics.heraldtribune.com/2016/03/10...     E  \n",
       "5294  ['http://www.thewrap.com/stacey-dash-attacks-l...     E  \n",
       "8350  ['http://www.alternet.org/election-2016/blowin...     E  \n",
       "6473  ['https://summitcountyvoice.com/2016/03/14/nob...     E  "
      ]
     },
     "execution_count": 321,
     "metadata": {},
     "output_type": "execute_result"
    }
   ],
   "source": [
    "filtered_for_climate.head(4)"
   ]
  },
  {
   "cell_type": "code",
   "execution_count": 413,
   "id": "24c38fa0",
   "metadata": {},
   "outputs": [
    {
     "name": "stderr",
     "output_type": "stream",
     "text": [
      "/Users/gil/EPFL/4 - Fourth Year/Semester 1/ADA/Project/ada-2021-project-data-alchemy/disaster_extr_helpers.py:17: UserWarning: This pattern has match groups. To actually get the groups, use str.extract.\n",
      "  mask = df[field].str.contains(regex)\n"
     ]
    },
    {
     "data": {
      "text/html": [
       "<div>\n",
       "<style scoped>\n",
       "    .dataframe tbody tr th:only-of-type {\n",
       "        vertical-align: middle;\n",
       "    }\n",
       "\n",
       "    .dataframe tbody tr th {\n",
       "        vertical-align: top;\n",
       "    }\n",
       "\n",
       "    .dataframe thead th {\n",
       "        text-align: right;\n",
       "    }\n",
       "</style>\n",
       "<table border=\"1\" class=\"dataframe\">\n",
       "  <thead>\n",
       "    <tr style=\"text-align: right;\">\n",
       "      <th></th>\n",
       "      <th>quoteID</th>\n",
       "      <th>quotation</th>\n",
       "      <th>speaker</th>\n",
       "      <th>qids</th>\n",
       "      <th>date</th>\n",
       "      <th>numOccurrences</th>\n",
       "      <th>probas</th>\n",
       "      <th>urls</th>\n",
       "      <th>phase</th>\n",
       "    </tr>\n",
       "  </thead>\n",
       "  <tbody>\n",
       "    <tr>\n",
       "      <th>8667</th>\n",
       "      <td>2016-03-23-000201</td>\n",
       "      <td>Coming back from Paris [ 2015 Climate Conferen...</td>\n",
       "      <td>Barry Coates</td>\n",
       "      <td>['Q26845632']</td>\n",
       "      <td>2016-03-23 09:45:58</td>\n",
       "      <td>1</td>\n",
       "      <td>[['Barry Coates', '0.4594'], ['None', '0.4506'...</td>\n",
       "      <td>['http://asiapacificreport.nz/2016/03/23/tppa-...</td>\n",
       "      <td>E</td>\n",
       "    </tr>\n",
       "    <tr>\n",
       "      <th>8387</th>\n",
       "      <td>2016-04-18-024841</td>\n",
       "      <td>In the wake of the 21st conference on climate ...</td>\n",
       "      <td>None</td>\n",
       "      <td>[]</td>\n",
       "      <td>2016-04-18 16:00:00</td>\n",
       "      <td>1</td>\n",
       "      <td>[['None', '0.5025'], ['Sebastien Bazin', '0.49...</td>\n",
       "      <td>['http://10www.alternet.org/food/one-worlds-la...</td>\n",
       "      <td>E</td>\n",
       "    </tr>\n",
       "    <tr>\n",
       "      <th>12086</th>\n",
       "      <td>2016-04-19-132376</td>\n",
       "      <td>Ultimately the fight against climate change is...</td>\n",
       "      <td>Prakash Javadekar</td>\n",
       "      <td>['Q7238178']</td>\n",
       "      <td>2016-04-19 17:36:01</td>\n",
       "      <td>2</td>\n",
       "      <td>[['Prakash Javadekar', '0.9651'], ['None', '0....</td>\n",
       "      <td>['http://www.newindianexpress.com/nation/India...</td>\n",
       "      <td>E</td>\n",
       "    </tr>\n",
       "    <tr>\n",
       "      <th>7374</th>\n",
       "      <td>2016-04-20-158481</td>\n",
       "      <td>Youths participating in the conference made pr...</td>\n",
       "      <td>None</td>\n",
       "      <td>[]</td>\n",
       "      <td>2016-04-20 20:22:30</td>\n",
       "      <td>1</td>\n",
       "      <td>[['None', '0.9011'], ['president Barack Obama'...</td>\n",
       "      <td>['http://timesofindia.indiatimes.com/city/luck...</td>\n",
       "      <td>E</td>\n",
       "    </tr>\n",
       "  </tbody>\n",
       "</table>\n",
       "</div>"
      ],
      "text/plain": [
       "                 quoteID                                          quotation  \\\n",
       "8667   2016-03-23-000201  Coming back from Paris [ 2015 Climate Conferen...   \n",
       "8387   2016-04-18-024841  In the wake of the 21st conference on climate ...   \n",
       "12086  2016-04-19-132376  Ultimately the fight against climate change is...   \n",
       "7374   2016-04-20-158481  Youths participating in the conference made pr...   \n",
       "\n",
       "                 speaker           qids                date  numOccurrences  \\\n",
       "8667        Barry Coates  ['Q26845632'] 2016-03-23 09:45:58               1   \n",
       "8387                None             [] 2016-04-18 16:00:00               1   \n",
       "12086  Prakash Javadekar   ['Q7238178'] 2016-04-19 17:36:01               2   \n",
       "7374                None             [] 2016-04-20 20:22:30               1   \n",
       "\n",
       "                                                  probas  \\\n",
       "8667   [['Barry Coates', '0.4594'], ['None', '0.4506'...   \n",
       "8387   [['None', '0.5025'], ['Sebastien Bazin', '0.49...   \n",
       "12086  [['Prakash Javadekar', '0.9651'], ['None', '0....   \n",
       "7374   [['None', '0.9011'], ['president Barack Obama'...   \n",
       "\n",
       "                                                    urls phase  \n",
       "8667   ['http://asiapacificreport.nz/2016/03/23/tppa-...     E  \n",
       "8387   ['http://10www.alternet.org/food/one-worlds-la...     E  \n",
       "12086  ['http://www.newindianexpress.com/nation/India...     E  \n",
       "7374   ['http://timesofindia.indiatimes.com/city/luck...     E  "
      ]
     },
     "execution_count": 413,
     "metadata": {},
     "output_type": "execute_result"
    }
   ],
   "source": [
    "extract_quotes(filtered_for_climate, r'\\b([cC]onferences?)\\b', complement=False).head(4)"
   ]
  },
  {
   "cell_type": "code",
   "execution_count": 303,
   "id": "86d8c232",
   "metadata": {},
   "outputs": [
    {
     "data": {
      "text/plain": [
       "(2020, 'storm')"
      ]
     },
     "execution_count": 303,
     "metadata": {},
     "output_type": "execute_result"
    }
   ],
   "source": [
    "YEAR, disaster_type"
   ]
  },
  {
   "cell_type": "code",
   "execution_count": 304,
   "id": "5a9af7d3",
   "metadata": {},
   "outputs": [],
   "source": [
    "output_df = filtered_for_climate"
   ]
  },
  {
   "cell_type": "code",
   "execution_count": 414,
   "id": "5e304604",
   "metadata": {},
   "outputs": [
    {
     "data": {
      "text/html": [
       "<div>\n",
       "<style scoped>\n",
       "    .dataframe tbody tr th:only-of-type {\n",
       "        vertical-align: middle;\n",
       "    }\n",
       "\n",
       "    .dataframe tbody tr th {\n",
       "        vertical-align: top;\n",
       "    }\n",
       "\n",
       "    .dataframe thead th {\n",
       "        text-align: right;\n",
       "    }\n",
       "</style>\n",
       "<table border=\"1\" class=\"dataframe\">\n",
       "  <thead>\n",
       "    <tr style=\"text-align: right;\">\n",
       "      <th></th>\n",
       "      <th>quoteID</th>\n",
       "      <th>quotation</th>\n",
       "      <th>speaker</th>\n",
       "      <th>qids</th>\n",
       "      <th>date</th>\n",
       "      <th>numOccurrences</th>\n",
       "      <th>probas</th>\n",
       "      <th>urls</th>\n",
       "      <th>phase</th>\n",
       "    </tr>\n",
       "  </thead>\n",
       "  <tbody>\n",
       "    <tr>\n",
       "      <th>5027</th>\n",
       "      <td>2019-11-11-058431</td>\n",
       "      <td>Oaks instead of palm trees? Florida's iconic p...</td>\n",
       "      <td>Javier Rodríguez</td>\n",
       "      <td>['Q20177465', 'Q58313568', 'Q6076186', 'Q61656...</td>\n",
       "      <td>2019-11-11</td>\n",
       "      <td>1</td>\n",
       "      <td>[['Javier Rodríguez', '0.3833'], ['José Javier...</td>\n",
       "      <td>['https://floridapolitics.com/archives/310790-...</td>\n",
       "      <td>E</td>\n",
       "    </tr>\n",
       "    <tr>\n",
       "      <th>14302</th>\n",
       "      <td>2019-11-11-016437</td>\n",
       "      <td>European cities face large challenges that are...</td>\n",
       "      <td>None</td>\n",
       "      <td>[]</td>\n",
       "      <td>2019-11-11</td>\n",
       "      <td>1</td>\n",
       "      <td>[['None', '0.5404'], ['Markus Keller', '0.4596']]</td>\n",
       "      <td>['http://webwire.com/ViewPressRel.asp?aId=2498...</td>\n",
       "      <td>E</td>\n",
       "    </tr>\n",
       "    <tr>\n",
       "      <th>14252</th>\n",
       "      <td>2019-11-11-036941</td>\n",
       "      <td>Identify, analyze, and relate the internal (ea...</td>\n",
       "      <td>None</td>\n",
       "      <td>[]</td>\n",
       "      <td>2019-11-11</td>\n",
       "      <td>4</td>\n",
       "      <td>[['None', '0.592'], ['Rebecca Anderson', '0.40...</td>\n",
       "      <td>['http://news.wjct.org/post/climate-change-put...</td>\n",
       "      <td>E</td>\n",
       "    </tr>\n",
       "    <tr>\n",
       "      <th>1517</th>\n",
       "      <td>2019-11-11-050271</td>\n",
       "      <td>It's time to declare a climate crisis &amp; take a...</td>\n",
       "      <td>None</td>\n",
       "      <td>[]</td>\n",
       "      <td>2019-11-11</td>\n",
       "      <td>2</td>\n",
       "      <td>[['None', '0.792'], ['José Javier Rodríguez', ...</td>\n",
       "      <td>['https://floridapolitics.com/archives/310790-...</td>\n",
       "      <td>E</td>\n",
       "    </tr>\n",
       "  </tbody>\n",
       "</table>\n",
       "</div>"
      ],
      "text/plain": [
       "                 quoteID                                          quotation  \\\n",
       "5027   2019-11-11-058431  Oaks instead of palm trees? Florida's iconic p...   \n",
       "14302  2019-11-11-016437  European cities face large challenges that are...   \n",
       "14252  2019-11-11-036941  Identify, analyze, and relate the internal (ea...   \n",
       "1517   2019-11-11-050271  It's time to declare a climate crisis & take a...   \n",
       "\n",
       "                speaker                                               qids  \\\n",
       "5027   Javier Rodríguez  ['Q20177465', 'Q58313568', 'Q6076186', 'Q61656...   \n",
       "14302              None                                                 []   \n",
       "14252              None                                                 []   \n",
       "1517               None                                                 []   \n",
       "\n",
       "            date  numOccurrences  \\\n",
       "5027  2019-11-11               1   \n",
       "14302 2019-11-11               1   \n",
       "14252 2019-11-11               4   \n",
       "1517  2019-11-11               2   \n",
       "\n",
       "                                                  probas  \\\n",
       "5027   [['Javier Rodríguez', '0.3833'], ['José Javier...   \n",
       "14302  [['None', '0.5404'], ['Markus Keller', '0.4596']]   \n",
       "14252  [['None', '0.592'], ['Rebecca Anderson', '0.40...   \n",
       "1517   [['None', '0.792'], ['José Javier Rodríguez', ...   \n",
       "\n",
       "                                                    urls phase  \n",
       "5027   ['https://floridapolitics.com/archives/310790-...     E  \n",
       "14302  ['http://webwire.com/ViewPressRel.asp?aId=2498...     E  \n",
       "14252  ['http://news.wjct.org/post/climate-change-put...     E  \n",
       "1517   ['https://floridapolitics.com/archives/310790-...     E  "
      ]
     },
     "execution_count": 414,
     "metadata": {},
     "output_type": "execute_result"
    }
   ],
   "source": [
    "output_df.head(4)"
   ]
  },
  {
   "cell_type": "code",
   "execution_count": 306,
   "id": "e559853d",
   "metadata": {},
   "outputs": [],
   "source": [
    "write_df_to_disk(output_df, disaster_type, YEAR, additional_text='climate_filtered')"
   ]
  }
 ],
 "metadata": {
  "kernelspec": {
   "display_name": "Python [conda env:numerical] *",
   "language": "python",
   "name": "conda-env-numerical-py"
  },
  "language_info": {
   "codemirror_mode": {
    "name": "ipython",
    "version": 3
   },
   "file_extension": ".py",
   "mimetype": "text/x-python",
   "name": "python",
   "nbconvert_exporter": "python",
   "pygments_lexer": "ipython3",
   "version": "3.8.12"
  }
 },
 "nbformat": 4,
 "nbformat_minor": 5
}
