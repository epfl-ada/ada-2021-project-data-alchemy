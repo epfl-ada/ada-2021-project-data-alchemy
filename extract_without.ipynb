{
 "cells": [
  {
   "cell_type": "code",
   "execution_count": null,
   "metadata": {},
   "outputs": [],
   "source": [
    "\n",
    "### -------- IMPORTS -----------------------------------------------------------------------------------------\n",
    "\n",
    "import pandas as pd\n",
    "import bz2\n",
    "import json\n",
    "import extraction_helpers as eh\n",
    "import pickle\n",
    "\n",
    "\n",
    "\n",
    "### ------------------ HELPER FUNCTIONS-----------------------------------------------------------------------\n",
    "\n",
    "def extract_quotes_keyword(chunk, keyword, not_keywords):\n",
    "    ### Helper function to extract all quotes containing a list of keywords (case-sensitive)\n",
    "    ### Returns a dictionary of dataframes\n",
    "\n",
    "    \n",
    "    # For each keyword, extract the quotes from the chunk\n",
    "    \n",
    "    print(f\"Processing chunk with {len(chunk)} rows, looking for quotes containing '{keyword}' but not '{not_keywords}'.\")\n",
    "    df = chunk[chunk[\"quotation\"].str.contains(keyword, na=False)]\n",
    "    for not_keyword in not_keywords:\n",
    "        df = df[~df[\"quotation\"].str.contains(not_keyword, na=False)]\n",
    "    return df\n",
    "\n",
    "def extract_quotes(data, keyword, not_keywords, chunksize = 1000000, compression = 'bz2'):\n",
    " \n",
    "    with pd.read_json(data, lines=True, compression=compression, chunksize=chunksize) as df_reader:\n",
    "        df = pd.DataFrame({'quoteID':'', 'quotation':'', 'speaker':'',\\\n",
    "            'qids':'', 'date':'', 'probas':'', 'numOccurences':'', 'phase':''}, index = [0])\n",
    "\n",
    "        for chunk in df_reader:\n",
    "            quotes = extract_quotes_keyword(chunk, keyword, not_keywords)\n",
    "            df = pd.concat([df, quotes], ignore_index=True)\n",
    "    \n",
    "        return df.iloc[1:,:]\n"
   ]
  },
  {
   "cell_type": "code",
   "execution_count": null,
   "metadata": {},
   "outputs": [],
   "source": [
    "filename = open(\"extracted_data_other/output_2020 speakers_False keywords_['flood'].pickle\", \"rb\")\n",
    "dict_df = pickle.load(filename)"
   ]
  },
  {
   "cell_type": "markdown",
   "metadata": {},
   "source": [
    "Shape of the unfiltered extracted data"
   ]
  },
  {
   "cell_type": "code",
   "execution_count": null,
   "metadata": {},
   "outputs": [],
   "source": [
    "dict_df['flood'].shape"
   ]
  },
  {
   "cell_type": "code",
   "execution_count": null,
   "metadata": {},
   "outputs": [],
   "source": [
    "not_keywords = ['flooded by', 'flooded with', 'a flood of', 'floodgate', 'flood gate', 'flood plain', 'floodplain']\n",
    "data = 'data/quotes-2020.json.bz2'\n",
    "keyword = 'flood'"
   ]
  },
  {
   "cell_type": "code",
   "execution_count": null,
   "metadata": {},
   "outputs": [],
   "source": [
    "df_filter = extract_quotes(data, keyword=keyword, not_keywords=not_keywords)"
   ]
  },
  {
   "cell_type": "markdown",
   "metadata": {},
   "source": [
    "Shape of the filtered extracted data"
   ]
  },
  {
   "cell_type": "code",
   "execution_count": null,
   "metadata": {},
   "outputs": [],
   "source": [
    "df_filter.shape"
   ]
  },
  {
   "cell_type": "markdown",
   "metadata": {},
   "source": [
    "We have been able to filter about 10% of data that does not relate to actual floods. "
   ]
  },
  {
   "cell_type": "code",
   "execution_count": null,
   "metadata": {},
   "outputs": [],
   "source": [
    "df_filter['quotation'].head(12)"
   ]
  },
  {
   "cell_type": "markdown",
   "metadata": {},
   "source": [
    "As we can see, there are still a few quotations that do not talk about actual floods. These will be filtered in more detail in the last milestone, however we also guess that these unwanted quotes should be evenly distributed across a period and should thus not pose great issues. Indeed, their rate of occurence is normally not related to any exterior events, as they are simply part of the language. "
   ]
  }
 ],
 "metadata": {
  "interpreter": {
   "hash": "9bbc67402def311b96fab883d2c883a39527be9a4d3d9f29179a0d00da6a6745"
  },
  "kernelspec": {
   "display_name": "Python 3.9.6 64-bit",
   "language": "python",
   "name": "python3"
  },
  "language_info": {
   "codemirror_mode": {
    "name": "ipython",
    "version": 3
   },
   "file_extension": ".py",
   "mimetype": "text/x-python",
   "name": "python",
   "nbconvert_exporter": "python",
   "pygments_lexer": "ipython3",
   "version": "3.9.6"
  },
  "orig_nbformat": 4
 },
 "nbformat": 4,
 "nbformat_minor": 2
}
