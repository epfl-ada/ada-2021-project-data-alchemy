{
 "cells": [
  {
   "cell_type": "markdown",
   "id": "556c864f",
   "metadata": {},
   "source": [
    "# Process (Filter) Data Extracted From Quotebank For Climate Change"
   ]
  },
  {
   "cell_type": "markdown",
   "id": "e7b054a4",
   "metadata": {},
   "source": [
    "**Imports**"
   ]
  },
  {
   "cell_type": "code",
   "execution_count": 15,
   "id": "43da2de6",
   "metadata": {},
   "outputs": [],
   "source": [
    "import pandas as pd\n",
    "import re # Used for verifying and running small tests on regex patterns\n",
    "import datetime\n",
    "\n",
    "from disaster_extr_constants import *\n",
    "from disaster_extr_helpers import *"
   ]
  },
  {
   "cell_type": "markdown",
   "id": "cd07624e",
   "metadata": {},
   "source": [
    "**Define parameters for dataset to be filtered and load it**"
   ]
  },
  {
   "cell_type": "code",
   "execution_count": 2,
   "id": "46612f14",
   "metadata": {},
   "outputs": [],
   "source": [
    "YEAR = 2017\n",
    "disaster_type = 'heat_wave'\n",
    "file_path = 'data/'+str(YEAR)+'_'+disaster_type+'_climate_processed_csv.bz2'"
   ]
  },
  {
   "cell_type": "code",
   "execution_count": 3,
   "id": "4eed147d",
   "metadata": {},
   "outputs": [],
   "source": [
    "disaster_df = pd.read_csv(file_path, parse_dates = ['date'], compression='bz2').sort_values(by='date')"
   ]
  },
  {
   "cell_type": "code",
   "execution_count": 4,
   "id": "b8309fc5",
   "metadata": {},
   "outputs": [
    {
     "data": {
      "text/html": [
       "<div>\n",
       "<style scoped>\n",
       "    .dataframe tbody tr th:only-of-type {\n",
       "        vertical-align: middle;\n",
       "    }\n",
       "\n",
       "    .dataframe tbody tr th {\n",
       "        vertical-align: top;\n",
       "    }\n",
       "\n",
       "    .dataframe thead th {\n",
       "        text-align: right;\n",
       "    }\n",
       "</style>\n",
       "<table border=\"1\" class=\"dataframe\">\n",
       "  <thead>\n",
       "    <tr style=\"text-align: right;\">\n",
       "      <th></th>\n",
       "      <th>quoteID</th>\n",
       "      <th>quotation</th>\n",
       "      <th>speaker</th>\n",
       "      <th>qids</th>\n",
       "      <th>date</th>\n",
       "      <th>numOccurrences</th>\n",
       "      <th>probas</th>\n",
       "      <th>urls</th>\n",
       "      <th>phase</th>\n",
       "    </tr>\n",
       "  </thead>\n",
       "  <tbody>\n",
       "    <tr>\n",
       "      <th>4111</th>\n",
       "      <td>2017-01-09-001120</td>\n",
       "      <td>The Witch Fire alone burned 197,000 acres,</td>\n",
       "      <td>Christopher Lyon</td>\n",
       "      <td>['Q5112776', 'Q58323293']</td>\n",
       "      <td>2017-01-09 18:43:40</td>\n",
       "      <td>1</td>\n",
       "      <td>[['Christopher Lyon', '0.8254'], ['None', '0.1...</td>\n",
       "      <td>['http://eastcountymagazine.org/sdge-makes-it-...</td>\n",
       "      <td>E</td>\n",
       "    </tr>\n",
       "    <tr>\n",
       "      <th>7088</th>\n",
       "      <td>2017-01-09-000073</td>\n",
       "      <td>And I'm crying, cause I'm like, `My first slee...</td>\n",
       "      <td>Millie Bobby Brown</td>\n",
       "      <td>['Q25936414']</td>\n",
       "      <td>2017-01-09 19:02:43</td>\n",
       "      <td>2</td>\n",
       "      <td>[['Millie Bobby Brown', '0.9293'], ['None', '0...</td>\n",
       "      <td>['http://www.justjared.com/2017/01/09/millie-b...</td>\n",
       "      <td>E</td>\n",
       "    </tr>\n",
       "    <tr>\n",
       "      <th>4959</th>\n",
       "      <td>2017-01-09-000915</td>\n",
       "      <td>So I go over and at like 3:00 in the morning t...</td>\n",
       "      <td>Millie Bobby Brown</td>\n",
       "      <td>['Q25936414']</td>\n",
       "      <td>2017-01-09 19:02:43</td>\n",
       "      <td>2</td>\n",
       "      <td>[['Millie Bobby Brown', '0.9009'], ['None', '0...</td>\n",
       "      <td>['http://www.justjared.com/2017/01/09/millie-b...</td>\n",
       "      <td>E</td>\n",
       "    </tr>\n",
       "    <tr>\n",
       "      <th>4416</th>\n",
       "      <td>2017-01-09-000460</td>\n",
       "      <td>I thought Toots was on fire tonight,</td>\n",
       "      <td>None</td>\n",
       "      <td>[]</td>\n",
       "      <td>2017-01-09 19:51:25</td>\n",
       "      <td>1</td>\n",
       "      <td>[['None', '0.4198'], ['Patrick Kane', '0.3733'...</td>\n",
       "      <td>['http://wgnradio.com/2017/01/09/blackhawks-fo...</td>\n",
       "      <td>E</td>\n",
       "    </tr>\n",
       "  </tbody>\n",
       "</table>\n",
       "</div>"
      ],
      "text/plain": [
       "                quoteID                                          quotation  \\\n",
       "4111  2017-01-09-001120         The Witch Fire alone burned 197,000 acres,   \n",
       "7088  2017-01-09-000073  And I'm crying, cause I'm like, `My first slee...   \n",
       "4959  2017-01-09-000915  So I go over and at like 3:00 in the morning t...   \n",
       "4416  2017-01-09-000460               I thought Toots was on fire tonight,   \n",
       "\n",
       "                 speaker                       qids                date  \\\n",
       "4111    Christopher Lyon  ['Q5112776', 'Q58323293'] 2017-01-09 18:43:40   \n",
       "7088  Millie Bobby Brown              ['Q25936414'] 2017-01-09 19:02:43   \n",
       "4959  Millie Bobby Brown              ['Q25936414'] 2017-01-09 19:02:43   \n",
       "4416                None                         [] 2017-01-09 19:51:25   \n",
       "\n",
       "      numOccurrences                                             probas  \\\n",
       "4111               1  [['Christopher Lyon', '0.8254'], ['None', '0.1...   \n",
       "7088               2  [['Millie Bobby Brown', '0.9293'], ['None', '0...   \n",
       "4959               2  [['Millie Bobby Brown', '0.9009'], ['None', '0...   \n",
       "4416               1  [['None', '0.4198'], ['Patrick Kane', '0.3733'...   \n",
       "\n",
       "                                                   urls phase  \n",
       "4111  ['http://eastcountymagazine.org/sdge-makes-it-...     E  \n",
       "7088  ['http://www.justjared.com/2017/01/09/millie-b...     E  \n",
       "4959  ['http://www.justjared.com/2017/01/09/millie-b...     E  \n",
       "4416  ['http://wgnradio.com/2017/01/09/blackhawks-fo...     E  "
      ]
     },
     "execution_count": 4,
     "metadata": {},
     "output_type": "execute_result"
    }
   ],
   "source": [
    "disaster_df.head(4)"
   ]
  },
  {
   "cell_type": "code",
   "execution_count": 5,
   "id": "441875f3",
   "metadata": {},
   "outputs": [],
   "source": [
    "tags_pos_list = climate_tags_pos.tags.values.tolist()"
   ]
  },
  {
   "cell_type": "code",
   "execution_count": 6,
   "id": "166e41d9",
   "metadata": {},
   "outputs": [
    {
     "data": {
      "text/plain": [
       "['\\\\b([cC]limate ([iI]mpact|[cC]hange|[cC]risis|[mM]odel|[eE]mergency))\\\\b',\n",
       " '\\\\b([gG]lobal [wW]arming)\\\\b',\n",
       " '\\\\b([gG]reenhouse ([gG]as(es)?)|[eE]ffects?|[eE]missions?)\\\\b']"
      ]
     },
     "execution_count": 6,
     "metadata": {},
     "output_type": "execute_result"
    }
   ],
   "source": [
    "tags_pos_list"
   ]
  },
  {
   "cell_type": "code",
   "execution_count": 7,
   "id": "082e33f3",
   "metadata": {},
   "outputs": [],
   "source": [
    "regex_pattern_pos = r'|'.join(tags_pos_list)"
   ]
  },
  {
   "cell_type": "code",
   "execution_count": 8,
   "id": "af254dd4",
   "metadata": {},
   "outputs": [
    {
     "name": "stderr",
     "output_type": "stream",
     "text": [
      "/Users/gil/EPFL/4 - Fourth Year/Semester 1/ADA/Project/ada-2021-project-data-alchemy/disaster_extr_helpers.py:17: UserWarning: This pattern has match groups. To actually get the groups, use str.extract.\n",
      "  mask = df[field].str.contains(regex)\n"
     ]
    }
   ],
   "source": [
    "filtered_for_climate = extract_quotes(disaster_df, regex_pattern_pos).sort_values(by='date')"
   ]
  },
  {
   "cell_type": "code",
   "execution_count": 9,
   "id": "9d5d3e1d",
   "metadata": {},
   "outputs": [
    {
     "data": {
      "text/plain": [
       "1560"
      ]
     },
     "execution_count": 9,
     "metadata": {},
     "output_type": "execute_result"
    }
   ],
   "source": [
    "len(filtered_for_climate)"
   ]
  },
  {
   "cell_type": "code",
   "execution_count": 10,
   "id": "1f674b02",
   "metadata": {},
   "outputs": [
    {
     "data": {
      "text/html": [
       "<div>\n",
       "<style scoped>\n",
       "    .dataframe tbody tr th:only-of-type {\n",
       "        vertical-align: middle;\n",
       "    }\n",
       "\n",
       "    .dataframe tbody tr th {\n",
       "        vertical-align: top;\n",
       "    }\n",
       "\n",
       "    .dataframe thead th {\n",
       "        text-align: right;\n",
       "    }\n",
       "</style>\n",
       "<table border=\"1\" class=\"dataframe\">\n",
       "  <thead>\n",
       "    <tr style=\"text-align: right;\">\n",
       "      <th></th>\n",
       "      <th>quoteID</th>\n",
       "      <th>quotation</th>\n",
       "      <th>speaker</th>\n",
       "      <th>qids</th>\n",
       "      <th>date</th>\n",
       "      <th>numOccurrences</th>\n",
       "      <th>probas</th>\n",
       "      <th>urls</th>\n",
       "      <th>phase</th>\n",
       "    </tr>\n",
       "  </thead>\n",
       "  <tbody>\n",
       "    <tr>\n",
       "      <th>366</th>\n",
       "      <td>2017-01-11-000270</td>\n",
       "      <td>But without bolder action, our children won't ...</td>\n",
       "      <td>President Barack Obama</td>\n",
       "      <td>['Q76']</td>\n",
       "      <td>2017-01-11 03:07:35</td>\n",
       "      <td>1</td>\n",
       "      <td>[['President Barack Obama', '0.859'], ['None',...</td>\n",
       "      <td>['http://www.thewrap.com/obama-says-goodbye-ho...</td>\n",
       "      <td>E</td>\n",
       "    </tr>\n",
       "    <tr>\n",
       "      <th>8337</th>\n",
       "      <td>2017-01-11-001557</td>\n",
       "      <td>The truth is that climate change shouldn't be ...</td>\n",
       "      <td>John Kerry</td>\n",
       "      <td>['Q22316', 'Q6242998']</td>\n",
       "      <td>2017-01-11 12:13:56</td>\n",
       "      <td>1</td>\n",
       "      <td>[['John Kerry', '0.7591'], ['None', '0.224'], ...</td>\n",
       "      <td>['https://www.ibcworldnews.com/2017/01/11/obam...</td>\n",
       "      <td>E</td>\n",
       "    </tr>\n",
       "    <tr>\n",
       "      <th>5217</th>\n",
       "      <td>2017-01-12-000261</td>\n",
       "      <td>Columbia Gas of Ohio is proud to be a part of ...</td>\n",
       "      <td>None</td>\n",
       "      <td>[]</td>\n",
       "      <td>2017-01-12 05:23:47</td>\n",
       "      <td>1</td>\n",
       "      <td>[['None', '0.926'], ['G. Thompson', '0.074']]</td>\n",
       "      <td>['http://thelantern.com/2017/01/ohio-state-bri...</td>\n",
       "      <td>E</td>\n",
       "    </tr>\n",
       "    <tr>\n",
       "      <th>8608</th>\n",
       "      <td>2017-01-12-001651</td>\n",
       "      <td>These Utahns see the effects of climate change...</td>\n",
       "      <td>Sheldon Whitehouse</td>\n",
       "      <td>['Q652066']</td>\n",
       "      <td>2017-01-12 15:00:05</td>\n",
       "      <td>1</td>\n",
       "      <td>[['Sheldon Whitehouse', '0.8915'], ['None', '0...</td>\n",
       "      <td>['http://universe.byu.edu/2017/01/12/scientist...</td>\n",
       "      <td>E</td>\n",
       "    </tr>\n",
       "  </tbody>\n",
       "</table>\n",
       "</div>"
      ],
      "text/plain": [
       "                quoteID                                          quotation  \\\n",
       "366   2017-01-11-000270  But without bolder action, our children won't ...   \n",
       "8337  2017-01-11-001557  The truth is that climate change shouldn't be ...   \n",
       "5217  2017-01-12-000261  Columbia Gas of Ohio is proud to be a part of ...   \n",
       "8608  2017-01-12-001651  These Utahns see the effects of climate change...   \n",
       "\n",
       "                     speaker                    qids                date  \\\n",
       "366   President Barack Obama                 ['Q76'] 2017-01-11 03:07:35   \n",
       "8337              John Kerry  ['Q22316', 'Q6242998'] 2017-01-11 12:13:56   \n",
       "5217                    None                      [] 2017-01-12 05:23:47   \n",
       "8608      Sheldon Whitehouse             ['Q652066'] 2017-01-12 15:00:05   \n",
       "\n",
       "      numOccurrences                                             probas  \\\n",
       "366                1  [['President Barack Obama', '0.859'], ['None',...   \n",
       "8337               1  [['John Kerry', '0.7591'], ['None', '0.224'], ...   \n",
       "5217               1      [['None', '0.926'], ['G. Thompson', '0.074']]   \n",
       "8608               1  [['Sheldon Whitehouse', '0.8915'], ['None', '0...   \n",
       "\n",
       "                                                   urls phase  \n",
       "366   ['http://www.thewrap.com/obama-says-goodbye-ho...     E  \n",
       "8337  ['https://www.ibcworldnews.com/2017/01/11/obam...     E  \n",
       "5217  ['http://thelantern.com/2017/01/ohio-state-bri...     E  \n",
       "8608  ['http://universe.byu.edu/2017/01/12/scientist...     E  "
      ]
     },
     "execution_count": 10,
     "metadata": {},
     "output_type": "execute_result"
    }
   ],
   "source": [
    "filtered_for_climate.head(4)"
   ]
  },
  {
   "cell_type": "code",
   "execution_count": 11,
   "id": "24c38fa0",
   "metadata": {},
   "outputs": [
    {
     "name": "stderr",
     "output_type": "stream",
     "text": [
      "/Users/gil/EPFL/4 - Fourth Year/Semester 1/ADA/Project/ada-2021-project-data-alchemy/disaster_extr_helpers.py:17: UserWarning: This pattern has match groups. To actually get the groups, use str.extract.\n",
      "  mask = df[field].str.contains(regex)\n"
     ]
    },
    {
     "data": {
      "text/html": [
       "<div>\n",
       "<style scoped>\n",
       "    .dataframe tbody tr th:only-of-type {\n",
       "        vertical-align: middle;\n",
       "    }\n",
       "\n",
       "    .dataframe tbody tr th {\n",
       "        vertical-align: top;\n",
       "    }\n",
       "\n",
       "    .dataframe thead th {\n",
       "        text-align: right;\n",
       "    }\n",
       "</style>\n",
       "<table border=\"1\" class=\"dataframe\">\n",
       "  <thead>\n",
       "    <tr style=\"text-align: right;\">\n",
       "      <th></th>\n",
       "      <th>quoteID</th>\n",
       "      <th>quotation</th>\n",
       "      <th>speaker</th>\n",
       "      <th>qids</th>\n",
       "      <th>date</th>\n",
       "      <th>numOccurrences</th>\n",
       "      <th>probas</th>\n",
       "      <th>urls</th>\n",
       "      <th>phase</th>\n",
       "    </tr>\n",
       "  </thead>\n",
       "  <tbody>\n",
       "    <tr>\n",
       "      <th>10864</th>\n",
       "      <td>2017-01-30-006094</td>\n",
       "      <td>may have been a slump in the membership of the...</td>\n",
       "      <td>Mr Ward</td>\n",
       "      <td>['Q6929478']</td>\n",
       "      <td>2017-01-30 14:14:19</td>\n",
       "      <td>1</td>\n",
       "      <td>[['Mr Ward', '0.9045'], ['None', '0.0826'], ['...</td>\n",
       "      <td>['http://www.dailyclimate.org/t/63981600425202...</td>\n",
       "      <td>E</td>\n",
       "    </tr>\n",
       "    <tr>\n",
       "      <th>3834</th>\n",
       "      <td>2017-02-15-086160</td>\n",
       "      <td>This disappearance of the hiatus in global war...</td>\n",
       "      <td>William Happer</td>\n",
       "      <td>['Q7109821', 'Q8010838']</td>\n",
       "      <td>2017-02-15 13:13:33</td>\n",
       "      <td>1</td>\n",
       "      <td>[['William Happer', '0.606'], ['None', '0.3143...</td>\n",
       "      <td>['http://www.environmentalhealthnews.org/t/-45...</td>\n",
       "      <td>E</td>\n",
       "    </tr>\n",
       "    <tr>\n",
       "      <th>2360</th>\n",
       "      <td>2017-02-17-000358</td>\n",
       "      <td>A high-level whistleblower has told this newsp...</td>\n",
       "      <td>None</td>\n",
       "      <td>[]</td>\n",
       "      <td>2017-02-17 22:46:52</td>\n",
       "      <td>1</td>\n",
       "      <td>[['None', '0.8326'], ['John Bates', '0.1674']]</td>\n",
       "      <td>['http://tavoix.wordpress.com/2017/02/17/clima...</td>\n",
       "      <td>E</td>\n",
       "    </tr>\n",
       "    <tr>\n",
       "      <th>8109</th>\n",
       "      <td>2017-02-20-024963</td>\n",
       "      <td>Fourth Santa Fe Conference on Global &amp; Regiona...</td>\n",
       "      <td>None</td>\n",
       "      <td>[]</td>\n",
       "      <td>2017-02-20 22:18:41</td>\n",
       "      <td>1</td>\n",
       "      <td>[['None', '0.8948'], ['Chris Essex', '0.1052']]</td>\n",
       "      <td>['http://www.desmogblog.com/christopher-essex']</td>\n",
       "      <td>E</td>\n",
       "    </tr>\n",
       "  </tbody>\n",
       "</table>\n",
       "</div>"
      ],
      "text/plain": [
       "                 quoteID                                          quotation  \\\n",
       "10864  2017-01-30-006094  may have been a slump in the membership of the...   \n",
       "3834   2017-02-15-086160  This disappearance of the hiatus in global war...   \n",
       "2360   2017-02-17-000358  A high-level whistleblower has told this newsp...   \n",
       "8109   2017-02-20-024963  Fourth Santa Fe Conference on Global & Regiona...   \n",
       "\n",
       "              speaker                      qids                date  \\\n",
       "10864         Mr Ward              ['Q6929478'] 2017-01-30 14:14:19   \n",
       "3834   William Happer  ['Q7109821', 'Q8010838'] 2017-02-15 13:13:33   \n",
       "2360             None                        [] 2017-02-17 22:46:52   \n",
       "8109             None                        [] 2017-02-20 22:18:41   \n",
       "\n",
       "       numOccurrences                                             probas  \\\n",
       "10864               1  [['Mr Ward', '0.9045'], ['None', '0.0826'], ['...   \n",
       "3834                1  [['William Happer', '0.606'], ['None', '0.3143...   \n",
       "2360                1     [['None', '0.8326'], ['John Bates', '0.1674']]   \n",
       "8109                1    [['None', '0.8948'], ['Chris Essex', '0.1052']]   \n",
       "\n",
       "                                                    urls phase  \n",
       "10864  ['http://www.dailyclimate.org/t/63981600425202...     E  \n",
       "3834   ['http://www.environmentalhealthnews.org/t/-45...     E  \n",
       "2360   ['http://tavoix.wordpress.com/2017/02/17/clima...     E  \n",
       "8109     ['http://www.desmogblog.com/christopher-essex']     E  "
      ]
     },
     "execution_count": 11,
     "metadata": {},
     "output_type": "execute_result"
    }
   ],
   "source": [
    "extract_quotes(filtered_for_climate, r'\\b([cC]onferences?)\\b', complement=False).head(4)"
   ]
  },
  {
   "cell_type": "code",
   "execution_count": 12,
   "id": "7a0fc953",
   "metadata": {},
   "outputs": [
    {
     "data": {
      "text/plain": [
       "(2017, 'heat_wave')"
      ]
     },
     "execution_count": 12,
     "metadata": {},
     "output_type": "execute_result"
    }
   ],
   "source": [
    "YEAR, disaster_type"
   ]
  },
  {
   "cell_type": "code",
   "execution_count": 13,
   "id": "938afbe7",
   "metadata": {},
   "outputs": [],
   "source": [
    "output_df = filtered_for_climate"
   ]
  },
  {
   "cell_type": "code",
   "execution_count": 14,
   "id": "be161a51",
   "metadata": {},
   "outputs": [
    {
     "data": {
      "text/html": [
       "<div>\n",
       "<style scoped>\n",
       "    .dataframe tbody tr th:only-of-type {\n",
       "        vertical-align: middle;\n",
       "    }\n",
       "\n",
       "    .dataframe tbody tr th {\n",
       "        vertical-align: top;\n",
       "    }\n",
       "\n",
       "    .dataframe thead th {\n",
       "        text-align: right;\n",
       "    }\n",
       "</style>\n",
       "<table border=\"1\" class=\"dataframe\">\n",
       "  <thead>\n",
       "    <tr style=\"text-align: right;\">\n",
       "      <th></th>\n",
       "      <th>quoteID</th>\n",
       "      <th>quotation</th>\n",
       "      <th>speaker</th>\n",
       "      <th>qids</th>\n",
       "      <th>date</th>\n",
       "      <th>numOccurrences</th>\n",
       "      <th>probas</th>\n",
       "      <th>urls</th>\n",
       "      <th>phase</th>\n",
       "    </tr>\n",
       "  </thead>\n",
       "  <tbody>\n",
       "    <tr>\n",
       "      <th>366</th>\n",
       "      <td>2017-01-11-000270</td>\n",
       "      <td>But without bolder action, our children won't ...</td>\n",
       "      <td>President Barack Obama</td>\n",
       "      <td>['Q76']</td>\n",
       "      <td>2017-01-11 03:07:35</td>\n",
       "      <td>1</td>\n",
       "      <td>[['President Barack Obama', '0.859'], ['None',...</td>\n",
       "      <td>['http://www.thewrap.com/obama-says-goodbye-ho...</td>\n",
       "      <td>E</td>\n",
       "    </tr>\n",
       "    <tr>\n",
       "      <th>8337</th>\n",
       "      <td>2017-01-11-001557</td>\n",
       "      <td>The truth is that climate change shouldn't be ...</td>\n",
       "      <td>John Kerry</td>\n",
       "      <td>['Q22316', 'Q6242998']</td>\n",
       "      <td>2017-01-11 12:13:56</td>\n",
       "      <td>1</td>\n",
       "      <td>[['John Kerry', '0.7591'], ['None', '0.224'], ...</td>\n",
       "      <td>['https://www.ibcworldnews.com/2017/01/11/obam...</td>\n",
       "      <td>E</td>\n",
       "    </tr>\n",
       "    <tr>\n",
       "      <th>5217</th>\n",
       "      <td>2017-01-12-000261</td>\n",
       "      <td>Columbia Gas of Ohio is proud to be a part of ...</td>\n",
       "      <td>None</td>\n",
       "      <td>[]</td>\n",
       "      <td>2017-01-12 05:23:47</td>\n",
       "      <td>1</td>\n",
       "      <td>[['None', '0.926'], ['G. Thompson', '0.074']]</td>\n",
       "      <td>['http://thelantern.com/2017/01/ohio-state-bri...</td>\n",
       "      <td>E</td>\n",
       "    </tr>\n",
       "    <tr>\n",
       "      <th>8608</th>\n",
       "      <td>2017-01-12-001651</td>\n",
       "      <td>These Utahns see the effects of climate change...</td>\n",
       "      <td>Sheldon Whitehouse</td>\n",
       "      <td>['Q652066']</td>\n",
       "      <td>2017-01-12 15:00:05</td>\n",
       "      <td>1</td>\n",
       "      <td>[['Sheldon Whitehouse', '0.8915'], ['None', '0...</td>\n",
       "      <td>['http://universe.byu.edu/2017/01/12/scientist...</td>\n",
       "      <td>E</td>\n",
       "    </tr>\n",
       "  </tbody>\n",
       "</table>\n",
       "</div>"
      ],
      "text/plain": [
       "                quoteID                                          quotation  \\\n",
       "366   2017-01-11-000270  But without bolder action, our children won't ...   \n",
       "8337  2017-01-11-001557  The truth is that climate change shouldn't be ...   \n",
       "5217  2017-01-12-000261  Columbia Gas of Ohio is proud to be a part of ...   \n",
       "8608  2017-01-12-001651  These Utahns see the effects of climate change...   \n",
       "\n",
       "                     speaker                    qids                date  \\\n",
       "366   President Barack Obama                 ['Q76'] 2017-01-11 03:07:35   \n",
       "8337              John Kerry  ['Q22316', 'Q6242998'] 2017-01-11 12:13:56   \n",
       "5217                    None                      [] 2017-01-12 05:23:47   \n",
       "8608      Sheldon Whitehouse             ['Q652066'] 2017-01-12 15:00:05   \n",
       "\n",
       "      numOccurrences                                             probas  \\\n",
       "366                1  [['President Barack Obama', '0.859'], ['None',...   \n",
       "8337               1  [['John Kerry', '0.7591'], ['None', '0.224'], ...   \n",
       "5217               1      [['None', '0.926'], ['G. Thompson', '0.074']]   \n",
       "8608               1  [['Sheldon Whitehouse', '0.8915'], ['None', '0...   \n",
       "\n",
       "                                                   urls phase  \n",
       "366   ['http://www.thewrap.com/obama-says-goodbye-ho...     E  \n",
       "8337  ['https://www.ibcworldnews.com/2017/01/11/obam...     E  \n",
       "5217  ['http://thelantern.com/2017/01/ohio-state-bri...     E  \n",
       "8608  ['http://universe.byu.edu/2017/01/12/scientist...     E  "
      ]
     },
     "execution_count": 14,
     "metadata": {},
     "output_type": "execute_result"
    }
   ],
   "source": [
    "output_df.head(4)"
   ]
  },
  {
   "cell_type": "code",
   "execution_count": null,
   "id": "e559853d",
   "metadata": {},
   "outputs": [],
   "source": [
    "write_df_to_disk(output_df, disaster_type, YEAR, additional_text='climate_filtered')"
   ]
  }
 ],
 "metadata": {
  "kernelspec": {
   "display_name": "Python [conda env:numerical] *",
   "language": "python",
   "name": "conda-env-numerical-py"
  },
  "language_info": {
   "codemirror_mode": {
    "name": "ipython",
    "version": 3
   },
   "file_extension": ".py",
   "mimetype": "text/x-python",
   "name": "python",
   "nbconvert_exporter": "python",
   "pygments_lexer": "ipython3",
   "version": "3.8.12"
  }
 },
 "nbformat": 4,
 "nbformat_minor": 5
}
