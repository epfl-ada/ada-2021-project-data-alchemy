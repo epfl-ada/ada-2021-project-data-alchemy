{
 "cells": [
  {
   "cell_type": "markdown",
   "metadata": {},
   "source": [
    "# Imports"
   ]
  },
  {
   "cell_type": "code",
   "execution_count": 1,
   "metadata": {},
   "outputs": [],
   "source": [
    "import pandas as pd\n",
    "import bz2\n",
    "import json\n",
    "import matplotlib.pyplot as plt\n",
    "from matplotlib.pyplot import figure\n",
    "import matplotlib.gridspec as gridspec\n",
    "import pickle\n",
    "import os\n",
    "#from extraction_helpers import *"
   ]
  },
  {
   "cell_type": "markdown",
   "metadata": {},
   "source": [
    "# Import Data"
   ]
  },
  {
   "cell_type": "code",
   "execution_count": 2,
   "metadata": {},
   "outputs": [],
   "source": [
    "# If cleaning already done:\n",
    "# Open processed EM-DAT dataset\n",
    "#df_emdat = pd.read_csv(\"data/emdat_processed.csv\", index_col = \"Dis No\")"
   ]
  },
  {
   "cell_type": "code",
   "execution_count": 3,
   "metadata": {},
   "outputs": [],
   "source": [
    "# If cleaning not done:\n",
    "\n",
    "data = '../data/emdat.csv'\n",
    "\n",
    "col_list = \\\n",
    "[\"Dis No\", \"Disaster Group\", \"Disaster Subgroup\", \n",
    " \"Disaster Type\", \"Disaster Subtype\", \"Disaster Subsubtype\",\n",
    " \"Event Name\", \"Country\", \"ISO\", \"Region\", \"Continent\", \"Origin\", \n",
    " \"Start Year\", \"Start Month\", \"Start Day\", \"End Year\", \"End Month\", \n",
    " \"End Day\", \"Total Deaths\", \"No Injured\", \"No Affected\", \"No Homeless\", \n",
    " \"Total Affected\", \"Total Damages ('000 US$)\", \"Dis Mag Value\", \"Dis Mag Scale\"]\n",
    "\n",
    "df_emdat = pd.read_csv(data, usecols=col_list, index_col=\"Dis No\")"
   ]
  },
  {
   "cell_type": "code",
   "execution_count": 4,
   "metadata": {},
   "outputs": [],
   "source": [
    "# Rename columns\n",
    "df_emdat = df_emdat.rename(\n",
    "    {'Disaster Group': 'Group', 'Disaster Subgroup': 'Subgroup',\n",
    "     'Disaster Type': 'Type', 'Disaster Subtype': 'Subtype',\n",
    "     'Disaster Subsubtype': 'Subsubtype', 'Event Name': 'Name',\n",
    "     'Total Deaths': 'Deaths', 'No Injured': 'Injured', \n",
    "     'No Affected': 'Affected', 'No Homeless': 'Homeless',\n",
    "     'Total Affected': 'TotalAffected', \"Total Damages ('000 US$)\": 'Damages',\n",
    "     'Dis Mag Value':'Magnitude', 'Dis Mag Scale': 'Scale'}, \n",
    "    axis=1) "
   ]
  },
  {
   "cell_type": "markdown",
   "metadata": {},
   "source": [
    "# Clean Data"
   ]
  },
  {
   "cell_type": "code",
   "execution_count": 5,
   "metadata": {},
   "outputs": [],
   "source": [
    "# Certain major disasters (e.g., Australia fire) don't have end days\n",
    "# because they last very long. We fill these with the Start Day in \n",
    "# order to include them and avoid disasters with a negative duration\n",
    "df_emdat['End Day'] = df_emdat['End Day'].fillna(df_emdat['Start Day'])\n",
    "\n",
    "# Map NaN values to 0\n",
    "df_emdat['Deaths'] = df_emdat['Deaths'].fillna(0)\n",
    "df_emdat['Injured'] = df_emdat['Injured'].fillna(0)\n",
    "df_emdat['Affected'] = df_emdat['Affected'].fillna(0)\n",
    "df_emdat['Homeless'] = df_emdat['Homeless'].fillna(0)\n",
    "df_emdat['TotalAffected'] = df_emdat['TotalAffected'].fillna(0)\n",
    "df_emdat['Damages'] = df_emdat['Damages'].fillna(0)\n",
    "df_emdat['Magnitude'] = df_emdat['Magnitude'].fillna(0)"
   ]
  },
  {
   "cell_type": "code",
   "execution_count": 6,
   "metadata": {},
   "outputs": [],
   "source": [
    "# Drop any rows with NaN in any of the date components\n",
    "date_cols = [\"Start Year\", \"Start Month\", \"Start Day\",\n",
    "             \"End Year\", \"End Month\", \"End Day\"]\n",
    "df_emdat = df_emdat.dropna(subset=date_cols)"
   ]
  },
  {
   "cell_type": "code",
   "execution_count": 7,
   "metadata": {},
   "outputs": [],
   "source": [
    "# Sort by date (Year, Month, Day)\n",
    "df_emdat = df_emdat.sort_values(by=date_cols)"
   ]
  },
  {
   "cell_type": "code",
   "execution_count": 8,
   "metadata": {},
   "outputs": [],
   "source": [
    "# Remove two entries which have start date == 2021\n",
    "df_emdat = df_emdat[df_emdat['Start Year'] <= 2020]"
   ]
  },
  {
   "cell_type": "code",
   "execution_count": 9,
   "metadata": {},
   "outputs": [
    {
     "data": {
      "text/plain": [
       "Group                  Natural\n",
       "Subgroup          Hydrological\n",
       "Type                     Flood\n",
       "Subtype                    NaN\n",
       "Subsubtype                 NaN\n",
       "Name                       NaN\n",
       "Country                  India\n",
       "ISO                        IND\n",
       "Region           Southern Asia\n",
       "Continent                 Asia\n",
       "Origin           Monsoon rains\n",
       "Magnitude                  0.0\n",
       "Scale                      Km2\n",
       "Start Year                2017\n",
       "Start Month                6.0\n",
       "Start Day                  1.0\n",
       "End Year                  2017\n",
       "End Month                    6\n",
       "End Day                   31.0\n",
       "Deaths                    31.0\n",
       "Injured                    0.0\n",
       "Affected                   0.0\n",
       "Homeless                   0.0\n",
       "TotalAffected              0.0\n",
       "Damages                    0.0\n",
       "Name: 2017-0257-IND, dtype: object"
      ]
     },
     "execution_count": 9,
     "metadata": {},
     "output_type": "execute_result"
    }
   ],
   "source": [
    "# One row which has end date 31.06.2017 which is not possible\n",
    "# The correct month is July (7) instead of June (6)\n",
    "df_emdat.loc[\"2017-0257-IND\"]"
   ]
  },
  {
   "cell_type": "code",
   "execution_count": 10,
   "metadata": {},
   "outputs": [],
   "source": [
    "# Modify the df to fix the End Month\n",
    "df_emdat.at[\"2017-0257-IND\", \"End Month\"] = 7"
   ]
  },
  {
   "cell_type": "code",
   "execution_count": 11,
   "metadata": {},
   "outputs": [],
   "source": [
    "# Combine start date components into one StartDate column \n",
    "df_emdat_start = df_emdat[[\"Start Year\", \"Start Month\", \"Start Day\"]].copy()\n",
    "df_emdat_start.columns = [\"year\", \"month\", \"day\"]\n",
    "df_emdat[\"StartDate\"] = pd.to_datetime(df_emdat_start)"
   ]
  },
  {
   "cell_type": "code",
   "execution_count": 12,
   "metadata": {},
   "outputs": [],
   "source": [
    "# Combine end date components into one EndDate column \n",
    "df_emdat_end = df_emdat[[\"End Year\", \"End Month\", \"End Day\"]].copy()\n",
    "df_emdat_end.columns = [\"year\", \"month\", \"day\"]\n",
    "df_emdat[\"EndDate\"] = pd.to_datetime(df_emdat_end)"
   ]
  },
  {
   "cell_type": "code",
   "execution_count": 13,
   "metadata": {},
   "outputs": [],
   "source": [
    "# Remove the 6 redundant date component columns\n",
    "df_emdat.drop(date_cols, axis=1, inplace=True)"
   ]
  },
  {
   "cell_type": "code",
   "execution_count": 14,
   "metadata": {
    "scrolled": true
   },
   "outputs": [
    {
     "data": {
      "text/html": [
       "<div>\n",
       "<style scoped>\n",
       "    .dataframe tbody tr th:only-of-type {\n",
       "        vertical-align: middle;\n",
       "    }\n",
       "\n",
       "    .dataframe tbody tr th {\n",
       "        vertical-align: top;\n",
       "    }\n",
       "\n",
       "    .dataframe thead th {\n",
       "        text-align: right;\n",
       "    }\n",
       "</style>\n",
       "<table border=\"1\" class=\"dataframe\">\n",
       "  <thead>\n",
       "    <tr style=\"text-align: right;\">\n",
       "      <th></th>\n",
       "      <th>Group</th>\n",
       "      <th>Subgroup</th>\n",
       "      <th>Type</th>\n",
       "      <th>Subtype</th>\n",
       "      <th>Subsubtype</th>\n",
       "      <th>Name</th>\n",
       "      <th>Country</th>\n",
       "      <th>ISO</th>\n",
       "      <th>Region</th>\n",
       "      <th>Continent</th>\n",
       "      <th>...</th>\n",
       "      <th>Magnitude</th>\n",
       "      <th>Scale</th>\n",
       "      <th>Deaths</th>\n",
       "      <th>Injured</th>\n",
       "      <th>Affected</th>\n",
       "      <th>Homeless</th>\n",
       "      <th>TotalAffected</th>\n",
       "      <th>Damages</th>\n",
       "      <th>StartDate</th>\n",
       "      <th>EndDate</th>\n",
       "    </tr>\n",
       "    <tr>\n",
       "      <th>Dis No</th>\n",
       "      <th></th>\n",
       "      <th></th>\n",
       "      <th></th>\n",
       "      <th></th>\n",
       "      <th></th>\n",
       "      <th></th>\n",
       "      <th></th>\n",
       "      <th></th>\n",
       "      <th></th>\n",
       "      <th></th>\n",
       "      <th></th>\n",
       "      <th></th>\n",
       "      <th></th>\n",
       "      <th></th>\n",
       "      <th></th>\n",
       "      <th></th>\n",
       "      <th></th>\n",
       "      <th></th>\n",
       "      <th></th>\n",
       "      <th></th>\n",
       "      <th></th>\n",
       "    </tr>\n",
       "  </thead>\n",
       "  <tbody>\n",
       "    <tr>\n",
       "      <th>2015-0011-MWI</th>\n",
       "      <td>Natural</td>\n",
       "      <td>Hydrological</td>\n",
       "      <td>Flood</td>\n",
       "      <td>Riverine flood</td>\n",
       "      <td>NaN</td>\n",
       "      <td>NaN</td>\n",
       "      <td>Malawi</td>\n",
       "      <td>MWI</td>\n",
       "      <td>Eastern Africa</td>\n",
       "      <td>Africa</td>\n",
       "      <td>...</td>\n",
       "      <td>485939.0</td>\n",
       "      <td>Km2</td>\n",
       "      <td>278.0</td>\n",
       "      <td>645.0</td>\n",
       "      <td>638000.0</td>\n",
       "      <td>0.0</td>\n",
       "      <td>638645.0</td>\n",
       "      <td>390000.0</td>\n",
       "      <td>2015-01-01</td>\n",
       "      <td>2015-01-21</td>\n",
       "    </tr>\n",
       "    <tr>\n",
       "      <th>2015-0011-MOZ</th>\n",
       "      <td>Natural</td>\n",
       "      <td>Hydrological</td>\n",
       "      <td>Flood</td>\n",
       "      <td>Riverine flood</td>\n",
       "      <td>NaN</td>\n",
       "      <td>NaN</td>\n",
       "      <td>Mozambique</td>\n",
       "      <td>MOZ</td>\n",
       "      <td>Eastern Africa</td>\n",
       "      <td>Africa</td>\n",
       "      <td>...</td>\n",
       "      <td>0.0</td>\n",
       "      <td>Km2</td>\n",
       "      <td>160.0</td>\n",
       "      <td>0.0</td>\n",
       "      <td>177645.0</td>\n",
       "      <td>0.0</td>\n",
       "      <td>177645.0</td>\n",
       "      <td>0.0</td>\n",
       "      <td>2015-01-01</td>\n",
       "      <td>2015-02-09</td>\n",
       "    </tr>\n",
       "    <tr>\n",
       "      <th>2015-0030-MWI</th>\n",
       "      <td>Natural</td>\n",
       "      <td>Meteorological</td>\n",
       "      <td>Storm</td>\n",
       "      <td>Convective storm</td>\n",
       "      <td>Lightning/Thunderstorms</td>\n",
       "      <td>NaN</td>\n",
       "      <td>Malawi</td>\n",
       "      <td>MWI</td>\n",
       "      <td>Eastern Africa</td>\n",
       "      <td>Africa</td>\n",
       "      <td>...</td>\n",
       "      <td>0.0</td>\n",
       "      <td>Kph</td>\n",
       "      <td>5.0</td>\n",
       "      <td>0.0</td>\n",
       "      <td>0.0</td>\n",
       "      <td>350.0</td>\n",
       "      <td>350.0</td>\n",
       "      <td>0.0</td>\n",
       "      <td>2015-01-02</td>\n",
       "      <td>2015-01-04</td>\n",
       "    </tr>\n",
       "  </tbody>\n",
       "</table>\n",
       "<p>3 rows × 21 columns</p>\n",
       "</div>"
      ],
      "text/plain": [
       "                 Group        Subgroup   Type           Subtype  \\\n",
       "Dis No                                                            \n",
       "2015-0011-MWI  Natural    Hydrological  Flood    Riverine flood   \n",
       "2015-0011-MOZ  Natural    Hydrological  Flood    Riverine flood   \n",
       "2015-0030-MWI  Natural  Meteorological  Storm  Convective storm   \n",
       "\n",
       "                            Subsubtype Name     Country  ISO          Region  \\\n",
       "Dis No                                                                         \n",
       "2015-0011-MWI                      NaN  NaN      Malawi  MWI  Eastern Africa   \n",
       "2015-0011-MOZ                      NaN  NaN  Mozambique  MOZ  Eastern Africa   \n",
       "2015-0030-MWI  Lightning/Thunderstorms  NaN      Malawi  MWI  Eastern Africa   \n",
       "\n",
       "              Continent  ... Magnitude  Scale Deaths  Injured  Affected  \\\n",
       "Dis No                   ...                                              \n",
       "2015-0011-MWI    Africa  ...  485939.0    Km2  278.0    645.0  638000.0   \n",
       "2015-0011-MOZ    Africa  ...       0.0    Km2  160.0      0.0  177645.0   \n",
       "2015-0030-MWI    Africa  ...       0.0    Kph    5.0      0.0       0.0   \n",
       "\n",
       "               Homeless  TotalAffected   Damages  StartDate    EndDate  \n",
       "Dis No                                                                  \n",
       "2015-0011-MWI       0.0       638645.0  390000.0 2015-01-01 2015-01-21  \n",
       "2015-0011-MOZ       0.0       177645.0       0.0 2015-01-01 2015-02-09  \n",
       "2015-0030-MWI     350.0          350.0       0.0 2015-01-02 2015-01-04  \n",
       "\n",
       "[3 rows x 21 columns]"
      ]
     },
     "execution_count": 14,
     "metadata": {},
     "output_type": "execute_result"
    }
   ],
   "source": [
    "# View sample\n",
    "df_emdat.head(3)"
   ]
  },
  {
   "cell_type": "markdown",
   "metadata": {},
   "source": [
    "# Process Data"
   ]
  },
  {
   "cell_type": "markdown",
   "metadata": {},
   "source": [
    "## Durations"
   ]
  },
  {
   "cell_type": "code",
   "execution_count": 15,
   "metadata": {},
   "outputs": [],
   "source": [
    "# Create a column storing the duration of each disaster\n",
    "df_emdat['Duration'] = (df_emdat['EndDate'] - df_emdat['StartDate']).dt.days"
   ]
  },
  {
   "cell_type": "code",
   "execution_count": 16,
   "metadata": {},
   "outputs": [
    {
     "data": {
      "text/plain": [
       "array([[<AxesSubplot:title={'center':'Duration'}>]], dtype=object)"
      ]
     },
     "execution_count": 16,
     "metadata": {},
     "output_type": "execute_result"
    },
    {
     "data": {
      "image/png": "[encoded data removed]",
      "text/plain": [
       "<Figure size 432x288 with 1 Axes>"
      ]
     },
     "metadata": {
      "needs_background": "light"
     },
     "output_type": "display_data"
    }
   ],
   "source": [
    "# Plot distribution of durations\n",
    "df_emdat.hist(\"Duration\", bins=100, log=True)"
   ]
  },
  {
   "cell_type": "code",
   "execution_count": 17,
   "metadata": {
    "scrolled": true
   },
   "outputs": [
    {
     "data": {
      "text/html": [
       "<div>\n",
       "<style scoped>\n",
       "    .dataframe tbody tr th:only-of-type {\n",
       "        vertical-align: middle;\n",
       "    }\n",
       "\n",
       "    .dataframe tbody tr th {\n",
       "        vertical-align: top;\n",
       "    }\n",
       "\n",
       "    .dataframe thead th {\n",
       "        text-align: right;\n",
       "    }\n",
       "</style>\n",
       "<table border=\"1\" class=\"dataframe\">\n",
       "  <thead>\n",
       "    <tr style=\"text-align: right;\">\n",
       "      <th></th>\n",
       "      <th>Magnitude</th>\n",
       "      <th>Deaths</th>\n",
       "      <th>Injured</th>\n",
       "      <th>Affected</th>\n",
       "      <th>Homeless</th>\n",
       "      <th>TotalAffected</th>\n",
       "      <th>Damages</th>\n",
       "      <th>Duration</th>\n",
       "    </tr>\n",
       "  </thead>\n",
       "  <tbody>\n",
       "    <tr>\n",
       "      <th>count</th>\n",
       "      <td>1.997000e+03</td>\n",
       "      <td>1997.000000</td>\n",
       "      <td>1997.000000</td>\n",
       "      <td>1.997000e+03</td>\n",
       "      <td>1.997000e+03</td>\n",
       "      <td>1.997000e+03</td>\n",
       "      <td>1.997000e+03</td>\n",
       "      <td>1997.000000</td>\n",
       "    </tr>\n",
       "    <tr>\n",
       "      <th>mean</th>\n",
       "      <td>2.063805e+04</td>\n",
       "      <td>36.332999</td>\n",
       "      <td>153.139209</td>\n",
       "      <td>2.498124e+05</td>\n",
       "      <td>2.537447e+03</td>\n",
       "      <td>2.525030e+05</td>\n",
       "      <td>4.542298e+05</td>\n",
       "      <td>6.660491</td>\n",
       "    </tr>\n",
       "    <tr>\n",
       "      <th>std</th>\n",
       "      <td>2.023186e+05</td>\n",
       "      <td>255.457778</td>\n",
       "      <td>1936.888509</td>\n",
       "      <td>2.586658e+06</td>\n",
       "      <td>4.850959e+04</td>\n",
       "      <td>2.588110e+06</td>\n",
       "      <td>3.260667e+06</td>\n",
       "      <td>20.843387</td>\n",
       "    </tr>\n",
       "    <tr>\n",
       "      <th>min</th>\n",
       "      <td>-4.800000e+01</td>\n",
       "      <td>0.000000</td>\n",
       "      <td>0.000000</td>\n",
       "      <td>0.000000e+00</td>\n",
       "      <td>0.000000e+00</td>\n",
       "      <td>0.000000e+00</td>\n",
       "      <td>0.000000e+00</td>\n",
       "      <td>0.000000</td>\n",
       "    </tr>\n",
       "    <tr>\n",
       "      <th>25%</th>\n",
       "      <td>0.000000e+00</td>\n",
       "      <td>1.000000</td>\n",
       "      <td>0.000000</td>\n",
       "      <td>0.000000e+00</td>\n",
       "      <td>0.000000e+00</td>\n",
       "      <td>8.800000e+01</td>\n",
       "      <td>0.000000e+00</td>\n",
       "      <td>0.000000</td>\n",
       "    </tr>\n",
       "    <tr>\n",
       "      <th>50%</th>\n",
       "      <td>0.000000e+00</td>\n",
       "      <td>6.000000</td>\n",
       "      <td>0.000000</td>\n",
       "      <td>2.000000e+03</td>\n",
       "      <td>0.000000e+00</td>\n",
       "      <td>3.000000e+03</td>\n",
       "      <td>0.000000e+00</td>\n",
       "      <td>2.000000</td>\n",
       "    </tr>\n",
       "    <tr>\n",
       "      <th>75%</th>\n",
       "      <td>7.000000e+00</td>\n",
       "      <td>18.000000</td>\n",
       "      <td>4.000000</td>\n",
       "      <td>2.370000e+04</td>\n",
       "      <td>0.000000e+00</td>\n",
       "      <td>2.500000e+04</td>\n",
       "      <td>6.000000e+04</td>\n",
       "      <td>6.000000</td>\n",
       "    </tr>\n",
       "    <tr>\n",
       "      <th>max</th>\n",
       "      <td>8.000000e+06</td>\n",
       "      <td>8831.000000</td>\n",
       "      <td>58080.000000</td>\n",
       "      <td>8.500000e+07</td>\n",
       "      <td>2.000000e+06</td>\n",
       "      <td>8.500001e+07</td>\n",
       "      <td>9.500000e+07</td>\n",
       "      <td>376.000000</td>\n",
       "    </tr>\n",
       "  </tbody>\n",
       "</table>\n",
       "</div>"
      ],
      "text/plain": [
       "          Magnitude       Deaths       Injured      Affected      Homeless  \\\n",
       "count  1.997000e+03  1997.000000   1997.000000  1.997000e+03  1.997000e+03   \n",
       "mean   2.063805e+04    36.332999    153.139209  2.498124e+05  2.537447e+03   \n",
       "std    2.023186e+05   255.457778   1936.888509  2.586658e+06  4.850959e+04   \n",
       "min   -4.800000e+01     0.000000      0.000000  0.000000e+00  0.000000e+00   \n",
       "25%    0.000000e+00     1.000000      0.000000  0.000000e+00  0.000000e+00   \n",
       "50%    0.000000e+00     6.000000      0.000000  2.000000e+03  0.000000e+00   \n",
       "75%    7.000000e+00    18.000000      4.000000  2.370000e+04  0.000000e+00   \n",
       "max    8.000000e+06  8831.000000  58080.000000  8.500000e+07  2.000000e+06   \n",
       "\n",
       "       TotalAffected       Damages     Duration  \n",
       "count   1.997000e+03  1.997000e+03  1997.000000  \n",
       "mean    2.525030e+05  4.542298e+05     6.660491  \n",
       "std     2.588110e+06  3.260667e+06    20.843387  \n",
       "min     0.000000e+00  0.000000e+00     0.000000  \n",
       "25%     8.800000e+01  0.000000e+00     0.000000  \n",
       "50%     3.000000e+03  0.000000e+00     2.000000  \n",
       "75%     2.500000e+04  6.000000e+04     6.000000  \n",
       "max     8.500001e+07  9.500000e+07   376.000000  "
      ]
     },
     "execution_count": 17,
     "metadata": {},
     "output_type": "execute_result"
    }
   ],
   "source": [
    "df_emdat.describe()"
   ]
  },
  {
   "cell_type": "code",
   "execution_count": 18,
   "metadata": {},
   "outputs": [],
   "source": [
    "# Save cleaned EM-DAT dataset\n",
    "compression_opts = dict(method='zip', archive_name='emdat_processed.csv')  \n",
    "df_emdat.to_csv('../data/emdat_processed.zip', index=True, compression=compression_opts)  "
   ]
  },
  {
   "cell_type": "markdown",
   "metadata": {},
   "source": [
    "## Chronoligical evolution"
   ]
  },
  {
   "cell_type": "code",
   "execution_count": 19,
   "metadata": {},
   "outputs": [],
   "source": [
    "# Create dataframe of only disasters between January 2020 and April 2020\n",
    "mask = ((df_emdat['StartDate'] >= '2020-01-01') & (df_emdat['StartDate'] < '2020-05-01'))\n",
    "df_2020 = df_emdat.loc[mask]"
   ]
  },
  {
   "cell_type": "code",
   "execution_count": 20,
   "metadata": {},
   "outputs": [],
   "source": [
    "df_2020.set_index(['StartDate'],inplace=True)"
   ]
  },
  {
   "cell_type": "code",
   "execution_count": 21,
   "metadata": {},
   "outputs": [],
   "source": [
    "# Some disasters have same StartDate so we group them together and sum the desired column \n",
    "grouped_2020 = df_2020.groupby(['StartDate'])"
   ]
  },
  {
   "cell_type": "code",
   "execution_count": 22,
   "metadata": {},
   "outputs": [],
   "source": [
    "grouped_affected = grouped_2020['TotalAffected'].sum()\n",
    "grouped_damages = grouped_2020['Damages'].sum()"
   ]
  },
  {
   "cell_type": "code",
   "execution_count": 23,
   "metadata": {},
   "outputs": [
    {
     "data": {
      "image/png": "[encoded data removed]",
      "text/plain": [
       "<Figure size 864x720 with 2 Axes>"
      ]
     },
     "metadata": {
      "needs_background": "light"
     },
     "output_type": "display_data"
    }
   ],
   "source": [
    "gs = gridspec.GridSpec(2,1)\n",
    "fig = plt.figure(figsize=(12,10))\n",
    "#first plot\n",
    "ax = fig.add_subplot(gs[0])\n",
    "ax.plot(grouped_affected.index, grouped_affected.values)\n",
    "ax.set_ylabel(r'Total Affected', size =16)\n",
    "ax.set_xlabel(r'Time', size =14)\n",
    "ax.get_yaxis().set_label_coords(-0.1,0.5)\n",
    "plt.tick_params(\n",
    "    axis='x',          # changes apply to the x-axis\n",
    "    labelbottom='off') # labels along the bottom edge are off\n",
    "\n",
    "#second plot\n",
    "ax = fig.add_subplot(gs[1], sharex=ax)\n",
    "ax.plot(grouped_damages.index, grouped_damages.values, color='orange')\n",
    "ax.set_ylabel(r'Damages in thousands of USD', size =16)\n",
    "ax.set_xlabel(r'Time', size =14)\n",
    "ax.get_yaxis().set_label_coords(-0.1,0.5)\n",
    "\n",
    "plt.show()"
   ]
  },
  {
   "cell_type": "code",
   "execution_count": null,
   "metadata": {},
   "outputs": [],
   "source": []
  }
 ],
 "metadata": {
  "interpreter": {
   "hash": "9bbc67402def311b96fab883d2c883a39527be9a4d3d9f29179a0d00da6a6745"
  },
  "kernelspec": {
   "display_name": "Python 3 (ipykernel)",
   "language": "python",
   "name": "python3"
  },
  "language_info": {
   "codemirror_mode": {
    "name": "ipython",
    "version": 3
   },
   "file_extension": ".py",
   "mimetype": "text/x-python",
   "name": "python",
   "nbconvert_exporter": "python",
   "pygments_lexer": "ipython3",
   "version": "3.8.12"
  }
 },
 "nbformat": 4,
 "nbformat_minor": 2
}
