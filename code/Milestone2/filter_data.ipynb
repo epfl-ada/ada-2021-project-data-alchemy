{
 "cells": [
  {
   "cell_type": "code",
   "execution_count": 1,
   "metadata": {},
   "outputs": [],
   "source": [
    "\n",
    "### -------- IMPORTS -----------------------------------------------------------------------------------------\n",
    "\n",
    "import pandas as pd\n",
    "import bz2\n",
    "import json\n",
    "import extraction_helpers as eh\n",
    "import pickle\n",
    "\n",
    "\n",
    "\n",
    "### ------------------ HELPER FUNCTIONS-----------------------------------------------------------------------\n",
    "\n",
    "def extract_quotes_keyword(chunk, keyword, not_keywords):\n",
    "    ### Helper function to extract all quotes containing a list of keywords (case-sensitive)\n",
    "    ### Returns a dictionary of dataframes\n",
    "\n",
    "    \n",
    "    # For each keyword, extract the quotes from the chunk\n",
    "    \n",
    "    print(f\"Processing chunk with {len(chunk)} rows, looking for quotes containing '{keyword}' but not '{not_keywords}'.\")\n",
    "    df = chunk[chunk[\"quotation\"].str.contains(keyword, na=False)]\n",
    "    for not_keyword in not_keywords:\n",
    "        df = df[~df[\"quotation\"].str.contains(not_keyword, na=False)]\n",
    "    return df\n",
    "\n",
    "def extract_quotes(data, keyword, not_keywords, chunksize = 1000000, compression = 'bz2'):\n",
    " \n",
    "    with pd.read_json(data, lines=True, compression=compression, chunksize=chunksize) as df_reader:\n",
    "        df = pd.DataFrame({'quoteID':'', 'quotation':'', 'speaker':'',\\\n",
    "            'qids':'', 'date':'', 'probas':'', 'numOccurences':'', 'phase':''}, index = [0])\n",
    "\n",
    "        for chunk in df_reader:\n",
    "            quotes = extract_quotes_keyword(chunk, keyword, not_keywords)\n",
    "            df = pd.concat([df, quotes], ignore_index=True)\n",
    "    \n",
    "        return df.iloc[1:,:]\n"
   ]
  },
  {
   "cell_type": "code",
   "execution_count": 2,
   "metadata": {},
   "outputs": [],
   "source": [
    "filename = open(\"extracted_data_other/output_2020 speakers_False keywords_['flood'].pickle\", \"rb\")\n",
    "dict_df = pickle.load(filename)"
   ]
  },
  {
   "cell_type": "markdown",
   "metadata": {},
   "source": [
    "Shape of the unfiltered extracted data"
   ]
  },
  {
   "cell_type": "code",
   "execution_count": 3,
   "metadata": {},
   "outputs": [
    {
     "data": {
      "text/plain": [
       "(5033, 10)"
      ]
     },
     "execution_count": 3,
     "metadata": {},
     "output_type": "execute_result"
    }
   ],
   "source": [
    "dict_df['flood'].shape"
   ]
  },
  {
   "cell_type": "code",
   "execution_count": 4,
   "metadata": {},
   "outputs": [],
   "source": [
    "not_keywords = ['flooded by', 'flooded with', 'a flood of', 'floodgate', 'flood gate', 'flood plain', 'floodplain']\n",
    "data = 'data/quotes-2020.json.bz2'\n",
    "keyword = 'flood'"
   ]
  },
  {
   "cell_type": "code",
   "execution_count": 5,
   "metadata": {},
   "outputs": [
    {
     "name": "stdout",
     "output_type": "stream",
     "text": [
      "Processing chunk with 1000000 rows, looking for quotes containing 'flood' but not '['flooded by', 'flooded with', 'a flood of', 'floodgate', 'flood gate', 'flood plain', 'floodplain']'.\n",
      "Processing chunk with 1000000 rows, looking for quotes containing 'flood' but not '['flooded by', 'flooded with', 'a flood of', 'floodgate', 'flood gate', 'flood plain', 'floodplain']'.\n",
      "Processing chunk with 1000000 rows, looking for quotes containing 'flood' but not '['flooded by', 'flooded with', 'a flood of', 'floodgate', 'flood gate', 'flood plain', 'floodplain']'.\n",
      "Processing chunk with 1000000 rows, looking for quotes containing 'flood' but not '['flooded by', 'flooded with', 'a flood of', 'floodgate', 'flood gate', 'flood plain', 'floodplain']'.\n",
      "Processing chunk with 1000000 rows, looking for quotes containing 'flood' but not '['flooded by', 'flooded with', 'a flood of', 'floodgate', 'flood gate', 'flood plain', 'floodplain']'.\n",
      "Processing chunk with 244449 rows, looking for quotes containing 'flood' but not '['flooded by', 'flooded with', 'a flood of', 'floodgate', 'flood gate', 'flood plain', 'floodplain']'.\n"
     ]
    }
   ],
   "source": [
    "df_filter = extract_quotes(data, keyword=keyword, not_keywords=not_keywords)"
   ]
  },
  {
   "cell_type": "markdown",
   "metadata": {},
   "source": [
    "Shape of the filtered extracted data"
   ]
  },
  {
   "cell_type": "code",
   "execution_count": 6,
   "metadata": {},
   "outputs": [
    {
     "data": {
      "text/plain": [
       "(4476, 10)"
      ]
     },
     "execution_count": 6,
     "metadata": {},
     "output_type": "execute_result"
    }
   ],
   "source": [
    "df_filter.shape"
   ]
  },
  {
   "cell_type": "markdown",
   "metadata": {},
   "source": [
    "We have been able to filter about 10% of data that does not relate to actual floods. "
   ]
  },
  {
   "cell_type": "code",
   "execution_count": 7,
   "metadata": {},
   "outputs": [
    {
     "data": {
      "text/plain": [
       "1     How will they attend to the problems of the pe...\n",
       "2     Having witnessed significant devastation this ...\n",
       "3     When the flood goes to 12 metres... Ergon will...\n",
       "4     Nebraskans in District 23 and across the state...\n",
       "5     As water recedes over the weekend, the highway...\n",
       "6     Because of the heavy rain predicted again this...\n",
       "7     Opening the dams caused soil erosion and cause...\n",
       "8     Some other church events might be canceled -- ...\n",
       "9     The 14 volunteer Flood Wardens in the communit...\n",
       "10    The heartbreak of shame and guilt came floodin...\n",
       "11    I don't know why we're not flooding the zone w...\n",
       "12    Recent weather in the Barkly region has floode...\n",
       "Name: quotation, dtype: object"
      ]
     },
     "execution_count": 7,
     "metadata": {},
     "output_type": "execute_result"
    }
   ],
   "source": [
    "df_filter['quotation'].head(12)"
   ]
  },
  {
   "cell_type": "markdown",
   "metadata": {},
   "source": [
    "As we can see, there are still a few quotations that do not talk about actual floods. These will be filtered in more detail in the last milestone, however we also guess that these unwanted quotes should be evenly distributed across a period and should thus not pose great issues. Indeed, their rate of occurence is normally not related to any exterior events, as they are simply part of the language. "
   ]
  }
 ],
 "metadata": {
  "interpreter": {
   "hash": "9bbc67402def311b96fab883d2c883a39527be9a4d3d9f29179a0d00da6a6745"
  },
  "kernelspec": {
   "display_name": "Python 3.9.6 64-bit",
   "language": "python",
   "name": "python3"
  },
  "language_info": {
   "codemirror_mode": {
    "name": "ipython",
    "version": 3
   },
   "file_extension": ".py",
   "mimetype": "text/x-python",
   "name": "python",
   "nbconvert_exporter": "python",
   "pygments_lexer": "ipython3",
   "version": "3.9.6"
  },
  "orig_nbformat": 4
 },
 "nbformat": 4,
 "nbformat_minor": 2
}
