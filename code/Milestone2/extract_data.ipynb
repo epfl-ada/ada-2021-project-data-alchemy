{
 "cells": [
  {
   "cell_type": "markdown",
   "metadata": {},
   "source": [
    "# Imports"
   ]
  },
  {
   "cell_type": "code",
   "execution_count": 1,
   "metadata": {},
   "outputs": [],
   "source": [
    "import pandas as pd\n",
    "import bz2\n",
    "import json\n",
    "import pickle\n",
    "\n",
    "from extraction_helpers import *"
   ]
  },
  {
   "cell_type": "markdown",
   "metadata": {},
   "source": [
    "# Define parameters"
   ]
  },
  {
   "cell_type": "code",
   "execution_count": 2,
   "metadata": {},
   "outputs": [],
   "source": [
    "data = 'data/quotes-2019.json.bz2'\n",
    "speakers = False\n",
    "keywords = ['hurricane', 'climate change']"
   ]
  },
  {
   "cell_type": "markdown",
   "metadata": {},
   "source": [
    "# Extract the quotes"
   ]
  },
  {
   "cell_type": "code",
   "execution_count": 3,
   "metadata": {},
   "outputs": [
    {
     "name": "stdout",
     "output_type": "stream",
     "text": [
      "Processing chunk with 1000000 rows, looking for quotes containing 'hurricane'.\n",
      "Processing chunk with 1000000 rows, looking for quotes containing 'climate change'.\n",
      "Processing chunk with 1000000 rows, looking for quotes containing 'hurricane'.\n",
      "Processing chunk with 1000000 rows, looking for quotes containing 'climate change'.\n",
      "Processing chunk with 1000000 rows, looking for quotes containing 'hurricane'.\n",
      "Processing chunk with 1000000 rows, looking for quotes containing 'climate change'.\n",
      "Processing chunk with 1000000 rows, looking for quotes containing 'hurricane'.\n",
      "Processing chunk with 1000000 rows, looking for quotes containing 'climate change'.\n",
      "Processing chunk with 1000000 rows, looking for quotes containing 'hurricane'.\n",
      "Processing chunk with 1000000 rows, looking for quotes containing 'climate change'.\n",
      "Processing chunk with 1000000 rows, looking for quotes containing 'hurricane'.\n",
      "Processing chunk with 1000000 rows, looking for quotes containing 'climate change'.\n",
      "Processing chunk with 1000000 rows, looking for quotes containing 'hurricane'.\n",
      "Processing chunk with 1000000 rows, looking for quotes containing 'climate change'.\n",
      "Processing chunk with 1000000 rows, looking for quotes containing 'hurricane'.\n",
      "Processing chunk with 1000000 rows, looking for quotes containing 'climate change'.\n",
      "Processing chunk with 1000000 rows, looking for quotes containing 'hurricane'.\n",
      "Processing chunk with 1000000 rows, looking for quotes containing 'climate change'.\n",
      "Processing chunk with 1000000 rows, looking for quotes containing 'hurricane'.\n",
      "Processing chunk with 1000000 rows, looking for quotes containing 'climate change'.\n",
      "Processing chunk with 1000000 rows, looking for quotes containing 'hurricane'.\n",
      "Processing chunk with 1000000 rows, looking for quotes containing 'climate change'.\n",
      "Processing chunk with 1000000 rows, looking for quotes containing 'hurricane'.\n",
      "Processing chunk with 1000000 rows, looking for quotes containing 'climate change'.\n",
      "Processing chunk with 1000000 rows, looking for quotes containing 'hurricane'.\n",
      "Processing chunk with 1000000 rows, looking for quotes containing 'climate change'.\n",
      "Processing chunk with 1000000 rows, looking for quotes containing 'hurricane'.\n",
      "Processing chunk with 1000000 rows, looking for quotes containing 'climate change'.\n",
      "Processing chunk with 1000000 rows, looking for quotes containing 'hurricane'.\n",
      "Processing chunk with 1000000 rows, looking for quotes containing 'climate change'.\n",
      "Processing chunk with 1000000 rows, looking for quotes containing 'hurricane'.\n",
      "Processing chunk with 1000000 rows, looking for quotes containing 'climate change'.\n",
      "Processing chunk with 1000000 rows, looking for quotes containing 'hurricane'.\n",
      "Processing chunk with 1000000 rows, looking for quotes containing 'climate change'.\n",
      "Processing chunk with 1000000 rows, looking for quotes containing 'hurricane'.\n",
      "Processing chunk with 1000000 rows, looking for quotes containing 'climate change'.\n",
      "Processing chunk with 1000000 rows, looking for quotes containing 'hurricane'.\n",
      "Processing chunk with 1000000 rows, looking for quotes containing 'climate change'.\n",
      "Processing chunk with 1000000 rows, looking for quotes containing 'hurricane'.\n",
      "Processing chunk with 1000000 rows, looking for quotes containing 'climate change'.\n",
      "Processing chunk with 1000000 rows, looking for quotes containing 'hurricane'.\n",
      "Processing chunk with 1000000 rows, looking for quotes containing 'climate change'.\n",
      "Processing chunk with 763302 rows, looking for quotes containing 'hurricane'.\n",
      "Processing chunk with 763302 rows, looking for quotes containing 'climate change'.\n"
     ]
    }
   ],
   "source": [
    "dict_df = extract_quotes(data, speakers=speakers, keywords= keywords)"
   ]
  },
  {
   "cell_type": "code",
   "execution_count": 4,
   "metadata": {},
   "outputs": [],
   "source": [
    "# Transform dictionary to pickle\n",
    "\n",
    "filename = open(\"extracted_data/output_{} speakers_{} keywords_{}.pickle\".format(data[12:16], str(speakers), str(keywords)), \"wb\")\n",
    "pickle.dump(dict_df, filename)"
   ]
  },
  {
   "cell_type": "code",
   "execution_count": 5,
   "metadata": {},
   "outputs": [],
   "source": [
    "# Reload the pickle file\n",
    "\n",
    "filename = open(\"extracted_data/output_{} speakers_{} keywords_{}.pickle\".format(data[12:16], str(speakers), str(keywords)), \"rb\")\n",
    "dict_df_load = pickle.load(filename)\n"
   ]
  }
 ],
 "metadata": {
  "interpreter": {
   "hash": "9bbc67402def311b96fab883d2c883a39527be9a4d3d9f29179a0d00da6a6745"
  },
  "kernelspec": {
   "display_name": "Python 3",
   "language": "python",
   "name": "python3"
  },
  "language_info": {
   "codemirror_mode": {
    "name": "ipython",
    "version": 3
   },
   "file_extension": ".py",
   "mimetype": "text/x-python",
   "name": "python",
   "nbconvert_exporter": "python",
   "pygments_lexer": "ipython3",
   "version": "3.8.5"
  }
 },
 "nbformat": 4,
 "nbformat_minor": 2
}
